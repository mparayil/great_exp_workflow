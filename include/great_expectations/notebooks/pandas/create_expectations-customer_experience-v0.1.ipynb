{
 "cells": [
  {
   "cell_type": "code",
   "execution_count": 1,
   "metadata": {},
   "outputs": [
    {
     "name": "stdout",
     "output_type": "stream",
     "text": [
      "2020-03-17T11:17:39-0400 - INFO - Great Expectations logging enabled at INFO level by JupyterUX module.\n"
     ]
    }
   ],
   "source": [
    "import os\n",
    "import json\n",
    "import sys\n",
    "import great_expectations as ge\n",
    "import great_expectations.jupyter_ux\n",
    "from datetime import datetime\n",
    "import math\n",
    "import pandas as pd\n",
    "os.chdir('/Users/mparayil/Desktop/Development/dsa-data-workflows/grtexp_agero_dsa/great_expectations')"
   ]
  },
  {
   "cell_type": "code",
   "execution_count": 2,
   "metadata": {},
   "outputs": [],
   "source": [
    "import ge_prod.ge_data_access as gda\n",
    "import ge_prod.queries as queries"
   ]
  },
  {
   "cell_type": "code",
   "execution_count": 3,
   "metadata": {},
   "outputs": [],
   "source": [
    "rule_query = queries.queries.get('customer_experience').get('create_expectations_2019Q3-Q4')"
   ]
  },
  {
   "cell_type": "code",
   "execution_count": 4,
   "metadata": {},
   "outputs": [
    {
     "data": {
      "text/plain": [
       "\"SELECT * FROM customer_experience WHERE survey_time_utc >= to_date('2019-07-01')and survey_time_utc <= to_date('2019-12-31');\""
      ]
     },
     "execution_count": 4,
     "metadata": {},
     "output_type": "execute_result"
    }
   ],
   "source": [
    "rule_query"
   ]
  },
  {
   "cell_type": "markdown",
   "metadata": {},
   "source": [
    "# Author Expectations\n",
    "\n"
   ]
  },
  {
   "cell_type": "markdown",
   "metadata": {},
   "source": [
    "[**Watch a short tutorial video**](https://docs.greatexpectations.io/en/latest/getting_started/create_expectations.html?utm_source=notebook&utm_medium=create_expectations#video)\n",
    "\n",
    "[**Read more in the tutorial**](https://docs.greatexpectations.io/en/latest/getting_started/create_expectations.html?utm_source=notebook&utm_medium=create_expectations)\n",
    "\n",
    "**Reach out for help on** [**Great Expectations Slack**](https://tinyurl.com/great-expectations-slack)\n"
   ]
  },
  {
   "cell_type": "markdown",
   "metadata": {},
   "source": [
    "### Get a DataContext object\n",
    "[Read more in the tutorial](https://great-expectations.readthedocs.io/en/latest/getting_started/create_expectations.html?utm_source=notebook&utm_medium=create_expectations#get-datacontext-object)\n",
    "\n",
    "\n"
   ]
  },
  {
   "cell_type": "code",
   "execution_count": 5,
   "metadata": {},
   "outputs": [
    {
     "name": "stdout",
     "output_type": "stream",
     "text": [
      "2020-03-17T11:17:48-0400 - INFO - Using project config: /Users/mparayil/Desktop/Development/dsa-data-workflows/grtexp_agero_dsa/great_expectations/great_expectations.yml\n"
     ]
    }
   ],
   "source": [
    "context = ge.data_context.DataContext()"
   ]
  },
  {
   "cell_type": "markdown",
   "metadata": {},
   "source": [
    "### List data assets in your project\n",
    "\n",
    "[Read more in the tutorial](https://docs.greatexpectations.io/en/latest/getting_started/create_expectations.html?utm_source=notebook&utm_medium=create_expectations#data-assets)\n"
   ]
  },
  {
   "cell_type": "code",
   "execution_count": 6,
   "metadata": {},
   "outputs": [
    {
     "name": "stdout",
     "output_type": "stream",
     "text": [
      "Inspecting your data sources. This may take a moment...\n"
     ]
    },
    {
     "data": {
      "text/html": [
       "<p>No data assets found in this data source.</p>\n",
       "<p>Read about how generators derive data assets from data sources:\n",
       "<a href=\"https://great-expectations.readthedocs.io/en/latest/how_to_add_data_source.html\">Data assets</a>\n",
       "</p>"
      ],
      "text/plain": [
       "<IPython.core.display.HTML object>"
      ]
     },
     "metadata": {},
     "output_type": "display_data"
    },
    {
     "data": {
      "text/html": [
       "<h2 style='margin: 0'>Datasource: agero_dsa_pandas (PandasDatasource)</h2>generator: default (SubdirReaderGenerator)"
      ],
      "text/plain": [
       "<IPython.core.display.HTML object>"
      ]
     },
     "metadata": {},
     "output_type": "display_data"
    }
   ],
   "source": [
    "great_expectations.jupyter_ux.list_available_data_asset_names(context)"
   ]
  },
  {
   "cell_type": "markdown",
   "metadata": {},
   "source": [
    "#### Pick one of the data asset names above and use as the value of data_asset_name argument below\n",
    "\n",
    "[Read more in the tutorial](https://docs.greatexpectations.io/en/latest/getting_started/create_expectations.html?utm_source=notebook&utm_medium=create_expectations#get-batch)\n"
   ]
  },
  {
   "cell_type": "markdown",
   "metadata": {},
   "source": [
    "### Specify data_asset & expectation_suite_name"
   ]
  },
  {
   "cell_type": "code",
   "execution_count": 7,
   "metadata": {},
   "outputs": [
    {
     "name": "stdout",
     "output_type": "stream",
     "text": [
      "NormalizedDataAssetName(datasource='agero_dsa_pandas', generator='default', generator_asset='customer_experience')\n"
     ]
    }
   ],
   "source": [
    "data_asset_name = 'customer_experience'\n",
    "normalized_data_asset_name = context.normalize_data_asset_name(data_asset_name)\n",
    "print(normalized_data_asset_name)"
   ]
  },
  {
   "cell_type": "markdown",
   "metadata": {},
   "source": [
    "### Create a new empty expectation suite"
   ]
  },
  {
   "cell_type": "code",
   "execution_count": 8,
   "metadata": {},
   "outputs": [],
   "source": [
    "expectation_suite_name = 'warnings_2019Q3-Q4'\n",
    "# context.create_expectation_suite(data_asset_name=data_asset_name, expectation_suite_name=expectation_suite_name,\n",
    "#                                 overwrite_existing=True)"
   ]
  },
  {
   "cell_type": "code",
   "execution_count": 9,
   "metadata": {},
   "outputs": [
    {
     "data": {
      "text/plain": [
       "[{'data_asset_name': agero_dsa_pandas/default/service_specification,\n",
       "  'expectation_suite_name': 'warnings_dec2019'},\n",
       " {'data_asset_name': agero_dsa_pandas/default/customer_experience,\n",
       "  'expectation_suite_name': 'warnings_2019Q3-Q4'},\n",
       " {'data_asset_name': agero_dsa_pandas/default/network_outreach,\n",
       "  'expectation_suite_name': 'warnings_2019Q4'},\n",
       " {'data_asset_name': agero_dsa_pandas/default/network_outreach,\n",
       "  'expectation_suite_name': 'warnings_dec2019'},\n",
       " {'data_asset_name': agero_dsa_pandas/default/network_outreach,\n",
       "  'expectation_suite_name': 'warnings'},\n",
       " {'data_asset_name': agero_dsa_pandas/default/customer_complaints,\n",
       "  'expectation_suite_name': 'warnings_2019Q4'},\n",
       " {'data_asset_name': agero_dsa_pandas/default/network_claims,\n",
       "  'expectation_suite_name': 'warnings_2019Q4'},\n",
       " {'data_asset_name': agero_dsa_pandas/default/network_claims,\n",
       "  'expectation_suite_name': 'warnings_dec2019'},\n",
       " {'data_asset_name': agero_dsa_pandas/default/service_progress,\n",
       "  'expectation_suite_name': 'warnings_2019Q4'},\n",
       " {'data_asset_name': agero_dsa_pandas/default/zip_code_lookup,\n",
       "  'expectation_suite_name': 'warnings'}]"
      ]
     },
     "execution_count": 9,
     "metadata": {},
     "output_type": "execute_result"
    }
   ],
   "source": [
    "context.list_expectation_suite_keys()"
   ]
  },
  {
   "cell_type": "markdown",
   "metadata": {},
   "source": [
    "### Get batch to create expectations against"
   ]
  },
  {
   "cell_type": "code",
   "execution_count": 10,
   "metadata": {},
   "outputs": [
    {
     "data": {
      "text/plain": [
       "\"SELECT * FROM customer_experience WHERE survey_time_utc >= to_date('2019-07-01')and survey_time_utc <= to_date('2019-12-31');\""
      ]
     },
     "execution_count": 10,
     "metadata": {},
     "output_type": "execute_result"
    }
   ],
   "source": [
    "rule_query"
   ]
  },
  {
   "cell_type": "code",
   "execution_count": 11,
   "metadata": {},
   "outputs": [],
   "source": [
    "rule_df = gda.snowflake_connector_to_df(rule_query)\n",
    "# rule_df.to_pickle('temp_data/network_claims_2019Q4.pkl')"
   ]
  },
  {
   "cell_type": "code",
   "execution_count": 12,
   "metadata": {},
   "outputs": [],
   "source": [
    "# pickle_df = pd.read_pickle('temp_data/network_claims_2019Q4.pkl')"
   ]
  },
  {
   "cell_type": "code",
   "execution_count": 13,
   "metadata": {},
   "outputs": [
    {
     "data": {
      "text/plain": [
       "(795824, 6)"
      ]
     },
     "execution_count": 13,
     "metadata": {},
     "output_type": "execute_result"
    }
   ],
   "source": [
    "rule_df.shape"
   ]
  },
  {
   "cell_type": "code",
   "execution_count": 14,
   "metadata": {},
   "outputs": [],
   "source": [
    "b_kwargs = {\"dataset\": rule_df}\n",
    "batch = context.get_batch(normalized_data_asset_name, expectation_suite_name=expectation_suite_name,\n",
    "                         batch_kwargs=b_kwargs)"
   ]
  },
  {
   "cell_type": "code",
   "execution_count": 15,
   "metadata": {},
   "outputs": [
    {
     "data": {
      "text/plain": [
       "795824"
      ]
     },
     "execution_count": 15,
     "metadata": {},
     "output_type": "execute_result"
    }
   ],
   "source": [
    "batch.get_row_count()"
   ]
  },
  {
   "cell_type": "code",
   "execution_count": 16,
   "metadata": {},
   "outputs": [
    {
     "name": "stdout",
     "output_type": "stream",
     "text": [
      "(795824, 6)\n"
     ]
    }
   ],
   "source": [
    "print(rule_df.shape)"
   ]
  },
  {
   "cell_type": "code",
   "execution_count": 17,
   "metadata": {},
   "outputs": [
    {
     "data": {
      "text/plain": [
       "['agero_dsa_pandas']"
      ]
     },
     "execution_count": 17,
     "metadata": {},
     "output_type": "execute_result"
    }
   ],
   "source": [
    "[datasource['name'] for datasource in context.list_datasources() if datasource['class_name'] == 'PandasDatasource']"
   ]
  },
  {
   "cell_type": "code",
   "execution_count": 18,
   "metadata": {},
   "outputs": [],
   "source": [
    "# getting rule_df batchId & fingerprint\n",
    "rule_batch_fingerprint = batch.batch_fingerprint\n",
    "rule_batch_id = batch.batch_id"
   ]
  },
  {
   "cell_type": "code",
   "execution_count": 19,
   "metadata": {},
   "outputs": [
    {
     "name": "stdout",
     "output_type": "stream",
     "text": [
      "rule_batch_fingerprint: \n",
      "{'partition_id': '20200317T151849.768846Z', 'fingerprint': '9131d8c20ffb35fe759129fd42828dbb'}\n",
      "rule_batch_id: \n",
      "{'timestamp': 1584458319.5815759, 'PandasInMemoryDF': True, 'fingerprint': 'ff48800a8b9a23eb331d78264d259c29'}\n"
     ]
    }
   ],
   "source": [
    "print('rule_batch_fingerprint: ', rule_batch_fingerprint, sep='\\n')\n",
    "print('rule_batch_id: ', rule_batch_id, sep='\\n')"
   ]
  },
  {
   "cell_type": "markdown",
   "metadata": {},
   "source": [
    "## Author Expectations\n",
    "\n",
    "[Read more in the tutorial](https://docs.greatexpectations.io/en/latest/getting_started/create_expectations.html?utm_source=notebook&utm_medium=create_expectations#create-expectations)\n",
    "\n",
    "See available expectations in the [expectation glossary](https://docs.greatexpectations.io/en/latest/glossary.html?utm_source=notebook&utm_medium=create_expectations)\n"
   ]
  },
  {
   "cell_type": "markdown",
   "metadata": {},
   "source": [
    "### Dataset exploration & understanding of fields to ensure rules reflect behavior of data\n",
    "- Validating columns to exist in table shape\n",
    "- Expected column count in table shape\n",
    "- Expected set values to be seen in given column\n",
    "- Expected columns to have null or non-null values X percentage of the time\n",
    "- Expect column values to be of certain data type(s)\n",
    "- Placing max and min values limits on numerical columns\n",
    "- Average or median column value to be within a certain range\n",
    "- Expecting column A to be large/less than column B"
   ]
  },
  {
   "cell_type": "markdown",
   "metadata": {},
   "source": [
    "### 1. Validating to see if every column exists in table"
   ]
  },
  {
   "cell_type": "code",
   "execution_count": 20,
   "metadata": {},
   "outputs": [
    {
     "name": "stdout",
     "output_type": "stream",
     "text": [
      "['CASE_ID', 'NPS_RESPONSE', 'SURVEY_COMMENTS', 'NPS_SOURCE', 'SURVEY_TIME_EASTERN', 'SURVEY_TIME_UTC']\n"
     ]
    }
   ],
   "source": [
    "# add more expectations here\n",
    "column_names = batch.get_table_columns()\n",
    "print(column_names)"
   ]
  },
  {
   "cell_type": "code",
   "execution_count": 23,
   "metadata": {},
   "outputs": [
    {
     "data": {
      "text/plain": [
       "CASE_ID                         int64\n",
       "NPS_RESPONSE                     int8\n",
       "SURVEY_COMMENTS                object\n",
       "NPS_SOURCE                     object\n",
       "SURVEY_TIME_EASTERN    datetime64[ns]\n",
       "SURVEY_TIME_UTC        datetime64[ns]\n",
       "dtype: object"
      ]
     },
     "execution_count": 23,
     "metadata": {},
     "output_type": "execute_result"
    }
   ],
   "source": [
    "batch.dtypes"
   ]
  },
  {
   "cell_type": "code",
   "execution_count": 22,
   "metadata": {},
   "outputs": [],
   "source": [
    "# columns with multipe data types, will be changing them to int types in future\n",
    "# case_id, po_number, vendor_id"
   ]
  },
  {
   "cell_type": "code",
   "execution_count": 23,
   "metadata": {},
   "outputs": [],
   "source": [
    "master_column_names = ['CASE_ID', 'NPS_RESPONSE', 'SURVEY_COMMENTS', 'NPS_SOURCE', 'SURVEY_TIME_EASTERN', \n",
    "                       'SURVEY_TIME_UTC']"
   ]
  },
  {
   "cell_type": "code",
   "execution_count": 24,
   "metadata": {},
   "outputs": [
    {
     "data": {
      "text/plain": [
       "6"
      ]
     },
     "execution_count": 24,
     "metadata": {},
     "output_type": "execute_result"
    }
   ],
   "source": [
    "len(master_column_names)"
   ]
  },
  {
   "cell_type": "code",
   "execution_count": 25,
   "metadata": {},
   "outputs": [
    {
     "data": {
      "text/plain": [
       "6"
      ]
     },
     "execution_count": 25,
     "metadata": {},
     "output_type": "execute_result"
    }
   ],
   "source": [
    "len(column_names)"
   ]
  },
  {
   "cell_type": "code",
   "execution_count": 26,
   "metadata": {},
   "outputs": [
    {
     "name": "stdout",
     "output_type": "stream",
     "text": [
      "CASE_ID:\n",
      "{'success': True, 'exception_info': {'raised_exception': False, 'exception_message': None, 'exception_traceback': None}}\n",
      "NPS_RESPONSE:\n",
      "{'success': True, 'exception_info': {'raised_exception': False, 'exception_message': None, 'exception_traceback': None}}\n",
      "SURVEY_COMMENTS:\n",
      "{'success': True, 'exception_info': {'raised_exception': False, 'exception_message': None, 'exception_traceback': None}}\n",
      "NPS_SOURCE:\n",
      "{'success': True, 'exception_info': {'raised_exception': False, 'exception_message': None, 'exception_traceback': None}}\n",
      "SURVEY_TIME_EASTERN:\n",
      "{'success': True, 'exception_info': {'raised_exception': False, 'exception_message': None, 'exception_traceback': None}}\n",
      "SURVEY_TIME_UTC:\n",
      "{'success': True, 'exception_info': {'raised_exception': False, 'exception_message': None, 'exception_traceback': None}}\n"
     ]
    }
   ],
   "source": [
    "# Ensuring columns to exist\n",
    "for col in master_column_names:\n",
    "    print(col + ':', batch.expect_column_to_exist(col, result_format='BASIC', catch_exceptions=True), sep='\\n')"
   ]
  },
  {
   "cell_type": "markdown",
   "metadata": {},
   "source": [
    "### 2. Validating column count in table is always the same"
   ]
  },
  {
   "cell_type": "code",
   "execution_count": 27,
   "metadata": {},
   "outputs": [
    {
     "name": "stdout",
     "output_type": "stream",
     "text": [
      "# of columns in network_claims:  6\n"
     ]
    }
   ],
   "source": [
    "print('# of columns in network_claims: ', len(column_names))"
   ]
  },
  {
   "cell_type": "code",
   "execution_count": 28,
   "metadata": {},
   "outputs": [
    {
     "name": "stdout",
     "output_type": "stream",
     "text": [
      "# of columns in network_claims:  6 \n",
      "\n",
      "{'success': True, 'result': {'observed_value': 6}}\n"
     ]
    }
   ],
   "source": [
    "print('# of columns in {}: '.format('network_claims'), len(master_column_names), '\\n')\n",
    "if len(column_names) == len(master_column_names):\n",
    "    print(batch.expect_table_column_count_to_equal(len(column_names), result_format='SUMMARY'))\n",
    "else:\n",
    "    print(batch.expect_table_column_count_to_equal(len(master_column_names), result_format='SUMMARY'))"
   ]
  },
  {
   "cell_type": "markdown",
   "metadata": {},
   "source": [
    "### 3. Checking which columns should not have null values"
   ]
  },
  {
   "cell_type": "code",
   "execution_count": 26,
   "metadata": {},
   "outputs": [
    {
     "name": "stdout",
     "output_type": "stream",
     "text": [
      "['CASE_ID', 'NPS_RESPONSE', 'SURVEY_COMMENTS', 'NPS_SOURCE', 'SURVEY_TIME_EASTERN', 'SURVEY_TIME_UTC']\n"
     ]
    }
   ],
   "source": [
    "# identifying which columns should not be null\n",
    "print(column_names)"
   ]
  },
  {
   "cell_type": "code",
   "execution_count": 27,
   "metadata": {},
   "outputs": [
    {
     "data": {
      "text/plain": [
       "CASE_ID                     0\n",
       "NPS_RESPONSE                0\n",
       "SURVEY_COMMENTS        143652\n",
       "NPS_SOURCE                  0\n",
       "SURVEY_TIME_EASTERN         0\n",
       "SURVEY_TIME_UTC             0\n",
       "dtype: int64"
      ]
     },
     "execution_count": 27,
     "metadata": {},
     "output_type": "execute_result"
    }
   ],
   "source": [
    "rule_df.isnull().sum()"
   ]
  },
  {
   "cell_type": "code",
   "execution_count": 29,
   "metadata": {},
   "outputs": [],
   "source": [
    "# Separating null & non-null columns\n",
    "null_cols = list(batch.isnull().sum()[batch.isnull().sum() > 0].keys())\n",
    "not_null_cols = list(batch.isnull().sum()[batch.isnull().sum() == 0].keys())"
   ]
  },
  {
   "cell_type": "code",
   "execution_count": 30,
   "metadata": {},
   "outputs": [
    {
     "data": {
      "text/plain": [
       "['CASE_ID',\n",
       " 'NPS_RESPONSE',\n",
       " 'NPS_SOURCE',\n",
       " 'SURVEY_TIME_EASTERN',\n",
       " 'SURVEY_TIME_UTC']"
      ]
     },
     "execution_count": 30,
     "metadata": {},
     "output_type": "execute_result"
    }
   ],
   "source": [
    "not_null_cols"
   ]
  },
  {
   "cell_type": "code",
   "execution_count": 31,
   "metadata": {},
   "outputs": [
    {
     "data": {
      "text/plain": [
       "['SURVEY_COMMENTS']"
      ]
     },
     "execution_count": 31,
     "metadata": {},
     "output_type": "execute_result"
    }
   ],
   "source": [
    "null_cols"
   ]
  },
  {
   "cell_type": "code",
   "execution_count": 32,
   "metadata": {},
   "outputs": [
    {
     "name": "stdout",
     "output_type": "stream",
     "text": [
      "CASE_ID \n",
      " {'success': True, 'result': {'element_count': 795825, 'unexpected_count': 0, 'unexpected_percent': 0.0, 'partial_unexpected_list': []}}\n",
      "NPS_RESPONSE \n",
      " {'success': True, 'result': {'element_count': 795825, 'unexpected_count': 0, 'unexpected_percent': 0.0, 'partial_unexpected_list': []}}\n",
      "NPS_SOURCE \n",
      " {'success': True, 'result': {'element_count': 795825, 'unexpected_count': 0, 'unexpected_percent': 0.0, 'partial_unexpected_list': []}}\n",
      "SURVEY_TIME_EASTERN \n",
      " {'success': True, 'result': {'element_count': 795825, 'unexpected_count': 0, 'unexpected_percent': 0.0, 'partial_unexpected_list': []}}\n",
      "SURVEY_TIME_UTC \n",
      " {'success': True, 'result': {'element_count': 795825, 'unexpected_count': 0, 'unexpected_percent': 0.0, 'partial_unexpected_list': []}}\n"
     ]
    }
   ],
   "source": [
    "# checking for all columns that shouldn't be null are not\n",
    "for col in not_null_cols:\n",
    "    print(col, '\\n', batch.expect_column_values_to_not_be_null(col, result_format='BASIC'))"
   ]
  },
  {
   "cell_type": "code",
   "execution_count": 33,
   "metadata": {},
   "outputs": [
    {
     "name": "stdout",
     "output_type": "stream",
     "text": [
      "capturing the following columns to not be null: \n",
      " ['CASE_ID', 'NPS_RESPONSE', 'NPS_SOURCE', 'SURVEY_TIME_EASTERN', 'SURVEY_TIME_UTC']\n"
     ]
    }
   ],
   "source": [
    "print(f\"capturing the following columns to not be null: \\n {not_null_cols}\")"
   ]
  },
  {
   "cell_type": "code",
   "execution_count": 34,
   "metadata": {},
   "outputs": [
    {
     "data": {
      "text/plain": [
       "['SURVEY_COMMENTS']"
      ]
     },
     "execution_count": 34,
     "metadata": {},
     "output_type": "execute_result"
    }
   ],
   "source": [
    "null_cols"
   ]
  },
  {
   "cell_type": "code",
   "execution_count": 35,
   "metadata": {},
   "outputs": [
    {
     "data": {
      "text/plain": [
       "1"
      ]
     },
     "execution_count": 35,
     "metadata": {},
     "output_type": "execute_result"
    }
   ],
   "source": [
    "len(null_cols)"
   ]
  },
  {
   "cell_type": "markdown",
   "metadata": {},
   "source": [
    "### 4. Validating columns to have null values\n",
    "- **columns to check:**\n",
    "    - SURVEY_COMMENTS"
   ]
  },
  {
   "cell_type": "code",
   "execution_count": 36,
   "metadata": {},
   "outputs": [
    {
     "data": {
      "text/plain": [
       "0.8793800044075516"
      ]
     },
     "execution_count": 36,
     "metadata": {},
     "output_type": "execute_result"
    }
   ],
   "source": [
    "143652 / 163356"
   ]
  },
  {
   "cell_type": "code",
   "execution_count": 37,
   "metadata": {
    "scrolled": true
   },
   "outputs": [
    {
     "data": {
      "text/plain": [
       "CASE_ID                     0\n",
       "NPS_RESPONSE                0\n",
       "SURVEY_COMMENTS        674821\n",
       "NPS_SOURCE                  0\n",
       "SURVEY_TIME_EASTERN         0\n",
       "SURVEY_TIME_UTC             0\n",
       "dtype: int64"
      ]
     },
     "execution_count": 37,
     "metadata": {},
     "output_type": "execute_result"
    }
   ],
   "source": [
    "rule_df.isnull().sum()"
   ]
  },
  {
   "cell_type": "code",
   "execution_count": 60,
   "metadata": {},
   "outputs": [
    {
     "name": "stdout",
     "output_type": "stream",
     "text": [
      "0.1442552061601487\n"
     ]
    }
   ],
   "source": [
    "w\n",
    "print(weight)"
   ]
  },
  {
   "cell_type": "code",
   "execution_count": 75,
   "metadata": {},
   "outputs": [
    {
     "data": {
      "text/plain": [
       "{'SURVEY_COMMENTS': 0.111}"
      ]
     },
     "execution_count": 75,
     "metadata": {},
     "output_type": "execute_result"
    }
   ],
   "source": [
    "not_null_weights"
   ]
  },
  {
   "cell_type": "code",
   "execution_count": 42,
   "metadata": {},
   "outputs": [
    {
     "data": {
      "text/plain": [
       "0.9057"
      ]
     },
     "execution_count": 42,
     "metadata": {},
     "output_type": "execute_result"
    }
   ],
   "source": [
    "gda.get_df_not_null_weights()"
   ]
  },
  {
   "cell_type": "code",
   "execution_count": 58,
   "metadata": {},
   "outputs": [
    {
     "data": {
      "text/plain": [
       "0.1093"
      ]
     },
     "execution_count": 58,
     "metadata": {},
     "output_type": "execute_result"
    }
   ],
   "source": [
    "df_group = rule_df.groupby(rule_df['SURVEY_TIME_UTC'].dt.day)\n",
    "df_group2 = df_group.apply(lambda x: x['SURVEY_COMMENTS'].notnull().mean())\n",
    "\n",
    "weight = df_group2.quantile(0.1, 'midpoint')\n",
    "final_w = (weight - 0.035).round(4)\n",
    "final_w"
   ]
  },
  {
   "cell_type": "code",
   "execution_count": 17,
   "metadata": {},
   "outputs": [
    {
     "data": {
      "text/plain": [
       "CASE_ID                     0\n",
       "NPS_RESPONSE                0\n",
       "SURVEY_COMMENTS        674716\n",
       "NPS_SOURCE                  0\n",
       "SURVEY_TIME_EASTERN         0\n",
       "SURVEY_TIME_UTC             0\n",
       "dtype: int64"
      ]
     },
     "execution_count": 17,
     "metadata": {},
     "output_type": "execute_result"
    }
   ],
   "source": [
    "rule_df.isnull().sum()"
   ]
  },
  {
   "cell_type": "code",
   "execution_count": 23,
   "metadata": {},
   "outputs": [
    {
     "name": "stdout",
     "output_type": "stream",
     "text": [
      "SURVEY_COMMENTS    0.848406\n",
      "dtype: float64\n",
      "---------------------------------------\n",
      "SURVEY_COMMENTS 0.848\n"
     ]
    }
   ],
   "source": [
    "null_percents = (rule_df.isnull().sum() / len(rule_df))[rule_df.isnull().sum() / len(rule_df) > 0]\n",
    "print(null_percents)\n",
    "print('---------------------------------------')\n",
    "for x, y in null_percents.iteritems():\n",
    "    print(x, round(y,3))"
   ]
  },
  {
   "cell_type": "code",
   "execution_count": 25,
   "metadata": {},
   "outputs": [
    {
     "name": "stdout",
     "output_type": "stream",
     "text": [
      "SURVEY_COMMENTS\n",
      "0.15159410266888818\n",
      "---------------------------------------\n",
      "not null weights:\n",
      "SURVEY_COMMENTS 0.142\n"
     ]
    }
   ],
   "source": [
    "# calculating weight for columns of how often they should be null\n",
    "null_percents = (1 - (batch.isnull().sum() / len(batch))[batch.isnull().sum() / len(batch) > 0])\n",
    "for x, y in null_percents.items():\n",
    "    print(x, y, sep='\\n')\n",
    "    \n",
    "not_null_weights = dict(null_percents)\n",
    "\n",
    "# lowering weights by one thousandth of decimal\n",
    "for key, original_weight in not_null_weights.items():\n",
    "    not_null_weights[key] = round((original_weight - 0.01), 3)\n",
    "    \n",
    "print('---------------------------------------')\n",
    "print('not null weights:')\n",
    "for x, y in not_null_weights.items():\n",
    "    print(x,y)"
   ]
  },
  {
   "cell_type": "code",
   "execution_count": 19,
   "metadata": {
    "scrolled": false
   },
   "outputs": [],
   "source": [
    "# validating columns that should be null with \n",
    "w = gda.get_df_not_null_weights(batch, 'SURVEY_TIME_UTC', 'SURVEY_COMMENTS')\n",
    "# print('SURVEY_COMMENTS', batch.expect_column_values_to_not_be_null('SURVEY_COMMENTS', mostly=w, \n",
    "#                                                                    catch_exceptions=True, \n",
    "#                                                                    result_format='SUMMARY'), sep='\\n')"
   ]
  },
  {
   "cell_type": "code",
   "execution_count": 20,
   "metadata": {},
   "outputs": [
    {
     "data": {
      "text/plain": [
       "0.0718"
      ]
     },
     "execution_count": 20,
     "metadata": {},
     "output_type": "execute_result"
    }
   ],
   "source": [
    "w"
   ]
  },
  {
   "cell_type": "markdown",
   "metadata": {},
   "source": [
    "### 5. Expecting column values to be in a set\n",
    "- nps_source\n",
    "- nps_response"
   ]
  },
  {
   "cell_type": "code",
   "execution_count": 11,
   "metadata": {},
   "outputs": [
    {
     "ename": "NameError",
     "evalue": "name 'rule_df' is not defined",
     "output_type": "error",
     "traceback": [
      "\u001b[0;31m---------------------------------------------------------------------------\u001b[0m",
      "\u001b[0;31mNameError\u001b[0m                                 Traceback (most recent call last)",
      "\u001b[0;32m<ipython-input-11-3d18ccef4bce>\u001b[0m in \u001b[0;36m<module>\u001b[0;34m\u001b[0m\n\u001b[0;32m----> 1\u001b[0;31m \u001b[0mnull_percents\u001b[0m \u001b[0;34m=\u001b[0m \u001b[0;34m(\u001b[0m\u001b[0mrule_df\u001b[0m\u001b[0;34m.\u001b[0m\u001b[0misnull\u001b[0m\u001b[0;34m(\u001b[0m\u001b[0;34m)\u001b[0m\u001b[0;34m.\u001b[0m\u001b[0msum\u001b[0m\u001b[0;34m(\u001b[0m\u001b[0;34m)\u001b[0m \u001b[0;34m/\u001b[0m \u001b[0mlen\u001b[0m\u001b[0;34m(\u001b[0m\u001b[0mrule_df\u001b[0m\u001b[0;34m)\u001b[0m\u001b[0;34m)\u001b[0m\u001b[0;34m[\u001b[0m\u001b[0mrule_df\u001b[0m\u001b[0;34m.\u001b[0m\u001b[0misnull\u001b[0m\u001b[0;34m(\u001b[0m\u001b[0;34m)\u001b[0m\u001b[0;34m.\u001b[0m\u001b[0msum\u001b[0m\u001b[0;34m(\u001b[0m\u001b[0;34m)\u001b[0m \u001b[0;34m/\u001b[0m \u001b[0mlen\u001b[0m\u001b[0;34m(\u001b[0m\u001b[0mrule_df\u001b[0m\u001b[0;34m)\u001b[0m \u001b[0;34m>\u001b[0m \u001b[0;36m0\u001b[0m\u001b[0;34m]\u001b[0m\u001b[0;34m\u001b[0m\u001b[0;34m\u001b[0m\u001b[0m\n\u001b[0m\u001b[1;32m      2\u001b[0m \u001b[0mprint\u001b[0m\u001b[0;34m(\u001b[0m\u001b[0mnull_percents\u001b[0m\u001b[0;34m)\u001b[0m\u001b[0;34m\u001b[0m\u001b[0;34m\u001b[0m\u001b[0m\n\u001b[1;32m      3\u001b[0m \u001b[0mprint\u001b[0m\u001b[0;34m(\u001b[0m\u001b[0;34m'---------------------------------------'\u001b[0m\u001b[0;34m)\u001b[0m\u001b[0;34m\u001b[0m\u001b[0;34m\u001b[0m\u001b[0m\n\u001b[1;32m      4\u001b[0m \u001b[0;32mfor\u001b[0m \u001b[0mx\u001b[0m\u001b[0;34m,\u001b[0m \u001b[0my\u001b[0m \u001b[0;32min\u001b[0m \u001b[0mnull_percents\u001b[0m\u001b[0;34m.\u001b[0m\u001b[0miteritems\u001b[0m\u001b[0;34m(\u001b[0m\u001b[0;34m)\u001b[0m\u001b[0;34m:\u001b[0m\u001b[0;34m\u001b[0m\u001b[0;34m\u001b[0m\u001b[0m\n\u001b[1;32m      5\u001b[0m     \u001b[0mprint\u001b[0m\u001b[0;34m(\u001b[0m\u001b[0mx\u001b[0m\u001b[0;34m,\u001b[0m \u001b[0mround\u001b[0m\u001b[0;34m(\u001b[0m\u001b[0my\u001b[0m\u001b[0;34m,\u001b[0m\u001b[0;36m3\u001b[0m\u001b[0;34m)\u001b[0m\u001b[0;34m)\u001b[0m\u001b[0;34m\u001b[0m\u001b[0;34m\u001b[0m\u001b[0m\n",
      "\u001b[0;31mNameError\u001b[0m: name 'rule_df' is not defined"
     ]
    }
   ],
   "source": [
    "null_percents = (rule_df.isnull().sum() / len(rule_df))[rule_df.isnull().sum() / len(rule_df) > 0]\n",
    "print(null_percents)\n",
    "print('---------------------------------------')\n",
    "for x, y in null_percents.iteritems():\n",
    "    print(x, round(y,3))"
   ]
  },
  {
   "cell_type": "code",
   "execution_count": 81,
   "metadata": {},
   "outputs": [
    {
     "data": {
      "text/plain": [
       "CASE_ID                         int64\n",
       "NPS_RESPONSE                   object\n",
       "SURVEY_COMMENTS                object\n",
       "NPS_SOURCE                     object\n",
       "SURVEY_TIME_EASTERN    datetime64[ns]\n",
       "SURVEY_TIME_UTC        datetime64[ns]\n",
       "dtype: object"
      ]
     },
     "execution_count": 81,
     "metadata": {},
     "output_type": "execute_result"
    }
   ],
   "source": [
    "rule_df.dtypes"
   ]
  },
  {
   "cell_type": "code",
   "execution_count": 63,
   "metadata": {},
   "outputs": [],
   "source": [
    "category_cols = ['NPS_SOURCE', 'NPS_RESPONSE']"
   ]
  },
  {
   "cell_type": "code",
   "execution_count": 64,
   "metadata": {},
   "outputs": [
    {
     "name": "stdout",
     "output_type": "stream",
     "text": [
      "['sms', 'web'] \n",
      "\n",
      "['0', '1', '10', '2', '3', '4', '5', '6', '7', '8', '9'] \n",
      "\n"
     ]
    }
   ],
   "source": [
    "for col in category_cols:\n",
    "    print(list(batch.get_column_value_counts(col, sort='value').keys()), '\\n')"
   ]
  },
  {
   "cell_type": "code",
   "execution_count": 65,
   "metadata": {
    "scrolled": false
   },
   "outputs": [
    {
     "name": "stdout",
     "output_type": "stream",
     "text": [
      "value\n",
      "0      26071\n",
      "1       5285\n",
      "10    616387\n",
      "2       4945\n",
      "3       4681\n",
      "4       4827\n",
      "5      11137\n",
      "6       6844\n",
      "7      16770\n",
      "8      42036\n",
      "9      56842\n",
      "Name: count, dtype: int64\n"
     ]
    }
   ],
   "source": [
    "print(batch.get_column_value_counts('NPS_RESPONSE', sort='value'))"
   ]
  },
  {
   "cell_type": "code",
   "execution_count": 67,
   "metadata": {},
   "outputs": [],
   "source": [
    "val_set_list = []\n",
    "\n",
    "for col in category_cols:\n",
    "    list_sets = list(batch.get_column_value_counts(col, sort='value').keys())\n",
    "    val_set_list.append(list_sets)"
   ]
  },
  {
   "cell_type": "code",
   "execution_count": 68,
   "metadata": {},
   "outputs": [
    {
     "data": {
      "text/plain": [
       "[['sms', 'web'], ['0', '1', '10', '2', '3', '4', '5', '6', '7', '8', '9']]"
      ]
     },
     "execution_count": 68,
     "metadata": {},
     "output_type": "execute_result"
    }
   ],
   "source": [
    "val_set_list"
   ]
  },
  {
   "cell_type": "code",
   "execution_count": 69,
   "metadata": {},
   "outputs": [
    {
     "name": "stdout",
     "output_type": "stream",
     "text": [
      "NPS_SOURCE \n",
      " ['sms', 'web'] \n",
      "\n",
      "NPS_RESPONSE \n",
      " ['0', '1', '10', '2', '3', '4', '5', '6', '7', '8', '9'] \n",
      "\n"
     ]
    }
   ],
   "source": [
    "for col, x in zip(category_cols,val_set_list):\n",
    "    print(col, '\\n', x, '\\n')"
   ]
  },
  {
   "cell_type": "code",
   "execution_count": 70,
   "metadata": {},
   "outputs": [
    {
     "name": "stdout",
     "output_type": "stream",
     "text": [
      "NPS_SOURCE \n",
      " {'success': True, 'result': {'element_count': 795825, 'missing_count': 0, 'missing_percent': 0.0, 'unexpected_count': 0, 'unexpected_percent': 0.0, 'unexpected_percent_nonmissing': 0.0, 'partial_unexpected_list': []}, 'expectation_config': {'expectation_type': 'expect_column_values_to_be_in_set', 'kwargs': {'column': 'NPS_SOURCE', 'value_set': ['sms', 'web'], 'result_format': 'BASIC'}}, 'exception_info': {'raised_exception': False, 'exception_message': None, 'exception_traceback': None}} \n",
      "\n",
      "NPS_RESPONSE \n",
      " {'success': True, 'result': {'element_count': 795825, 'missing_count': 0, 'missing_percent': 0.0, 'unexpected_count': 0, 'unexpected_percent': 0.0, 'unexpected_percent_nonmissing': 0.0, 'partial_unexpected_list': []}, 'expectation_config': {'expectation_type': 'expect_column_values_to_be_in_set', 'kwargs': {'column': 'NPS_RESPONSE', 'value_set': ['0', '1', '10', '2', '3', '4', '5', '6', '7', '8', '9'], 'result_format': 'BASIC'}}, 'exception_info': {'raised_exception': False, 'exception_message': None, 'exception_traceback': None}} \n",
      "\n"
     ]
    }
   ],
   "source": [
    "for col, vals in zip(category_cols, val_set_list):\n",
    "    print(col, '\\n', batch.expect_column_values_to_be_in_set(col, vals, result_format='BASIC', \n",
    "                                        include_config=True, catch_exceptions=True), '\\n')"
   ]
  },
  {
   "cell_type": "markdown",
   "metadata": {},
   "source": [
    "### 8. Determine if columns are unique per row\n",
    "- CASE_ID"
   ]
  },
  {
   "cell_type": "code",
   "execution_count": 79,
   "metadata": {},
   "outputs": [
    {
     "data": {
      "text/plain": [
       "0.9988188357993277"
      ]
     },
     "execution_count": 79,
     "metadata": {},
     "output_type": "execute_result"
    }
   ],
   "source": [
    "1 - ((rule_df.shape[0] - len(rule_df['CASE_ID'].unique())) / rule_df.shape[0])"
   ]
  },
  {
   "cell_type": "code",
   "execution_count": 78,
   "metadata": {
    "scrolled": false
   },
   "outputs": [
    {
     "data": {
      "text/plain": [
       "{'success': True,\n",
       " 'result': {'element_count': 795825,\n",
       "  'missing_count': 0,\n",
       "  'missing_percent': 0.0,\n",
       "  'unexpected_count': 1832,\n",
       "  'unexpected_percent': 0.23020136336506142,\n",
       "  'unexpected_percent_nonmissing': 0.23020136336506142,\n",
       "  'partial_unexpected_list': [2280652458,\n",
       "   50283598296,\n",
       "   0,\n",
       "   2280670983,\n",
       "   50283598295,\n",
       "   50283598226,\n",
       "   50283598292,\n",
       "   50283598169,\n",
       "   2280673061,\n",
       "   50283598293,\n",
       "   2280594635,\n",
       "   50283598290,\n",
       "   50283598291,\n",
       "   2280635152,\n",
       "   2280647560,\n",
       "   2280235026,\n",
       "   2280567550,\n",
       "   50283598289,\n",
       "   50283598231,\n",
       "   50283597986],\n",
       "  'partial_unexpected_index_list': [5,\n",
       "   18,\n",
       "   40,\n",
       "   43,\n",
       "   45,\n",
       "   57,\n",
       "   131,\n",
       "   221,\n",
       "   249,\n",
       "   294,\n",
       "   302,\n",
       "   329,\n",
       "   397,\n",
       "   995,\n",
       "   1150,\n",
       "   1160,\n",
       "   1164,\n",
       "   1168,\n",
       "   1419,\n",
       "   1486],\n",
       "  'partial_unexpected_counts': [{'value': 0, 'count': 14},\n",
       "   {'value': 2288885951, 'count': 4},\n",
       "   {'value': 50283621359, 'count': 4},\n",
       "   {'value': 2278237146, 'count': 3},\n",
       "   {'value': 2281150269, 'count': 3},\n",
       "   {'value': 2281980620, 'count': 3},\n",
       "   {'value': 2289976269, 'count': 3},\n",
       "   {'value': 50283598226, 'count': 3},\n",
       "   {'value': 50283598235, 'count': 3},\n",
       "   {'value': 50283602327, 'count': 3},\n",
       "   {'value': 50283617697, 'count': 3},\n",
       "   {'value': 50283628668, 'count': 3},\n",
       "   {'value': 50283628672, 'count': 3},\n",
       "   {'value': 50283632575, 'count': 3},\n",
       "   {'value': 50283632641, 'count': 3},\n",
       "   {'value': 50283633012, 'count': 3},\n",
       "   {'value': 50283836372, 'count': 3},\n",
       "   {'value': 50283836374, 'count': 3},\n",
       "   {'value': 50283836496, 'count': 3},\n",
       "   {'value': 52993422893, 'count': 3}]},\n",
       " 'exception_info': {'raised_exception': False,\n",
       "  'exception_message': None,\n",
       "  'exception_traceback': None}}"
      ]
     },
     "execution_count": 78,
     "metadata": {},
     "output_type": "execute_result"
    }
   ],
   "source": [
    "# TODO: verify if unique, according to notes from Austin & Jody it is. \n",
    "batch.expect_column_values_to_be_unique('CASE_ID', mostly=.99, result_format='SUMMARY',\n",
    "                                              catch_exceptions=True)"
   ]
  },
  {
   "cell_type": "markdown",
   "metadata": {},
   "source": [
    "### 9. Looking at column A to be greater than column B\n",
    "- SURVEY_TIME_UTC > SURVEY_TIME_EASTERN"
   ]
  },
  {
   "cell_type": "code",
   "execution_count": 80,
   "metadata": {},
   "outputs": [
    {
     "data": {
      "text/plain": [
       "{'success': True,\n",
       " 'result': {'element_count': 795825,\n",
       "  'missing_count': 0,\n",
       "  'missing_percent': 0.0,\n",
       "  'unexpected_count': 0,\n",
       "  'unexpected_percent': 0.0,\n",
       "  'unexpected_percent_nonmissing': 0.0,\n",
       "  'partial_unexpected_list': [],\n",
       "  'partial_unexpected_index_list': [],\n",
       "  'partial_unexpected_counts': []},\n",
       " 'exception_info': {'raised_exception': False,\n",
       "  'exception_message': None,\n",
       "  'exception_traceback': None}}"
      ]
     },
     "execution_count": 80,
     "metadata": {},
     "output_type": "execute_result"
    }
   ],
   "source": [
    "batch.expect_column_pair_values_A_to_be_greater_than_B('SURVEY_TIME_UTC', 'SURVEY_TIME_EASTERN', \n",
    "                                                       ignore_row_if='either_value_is_missing', \n",
    "                                                       result_format='SUMMARY', catch_exceptions=True)"
   ]
  },
  {
   "cell_type": "markdown",
   "metadata": {},
   "source": [
    "### 8. Expecting columns to be certain data type"
   ]
  },
  {
   "cell_type": "code",
   "execution_count": 81,
   "metadata": {},
   "outputs": [
    {
     "data": {
      "text/plain": [
       "CASE_ID                         int64\n",
       "NPS_RESPONSE                   object\n",
       "SURVEY_COMMENTS                object\n",
       "NPS_SOURCE                     object\n",
       "SURVEY_TIME_EASTERN    datetime64[ns]\n",
       "SURVEY_TIME_UTC        datetime64[ns]\n",
       "dtype: object"
      ]
     },
     "execution_count": 81,
     "metadata": {},
     "output_type": "execute_result"
    }
   ],
   "source": [
    "rule_df.dtypes"
   ]
  },
  {
   "cell_type": "code",
   "execution_count": 82,
   "metadata": {},
   "outputs": [
    {
     "name": "stdout",
     "output_type": "stream",
     "text": [
      "CASE_ID int64\n",
      "NPS_RESPONSE object\n",
      "SURVEY_COMMENTS object\n",
      "NPS_SOURCE object\n",
      "SURVEY_TIME_EASTERN datetime64[ns]\n",
      "SURVEY_TIME_UTC datetime64[ns]\n"
     ]
    }
   ],
   "source": [
    "for x, y in batch.dtypes.iteritems():\n",
    "    print(x, y)"
   ]
  },
  {
   "cell_type": "code",
   "execution_count": 83,
   "metadata": {},
   "outputs": [],
   "source": [
    "customer_experience_data_types = dict(batch.dtypes.iteritems())"
   ]
  },
  {
   "cell_type": "code",
   "execution_count": 84,
   "metadata": {},
   "outputs": [
    {
     "data": {
      "text/plain": [
       "{'CASE_ID': dtype('int64'),\n",
       " 'NPS_RESPONSE': dtype('O'),\n",
       " 'SURVEY_COMMENTS': dtype('O'),\n",
       " 'NPS_SOURCE': dtype('O'),\n",
       " 'SURVEY_TIME_EASTERN': dtype('<M8[ns]'),\n",
       " 'SURVEY_TIME_UTC': dtype('<M8[ns]')}"
      ]
     },
     "execution_count": 84,
     "metadata": {},
     "output_type": "execute_result"
    }
   ],
   "source": [
    "customer_experience_data_types"
   ]
  },
  {
   "cell_type": "code",
   "execution_count": 85,
   "metadata": {},
   "outputs": [],
   "source": [
    "for key, val in customer_experience_data_types.items():\n",
    "    customer_experience_data_types[key] = str(val)"
   ]
  },
  {
   "cell_type": "code",
   "execution_count": 86,
   "metadata": {},
   "outputs": [
    {
     "data": {
      "text/plain": [
       "{'CASE_ID': 'int64',\n",
       " 'NPS_RESPONSE': 'object',\n",
       " 'SURVEY_COMMENTS': 'object',\n",
       " 'NPS_SOURCE': 'object',\n",
       " 'SURVEY_TIME_EASTERN': 'datetime64[ns]',\n",
       " 'SURVEY_TIME_UTC': 'datetime64[ns]'}"
      ]
     },
     "execution_count": 86,
     "metadata": {},
     "output_type": "execute_result"
    }
   ],
   "source": [
    "customer_experience_data_types"
   ]
  },
  {
   "cell_type": "code",
   "execution_count": 87,
   "metadata": {},
   "outputs": [
    {
     "name": "stdout",
     "output_type": "stream",
     "text": [
      "{'success': True, 'result': {'observed_value': 'int64'}, 'exception_info': {'raised_exception': False, 'exception_message': None, 'exception_traceback': None}}\n",
      "{'success': True, 'result': {'observed_value': 'object_'}, 'exception_info': {'raised_exception': False, 'exception_message': None, 'exception_traceback': None}}\n",
      "{'success': True, 'result': {'observed_value': 'object_'}, 'exception_info': {'raised_exception': False, 'exception_message': None, 'exception_traceback': None}}\n",
      "{'success': True, 'result': {'observed_value': 'object_'}, 'exception_info': {'raised_exception': False, 'exception_message': None, 'exception_traceback': None}}\n",
      "{'success': True, 'result': {'observed_value': 'datetime64'}, 'exception_info': {'raised_exception': False, 'exception_message': None, 'exception_traceback': None}}\n",
      "{'success': True, 'result': {'observed_value': 'datetime64'}, 'exception_info': {'raised_exception': False, 'exception_message': None, 'exception_traceback': None}}\n"
     ]
    }
   ],
   "source": [
    "for col, typ in customer_experience_data_types.items():\n",
    "    print(batch.expect_column_values_to_be_of_type(col, typ, result_format='SUMMARY', catch_exceptions=True))"
   ]
  },
  {
   "cell_type": "code",
   "execution_count": 94,
   "metadata": {},
   "outputs": [],
   "source": [
    "batch.NPS_RESPONSE = batch.NPS_RESPONSE.astype(str).astype(int)"
   ]
  },
  {
   "cell_type": "code",
   "execution_count": 290,
   "metadata": {},
   "outputs": [],
   "source": [
    "dfg = rule_df.groupby(rule_df[\"SURVEY_TIME_UTC\"].dt.date)\n",
    "dfg2 = dfg.apply(lambda x: x['NPS_RESPONSE'].mean())"
   ]
  },
  {
   "cell_type": "code",
   "execution_count": 291,
   "metadata": {
    "scrolled": true
   },
   "outputs": [
    {
     "data": {
      "text/plain": [
       "0.000    8.906498\n",
       "0.050    9.000429\n",
       "0.100    9.044860\n",
       "0.330    9.120880\n",
       "0.667    9.183387\n",
       "1.000    9.301079\n",
       "dtype: float64"
      ]
     },
     "execution_count": 291,
     "metadata": {},
     "output_type": "execute_result"
    }
   ],
   "source": [
    "dfg2.quantile([ 0., .05, .1, .33,  .667 ,1.0 ])"
   ]
  },
  {
   "cell_type": "code",
   "execution_count": 258,
   "metadata": {},
   "outputs": [],
   "source": [
    "# quantile_ranges= {\n",
    "#     \"value_ranges\": [[0,8.99], [9.0, 9.7], [9.71, 9.91], [9.92, 10.0]],\n",
    "#     \"quantiles\": [ 0. ,  .33,  .667 , 1.0 ]}\n",
    "\n",
    "batch.expect_column_mean_to_be_between('NPS_RESPONSE', min_value=8.9, max_value=9.3, result_format='COMPLETE')"
   ]
  },
  {
   "cell_type": "code",
   "execution_count": 177,
   "metadata": {},
   "outputs": [
    {
     "ename": "SyntaxError",
     "evalue": "can't assign to literal (<ipython-input-177-dadbbcbad233>, line 1)",
     "output_type": "error",
     "traceback": [
      "\u001b[0;36m  File \u001b[0;32m\"<ipython-input-177-dadbbcbad233>\"\u001b[0;36m, line \u001b[0;32m1\u001b[0m\n\u001b[0;31m    \"value_ranges\" = [(1,2), (3,4), (5,6), (7,8), (9,10)]\u001b[0m\n\u001b[0m                                                         ^\u001b[0m\n\u001b[0;31mSyntaxError\u001b[0m\u001b[0;31m:\u001b[0m can't assign to literal\n"
     ]
    }
   ],
   "source": [
    "\"value_ranges\" = [(1,2), (3,4), (5,6), (7,8), (9,10)]"
   ]
  },
  {
   "cell_type": "code",
   "execution_count": 163,
   "metadata": {
    "scrolled": true
   },
   "outputs": [
    {
     "data": {
      "text/plain": [
       "2.2225126852302513"
      ]
     },
     "execution_count": 163,
     "metadata": {},
     "output_type": "execute_result"
    }
   ],
   "source": [
    "batch.get_column_stdev('NPS_RESPONSE')"
   ]
  },
  {
   "cell_type": "code",
   "execution_count": 169,
   "metadata": {},
   "outputs": [
    {
     "ename": "ValueError",
     "evalue": "Invalid parameter for bins argument",
     "output_type": "error",
     "traceback": [
      "\u001b[0;31m---------------------------------------------------------------------------\u001b[0m",
      "\u001b[0;31mValueError\u001b[0m                                Traceback (most recent call last)",
      "\u001b[0;32m<ipython-input-169-f4f3470e89b9>\u001b[0m in \u001b[0;36m<module>\u001b[0;34m\u001b[0m\n\u001b[0;32m----> 1\u001b[0;31m \u001b[0mbatch\u001b[0m\u001b[0;34m.\u001b[0m\u001b[0mget_column_partition\u001b[0m\u001b[0;34m(\u001b[0m\u001b[0;34m'NPS_RESPONSE'\u001b[0m\u001b[0;34m,\u001b[0m \u001b[0;34m(\u001b[0m\u001b[0;34m[\u001b[0m \u001b[0;36m0.\u001b[0m \u001b[0;34m,\u001b[0m  \u001b[0;36m2.5\u001b[0m\u001b[0;34m,\u001b[0m  \u001b[0;36m5.\u001b[0m \u001b[0;34m,\u001b[0m  \u001b[0;36m7.5\u001b[0m\u001b[0;34m,\u001b[0m \u001b[0;36m10.\u001b[0m \u001b[0;34m]\u001b[0m\u001b[0;34m)\u001b[0m\u001b[0;34m)\u001b[0m\u001b[0;34m\u001b[0m\u001b[0;34m\u001b[0m\u001b[0m\n\u001b[0m",
      "\u001b[0;32m~/opt/anaconda3/envs/airflow/lib/python3.7/site-packages/great_expectations/dataset/dataset.py\u001b[0m in \u001b[0;36mget_column_partition\u001b[0;34m(self, column, bins, n_bins, allow_relative_error)\u001b[0m\n\u001b[1;32m    312\u001b[0m             \u001b[0mbins\u001b[0m \u001b[0;34m=\u001b[0m \u001b[0mnp\u001b[0m\u001b[0;34m.\u001b[0m\u001b[0mlinspace\u001b[0m\u001b[0;34m(\u001b[0m\u001b[0mstart\u001b[0m\u001b[0;34m=\u001b[0m\u001b[0mfloat\u001b[0m\u001b[0;34m(\u001b[0m\u001b[0mmin_\u001b[0m\u001b[0;34m)\u001b[0m\u001b[0;34m,\u001b[0m \u001b[0mstop\u001b[0m\u001b[0;34m=\u001b[0m\u001b[0mfloat\u001b[0m\u001b[0;34m(\u001b[0m\u001b[0mmax_\u001b[0m\u001b[0;34m)\u001b[0m\u001b[0;34m,\u001b[0m \u001b[0mnum\u001b[0m\u001b[0;34m=\u001b[0m\u001b[0mn_bins\u001b[0m\u001b[0;34m+\u001b[0m\u001b[0;36m1\u001b[0m\u001b[0;34m)\u001b[0m\u001b[0;34m\u001b[0m\u001b[0;34m\u001b[0m\u001b[0m\n\u001b[1;32m    313\u001b[0m         \u001b[0;32melse\u001b[0m\u001b[0;34m:\u001b[0m\u001b[0;34m\u001b[0m\u001b[0;34m\u001b[0m\u001b[0m\n\u001b[0;32m--> 314\u001b[0;31m             \u001b[0;32mraise\u001b[0m \u001b[0mValueError\u001b[0m\u001b[0;34m(\u001b[0m\u001b[0;34m\"Invalid parameter for bins argument\"\u001b[0m\u001b[0;34m)\u001b[0m\u001b[0;34m\u001b[0m\u001b[0;34m\u001b[0m\u001b[0m\n\u001b[0m\u001b[1;32m    315\u001b[0m         \u001b[0;32mreturn\u001b[0m \u001b[0mbins\u001b[0m\u001b[0;34m\u001b[0m\u001b[0;34m\u001b[0m\u001b[0m\n\u001b[1;32m    316\u001b[0m \u001b[0;34m\u001b[0m\u001b[0m\n",
      "\u001b[0;31mValueError\u001b[0m: Invalid parameter for bins argument"
     ]
    }
   ],
   "source": [
    "batch.get_column_partition('NPS_RESPONSE', ([ 0. ,  2.5,  5. ,  7.5, 10. ]))"
   ]
  },
  {
   "cell_type": "code",
   "execution_count": 128,
   "metadata": {
    "scrolled": true
   },
   "outputs": [
    {
     "data": {
      "text/plain": [
       "9.140704300568592"
      ]
     },
     "execution_count": 128,
     "metadata": {},
     "output_type": "execute_result"
    }
   ],
   "source": [
    "batch.get_column_mean('NPS_RESPONSE').DS_Store"
   ]
  },
  {
   "cell_type": "code",
   "execution_count": 162,
   "metadata": {},
   "outputs": [
    {
     "data": {
      "text/plain": [
       "[0, 10, 10, 10]"
      ]
     },
     "execution_count": 162,
     "metadata": {},
     "output_type": "execute_result"
    }
   ],
   "source": [
    "batch.get_column_quantiles('NPS_RESPONSE', quantiles=(0.0, .25, .5, .75))"
   ]
  },
  {
   "cell_type": "code",
   "execution_count": 168,
   "metadata": {},
   "outputs": [
    {
     "data": {
      "text/plain": [
       "array([ 0. ,  2.5,  5. ,  7.5, 10. ])"
      ]
     },
     "execution_count": 168,
     "metadata": {},
     "output_type": "execute_result"
    }
   ],
   "source": [
    "batch.get_column_partition('NPS_RESPONSE', bins='uniform', n_bins=4)"
   ]
  },
  {
   "cell_type": "code",
   "execution_count": 116,
   "metadata": {},
   "outputs": [
    {
     "data": {
      "text/plain": [
       "[26071, 5285, 4945, 4681, 4827, 11137, 6844, 16770, 42036, 673229]"
      ]
     },
     "execution_count": 116,
     "metadata": {},
     "output_type": "execute_result"
    }
   ],
   "source": [
    "batch.get_column_hist('NPS_RESPONSE', ([ 0.,  1.,  2.,  3.,  4.,  5.,  6.,  7.,  8.,  9., 10.]))"
   ]
  },
  {
   "cell_type": "code",
   "execution_count": 112,
   "metadata": {},
   "outputs": [
    {
     "data": {
      "text/plain": [
       "795825"
      ]
     },
     "execution_count": 112,
     "metadata": {},
     "output_type": "execute_result"
    }
   ],
   "source": [
    "batch.get_row_count()"
   ]
  },
  {
   "cell_type": "code",
   "execution_count": 194,
   "metadata": {},
   "outputs": [],
   "source": [
    "# partition_obj = ge.dataset.util.categorical_partition_data(batch.NPS_RESPONSE)\n",
    "\n",
    "# batch.expect_column_chisquare_test_p_value_to_be_greater_than(\"NPS_RESPONSE\", partition_object=partition_obj, \n",
    "#                                                              result_format='SUMMARY')"
   ]
  },
  {
   "cell_type": "markdown",
   "metadata": {},
   "source": [
    "### Review the expectations\n",
    "\n",
    "Expectations that were true on this data batch were added. To view all the expectations you added so far about this data asset, do:"
   ]
  },
  {
   "cell_type": "code",
   "execution_count": 200,
   "metadata": {
    "scrolled": true
   },
   "outputs": [
    {
     "name": "stdout",
     "output_type": "stream",
     "text": [
      "2020-02-25T01:48:20-0500 - INFO - \t24 expectation(s) included in expectation_suite. result_format settings filtered.\n"
     ]
    },
    {
     "data": {
      "text/plain": [
       "{'data_asset_name': 'agero_dsa_pandas/default/customer_experience',\n",
       " 'expectation_suite_name': 'warnings_dec2019',\n",
       " 'meta': {'great_expectations.__version__': '0.8.8'},\n",
       " 'expectations': [{'expectation_type': 'expect_column_to_exist',\n",
       "   'kwargs': {'column': 'CASE_ID'}},\n",
       "  {'expectation_type': 'expect_column_to_exist',\n",
       "   'kwargs': {'column': 'NPS_RESPONSE'}},\n",
       "  {'expectation_type': 'expect_column_to_exist',\n",
       "   'kwargs': {'column': 'SURVEY_COMMENTS'}},\n",
       "  {'expectation_type': 'expect_column_to_exist',\n",
       "   'kwargs': {'column': 'NPS_SOURCE'}},\n",
       "  {'expectation_type': 'expect_column_to_exist',\n",
       "   'kwargs': {'column': 'SURVEY_TIME_EASTERN'}},\n",
       "  {'expectation_type': 'expect_column_to_exist',\n",
       "   'kwargs': {'column': 'SURVEY_TIME_UTC'}},\n",
       "  {'expectation_type': 'expect_table_column_count_to_equal',\n",
       "   'kwargs': {'value': 6}},\n",
       "  {'expectation_type': 'expect_column_values_to_not_be_null',\n",
       "   'kwargs': {'column': 'CASE_ID'}},\n",
       "  {'expectation_type': 'expect_column_values_to_not_be_null',\n",
       "   'kwargs': {'column': 'NPS_RESPONSE'}},\n",
       "  {'expectation_type': 'expect_column_values_to_not_be_null',\n",
       "   'kwargs': {'column': 'NPS_SOURCE'}},\n",
       "  {'expectation_type': 'expect_column_values_to_not_be_null',\n",
       "   'kwargs': {'column': 'SURVEY_TIME_EASTERN'}},\n",
       "  {'expectation_type': 'expect_column_values_to_not_be_null',\n",
       "   'kwargs': {'column': 'SURVEY_TIME_UTC'}},\n",
       "  {'expectation_type': 'expect_column_values_to_not_be_null',\n",
       "   'kwargs': {'column': 'SURVEY_COMMENTS', 'mostly': 0.1}},\n",
       "  {'expectation_type': 'expect_column_values_to_be_in_set',\n",
       "   'kwargs': {'column': 'NPS_SOURCE', 'value_set': ['sms', 'web']}},\n",
       "  {'expectation_type': 'expect_column_values_to_be_in_set',\n",
       "   'kwargs': {'column': 'NPS_RESPONSE',\n",
       "    'value_set': ['0', '1', '10', '2', '3', '4', '5', '6', '7', '8', '9']}},\n",
       "  {'expectation_type': 'expect_column_values_to_be_unique',\n",
       "   'kwargs': {'column': 'CASE_ID', 'mostly': 0.99}},\n",
       "  {'expectation_type': 'expect_column_pair_values_A_to_be_greater_than_B',\n",
       "   'kwargs': {'column_A': 'SURVEY_TIME_UTC',\n",
       "    'column_B': 'SURVEY_TIME_EASTERN',\n",
       "    'ignore_row_if': 'either_value_is_missing'}},\n",
       "  {'expectation_type': 'expect_column_values_to_be_of_type',\n",
       "   'kwargs': {'column': 'CASE_ID', 'type_': 'int64'}},\n",
       "  {'expectation_type': 'expect_column_values_to_be_of_type',\n",
       "   'kwargs': {'column': 'NPS_RESPONSE', 'type_': 'object'}},\n",
       "  {'expectation_type': 'expect_column_values_to_be_of_type',\n",
       "   'kwargs': {'column': 'SURVEY_COMMENTS', 'type_': 'object'}},\n",
       "  {'expectation_type': 'expect_column_values_to_be_of_type',\n",
       "   'kwargs': {'column': 'NPS_SOURCE', 'type_': 'object'}},\n",
       "  {'expectation_type': 'expect_column_values_to_be_of_type',\n",
       "   'kwargs': {'column': 'SURVEY_TIME_EASTERN', 'type_': 'datetime64[ns]'}},\n",
       "  {'expectation_type': 'expect_column_values_to_be_of_type',\n",
       "   'kwargs': {'column': 'SURVEY_TIME_UTC', 'type_': 'datetime64[ns]'}},\n",
       "  {'expectation_type': 'expect_column_chisquare_test_p_value_to_be_greater_than',\n",
       "   'kwargs': {'column': 'NPS_RESPONSE',\n",
       "    'partition_object': {'values': ['10',\n",
       "      '9',\n",
       "      '8',\n",
       "      '0',\n",
       "      '7',\n",
       "      '5',\n",
       "      '6',\n",
       "      '1',\n",
       "      '2',\n",
       "      '4',\n",
       "      '3'],\n",
       "     'weights': [0.7688728911089889,\n",
       "      0.06779059232596293,\n",
       "      0.051825460956438696,\n",
       "      0.040806581943730255,\n",
       "      0.020776708538406914,\n",
       "      0.014520433898969122,\n",
       "      0.00806826807708318,\n",
       "      0.008056024878180171,\n",
       "      0.006862312985136757,\n",
       "      0.006268517838340802,\n",
       "      0.006152207448762213]}}}],\n",
       " 'data_asset_type': 'Dataset'}"
      ]
     },
     "execution_count": 200,
     "metadata": {},
     "output_type": "execute_result"
    }
   ],
   "source": [
    "batch.get_expectation_suite()"
   ]
  },
  {
   "cell_type": "code",
   "execution_count": 201,
   "metadata": {},
   "outputs": [
    {
     "name": "stdout",
     "output_type": "stream",
     "text": [
      "2020-02-25T01:48:31-0500 - INFO - \t24 expectation(s) included in expectation_suite. result_format settings filtered.\n"
     ]
    }
   ],
   "source": [
    "batch.save_expectation_suite()"
   ]
  },
  {
   "cell_type": "markdown",
   "metadata": {},
   "source": [
    "### You created and saved expectations for at least one of the data assets.\n",
    "\n",
    "### We will show you how to set up validation - the process of checking if new files of this type conform to your expectations before they are processed by your pipeline's code. \n",
    "\n",
    "### Go to [integrate_validation_into_pipeline.ipynb](integrate_validation_into_pipeline.ipynb) to proceed.\n",
    "\n",
    "\n"
   ]
  }
 ],
 "metadata": {
  "kernelspec": {
   "display_name": "Python 3",
   "language": "python",
   "name": "python3"
  },
  "language_info": {
   "codemirror_mode": {
    "name": "ipython",
    "version": 3
   },
   "file_extension": ".py",
   "mimetype": "text/x-python",
   "name": "python",
   "nbconvert_exporter": "python",
   "pygments_lexer": "ipython3",
   "version": "3.7.6"
  }
 },
 "nbformat": 4,
 "nbformat_minor": 4
}
