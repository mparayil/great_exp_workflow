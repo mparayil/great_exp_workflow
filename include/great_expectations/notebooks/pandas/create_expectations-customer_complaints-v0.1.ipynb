{
 "cells": [
  {
   "cell_type": "code",
   "execution_count": 1,
   "metadata": {},
   "outputs": [
    {
     "name": "stdout",
     "output_type": "stream",
     "text": [
      "2020-03-01T18:23:00-0500 - INFO - Great Expectations logging enabled at INFO level by JupyterUX module.\n"
     ]
    }
   ],
   "source": [
    "import os\n",
    "import json\n",
    "import sys\n",
    "import great_expectations as ge\n",
    "import great_expectations.jupyter_ux\n",
    "from datetime import datetime\n",
    "import math\n",
    "import pandas as pd\n",
    "os.chdir('/Users/mparayil/Desktop/Development/dsa-data-workflows/grtexp_agero_dsa/great_expectations')"
   ]
  },
  {
   "cell_type": "code",
   "execution_count": 2,
   "metadata": {},
   "outputs": [],
   "source": [
    "import ge_prod.ge_data_access as gda\n",
    "import ge_prod.queries as queries"
   ]
  },
  {
   "cell_type": "code",
   "execution_count": 3,
   "metadata": {},
   "outputs": [],
   "source": [
    "rule_query = queries.queries.get('customer_complaints').get('create_expectations_2019Q4')"
   ]
  },
  {
   "cell_type": "code",
   "execution_count": 4,
   "metadata": {},
   "outputs": [
    {
     "data": {
      "text/plain": [
       "\"SELECT * FROM customer_complaints where last_modified_time_utc >= to_date('2019-10-01') and last_modified_time_utc <= to_date('2019-12-31');\""
      ]
     },
     "execution_count": 4,
     "metadata": {},
     "output_type": "execute_result"
    }
   ],
   "source": [
    "rule_query"
   ]
  },
  {
   "cell_type": "markdown",
   "metadata": {},
   "source": [
    "# Author Expectations\n",
    "\n"
   ]
  },
  {
   "cell_type": "markdown",
   "metadata": {},
   "source": [
    "[**Watch a short tutorial video**](https://docs.greatexpectations.io/en/latest/getting_started/create_expectations.html?utm_source=notebook&utm_medium=create_expectations#video)\n",
    "\n",
    "[**Read more in the tutorial**](https://docs.greatexpectations.io/en/latest/getting_started/create_expectations.html?utm_source=notebook&utm_medium=create_expectations)\n",
    "\n",
    "**Reach out for help on** [**Great Expectations Slack**](https://tinyurl.com/great-expectations-slack)\n"
   ]
  },
  {
   "cell_type": "markdown",
   "metadata": {},
   "source": [
    "### Get a DataContext object\n",
    "[Read more in the tutorial](https://great-expectations.readthedocs.io/en/latest/getting_started/create_expectations.html?utm_source=notebook&utm_medium=create_expectations#get-datacontext-object)\n",
    "\n",
    "\n"
   ]
  },
  {
   "cell_type": "code",
   "execution_count": 5,
   "metadata": {},
   "outputs": [
    {
     "name": "stdout",
     "output_type": "stream",
     "text": [
      "2020-03-01T18:23:02-0500 - INFO - Using project config: /Users/mparayil/Desktop/Development/dsa-data-workflows/grtexp_agero_dsa/great_expectations/great_expectations.yml\n"
     ]
    }
   ],
   "source": [
    "context = ge.data_context.DataContext()"
   ]
  },
  {
   "cell_type": "markdown",
   "metadata": {},
   "source": [
    "### List data assets in your project\n",
    "\n",
    "[Read more in the tutorial](https://docs.greatexpectations.io/en/latest/getting_started/create_expectations.html?utm_source=notebook&utm_medium=create_expectations#data-assets)\n"
   ]
  },
  {
   "cell_type": "code",
   "execution_count": 6,
   "metadata": {},
   "outputs": [
    {
     "name": "stdout",
     "output_type": "stream",
     "text": [
      "Inspecting your data sources. This may take a moment...\n"
     ]
    },
    {
     "data": {
      "text/html": [
       "<p>No data assets found in this data source.</p>\n",
       "<p>Read about how generators derive data assets from data sources:\n",
       "<a href=\"https://great-expectations.readthedocs.io/en/latest/how_to_add_data_source.html\">Data assets</a>\n",
       "</p>"
      ],
      "text/plain": [
       "<IPython.core.display.HTML object>"
      ]
     },
     "metadata": {},
     "output_type": "display_data"
    },
    {
     "data": {
      "text/html": [
       "<h2 style='margin: 0'>Datasource: agero_dsa_pandas (PandasDatasource)</h2>generator: default (SubdirReaderGenerator)"
      ],
      "text/plain": [
       "<IPython.core.display.HTML object>"
      ]
     },
     "metadata": {},
     "output_type": "display_data"
    }
   ],
   "source": [
    "great_expectations.jupyter_ux.list_available_data_asset_names(context)"
   ]
  },
  {
   "cell_type": "markdown",
   "metadata": {},
   "source": [
    "#### Pick one of the data asset names above and use as the value of data_asset_name argument below\n",
    "\n",
    "[Read more in the tutorial](https://docs.greatexpectations.io/en/latest/getting_started/create_expectations.html?utm_source=notebook&utm_medium=create_expectations#get-batch)\n"
   ]
  },
  {
   "cell_type": "markdown",
   "metadata": {},
   "source": [
    "### Specify data_asset & expectation_suite_name"
   ]
  },
  {
   "cell_type": "code",
   "execution_count": 7,
   "metadata": {},
   "outputs": [
    {
     "name": "stdout",
     "output_type": "stream",
     "text": [
      "NormalizedDataAssetName(datasource='agero_dsa_pandas', generator='default', generator_asset='customer_complaints')\n"
     ]
    }
   ],
   "source": [
    "data_asset_name = 'customer_complaints'\n",
    "normalized_data_asset_name = context.normalize_data_asset_name(data_asset_name)\n",
    "print(normalized_data_asset_name)"
   ]
  },
  {
   "cell_type": "markdown",
   "metadata": {},
   "source": [
    "### Create a new empty expectation suite"
   ]
  },
  {
   "cell_type": "code",
   "execution_count": 8,
   "metadata": {},
   "outputs": [],
   "source": [
    "expectation_suite_name = 'warnings_2019Q4'\n",
    "# context.create_expectation_suite(data_asset_name=normalized_data_asset_name, expectation_suite_name=expectation_suite_name,\n",
    "#                                 overwrite_existing=True)"
   ]
  },
  {
   "cell_type": "code",
   "execution_count": 9,
   "metadata": {
    "scrolled": true
   },
   "outputs": [
    {
     "data": {
      "text/plain": [
       "[{'data_asset_name': agero_dsa_pandas/default/customer_experience,\n",
       "  'expectation_suite_name': 'warnings_2019Q3-Q4'},\n",
       " {'data_asset_name': agero_dsa_pandas/default/network_outreach,\n",
       "  'expectation_suite_name': 'warnings_2019Q4'},\n",
       " {'data_asset_name': agero_dsa_pandas/default/network_outreach,\n",
       "  'expectation_suite_name': 'warnings_dec2019'},\n",
       " {'data_asset_name': agero_dsa_pandas/default/network_outreach,\n",
       "  'expectation_suite_name': 'warnings'},\n",
       " {'data_asset_name': agero_dsa_pandas/default/customer_complaints,\n",
       "  'expectation_suite_name': 'warnings_2019Q4'},\n",
       " {'data_asset_name': agero_dsa_pandas/default/network_claims,\n",
       "  'expectation_suite_name': 'warnings_2019Q4'},\n",
       " {'data_asset_name': agero_dsa_pandas/default/network_claims,\n",
       "  'expectation_suite_name': 'warnings_dec2019'}]"
      ]
     },
     "execution_count": 9,
     "metadata": {},
     "output_type": "execute_result"
    }
   ],
   "source": [
    "context.list_expectation_suite_keys()"
   ]
  },
  {
   "cell_type": "markdown",
   "metadata": {},
   "source": [
    "### Get batch to create expectations against"
   ]
  },
  {
   "cell_type": "code",
   "execution_count": 9,
   "metadata": {},
   "outputs": [],
   "source": [
    "rule_df = gda.snowflake_connector_to_df(rule_query)\n",
    "# rule_df.to_pickle('temp_data/network_claims_2019Q4.pkl')"
   ]
  },
  {
   "cell_type": "code",
   "execution_count": 10,
   "metadata": {},
   "outputs": [
    {
     "data": {
      "text/plain": [
       "(21636, 22)"
      ]
     },
     "execution_count": 10,
     "metadata": {},
     "output_type": "execute_result"
    }
   ],
   "source": [
    "rule_df.shape"
   ]
  },
  {
   "cell_type": "code",
   "execution_count": 11,
   "metadata": {},
   "outputs": [],
   "source": [
    "b_kwargs = {\"dataset\": rule_df}\n",
    "batch = context.get_batch(normalized_data_asset_name, expectation_suite_name=expectation_suite_name,\n",
    "                         batch_kwargs=b_kwargs)"
   ]
  },
  {
   "cell_type": "code",
   "execution_count": 14,
   "metadata": {},
   "outputs": [
    {
     "data": {
      "text/plain": [
       "21636"
      ]
     },
     "execution_count": 14,
     "metadata": {},
     "output_type": "execute_result"
    }
   ],
   "source": [
    "batch.get_row_count()"
   ]
  },
  {
   "cell_type": "code",
   "execution_count": 15,
   "metadata": {},
   "outputs": [
    {
     "name": "stdout",
     "output_type": "stream",
     "text": [
      "(21636, 22)\n"
     ]
    }
   ],
   "source": [
    "print(rule_df.shape)"
   ]
  },
  {
   "cell_type": "code",
   "execution_count": 16,
   "metadata": {},
   "outputs": [
    {
     "data": {
      "text/plain": [
       "['agero_dsa_pandas']"
      ]
     },
     "execution_count": 16,
     "metadata": {},
     "output_type": "execute_result"
    }
   ],
   "source": [
    "[datasource['name'] for datasource in context.list_datasources() if datasource['class_name'] == 'PandasDatasource']"
   ]
  },
  {
   "cell_type": "code",
   "execution_count": 17,
   "metadata": {},
   "outputs": [],
   "source": [
    "# getting rule_df batchId & fingerprint\n",
    "rule_batch_fingerprint = batch.batch_fingerprint\n",
    "rule_batch_id = batch.batch_id"
   ]
  },
  {
   "cell_type": "code",
   "execution_count": 18,
   "metadata": {},
   "outputs": [
    {
     "name": "stdout",
     "output_type": "stream",
     "text": [
      "rule_batch_fingerprint: \n",
      "{'partition_id': '20200301T194106.779337Z', 'fingerprint': 'cc92c920ae085fdd19e1a7570a842b05'}\n",
      "rule_batch_id: \n",
      "{'timestamp': 1583091665.633889, 'PandasInMemoryDF': True, 'fingerprint': 'ef6f117e165851cdd3645bc0dc4d2fb0'}\n"
     ]
    }
   ],
   "source": [
    "print('rule_batch_fingerprint: ', rule_batch_fingerprint, sep='\\n')\n",
    "print('rule_batch_id: ', rule_batch_id, sep='\\n')"
   ]
  },
  {
   "cell_type": "markdown",
   "metadata": {},
   "source": [
    "## Author Expectations\n",
    "\n",
    "[Read more in the tutorial](https://docs.greatexpectations.io/en/latest/getting_started/create_expectations.html?utm_source=notebook&utm_medium=create_expectations#create-expectations)\n",
    "\n",
    "See available expectations in the [expectation glossary](https://docs.greatexpectations.io/en/latest/glossary.html?utm_source=notebook&utm_medium=create_expectations)\n"
   ]
  },
  {
   "cell_type": "markdown",
   "metadata": {},
   "source": [
    "### Dataset exploration & understanding of fields to ensure rules reflect behavior of data\n",
    "- Validating columns to exist in table shape\n",
    "- Expected column count in table shape\n",
    "- Expected set values to be seen in given column\n",
    "- Expected columns to have null or non-null values X percentage of the time\n",
    "- Expect column values to be of certain data type(s)\n",
    "- Placing max and min values limits on numerical columns\n",
    "- Average or median column value to be within a certain range\n",
    "- Expecting column A to be large/less than column B"
   ]
  },
  {
   "cell_type": "markdown",
   "metadata": {},
   "source": [
    "### 1. Validating to see if every column exists in table"
   ]
  },
  {
   "cell_type": "code",
   "execution_count": 19,
   "metadata": {},
   "outputs": [
    {
     "data": {
      "text/plain": [
       "['COMPLAINT_CASE_NUMBER',\n",
       " 'CASE_ID',\n",
       " 'TASK_ID',\n",
       " 'COMPLAINT_CATEGORY',\n",
       " 'COMPLAINT_REASON',\n",
       " 'COMPLAINT_REASON_DETAILS',\n",
       " 'COMPLAINT_ORIGIN',\n",
       " 'IS_EXTERNAL_COMPLAINT',\n",
       " 'CASE_COMMENTS',\n",
       " 'IS_CASE_CLOSED',\n",
       " 'CASE_RESOLUTION',\n",
       " 'CASE_SUMMARY',\n",
       " 'IS_EXECUTIVE_ESCALATION',\n",
       " 'IS_FROM_SOCIAL_MEDIA',\n",
       " 'NAME',\n",
       " 'COMPLAINT_TYPE',\n",
       " 'COMPLAINT_SUBJECT',\n",
       " 'CLIENT_ID',\n",
       " 'CREATE_TIME_EASTERN',\n",
       " 'CREATE_TIME_UTC',\n",
       " 'LAST_MODIFIED_TIME_EASTERN',\n",
       " 'LAST_MODIFIED_TIME_UTC']"
      ]
     },
     "execution_count": 19,
     "metadata": {},
     "output_type": "execute_result"
    }
   ],
   "source": [
    "# add more expectations here\n",
    "column_names = batch.get_table_columns()\n",
    "column_names"
   ]
  },
  {
   "cell_type": "code",
   "execution_count": 392,
   "metadata": {},
   "outputs": [],
   "source": [
    "colnames = list(batch.columns)\n",
    "colnames.sort()"
   ]
  },
  {
   "cell_type": "code",
   "execution_count": 393,
   "metadata": {},
   "outputs": [
    {
     "data": {
      "text/plain": [
       "['CASE_COMMENTS',\n",
       " 'CASE_ID',\n",
       " 'CASE_RESOLUTION',\n",
       " 'CASE_SUMMARY',\n",
       " 'CLIENT_ID',\n",
       " 'COMPLAINT_CASE_NUMBER',\n",
       " 'COMPLAINT_CATEGORY',\n",
       " 'COMPLAINT_ORIGIN',\n",
       " 'COMPLAINT_REASON',\n",
       " 'COMPLAINT_REASON_DETAILS',\n",
       " 'COMPLAINT_SUBJECT',\n",
       " 'COMPLAINT_TYPE',\n",
       " 'CREATE_TIME_EASTERN',\n",
       " 'CREATE_TIME_UTC',\n",
       " 'IS_CASE_CLOSED',\n",
       " 'IS_EXECUTIVE_ESCALATION',\n",
       " 'IS_EXTERNAL_COMPLAINT',\n",
       " 'IS_FROM_SOCIAL_MEDIA',\n",
       " 'LAST_MODIFIED_TIME_EASTERN',\n",
       " 'LAST_MODIFIED_TIME_UTC',\n",
       " 'NAME',\n",
       " 'TASK_ID']"
      ]
     },
     "execution_count": 393,
     "metadata": {},
     "output_type": "execute_result"
    }
   ],
   "source": [
    "colnames"
   ]
  },
  {
   "cell_type": "code",
   "execution_count": 22,
   "metadata": {},
   "outputs": [],
   "source": [
    "master_column_names = ['CASE_COMMENTS', 'CASE_ID', 'CASE_RESOLUTION', 'CASE_SUMMARY', 'CLIENT_ID',\n",
    "                       'COMPLAINT_CASE_NUMBER', 'COMPLAINT_CATEGORY', 'COMPLAINT_ORIGIN', 'COMPLAINT_REASON',\n",
    "                       'COMPLAINT_REASON_DETAILS', 'COMPLAINT_SUBJECT', 'COMPLAINT_TYPE', 'CREATE_TIME_EASTERN',\n",
    "                       'CREATE_TIME_UTC', 'IS_CASE_CLOSED', 'IS_EXECUTIVE_ESCALATION', 'IS_EXTERNAL_COMPLAINT',\n",
    "                       'IS_FROM_SOCIAL_MEDIA', 'LAST_MODIFIED_TIME_EASTERN', 'LAST_MODIFIED_TIME_UTC', 'NAME',\n",
    "                       'TASK_ID']"
   ]
  },
  {
   "cell_type": "code",
   "execution_count": 23,
   "metadata": {},
   "outputs": [
    {
     "data": {
      "text/plain": [
       "22"
      ]
     },
     "execution_count": 23,
     "metadata": {},
     "output_type": "execute_result"
    }
   ],
   "source": [
    "len(master_column_names)"
   ]
  },
  {
   "cell_type": "code",
   "execution_count": 24,
   "metadata": {},
   "outputs": [
    {
     "data": {
      "text/plain": [
       "22"
      ]
     },
     "execution_count": 24,
     "metadata": {},
     "output_type": "execute_result"
    }
   ],
   "source": [
    "len(column_names)"
   ]
  },
  {
   "cell_type": "code",
   "execution_count": 25,
   "metadata": {},
   "outputs": [
    {
     "name": "stdout",
     "output_type": "stream",
     "text": [
      "CASE_COMMENTS:\n",
      "{'success': True, 'exception_info': {'raised_exception': False, 'exception_message': None, 'exception_traceback': None}}\n",
      "CASE_ID:\n",
      "{'success': True, 'exception_info': {'raised_exception': False, 'exception_message': None, 'exception_traceback': None}}\n",
      "CASE_RESOLUTION:\n",
      "{'success': True, 'exception_info': {'raised_exception': False, 'exception_message': None, 'exception_traceback': None}}\n",
      "CASE_SUMMARY:\n",
      "{'success': True, 'exception_info': {'raised_exception': False, 'exception_message': None, 'exception_traceback': None}}\n",
      "CLIENT_ID:\n",
      "{'success': True, 'exception_info': {'raised_exception': False, 'exception_message': None, 'exception_traceback': None}}\n",
      "COMPLAINT_CASE_NUMBER:\n",
      "{'success': True, 'exception_info': {'raised_exception': False, 'exception_message': None, 'exception_traceback': None}}\n",
      "COMPLAINT_CATEGORY:\n",
      "{'success': True, 'exception_info': {'raised_exception': False, 'exception_message': None, 'exception_traceback': None}}\n",
      "COMPLAINT_ORIGIN:\n",
      "{'success': True, 'exception_info': {'raised_exception': False, 'exception_message': None, 'exception_traceback': None}}\n",
      "COMPLAINT_REASON:\n",
      "{'success': True, 'exception_info': {'raised_exception': False, 'exception_message': None, 'exception_traceback': None}}\n",
      "COMPLAINT_REASON_DETAILS:\n",
      "{'success': True, 'exception_info': {'raised_exception': False, 'exception_message': None, 'exception_traceback': None}}\n",
      "COMPLAINT_SUBJECT:\n",
      "{'success': True, 'exception_info': {'raised_exception': False, 'exception_message': None, 'exception_traceback': None}}\n",
      "COMPLAINT_TYPE:\n",
      "{'success': True, 'exception_info': {'raised_exception': False, 'exception_message': None, 'exception_traceback': None}}\n",
      "CREATE_TIME_EASTERN:\n",
      "{'success': True, 'exception_info': {'raised_exception': False, 'exception_message': None, 'exception_traceback': None}}\n",
      "CREATE_TIME_UTC:\n",
      "{'success': True, 'exception_info': {'raised_exception': False, 'exception_message': None, 'exception_traceback': None}}\n",
      "IS_CASE_CLOSED:\n",
      "{'success': True, 'exception_info': {'raised_exception': False, 'exception_message': None, 'exception_traceback': None}}\n",
      "IS_EXECUTIVE_ESCALATION:\n",
      "{'success': True, 'exception_info': {'raised_exception': False, 'exception_message': None, 'exception_traceback': None}}\n",
      "IS_EXTERNAL_COMPLAINT:\n",
      "{'success': True, 'exception_info': {'raised_exception': False, 'exception_message': None, 'exception_traceback': None}}\n",
      "IS_FROM_SOCIAL_MEDIA:\n",
      "{'success': True, 'exception_info': {'raised_exception': False, 'exception_message': None, 'exception_traceback': None}}\n",
      "LAST_MODIFIED_TIME_EASTERN:\n",
      "{'success': True, 'exception_info': {'raised_exception': False, 'exception_message': None, 'exception_traceback': None}}\n",
      "LAST_MODIFIED_TIME_UTC:\n",
      "{'success': True, 'exception_info': {'raised_exception': False, 'exception_message': None, 'exception_traceback': None}}\n",
      "NAME:\n",
      "{'success': True, 'exception_info': {'raised_exception': False, 'exception_message': None, 'exception_traceback': None}}\n",
      "TASK_ID:\n",
      "{'success': True, 'exception_info': {'raised_exception': False, 'exception_message': None, 'exception_traceback': None}}\n"
     ]
    }
   ],
   "source": [
    "# Ensuring columns to exist\n",
    "for col in master_column_names:\n",
    "    print(col + ':', batch.expect_column_to_exist(col, result_format='BASIC', catch_exceptions=True), sep='\\n')"
   ]
  },
  {
   "cell_type": "markdown",
   "metadata": {},
   "source": [
    "### 2. Validating column count in table is always the same"
   ]
  },
  {
   "cell_type": "code",
   "execution_count": 26,
   "metadata": {},
   "outputs": [
    {
     "name": "stdout",
     "output_type": "stream",
     "text": [
      "# of columns in customer_complaints:  22\n"
     ]
    }
   ],
   "source": [
    "print('# of columns in customer_complaints: ', len(column_names))"
   ]
  },
  {
   "cell_type": "code",
   "execution_count": 27,
   "metadata": {},
   "outputs": [
    {
     "name": "stdout",
     "output_type": "stream",
     "text": [
      "# of columns in network_claims:  22 \n",
      "\n",
      "{'success': True, 'result': {'observed_value': 22}}\n"
     ]
    }
   ],
   "source": [
    "print('# of columns in {}: '.format('network_claims'), len(master_column_names), '\\n')\n",
    "if len(column_names) == len(master_column_names):\n",
    "    print(batch.expect_table_column_count_to_equal(len(column_names), result_format='SUMMARY'))\n",
    "else:\n",
    "    print(batch.expect_table_column_count_to_equal(len(master_column_names), result_format='SUMMARY'))"
   ]
  },
  {
   "cell_type": "markdown",
   "metadata": {},
   "source": [
    "### 3. Checking which columns should not have null values"
   ]
  },
  {
   "cell_type": "code",
   "execution_count": 28,
   "metadata": {},
   "outputs": [
    {
     "name": "stdout",
     "output_type": "stream",
     "text": [
      "['COMPLAINT_CASE_NUMBER', 'CASE_ID', 'TASK_ID', 'COMPLAINT_CATEGORY', 'COMPLAINT_REASON', 'COMPLAINT_REASON_DETAILS', 'COMPLAINT_ORIGIN', 'IS_EXTERNAL_COMPLAINT', 'CASE_COMMENTS', 'IS_CASE_CLOSED', 'CASE_RESOLUTION', 'CASE_SUMMARY', 'IS_EXECUTIVE_ESCALATION', 'IS_FROM_SOCIAL_MEDIA', 'NAME', 'COMPLAINT_TYPE', 'COMPLAINT_SUBJECT', 'CLIENT_ID', 'CREATE_TIME_EASTERN', 'CREATE_TIME_UTC', 'LAST_MODIFIED_TIME_EASTERN', 'LAST_MODIFIED_TIME_UTC']\n"
     ]
    }
   ],
   "source": [
    "# identifying which columns should not be null\n",
    "print(column_names)"
   ]
  },
  {
   "cell_type": "code",
   "execution_count": 29,
   "metadata": {},
   "outputs": [
    {
     "data": {
      "text/plain": [
       "COMPLAINT_CASE_NUMBER             0\n",
       "CASE_ID                         918\n",
       "TASK_ID                        1046\n",
       "COMPLAINT_CATEGORY             4650\n",
       "COMPLAINT_REASON               4719\n",
       "COMPLAINT_REASON_DETAILS      16195\n",
       "COMPLAINT_ORIGIN                  0\n",
       "IS_EXTERNAL_COMPLAINT             0\n",
       "CASE_COMMENTS                     7\n",
       "IS_CASE_CLOSED                    0\n",
       "CASE_RESOLUTION                  60\n",
       "CASE_SUMMARY                   4845\n",
       "IS_EXECUTIVE_ESCALATION           0\n",
       "IS_FROM_SOCIAL_MEDIA              0\n",
       "NAME                              0\n",
       "COMPLAINT_TYPE                   65\n",
       "COMPLAINT_SUBJECT              5598\n",
       "CLIENT_ID                        25\n",
       "CREATE_TIME_EASTERN               0\n",
       "CREATE_TIME_UTC                   0\n",
       "LAST_MODIFIED_TIME_EASTERN        0\n",
       "LAST_MODIFIED_TIME_UTC            0\n",
       "dtype: int64"
      ]
     },
     "execution_count": 29,
     "metadata": {},
     "output_type": "execute_result"
    }
   ],
   "source": [
    "rule_df.isnull().sum()"
   ]
  },
  {
   "cell_type": "code",
   "execution_count": 48,
   "metadata": {},
   "outputs": [],
   "source": [
    "# Separating null & non-null columns\n",
    "null_cols = list(batch.isnull().sum()[batch.isnull().sum() > 0].keys())\n",
    "not_null_cols = list(batch.isnull().sum()[batch.isnull().sum() == 0].keys())"
   ]
  },
  {
   "cell_type": "code",
   "execution_count": 49,
   "metadata": {},
   "outputs": [
    {
     "name": "stdout",
     "output_type": "stream",
     "text": [
      "Viewing column null value counts: \n",
      "COMPLAINT_CASE_NUMBER             0\n",
      "CASE_ID                         918\n",
      "TASK_ID                        1046\n",
      "COMPLAINT_CATEGORY             4650\n",
      "COMPLAINT_REASON               4719\n",
      "COMPLAINT_REASON_DETAILS      16195\n",
      "COMPLAINT_ORIGIN                  0\n",
      "IS_EXTERNAL_COMPLAINT             0\n",
      "CASE_COMMENTS                     7\n",
      "IS_CASE_CLOSED                    0\n",
      "CASE_RESOLUTION                  60\n",
      "CASE_SUMMARY                   4845\n",
      "IS_EXECUTIVE_ESCALATION           0\n",
      "IS_FROM_SOCIAL_MEDIA              0\n",
      "NAME                              0\n",
      "COMPLAINT_TYPE                   65\n",
      "COMPLAINT_SUBJECT              5598\n",
      "CLIENT_ID                        25\n",
      "CREATE_TIME_EASTERN               0\n",
      "CREATE_TIME_UTC                   0\n",
      "LAST_MODIFIED_TIME_EASTERN        0\n",
      "LAST_MODIFIED_TIME_UTC            0\n",
      "dtype: int64\n"
     ]
    }
   ],
   "source": [
    "print('Viewing column null value counts: ', batch.isnull().sum(), sep='\\n')"
   ]
  },
  {
   "cell_type": "code",
   "execution_count": 51,
   "metadata": {},
   "outputs": [],
   "source": [
    "not_null_cols.sort()"
   ]
  },
  {
   "cell_type": "code",
   "execution_count": 54,
   "metadata": {},
   "outputs": [
    {
     "name": "stdout",
     "output_type": "stream",
     "text": [
      "['COMPLAINT_CASE_NUMBER', 'COMPLAINT_ORIGIN', 'CREATE_TIME_EASTERN', 'CREATE_TIME_UTC', 'IS_CASE_CLOSED', 'IS_EXECUTIVE_ESCALATION', 'IS_EXTERNAL_COMPLAINT', 'IS_FROM_SOCIAL_MEDIA', 'LAST_MODIFIED_TIME_EASTERN', 'LAST_MODIFIED_TIME_UTC', 'NAME']\n"
     ]
    }
   ],
   "source": [
    "print(not_null_cols)"
   ]
  },
  {
   "cell_type": "code",
   "execution_count": 55,
   "metadata": {},
   "outputs": [],
   "source": [
    "null_cols.sort()"
   ]
  },
  {
   "cell_type": "code",
   "execution_count": 57,
   "metadata": {},
   "outputs": [
    {
     "name": "stdout",
     "output_type": "stream",
     "text": [
      "['CASE_COMMENTS', 'CASE_ID', 'CASE_RESOLUTION', 'CASE_SUMMARY', 'CLIENT_ID', 'COMPLAINT_CATEGORY', 'COMPLAINT_REASON', 'COMPLAINT_REASON_DETAILS', 'COMPLAINT_SUBJECT', 'COMPLAINT_TYPE', 'TASK_ID']\n"
     ]
    }
   ],
   "source": [
    "print(null_cols)"
   ]
  },
  {
   "cell_type": "code",
   "execution_count": 58,
   "metadata": {},
   "outputs": [
    {
     "name": "stdout",
     "output_type": "stream",
     "text": [
      "COMPLAINT_CASE_NUMBER \n",
      " {'success': True, 'result': {'element_count': 21636, 'unexpected_count': 0, 'unexpected_percent': 0.0, 'partial_unexpected_list': []}}\n",
      "COMPLAINT_ORIGIN \n",
      " {'success': True, 'result': {'element_count': 21636, 'unexpected_count': 0, 'unexpected_percent': 0.0, 'partial_unexpected_list': []}}\n",
      "CREATE_TIME_EASTERN \n",
      " {'success': True, 'result': {'element_count': 21636, 'unexpected_count': 0, 'unexpected_percent': 0.0, 'partial_unexpected_list': []}}\n",
      "CREATE_TIME_UTC \n",
      " {'success': True, 'result': {'element_count': 21636, 'unexpected_count': 0, 'unexpected_percent': 0.0, 'partial_unexpected_list': []}}\n",
      "IS_CASE_CLOSED \n",
      " {'success': True, 'result': {'element_count': 21636, 'unexpected_count': 0, 'unexpected_percent': 0.0, 'partial_unexpected_list': []}}\n",
      "IS_EXECUTIVE_ESCALATION \n",
      " {'success': True, 'result': {'element_count': 21636, 'unexpected_count': 0, 'unexpected_percent': 0.0, 'partial_unexpected_list': []}}\n",
      "IS_EXTERNAL_COMPLAINT \n",
      " {'success': True, 'result': {'element_count': 21636, 'unexpected_count': 0, 'unexpected_percent': 0.0, 'partial_unexpected_list': []}}\n",
      "IS_FROM_SOCIAL_MEDIA \n",
      " {'success': True, 'result': {'element_count': 21636, 'unexpected_count': 0, 'unexpected_percent': 0.0, 'partial_unexpected_list': []}}\n",
      "LAST_MODIFIED_TIME_EASTERN \n",
      " {'success': True, 'result': {'element_count': 21636, 'unexpected_count': 0, 'unexpected_percent': 0.0, 'partial_unexpected_list': []}}\n",
      "LAST_MODIFIED_TIME_UTC \n",
      " {'success': True, 'result': {'element_count': 21636, 'unexpected_count': 0, 'unexpected_percent': 0.0, 'partial_unexpected_list': []}}\n",
      "NAME \n",
      " {'success': True, 'result': {'element_count': 21636, 'unexpected_count': 0, 'unexpected_percent': 0.0, 'partial_unexpected_list': []}}\n"
     ]
    }
   ],
   "source": [
    "# checking for all columns that shouldn't be null are not\n",
    "for col in not_null_cols:\n",
    "    print(col, '\\n', batch.expect_column_values_to_not_be_null(col, result_format='BASIC'))"
   ]
  },
  {
   "cell_type": "code",
   "execution_count": 35,
   "metadata": {},
   "outputs": [
    {
     "name": "stdout",
     "output_type": "stream",
     "text": [
      "capturing the following columns to not be null: \n",
      " ['COMPLAINT_CASE_NUMBER', 'COMPLAINT_ORIGIN', 'IS_EXTERNAL_COMPLAINT', 'IS_CASE_CLOSED', 'IS_EXECUTIVE_ESCALATION', 'IS_FROM_SOCIAL_MEDIA', 'NAME', 'CREATE_TIME_EASTERN', 'CREATE_TIME_UTC', 'LAST_MODIFIED_TIME_EASTERN', 'LAST_MODIFIED_TIME_UTC']\n"
     ]
    }
   ],
   "source": [
    "print(f\"capturing the following columns to not be null: \\n {not_null_cols}\")"
   ]
  },
  {
   "cell_type": "markdown",
   "metadata": {},
   "source": [
    "### 4. Validating columns to have null values\n",
    "- **columns to check:**\n",
    "    - CASE_ID\n",
    "    - TASK_ID\n",
    "    - COMPLAINT_CATEGORY \n",
    "    - COMPLAINT_REASON\n",
    "    - COMPLAINT_REASON_DETAILS\n",
    "    - CASE_COMMENTS\n",
    "    - CASE_RESOLUTION\n",
    "    - CASE_SUMMARY \n",
    "    - COMPLAINT_TYPE \n",
    "    - COMPLAINT_SUBJECT \n",
    "    - CLIENT_ID "
   ]
  },
  {
   "cell_type": "code",
   "execution_count": 36,
   "metadata": {},
   "outputs": [
    {
     "data": {
      "text/html": [
       "<div>\n",
       "<style scoped>\n",
       "    .dataframe tbody tr th:only-of-type {\n",
       "        vertical-align: middle;\n",
       "    }\n",
       "\n",
       "    .dataframe tbody tr th {\n",
       "        vertical-align: top;\n",
       "    }\n",
       "\n",
       "    .dataframe thead th {\n",
       "        text-align: right;\n",
       "    }\n",
       "</style>\n",
       "<table border=\"1\" class=\"dataframe\">\n",
       "  <thead>\n",
       "    <tr style=\"text-align: right;\">\n",
       "      <th></th>\n",
       "      <th>COMPLAINT_CASE_NUMBER</th>\n",
       "      <th>CASE_ID</th>\n",
       "      <th>TASK_ID</th>\n",
       "      <th>COMPLAINT_CATEGORY</th>\n",
       "      <th>COMPLAINT_REASON</th>\n",
       "      <th>COMPLAINT_REASON_DETAILS</th>\n",
       "      <th>COMPLAINT_ORIGIN</th>\n",
       "      <th>IS_EXTERNAL_COMPLAINT</th>\n",
       "      <th>CASE_COMMENTS</th>\n",
       "      <th>IS_CASE_CLOSED</th>\n",
       "      <th>...</th>\n",
       "      <th>IS_EXECUTIVE_ESCALATION</th>\n",
       "      <th>IS_FROM_SOCIAL_MEDIA</th>\n",
       "      <th>NAME</th>\n",
       "      <th>COMPLAINT_TYPE</th>\n",
       "      <th>COMPLAINT_SUBJECT</th>\n",
       "      <th>CLIENT_ID</th>\n",
       "      <th>CREATE_TIME_EASTERN</th>\n",
       "      <th>CREATE_TIME_UTC</th>\n",
       "      <th>LAST_MODIFIED_TIME_EASTERN</th>\n",
       "      <th>LAST_MODIFIED_TIME_UTC</th>\n",
       "    </tr>\n",
       "  </thead>\n",
       "  <tbody>\n",
       "    <tr>\n",
       "      <th>0</th>\n",
       "      <td>01431510</td>\n",
       "      <td>2.294742e+09</td>\n",
       "      <td>1.0</td>\n",
       "      <td>Network</td>\n",
       "      <td>Missed ETA - Delay/Capacity</td>\n",
       "      <td>&gt; 120 mins</td>\n",
       "      <td>internal</td>\n",
       "      <td>False</td>\n",
       "      <td>Case Comments : \\nTask 1 : \\n[Service Provider...</td>\n",
       "      <td>True</td>\n",
       "      <td>...</td>\n",
       "      <td>True</td>\n",
       "      <td>False</td>\n",
       "      <td>Aliyah Julien</td>\n",
       "      <td>Contact Center Agent Comp</td>\n",
       "      <td>Verbal Apology</td>\n",
       "      <td>971.0</td>\n",
       "      <td>2019-12-22 07:45:04</td>\n",
       "      <td>2019-12-22 12:45:04</td>\n",
       "      <td>2019-12-23 12:12:47</td>\n",
       "      <td>2019-12-23 17:12:47</td>\n",
       "    </tr>\n",
       "    <tr>\n",
       "      <th>1</th>\n",
       "      <td>01431393</td>\n",
       "      <td>2.294446e+09</td>\n",
       "      <td>1.0</td>\n",
       "      <td>Network</td>\n",
       "      <td>Customer Service - Unprofessional conduct</td>\n",
       "      <td>None</td>\n",
       "      <td>internal</td>\n",
       "      <td>False</td>\n",
       "      <td>Case Comments : \\nTask 1 : \\n[Service Provider...</td>\n",
       "      <td>True</td>\n",
       "      <td>...</td>\n",
       "      <td>True</td>\n",
       "      <td>False</td>\n",
       "      <td>Nelon Noel</td>\n",
       "      <td>Service Provider Complain</td>\n",
       "      <td>Verbal Apology.</td>\n",
       "      <td>863.0</td>\n",
       "      <td>2019-12-21 11:30:06</td>\n",
       "      <td>2019-12-21 16:30:06</td>\n",
       "      <td>2019-12-24 10:02:24</td>\n",
       "      <td>2019-12-24 15:02:24</td>\n",
       "    </tr>\n",
       "    <tr>\n",
       "      <th>2</th>\n",
       "      <td>01431605</td>\n",
       "      <td>2.294723e+09</td>\n",
       "      <td>4.0</td>\n",
       "      <td>Network</td>\n",
       "      <td>Customer Service - Rude/Tone</td>\n",
       "      <td>None</td>\n",
       "      <td>external</td>\n",
       "      <td>True</td>\n",
       "      <td>Case Comments : \\nTask 1 : \\n[Disablement Loca...</td>\n",
       "      <td>True</td>\n",
       "      <td>...</td>\n",
       "      <td>True</td>\n",
       "      <td>False</td>\n",
       "      <td>Laura Lacasse</td>\n",
       "      <td>Contact Center Agent Comp</td>\n",
       "      <td>Phone number out of service</td>\n",
       "      <td>863.0</td>\n",
       "      <td>2019-12-23 08:04:06</td>\n",
       "      <td>2019-12-23 13:04:06</td>\n",
       "      <td>2019-12-24 09:06:24</td>\n",
       "      <td>2019-12-24 14:06:24</td>\n",
       "    </tr>\n",
       "    <tr>\n",
       "      <th>3</th>\n",
       "      <td>01429159</td>\n",
       "      <td>2.294104e+09</td>\n",
       "      <td>1.0</td>\n",
       "      <td>Network</td>\n",
       "      <td>Customer Service - Unprofessional conduct</td>\n",
       "      <td>None</td>\n",
       "      <td>text survey</td>\n",
       "      <td>False</td>\n",
       "      <td>Case Comments : \\nTask 1 : \\n[Disablement Loca...</td>\n",
       "      <td>True</td>\n",
       "      <td>...</td>\n",
       "      <td>True</td>\n",
       "      <td>False</td>\n",
       "      <td>Belinda Bhola</td>\n",
       "      <td>Service Provider Complain</td>\n",
       "      <td>No Customer Contact</td>\n",
       "      <td>863.0</td>\n",
       "      <td>2019-12-16 07:02:55</td>\n",
       "      <td>2019-12-16 12:02:55</td>\n",
       "      <td>2019-12-17 15:05:12</td>\n",
       "      <td>2019-12-17 20:05:12</td>\n",
       "    </tr>\n",
       "    <tr>\n",
       "      <th>4</th>\n",
       "      <td>01429886</td>\n",
       "      <td>2.294271e+09</td>\n",
       "      <td>1.0</td>\n",
       "      <td>Network</td>\n",
       "      <td>Mishandled Coverage/Overages</td>\n",
       "      <td>None</td>\n",
       "      <td>internal</td>\n",
       "      <td>False</td>\n",
       "      <td>Case Comments : \\nTask 1 : \\n[Disablement Loca...</td>\n",
       "      <td>True</td>\n",
       "      <td>...</td>\n",
       "      <td>True</td>\n",
       "      <td>False</td>\n",
       "      <td>Shadea Scott</td>\n",
       "      <td>Coverage Limits/Overages</td>\n",
       "      <td>Voicemail Apology</td>\n",
       "      <td>942.0</td>\n",
       "      <td>2019-12-17 13:45:42</td>\n",
       "      <td>2019-12-17 18:45:42</td>\n",
       "      <td>2019-12-18 09:39:26</td>\n",
       "      <td>2019-12-18 14:39:26</td>\n",
       "    </tr>\n",
       "  </tbody>\n",
       "</table>\n",
       "<p>5 rows × 22 columns</p>\n",
       "</div>"
      ],
      "text/plain": [
       "  COMPLAINT_CASE_NUMBER       CASE_ID  TASK_ID COMPLAINT_CATEGORY  \\\n",
       "0              01431510  2.294742e+09      1.0            Network   \n",
       "1              01431393  2.294446e+09      1.0            Network   \n",
       "2              01431605  2.294723e+09      4.0            Network   \n",
       "3              01429159  2.294104e+09      1.0            Network   \n",
       "4              01429886  2.294271e+09      1.0            Network   \n",
       "\n",
       "                            COMPLAINT_REASON COMPLAINT_REASON_DETAILS  \\\n",
       "0                Missed ETA - Delay/Capacity               > 120 mins   \n",
       "1  Customer Service - Unprofessional conduct                     None   \n",
       "2               Customer Service - Rude/Tone                     None   \n",
       "3  Customer Service - Unprofessional conduct                     None   \n",
       "4               Mishandled Coverage/Overages                     None   \n",
       "\n",
       "  COMPLAINT_ORIGIN  IS_EXTERNAL_COMPLAINT  \\\n",
       "0         internal                  False   \n",
       "1         internal                  False   \n",
       "2         external                   True   \n",
       "3      text survey                  False   \n",
       "4         internal                  False   \n",
       "\n",
       "                                       CASE_COMMENTS  IS_CASE_CLOSED  ...  \\\n",
       "0  Case Comments : \\nTask 1 : \\n[Service Provider...            True  ...   \n",
       "1  Case Comments : \\nTask 1 : \\n[Service Provider...            True  ...   \n",
       "2  Case Comments : \\nTask 1 : \\n[Disablement Loca...            True  ...   \n",
       "3  Case Comments : \\nTask 1 : \\n[Disablement Loca...            True  ...   \n",
       "4  Case Comments : \\nTask 1 : \\n[Disablement Loca...            True  ...   \n",
       "\n",
       "  IS_EXECUTIVE_ESCALATION IS_FROM_SOCIAL_MEDIA           NAME  \\\n",
       "0                    True                False  Aliyah Julien   \n",
       "1                    True                False     Nelon Noel   \n",
       "2                    True                False  Laura Lacasse   \n",
       "3                    True                False  Belinda Bhola   \n",
       "4                    True                False   Shadea Scott   \n",
       "\n",
       "              COMPLAINT_TYPE            COMPLAINT_SUBJECT CLIENT_ID  \\\n",
       "0  Contact Center Agent Comp               Verbal Apology     971.0   \n",
       "1  Service Provider Complain              Verbal Apology.     863.0   \n",
       "2  Contact Center Agent Comp  Phone number out of service     863.0   \n",
       "3  Service Provider Complain          No Customer Contact     863.0   \n",
       "4   Coverage Limits/Overages            Voicemail Apology     942.0   \n",
       "\n",
       "  CREATE_TIME_EASTERN     CREATE_TIME_UTC LAST_MODIFIED_TIME_EASTERN  \\\n",
       "0 2019-12-22 07:45:04 2019-12-22 12:45:04        2019-12-23 12:12:47   \n",
       "1 2019-12-21 11:30:06 2019-12-21 16:30:06        2019-12-24 10:02:24   \n",
       "2 2019-12-23 08:04:06 2019-12-23 13:04:06        2019-12-24 09:06:24   \n",
       "3 2019-12-16 07:02:55 2019-12-16 12:02:55        2019-12-17 15:05:12   \n",
       "4 2019-12-17 13:45:42 2019-12-17 18:45:42        2019-12-18 09:39:26   \n",
       "\n",
       "  LAST_MODIFIED_TIME_UTC  \n",
       "0    2019-12-23 17:12:47  \n",
       "1    2019-12-24 15:02:24  \n",
       "2    2019-12-24 14:06:24  \n",
       "3    2019-12-17 20:05:12  \n",
       "4    2019-12-18 14:39:26  \n",
       "\n",
       "[5 rows x 22 columns]"
      ]
     },
     "execution_count": 36,
     "metadata": {},
     "output_type": "execute_result"
    }
   ],
   "source": [
    "batch.head()"
   ]
  },
  {
   "cell_type": "code",
   "execution_count": 242,
   "metadata": {},
   "outputs": [],
   "source": [
    "from typing import Union\n",
    "from great_expectations.dataset import PandasDataset\n",
    "def get_df_not_null_weights(df: Union[pd.DataFrame, PandasDataset], groupby_col: str, not_null_col: str) -> float:\n",
    "    \"\"\"\n",
    "    Provides specified column's weight/percentage for it not to be null.\n",
    "\n",
    "    Parameters\n",
    "    -----------\n",
    "    df: pd.DataFrame or great_expectations.dataset.PandasDataset\n",
    "        dataframe object to look at\n",
    "    groupby_col: str\n",
    "        grouping column string to groupby dataframe on when looking at specified column in next parameter\n",
    "    not_null_col: str\n",
    "        column used from dataframe to calculate safe weight thresholds of when it would be not null\n",
    "\n",
    "    Returns\n",
    "    ------------\n",
    "    float\n",
    "        Not null weight of specified column lowered by 5% after looking at the 10% quartile\n",
    "    \"\"\"\n",
    "\n",
    "    df_group = df.groupby(df[groupby_col].dt.date)\n",
    "    df_group = df_group.apply(lambda x: x[not_null_col].notnull().mean())\n",
    "\n",
    "    adjusted_weight = df_group.quantile(0.1, interpolation='lower')\n",
    "    return adjusted_weight.round(4)"
   ]
  },
  {
   "cell_type": "code",
   "execution_count": 243,
   "metadata": {},
   "outputs": [
    {
     "name": "stdout",
     "output_type": "stream",
     "text": [
      "CASE_COMMENTS\n",
      "1.0\n",
      "CASE_ID\n",
      "0.9252\n",
      "CASE_RESOLUTION\n",
      "0.9933\n",
      "CASE_SUMMARY\n",
      "0.617\n",
      "CLIENT_ID\n",
      "0.9958\n",
      "COMPLAINT_CATEGORY\n",
      "0.6236\n",
      "COMPLAINT_REASON\n",
      "0.6234\n",
      "COMPLAINT_REASON_DETAILS\n",
      "0.1667\n",
      "COMPLAINT_SUBJECT\n",
      "0.5414\n",
      "COMPLAINT_TYPE\n",
      "0.9919\n",
      "TASK_ID\n",
      "0.9182\n"
     ]
    }
   ],
   "source": [
    "for col in null_cols:\n",
    "    w = get_df_not_null_weights(rule_df, 'LAST_MODIFIED_TIME_UTC', col)\n",
    "    print(col, w, sep='\\n')"
   ]
  },
  {
   "cell_type": "code",
   "execution_count": 207,
   "metadata": {},
   "outputs": [
    {
     "data": {
      "text/html": [
       "<div>\n",
       "<style scoped>\n",
       "    .dataframe tbody tr th:only-of-type {\n",
       "        vertical-align: middle;\n",
       "    }\n",
       "\n",
       "    .dataframe tbody tr th {\n",
       "        vertical-align: top;\n",
       "    }\n",
       "\n",
       "    .dataframe thead th {\n",
       "        text-align: right;\n",
       "    }\n",
       "</style>\n",
       "<table border=\"1\" class=\"dataframe\">\n",
       "  <thead>\n",
       "    <tr style=\"text-align: right;\">\n",
       "      <th></th>\n",
       "      <th>COMPLAINT_CASE_NUMBER</th>\n",
       "      <th>CASE_ID</th>\n",
       "      <th>TASK_ID</th>\n",
       "      <th>COMPLAINT_CATEGORY</th>\n",
       "      <th>COMPLAINT_REASON</th>\n",
       "      <th>COMPLAINT_REASON_DETAILS</th>\n",
       "      <th>COMPLAINT_ORIGIN</th>\n",
       "      <th>IS_EXTERNAL_COMPLAINT</th>\n",
       "      <th>CASE_COMMENTS</th>\n",
       "      <th>IS_CASE_CLOSED</th>\n",
       "      <th>...</th>\n",
       "      <th>IS_EXECUTIVE_ESCALATION</th>\n",
       "      <th>IS_FROM_SOCIAL_MEDIA</th>\n",
       "      <th>NAME</th>\n",
       "      <th>COMPLAINT_TYPE</th>\n",
       "      <th>COMPLAINT_SUBJECT</th>\n",
       "      <th>CLIENT_ID</th>\n",
       "      <th>CREATE_TIME_EASTERN</th>\n",
       "      <th>CREATE_TIME_UTC</th>\n",
       "      <th>LAST_MODIFIED_TIME_EASTERN</th>\n",
       "      <th>LAST_MODIFIED_TIME_UTC</th>\n",
       "    </tr>\n",
       "  </thead>\n",
       "  <tbody>\n",
       "    <tr>\n",
       "      <th>0</th>\n",
       "      <td>01431510</td>\n",
       "      <td>2.294742e+09</td>\n",
       "      <td>1.0</td>\n",
       "      <td>Network</td>\n",
       "      <td>Missed ETA - Delay/Capacity</td>\n",
       "      <td>&gt; 120 mins</td>\n",
       "      <td>internal</td>\n",
       "      <td>False</td>\n",
       "      <td>Case Comments : \\nTask 1 : \\n[Service Provider...</td>\n",
       "      <td>True</td>\n",
       "      <td>...</td>\n",
       "      <td>True</td>\n",
       "      <td>False</td>\n",
       "      <td>Aliyah Julien</td>\n",
       "      <td>Contact Center Agent Comp</td>\n",
       "      <td>Verbal Apology</td>\n",
       "      <td>971.0</td>\n",
       "      <td>2019-12-22 07:45:04</td>\n",
       "      <td>2019-12-22 12:45:04</td>\n",
       "      <td>2019-12-23 12:12:47</td>\n",
       "      <td>2019-12-23 17:12:47</td>\n",
       "    </tr>\n",
       "    <tr>\n",
       "      <th>1</th>\n",
       "      <td>01431393</td>\n",
       "      <td>2.294446e+09</td>\n",
       "      <td>1.0</td>\n",
       "      <td>Network</td>\n",
       "      <td>Customer Service - Unprofessional conduct</td>\n",
       "      <td>None</td>\n",
       "      <td>internal</td>\n",
       "      <td>False</td>\n",
       "      <td>Case Comments : \\nTask 1 : \\n[Service Provider...</td>\n",
       "      <td>True</td>\n",
       "      <td>...</td>\n",
       "      <td>True</td>\n",
       "      <td>False</td>\n",
       "      <td>Nelon Noel</td>\n",
       "      <td>Service Provider Complain</td>\n",
       "      <td>Verbal Apology.</td>\n",
       "      <td>863.0</td>\n",
       "      <td>2019-12-21 11:30:06</td>\n",
       "      <td>2019-12-21 16:30:06</td>\n",
       "      <td>2019-12-24 10:02:24</td>\n",
       "      <td>2019-12-24 15:02:24</td>\n",
       "    </tr>\n",
       "    <tr>\n",
       "      <th>2</th>\n",
       "      <td>01431605</td>\n",
       "      <td>2.294723e+09</td>\n",
       "      <td>4.0</td>\n",
       "      <td>Network</td>\n",
       "      <td>Customer Service - Rude/Tone</td>\n",
       "      <td>None</td>\n",
       "      <td>external</td>\n",
       "      <td>True</td>\n",
       "      <td>Case Comments : \\nTask 1 : \\n[Disablement Loca...</td>\n",
       "      <td>True</td>\n",
       "      <td>...</td>\n",
       "      <td>True</td>\n",
       "      <td>False</td>\n",
       "      <td>Laura Lacasse</td>\n",
       "      <td>Contact Center Agent Comp</td>\n",
       "      <td>Phone number out of service</td>\n",
       "      <td>863.0</td>\n",
       "      <td>2019-12-23 08:04:06</td>\n",
       "      <td>2019-12-23 13:04:06</td>\n",
       "      <td>2019-12-24 09:06:24</td>\n",
       "      <td>2019-12-24 14:06:24</td>\n",
       "    </tr>\n",
       "    <tr>\n",
       "      <th>3</th>\n",
       "      <td>01429159</td>\n",
       "      <td>2.294104e+09</td>\n",
       "      <td>1.0</td>\n",
       "      <td>Network</td>\n",
       "      <td>Customer Service - Unprofessional conduct</td>\n",
       "      <td>None</td>\n",
       "      <td>text survey</td>\n",
       "      <td>False</td>\n",
       "      <td>Case Comments : \\nTask 1 : \\n[Disablement Loca...</td>\n",
       "      <td>True</td>\n",
       "      <td>...</td>\n",
       "      <td>True</td>\n",
       "      <td>False</td>\n",
       "      <td>Belinda Bhola</td>\n",
       "      <td>Service Provider Complain</td>\n",
       "      <td>No Customer Contact</td>\n",
       "      <td>863.0</td>\n",
       "      <td>2019-12-16 07:02:55</td>\n",
       "      <td>2019-12-16 12:02:55</td>\n",
       "      <td>2019-12-17 15:05:12</td>\n",
       "      <td>2019-12-17 20:05:12</td>\n",
       "    </tr>\n",
       "    <tr>\n",
       "      <th>4</th>\n",
       "      <td>01429886</td>\n",
       "      <td>2.294271e+09</td>\n",
       "      <td>1.0</td>\n",
       "      <td>Network</td>\n",
       "      <td>Mishandled Coverage/Overages</td>\n",
       "      <td>None</td>\n",
       "      <td>internal</td>\n",
       "      <td>False</td>\n",
       "      <td>Case Comments : \\nTask 1 : \\n[Disablement Loca...</td>\n",
       "      <td>True</td>\n",
       "      <td>...</td>\n",
       "      <td>True</td>\n",
       "      <td>False</td>\n",
       "      <td>Shadea Scott</td>\n",
       "      <td>Coverage Limits/Overages</td>\n",
       "      <td>Voicemail Apology</td>\n",
       "      <td>942.0</td>\n",
       "      <td>2019-12-17 13:45:42</td>\n",
       "      <td>2019-12-17 18:45:42</td>\n",
       "      <td>2019-12-18 09:39:26</td>\n",
       "      <td>2019-12-18 14:39:26</td>\n",
       "    </tr>\n",
       "  </tbody>\n",
       "</table>\n",
       "<p>5 rows × 22 columns</p>\n",
       "</div>"
      ],
      "text/plain": [
       "  COMPLAINT_CASE_NUMBER       CASE_ID  TASK_ID COMPLAINT_CATEGORY  \\\n",
       "0              01431510  2.294742e+09      1.0            Network   \n",
       "1              01431393  2.294446e+09      1.0            Network   \n",
       "2              01431605  2.294723e+09      4.0            Network   \n",
       "3              01429159  2.294104e+09      1.0            Network   \n",
       "4              01429886  2.294271e+09      1.0            Network   \n",
       "\n",
       "                            COMPLAINT_REASON COMPLAINT_REASON_DETAILS  \\\n",
       "0                Missed ETA - Delay/Capacity               > 120 mins   \n",
       "1  Customer Service - Unprofessional conduct                     None   \n",
       "2               Customer Service - Rude/Tone                     None   \n",
       "3  Customer Service - Unprofessional conduct                     None   \n",
       "4               Mishandled Coverage/Overages                     None   \n",
       "\n",
       "  COMPLAINT_ORIGIN  IS_EXTERNAL_COMPLAINT  \\\n",
       "0         internal                  False   \n",
       "1         internal                  False   \n",
       "2         external                   True   \n",
       "3      text survey                  False   \n",
       "4         internal                  False   \n",
       "\n",
       "                                       CASE_COMMENTS  IS_CASE_CLOSED  ...  \\\n",
       "0  Case Comments : \\nTask 1 : \\n[Service Provider...            True  ...   \n",
       "1  Case Comments : \\nTask 1 : \\n[Service Provider...            True  ...   \n",
       "2  Case Comments : \\nTask 1 : \\n[Disablement Loca...            True  ...   \n",
       "3  Case Comments : \\nTask 1 : \\n[Disablement Loca...            True  ...   \n",
       "4  Case Comments : \\nTask 1 : \\n[Disablement Loca...            True  ...   \n",
       "\n",
       "  IS_EXECUTIVE_ESCALATION IS_FROM_SOCIAL_MEDIA           NAME  \\\n",
       "0                    True                False  Aliyah Julien   \n",
       "1                    True                False     Nelon Noel   \n",
       "2                    True                False  Laura Lacasse   \n",
       "3                    True                False  Belinda Bhola   \n",
       "4                    True                False   Shadea Scott   \n",
       "\n",
       "              COMPLAINT_TYPE            COMPLAINT_SUBJECT CLIENT_ID  \\\n",
       "0  Contact Center Agent Comp               Verbal Apology     971.0   \n",
       "1  Service Provider Complain              Verbal Apology.     863.0   \n",
       "2  Contact Center Agent Comp  Phone number out of service     863.0   \n",
       "3  Service Provider Complain          No Customer Contact     863.0   \n",
       "4   Coverage Limits/Overages            Voicemail Apology     942.0   \n",
       "\n",
       "  CREATE_TIME_EASTERN     CREATE_TIME_UTC LAST_MODIFIED_TIME_EASTERN  \\\n",
       "0 2019-12-22 07:45:04 2019-12-22 12:45:04        2019-12-23 12:12:47   \n",
       "1 2019-12-21 11:30:06 2019-12-21 16:30:06        2019-12-24 10:02:24   \n",
       "2 2019-12-23 08:04:06 2019-12-23 13:04:06        2019-12-24 09:06:24   \n",
       "3 2019-12-16 07:02:55 2019-12-16 12:02:55        2019-12-17 15:05:12   \n",
       "4 2019-12-17 13:45:42 2019-12-17 18:45:42        2019-12-18 09:39:26   \n",
       "\n",
       "  LAST_MODIFIED_TIME_UTC  \n",
       "0    2019-12-23 17:12:47  \n",
       "1    2019-12-24 15:02:24  \n",
       "2    2019-12-24 14:06:24  \n",
       "3    2019-12-17 20:05:12  \n",
       "4    2019-12-18 14:39:26  \n",
       "\n",
       "[5 rows x 22 columns]"
      ]
     },
     "execution_count": 207,
     "metadata": {},
     "output_type": "execute_result"
    }
   ],
   "source": [
    "batch.head()"
   ]
  },
  {
   "cell_type": "code",
   "execution_count": 84,
   "metadata": {
    "scrolled": false
   },
   "outputs": [
    {
     "name": "stdout",
     "output_type": "stream",
     "text": [
      "CASE_COMMENTS\n",
      "0.9996764651506748\n",
      "CASE_ID\n",
      "0.9575707154742097\n",
      "CASE_RESOLUTION\n",
      "0.9972268441486412\n",
      "CASE_SUMMARY\n",
      "0.7760676650027731\n",
      "CLIENT_ID\n",
      "0.9988445183952671\n",
      "COMPLAINT_CATEGORY\n",
      "0.7850804215196894\n",
      "COMPLAINT_REASON\n",
      "0.7818912922906267\n",
      "COMPLAINT_REASON_DETAILS\n",
      "0.251479016454058\n",
      "COMPLAINT_SUBJECT\n",
      "0.7412645590682196\n",
      "COMPLAINT_TYPE\n",
      "0.9969957478276946\n",
      "TASK_ID\n",
      "0.9516546496579774\n",
      "---------------------------------------\n",
      "not null weights:\n",
      "CASE_COMMENTS 0.9847\n",
      "CASE_ID 0.9426\n",
      "CASE_RESOLUTION 0.9822\n",
      "CASE_SUMMARY 0.7611\n",
      "CLIENT_ID 0.9838\n",
      "COMPLAINT_CATEGORY 0.7701\n",
      "COMPLAINT_REASON 0.7669\n",
      "COMPLAINT_REASON_DETAILS 0.2365\n",
      "COMPLAINT_SUBJECT 0.7263\n",
      "COMPLAINT_TYPE 0.982\n",
      "TASK_ID 0.9367\n"
     ]
    }
   ],
   "source": [
    "# calculating weight for columns of how often they should be null\n",
    "null_percents = (1 -(batch.isnull().sum() / len(batch))[batch.isnull().sum() / len(batch) > 0])\n",
    "for x, y in sorted(null_percents.items()):\n",
    "    print(x, y, sep='\\n')\n",
    "    \n",
    "not_null_weights = dict(null_percents)\n",
    "\n",
    "# lowering weights by one thousandth of decimal\n",
    "for key, weight in not_null_weights.items():\n",
    "    not_null_weights[key] = round((weight - 0.015), 4)\n",
    "    \n",
    "print('---------------------------------------')\n",
    "print('not null weights:')\n",
    "for x, y in sorted(not_null_weights.items()):\n",
    "    print(x,y)"
   ]
  },
  {
   "cell_type": "code",
   "execution_count": 244,
   "metadata": {},
   "outputs": [],
   "source": [
    "null_col_weights = {'CASE_COMMENTS': 0.99, 'CASE_ID': 0.94, 'CASE_RESOLUTION': 0.99, 'CASE_SUMMARY': 0.75,\n",
    "\t                    'CLIENT_ID': 0.99, 'COMPLAINT_CATEGORY': 0.75, 'COMPLAINT_REASON': 0.75,\n",
    "\t                    'COMPLAINT_REASON_DETAILS': 0.22, 'COMPLAINT_SUBJECT': 0.72, 'COMPLAINT_TYPE': 0.99,\n",
    "\t                    'TASK_ID': 0.93}"
   ]
  },
  {
   "cell_type": "code",
   "execution_count": 245,
   "metadata": {},
   "outputs": [
    {
     "name": "stdout",
     "output_type": "stream",
     "text": [
      "CASE_COMMENTS\n",
      "{'success': True, 'result': {'element_count': 21636, 'unexpected_count': 7, 'unexpected_percent': 0.032353484932519876, 'partial_unexpected_list': []}, 'expectation_config': {'expectation_type': 'expect_column_values_to_not_be_null', 'kwargs': {'column': 'CASE_COMMENTS', 'mostly': 0.99, 'result_format': 'SUMMARY'}}, 'exception_info': {'raised_exception': False, 'exception_message': None, 'exception_traceback': None}}\n",
      "CASE_ID\n",
      "{'success': True, 'result': {'element_count': 21636, 'unexpected_count': 918, 'unexpected_percent': 4.242928452579035, 'partial_unexpected_list': []}, 'expectation_config': {'expectation_type': 'expect_column_values_to_not_be_null', 'kwargs': {'column': 'CASE_ID', 'mostly': 0.94, 'result_format': 'SUMMARY'}}, 'exception_info': {'raised_exception': False, 'exception_message': None, 'exception_traceback': None}}\n",
      "CASE_RESOLUTION\n",
      "{'success': True, 'result': {'element_count': 21636, 'unexpected_count': 60, 'unexpected_percent': 0.27731558513588467, 'partial_unexpected_list': []}, 'expectation_config': {'expectation_type': 'expect_column_values_to_not_be_null', 'kwargs': {'column': 'CASE_RESOLUTION', 'mostly': 0.99, 'result_format': 'SUMMARY'}}, 'exception_info': {'raised_exception': False, 'exception_message': None, 'exception_traceback': None}}\n",
      "CASE_SUMMARY\n",
      "{'success': True, 'result': {'element_count': 21636, 'unexpected_count': 4845, 'unexpected_percent': 22.393233499722683, 'partial_unexpected_list': []}, 'expectation_config': {'expectation_type': 'expect_column_values_to_not_be_null', 'kwargs': {'column': 'CASE_SUMMARY', 'mostly': 0.75, 'result_format': 'SUMMARY'}}, 'exception_info': {'raised_exception': False, 'exception_message': None, 'exception_traceback': None}}\n",
      "CLIENT_ID\n",
      "{'success': True, 'result': {'element_count': 21636, 'unexpected_count': 25, 'unexpected_percent': 0.11554816047328527, 'partial_unexpected_list': []}, 'expectation_config': {'expectation_type': 'expect_column_values_to_not_be_null', 'kwargs': {'column': 'CLIENT_ID', 'mostly': 0.99, 'result_format': 'SUMMARY'}}, 'exception_info': {'raised_exception': False, 'exception_message': None, 'exception_traceback': None}}\n",
      "COMPLAINT_CATEGORY\n",
      "{'success': True, 'result': {'element_count': 21636, 'unexpected_count': 4650, 'unexpected_percent': 21.49195784803106, 'partial_unexpected_list': []}, 'expectation_config': {'expectation_type': 'expect_column_values_to_not_be_null', 'kwargs': {'column': 'COMPLAINT_CATEGORY', 'mostly': 0.75, 'result_format': 'SUMMARY'}}, 'exception_info': {'raised_exception': False, 'exception_message': None, 'exception_traceback': None}}\n",
      "COMPLAINT_REASON\n",
      "{'success': True, 'result': {'element_count': 21636, 'unexpected_count': 4719, 'unexpected_percent': 21.810870770937328, 'partial_unexpected_list': []}, 'expectation_config': {'expectation_type': 'expect_column_values_to_not_be_null', 'kwargs': {'column': 'COMPLAINT_REASON', 'mostly': 0.75, 'result_format': 'SUMMARY'}}, 'exception_info': {'raised_exception': False, 'exception_message': None, 'exception_traceback': None}}\n",
      "COMPLAINT_REASON_DETAILS\n",
      "{'success': True, 'result': {'element_count': 21636, 'unexpected_count': 16195, 'unexpected_percent': 74.8520983545942, 'partial_unexpected_list': []}, 'expectation_config': {'expectation_type': 'expect_column_values_to_not_be_null', 'kwargs': {'column': 'COMPLAINT_REASON_DETAILS', 'mostly': 0.22, 'result_format': 'SUMMARY'}}, 'exception_info': {'raised_exception': False, 'exception_message': None, 'exception_traceback': None}}\n",
      "COMPLAINT_SUBJECT\n",
      "{'success': True, 'result': {'element_count': 21636, 'unexpected_count': 5598, 'unexpected_percent': 25.873544093178037, 'partial_unexpected_list': []}, 'expectation_config': {'expectation_type': 'expect_column_values_to_not_be_null', 'kwargs': {'column': 'COMPLAINT_SUBJECT', 'mostly': 0.72, 'result_format': 'SUMMARY'}}, 'exception_info': {'raised_exception': False, 'exception_message': None, 'exception_traceback': None}}\n",
      "COMPLAINT_TYPE\n",
      "{'success': True, 'result': {'element_count': 21636, 'unexpected_count': 65, 'unexpected_percent': 0.30042521723054166, 'partial_unexpected_list': []}, 'expectation_config': {'expectation_type': 'expect_column_values_to_not_be_null', 'kwargs': {'column': 'COMPLAINT_TYPE', 'mostly': 0.99, 'result_format': 'SUMMARY'}}, 'exception_info': {'raised_exception': False, 'exception_message': None, 'exception_traceback': None}}\n",
      "TASK_ID\n",
      "{'success': True, 'result': {'element_count': 21636, 'unexpected_count': 1046, 'unexpected_percent': 4.834535034202256, 'partial_unexpected_list': []}, 'expectation_config': {'expectation_type': 'expect_column_values_to_not_be_null', 'kwargs': {'column': 'TASK_ID', 'mostly': 0.93, 'result_format': 'SUMMARY'}}, 'exception_info': {'raised_exception': False, 'exception_message': None, 'exception_traceback': None}}\n"
     ]
    }
   ],
   "source": [
    "for col, weight in null_col_weights.items():\n",
    "    print(col, batch.expect_column_values_to_not_be_null(col, mostly=weight, include_config=True,\n",
    "                                                           catch_exceptions=True,\n",
    "                                                           result_format='SUMMARY'), sep='\\n')"
   ]
  },
  {
   "cell_type": "markdown",
   "metadata": {},
   "source": [
    "### 5. Expecting column values to be in a set\n",
    "- COMPLAINT_CATEGORY\n",
    "- COMPLAINT_REASON\n",
    "- COMPLAINT_REASON_DETAILS\n",
    "- COMPLAINT_ORGIN\n",
    "- CASE_RESOLUTION\n",
    "- COMPLAINT_TYPE"
   ]
  },
  {
   "cell_type": "code",
   "execution_count": 134,
   "metadata": {},
   "outputs": [],
   "source": [
    "from snowflake.connector.converter_null import SnowflakeNoConverterToPython\n",
    "def snowflake_connector_to_df(query: str) -> pd.DataFrame:\n",
    "    sf_creds = load_credentials()\n",
    "    ctx = snowflake.connector.connect(\n",
    "        user=sf_creds['dsa_username'],\n",
    "        password=sf_creds['dsa_password'],\n",
    "        account=sf_creds['dsa_account'],\n",
    "        database=sf_creds['dsa_master_database'],\n",
    "        schema=sf_creds['dsa_schema'],\n",
    "        warehouse=sf_creds['dsa_warehouse'],\n",
    "        role=sf_creds['dsa_etl_role'],\n",
    "        converter_class=SnowflakeNoConverterToPython\n",
    "    )\n",
    "    cur = ctx.cursor()\n",
    "    try:\n",
    "        cur.execute(query)\n",
    "        df = cur.fetch_pandas_all()\n",
    "    finally:\n",
    "        cur.close()\n",
    "    return df"
   ]
  },
  {
   "cell_type": "code",
   "execution_count": 135,
   "metadata": {},
   "outputs": [],
   "source": [
    "from snowflake.connector.converter_null import SnowflakeNoConverterToPython\n",
    "def snowflake_connector_to_df(query: str) -> pd.DataFrame:\n",
    "    sf_creds = gda.load_credentials()\n",
    "    ctx = snowflake.connector.connect(\n",
    "        user=sf_creds['dsa_username'],\n",
    "        password=sf_creds['dsa_password'],\n",
    "        account=sf_creds['dsa_account'],\n",
    "        database=sf_creds['dsa_master_database'],\n",
    "        schema=sf_creds['dsa_schema'],\n",
    "        warehouse=sf_creds['dsa_warehouse'],\n",
    "        role=sf_creds['dsa_etl_role'],\n",
    "        converter_class=SnowflakeNoConverterToPython\n",
    "    )\n",
    "    cur = ctx.cursor()\n",
    "    try:\n",
    "        cur.execute(query)\n",
    "        df = cur.fetch_pandas_all()\n",
    "    finally:\n",
    "        cur.close()\n",
    "    return df"
   ]
  },
  {
   "cell_type": "code",
   "execution_count": 409,
   "metadata": {},
   "outputs": [],
   "source": [
    "master_categorical_columns = [\"COMPLAINT_CATEGORY\", \"COMPLAINT_REASON\", \"COMPLAINT_REASON_DETAILS\",\n",
    "                             \"COMPLAINT_ORIGIN\", \"CASE_RESOLUTION\", \"COMPLAINT_TYPE\"]\n",
    "def get_categorical_columns_values(df: Union[pd.DataFrame, PandasDataset], cols: list, table_name: str):\n",
    "    categorical_weights = {}\n",
    "    for col in cols:\n",
    "        unique_weights = df[col].value_counts(normalize=True) * 100\n",
    "        categorical_weights[col] = unique_weights.values.mean().round(5)\n",
    "        cat_weight_dict = {c:w for (c,w) in categorical_weights.items() \n",
    "                                    if w > 0.9 if (df[c].dtypes != bool and w != 50.0) \n",
    "                                    if c not in ['TASK_ID', 'task_id'] \n",
    "                                    if c not in ['CLIENT_ID', 'client_id']}\n",
    "    execute_strings = ' '.join(\n",
    "        f\"SELECT DISTINCT {col_name} FROM {table_name};\" for col_name in cat_weight_dict.keys())\n",
    "    \n",
    "    sf_creds = gda.load_credentials()\n",
    "    ctx = snowflake.connector.connect(\n",
    "    user=sf_creds['dsa_username'],\n",
    "    password=sf_creds['dsa_password'],\n",
    "    account=sf_creds['dsa_account'],\n",
    "    database=sf_creds['dsa_master_database'],\n",
    "    schema=sf_creds['dsa_schema'],\n",
    "    warehouse=sf_creds['dsa_warehouse'],\n",
    "    role=sf_creds['dsa_etl_role'])\n",
    "    \n",
    "    cursor_list = ctx.execute_string(execute_strings, remove_comments=True, return_cursors=True)\n",
    "    category_col_values = {}\n",
    "    for cur in cursor_list:\n",
    "        col_names = ','.join([col[0] for col in cur.description])\n",
    "        cat_values = [x[0] for x in cur.fetchall() if x[0]]\n",
    "        category_col_values[col_names] = cat_values\n",
    "    return category_col_values\n",
    "        \n",
    "\n",
    "dtest = get_categorical_columns_values(rule_df, master_column_names, 'customer_complaints')"
   ]
  },
  {
   "cell_type": "code",
   "execution_count": 422,
   "metadata": {
    "scrolled": true
   },
   "outputs": [
    {
     "name": "stdout",
     "output_type": "stream",
     "text": [
      "CASE_RESOLUTION 42\n",
      "COMPLAINT_CATEGORY 11\n",
      "COMPLAINT_ORIGIN 23\n",
      "COMPLAINT_REASON 89\n",
      "COMPLAINT_REASON_DETAILS 38\n",
      "COMPLAINT_TYPE 62\n"
     ]
    }
   ],
   "source": [
    "for x,y in dtest.items():\n",
    "    print(x, len(y))"
   ]
  },
  {
   "cell_type": "code",
   "execution_count": 419,
   "metadata": {},
   "outputs": [
    {
     "data": {
      "text/plain": [
       "[8, 73, 8, 13, 34, 39]"
      ]
     },
     "execution_count": 419,
     "metadata": {},
     "output_type": "execute_result"
    }
   ],
   "source": [
    "[len(x) for x in val_set_list]"
   ]
  },
  {
   "cell_type": "code",
   "execution_count": 248,
   "metadata": {},
   "outputs": [],
   "source": [
    "execute_strings = ' '.join(f\"SELECT DISTINCT {col} FROM customer_complaints;\" for col in cat_dict)"
   ]
  },
  {
   "cell_type": "code",
   "execution_count": 249,
   "metadata": {},
   "outputs": [
    {
     "data": {
      "text/plain": [
       "'SELECT DISTINCT CASE_RESOLUTION FROM customer_complaints; SELECT DISTINCT COMPLAINT_CATEGORY FROM customer_complaints; SELECT DISTINCT COMPLAINT_ORIGIN FROM customer_complaints; SELECT DISTINCT COMPLAINT_REASON FROM customer_complaints; SELECT DISTINCT COMPLAINT_REASON_DETAILS FROM customer_complaints; SELECT DISTINCT COMPLAINT_TYPE FROM customer_complaints;'"
      ]
     },
     "execution_count": 249,
     "metadata": {},
     "output_type": "execute_result"
    }
   ],
   "source": [
    "execute_strings"
   ]
  },
  {
   "cell_type": "code",
   "execution_count": 292,
   "metadata": {
    "scrolled": true
   },
   "outputs": [
    {
     "name": "stdout",
     "output_type": "stream",
     "text": [
      "42\n",
      "11\n",
      "23\n",
      "89\n",
      "38\n",
      "62\n"
     ]
    }
   ],
   "source": [
    "for v in category_col_values.values():\n",
    "    print(len(v))"
   ]
  },
  {
   "cell_type": "code",
   "execution_count": 269,
   "metadata": {},
   "outputs": [],
   "source": [
    "frames = []\n",
    "for cur in cursor_list:\n",
    "    df = cur.fetch_pandas_all()\n",
    "    frames.append(df)\n",
    "cat_df = pd.concat(frames)"
   ]
  },
  {
   "cell_type": "code",
   "execution_count": 272,
   "metadata": {},
   "outputs": [],
   "source": [
    "cat_df3 = cat_df.drop_duplicates()"
   ]
  },
  {
   "cell_type": "code",
   "execution_count": 271,
   "metadata": {},
   "outputs": [
    {
     "data": {
      "text/plain": [
       "12"
      ]
     },
     "execution_count": 271,
     "metadata": {},
     "output_type": "execute_result"
    }
   ],
   "source": [
    "cat_df.COMPLAINT_CATEGORY.nunique()"
   ]
  },
  {
   "cell_type": "code",
   "execution_count": 428,
   "metadata": {},
   "outputs": [],
   "source": [
    "val_set_list = []\n",
    "\n",
    "for col in master_categorical_columns:\n",
    "    list_sets = list(batch.get_column_value_counts(col, sort='count').keys())\n",
    "    val_set_list.append(list_sets)"
   ]
  },
  {
   "cell_type": "code",
   "execution_count": 429,
   "metadata": {},
   "outputs": [
    {
     "name": "stdout",
     "output_type": "stream",
     "text": [
      "COMPLAINT_CATEGORY 8\n",
      "COMPLAINT_REASON 73\n",
      "COMPLAINT_REASON_DETAILS 8\n",
      "COMPLAINT_ORIGIN 13\n",
      "CASE_RESOLUTION 34\n",
      "COMPLAINT_TYPE 39\n"
     ]
    }
   ],
   "source": [
    "for c, v in zip(master_categorical_columns, val_set_list):\n",
    "    print(c, len(v))"
   ]
  },
  {
   "cell_type": "code",
   "execution_count": 79,
   "metadata": {},
   "outputs": [
    {
     "name": "stdout",
     "output_type": "stream",
     "text": [
      "ORIGINAL_CLAIM_STATUS_CODE \n",
      " {'success': True, 'result': {'element_count': 2678943, 'missing_count': 0, 'missing_percent': 0.0, 'unexpected_count': 0, 'unexpected_percent': 0.0, 'unexpected_percent_nonmissing': 0.0, 'partial_unexpected_list': []}, 'expectation_config': {'expectation_type': 'expect_column_values_to_be_in_set', 'kwargs': {'column': 'ORIGINAL_CLAIM_STATUS_CODE', 'value_set': ['AP', 'DP', 'FC', 'FP', 'HD', 'IN', 'PA', 'PC', 'PD', 'PJ', 'SP', 'VD'], 'result_format': 'BASIC'}}, 'exception_info': {'raised_exception': False, 'exception_message': None, 'exception_traceback': None}} \n",
      "\n",
      "ORIGINAL_CLAIM_TYPE_CODE \n",
      " {'success': True, 'result': {'element_count': 2678943, 'missing_count': 0, 'missing_percent': 0.0, 'unexpected_count': 0, 'unexpected_percent': 0.0, 'unexpected_percent_nonmissing': 0.0, 'partial_unexpected_list': []}, 'expectation_config': {'expectation_type': 'expect_column_values_to_be_in_set', 'kwargs': {'column': 'ORIGINAL_CLAIM_TYPE_CODE', 'value_set': ['OWN', 'VND'], 'result_format': 'BASIC'}}, 'exception_info': {'raised_exception': False, 'exception_message': None, 'exception_traceback': None}} \n",
      "\n",
      "SERVICE_ID \n",
      " {'success': True, 'result': {'element_count': 2678943, 'missing_count': 0, 'missing_percent': 0.0, 'unexpected_count': 0, 'unexpected_percent': 0.0, 'unexpected_percent_nonmissing': 0.0, 'partial_unexpected_list': []}, 'expectation_config': {'expectation_type': 'expect_column_values_to_be_in_set', 'kwargs': {'column': 'SERVICE_ID', 'value_set': ['GOA', 'LOCK', 'Lock', 'NA', 'REPO', 'ROAD', 'Road', 'TOW', 'Tow', 'Winch', 'null', 'tow'], 'result_format': 'BASIC'}}, 'exception_info': {'raised_exception': False, 'exception_message': None, 'exception_traceback': None}} \n",
      "\n"
     ]
    }
   ],
   "source": [
    "for col, vals in zip(category_cols, val_set_list):\n",
    "    print(col, '\\n', batch.expect_column_values_to_be_in_set(col, vals, result_format='BASIC', \n",
    "                                        include_config=True, catch_exceptions=True), '\\n')"
   ]
  },
  {
   "cell_type": "code",
   "execution_count": 431,
   "metadata": {},
   "outputs": [],
   "source": [
    "pd.set_option('display.max_rows', 500)\n",
    "pd.set_option('display.max_columns', 500)\n",
    "pd.set_option('display.width', 1000)"
   ]
  },
  {
   "cell_type": "markdown",
   "metadata": {},
   "source": [
    "### 8. Determine if columns are unique per row\n",
    "- CASE_ID, TASK_ID\n",
    "- CASE_ID\n",
    "- COMPLAINT_CASE_NUMBER"
   ]
  },
  {
   "cell_type": "code",
   "execution_count": 441,
   "metadata": {},
   "outputs": [
    {
     "name": "stdout",
     "output_type": "stream",
     "text": [
      "CASE_ID\n",
      "{'success': True, 'result': {'element_count': 21636, 'missing_count': 0, 'missing_percent': 0.0, 'unexpected_count': 0, 'unexpected_percent': 0.0, 'unexpected_percent_nonmissing': 0.0, 'partial_unexpected_list': []}}\n"
     ]
    }
   ],
   "source": [
    "print(c, batch.expect_column_values_to_be_unique(\"COMPLAINT_CASE_NUMBER\", result_format='BASIC'), sep='\\n')"
   ]
  },
  {
   "cell_type": "code",
   "execution_count": 442,
   "metadata": {},
   "outputs": [
    {
     "data": {
      "text/plain": [
       "{'success': True,\n",
       " 'result': {'element_count': 21636,\n",
       "  'missing_count': 918,\n",
       "  'missing_percent': 4.242928452579035,\n",
       "  'unexpected_count': 0,\n",
       "  'unexpected_percent': 0.0,\n",
       "  'unexpected_percent_nonmissing': 0.0,\n",
       "  'partial_unexpected_list': [],\n",
       "  'partial_unexpected_index_list': [],\n",
       "  'partial_unexpected_counts': []},\n",
       " 'expectation_config': {'expectation_type': 'expect_multicolumn_values_to_be_unique',\n",
       "  'kwargs': {'column_list': ['CASE_ID', 'TASK_ID'],\n",
       "   'result_format': 'SUMMARY'}},\n",
       " 'exception_info': {'raised_exception': False,\n",
       "  'exception_message': None,\n",
       "  'exception_traceback': None}}"
      ]
     },
     "execution_count": 442,
     "metadata": {},
     "output_type": "execute_result"
    }
   ],
   "source": [
    "batch.expect_multicolumn_values_to_be_unique(column_list=['CASE_ID', 'TASK_ID'], result_format='SUMMARY',\n",
    "                                            catch_exceptions=True, include_config=True)"
   ]
  },
  {
   "cell_type": "markdown",
   "metadata": {},
   "source": [
    "### 9. Looking at column A to be greater than column B\n",
    "- LAST_MODIFIED_TIME_UTC > CREATE_TIME_UTC"
   ]
  },
  {
   "cell_type": "code",
   "execution_count": 443,
   "metadata": {},
   "outputs": [
    {
     "data": {
      "text/plain": [
       "{'success': True,\n",
       " 'result': {'element_count': 21636,\n",
       "  'missing_count': 0,\n",
       "  'missing_percent': 0.0,\n",
       "  'unexpected_count': 0,\n",
       "  'unexpected_percent': 0.0,\n",
       "  'unexpected_percent_nonmissing': 0.0,\n",
       "  'partial_unexpected_list': [],\n",
       "  'partial_unexpected_index_list': [],\n",
       "  'partial_unexpected_counts': []},\n",
       " 'exception_info': {'raised_exception': False,\n",
       "  'exception_message': None,\n",
       "  'exception_traceback': None}}"
      ]
     },
     "execution_count": 443,
     "metadata": {},
     "output_type": "execute_result"
    }
   ],
   "source": [
    "batch.expect_column_pair_values_A_to_be_greater_than_B('LAST_MODIFIED_TIME_UTC', 'CREATE_TIME_UTC', \n",
    "                                                       ignore_row_if='either_value_is_missing', \n",
    "                                                       result_format='SUMMARY', catch_exceptions=True)"
   ]
  },
  {
   "cell_type": "code",
   "execution_count": 119,
   "metadata": {},
   "outputs": [
    {
     "data": {
      "text/plain": [
       "{'success': True,\n",
       " 'result': {'element_count': 2674621,\n",
       "  'missing_count': 66043,\n",
       "  'missing_percent': 2.4692470447214765,\n",
       "  'unexpected_count': 151,\n",
       "  'unexpected_percent': 0.005645659702813969,\n",
       "  'unexpected_percent_nonmissing': 0.005788594398940726,\n",
       "  'partial_unexpected_list': [['2019-10-16 14:39:34', '2019-11-15 05:00:00'],\n",
       "   ['2019-10-16 13:39:14', '2019-11-15 05:00:00'],\n",
       "   ['2019-12-17 05:10:42', '2019-12-17 05:10:42'],\n",
       "   ['2019-10-16 13:39:14', '2019-11-15 05:00:00'],\n",
       "   ['2019-10-16 13:39:14', '2019-11-15 05:00:00'],\n",
       "   ['2019-10-16 08:18:36', '2019-11-15 05:00:00'],\n",
       "   ['2019-10-16 13:39:14', '2019-11-15 05:00:00'],\n",
       "   ['2020-01-03 13:53:34', '2020-12-31 05:00:00'],\n",
       "   ['2019-12-15 05:01:23', '2019-12-15 05:01:23'],\n",
       "   ['2019-12-28 05:00:42', '2019-12-28 05:00:42'],\n",
       "   ['2020-01-03 13:53:34', '2020-12-31 05:00:00'],\n",
       "   ['2020-01-23 17:00:13', '2020-01-23 17:00:13'],\n",
       "   ['2020-01-01 05:14:15', '2020-01-01 05:14:15'],\n",
       "   ['2020-01-21 05:18:08', '2020-01-21 05:18:08'],\n",
       "   ['2020-01-03 13:53:34', '2020-12-31 05:00:00'],\n",
       "   ['2020-01-03 13:53:34', '2020-12-31 05:00:00'],\n",
       "   ['2020-01-03 13:53:34', '2020-12-31 05:00:00'],\n",
       "   ['2019-12-10 05:01:35', '2019-12-10 05:01:35'],\n",
       "   ['2019-12-03 17:01:17', '2019-12-03 17:01:17'],\n",
       "   ['2019-12-11 05:00:14', '2019-12-11 05:00:14']],\n",
       "  'partial_unexpected_index_list': [23824,\n",
       "   28101,\n",
       "   67430,\n",
       "   93802,\n",
       "   97354,\n",
       "   98439,\n",
       "   99350,\n",
       "   179071,\n",
       "   202605,\n",
       "   251124,\n",
       "   258736,\n",
       "   272666,\n",
       "   281170,\n",
       "   295319,\n",
       "   307419,\n",
       "   393698,\n",
       "   397883,\n",
       "   418420,\n",
       "   430306,\n",
       "   485865],\n",
       "  'partial_unexpected_counts': [{'value': ['2020-01-03 13:53:34',\n",
       "     '2020-12-31 05:00:00'],\n",
       "    'count': 30},\n",
       "   {'value': ['2019-10-16 13:39:14', '2019-11-15 05:00:00'], 'count': 19},\n",
       "   {'value': ['2019-10-16 14:39:34', '2019-11-15 05:00:00'], 'count': 10},\n",
       "   {'value': ['2019-10-16 08:18:36', '2019-11-15 05:00:00'], 'count': 2},\n",
       "   {'value': ['2019-11-01 04:00:12', '2019-11-01 04:00:12'], 'count': 1},\n",
       "   {'value': ['2019-11-14 05:00:37', '2019-11-14 05:00:37'], 'count': 1},\n",
       "   {'value': ['2019-11-22 05:00:39', '2019-11-22 05:00:39'], 'count': 1},\n",
       "   {'value': ['2019-12-03 17:01:17', '2019-12-03 17:01:17'], 'count': 1},\n",
       "   {'value': ['2019-12-10 05:01:35', '2019-12-10 05:01:35'], 'count': 1},\n",
       "   {'value': ['2019-12-11 05:00:14', '2019-12-11 05:00:14'], 'count': 1},\n",
       "   {'value': ['2019-12-15 05:01:23', '2019-12-15 05:01:23'], 'count': 1},\n",
       "   {'value': ['2019-12-17 05:10:42', '2019-12-17 05:10:42'], 'count': 1},\n",
       "   {'value': ['2019-12-28 05:00:42', '2019-12-28 05:00:42'], 'count': 1},\n",
       "   {'value': ['2020-01-01 05:14:15', '2020-01-01 05:14:15'], 'count': 1},\n",
       "   {'value': ['2020-01-03 13:53:41', '2020-12-31 05:00:00'], 'count': 1},\n",
       "   {'value': ['2020-01-21 05:18:08', '2020-01-21 05:18:08'], 'count': 1},\n",
       "   {'value': ['2020-01-23 17:00:13', '2020-01-23 17:00:13'], 'count': 1},\n",
       "   {'value': ['2020-02-07 05:12:05', '2020-02-07 05:12:05'], 'count': 1},\n",
       "   {'value': ['2020-02-10 05:00:42', '2020-02-10 05:00:42'], 'count': 1},\n",
       "   {'value': ['2020-02-13 05:10:30', '2020-02-13 05:10:30'], 'count': 1}]},\n",
       " 'exception_info': {'raised_exception': False,\n",
       "  'exception_message': None,\n",
       "  'exception_traceback': None}}"
      ]
     },
     "execution_count": 119,
     "metadata": {},
     "output_type": "execute_result"
    }
   ],
   "source": [
    "batch.expect_column_pair_values_A_to_be_greater_than_B('ORIGINAL_CLAIM_APPROVED_DATE_UTC', \n",
    "                                                       'ORIGINAL_CLAIM_SUBMITTED_DATE_UTC',\n",
    "                                                       mostly=0.99, ignore_row_if='either_value_is_missing', \n",
    "                                                       result_format='SUMMARY', catch_exceptions=True)"
   ]
  },
  {
   "cell_type": "code",
   "execution_count": 124,
   "metadata": {},
   "outputs": [
    {
     "data": {
      "text/plain": [
       "{'success': True,\n",
       " 'result': {'element_count': 2674621,\n",
       "  'missing_count': 2578267,\n",
       "  'missing_percent': 96.39747089400704,\n",
       "  'unexpected_count': 0,\n",
       "  'unexpected_percent': 0.0,\n",
       "  'unexpected_percent_nonmissing': 0.0,\n",
       "  'partial_unexpected_list': [],\n",
       "  'partial_unexpected_index_list': [],\n",
       "  'partial_unexpected_counts': []},\n",
       " 'exception_info': {'raised_exception': False,\n",
       "  'exception_message': None,\n",
       "  'exception_traceback': None}}"
      ]
     },
     "execution_count": 124,
     "metadata": {},
     "output_type": "execute_result"
    }
   ],
   "source": [
    "batch.expect_column_pair_values_A_to_be_greater_than_B('MODIFIED_DATE_UTC','ADDPAY_APPROVED_DATE_UTC',\n",
    "                                                       or_equal=True,\n",
    "                                                       ignore_row_if='either_value_is_missing', \n",
    "                                                       result_format='SUMMARY', catch_exceptions=True)"
   ]
  },
  {
   "cell_type": "markdown",
   "metadata": {},
   "source": [
    "### 8. Expecting columns to be certain data type"
   ]
  },
  {
   "cell_type": "code",
   "execution_count": 444,
   "metadata": {},
   "outputs": [
    {
     "data": {
      "text/plain": [
       "COMPLAINT_CASE_NUMBER                 object\n",
       "CASE_ID                              float64\n",
       "TASK_ID                              float64\n",
       "COMPLAINT_CATEGORY                    object\n",
       "COMPLAINT_REASON                      object\n",
       "COMPLAINT_REASON_DETAILS              object\n",
       "COMPLAINT_ORIGIN                      object\n",
       "IS_EXTERNAL_COMPLAINT                   bool\n",
       "CASE_COMMENTS                         object\n",
       "IS_CASE_CLOSED                          bool\n",
       "CASE_RESOLUTION                       object\n",
       "CASE_SUMMARY                          object\n",
       "IS_EXECUTIVE_ESCALATION                 bool\n",
       "IS_FROM_SOCIAL_MEDIA                    bool\n",
       "NAME                                  object\n",
       "COMPLAINT_TYPE                        object\n",
       "COMPLAINT_SUBJECT                     object\n",
       "CLIENT_ID                            float64\n",
       "CREATE_TIME_EASTERN           datetime64[ns]\n",
       "CREATE_TIME_UTC               datetime64[ns]\n",
       "LAST_MODIFIED_TIME_EASTERN    datetime64[ns]\n",
       "LAST_MODIFIED_TIME_UTC        datetime64[ns]\n",
       "dtype: object"
      ]
     },
     "execution_count": 444,
     "metadata": {},
     "output_type": "execute_result"
    }
   ],
   "source": [
    "rule_df.dtypes"
   ]
  },
  {
   "cell_type": "code",
   "execution_count": 445,
   "metadata": {},
   "outputs": [
    {
     "name": "stdout",
     "output_type": "stream",
     "text": [
      "COMPLAINT_CASE_NUMBER object\n",
      "CASE_ID float64\n",
      "TASK_ID float64\n",
      "COMPLAINT_CATEGORY object\n",
      "COMPLAINT_REASON object\n",
      "COMPLAINT_REASON_DETAILS object\n",
      "COMPLAINT_ORIGIN object\n",
      "IS_EXTERNAL_COMPLAINT bool\n",
      "CASE_COMMENTS object\n",
      "IS_CASE_CLOSED bool\n",
      "CASE_RESOLUTION object\n",
      "CASE_SUMMARY object\n",
      "IS_EXECUTIVE_ESCALATION bool\n",
      "IS_FROM_SOCIAL_MEDIA bool\n",
      "NAME object\n",
      "COMPLAINT_TYPE object\n",
      "COMPLAINT_SUBJECT object\n",
      "CLIENT_ID float64\n",
      "CREATE_TIME_EASTERN datetime64[ns]\n",
      "CREATE_TIME_UTC datetime64[ns]\n",
      "LAST_MODIFIED_TIME_EASTERN datetime64[ns]\n",
      "LAST_MODIFIED_TIME_UTC datetime64[ns]\n"
     ]
    }
   ],
   "source": [
    "for x, y in batch.dtypes.iteritems():\n",
    "    print(x, y)"
   ]
  },
  {
   "cell_type": "code",
   "execution_count": 446,
   "metadata": {},
   "outputs": [],
   "source": [
    "customer_complaints_data_types = dict(batch.dtypes.iteritems())"
   ]
  },
  {
   "cell_type": "code",
   "execution_count": 448,
   "metadata": {},
   "outputs": [],
   "source": [
    "for key, val in customer_complaints_data_types.items():\n",
    "    customer_complaints_data_types[key] = str(val)"
   ]
  },
  {
   "cell_type": "code",
   "execution_count": 451,
   "metadata": {},
   "outputs": [
    {
     "name": "stdout",
     "output_type": "stream",
     "text": [
      "{'COMPLAINT_CASE_NUMBER': 'object', 'CASE_ID': 'float64', 'TASK_ID': 'float64', 'COMPLAINT_CATEGORY': 'object', 'COMPLAINT_REASON': 'object', 'COMPLAINT_REASON_DETAILS': 'object', 'COMPLAINT_ORIGIN': 'object', 'IS_EXTERNAL_COMPLAINT': 'bool', 'CASE_COMMENTS': 'object', 'IS_CASE_CLOSED': 'bool', 'CASE_RESOLUTION': 'object', 'CASE_SUMMARY': 'object', 'IS_EXECUTIVE_ESCALATION': 'bool', 'IS_FROM_SOCIAL_MEDIA': 'bool', 'NAME': 'object', 'COMPLAINT_TYPE': 'object', 'COMPLAINT_SUBJECT': 'object', 'CLIENT_ID': 'float64', 'CREATE_TIME_EASTERN': 'datetime64[ns]', 'CREATE_TIME_UTC': 'datetime64[ns]', 'LAST_MODIFIED_TIME_EASTERN': 'datetime64[ns]', 'LAST_MODIFIED_TIME_UTC': 'datetime64[ns]'}\n"
     ]
    }
   ],
   "source": [
    "print(customer_complaints_data_types)"
   ]
  },
  {
   "cell_type": "code",
   "execution_count": 130,
   "metadata": {},
   "outputs": [
    {
     "name": "stdout",
     "output_type": "stream",
     "text": [
      "{'success': True, 'result': {'observed_value': 'int64'}, 'exception_info': {'raised_exception': False, 'exception_message': None, 'exception_traceback': None}}\n",
      "{'success': True, 'result': {'observed_value': 'int8'}, 'exception_info': {'raised_exception': False, 'exception_message': None, 'exception_traceback': None}}\n",
      "{'success': True, 'result': {'observed_value': 'object_'}, 'exception_info': {'raised_exception': False, 'exception_message': None, 'exception_traceback': None}}\n",
      "{'success': True, 'result': {'observed_value': 'int32'}, 'exception_info': {'raised_exception': False, 'exception_message': None, 'exception_traceback': None}}\n",
      "{'success': True, 'result': {'observed_value': 'float64'}, 'exception_info': {'raised_exception': False, 'exception_message': None, 'exception_traceback': None}}\n",
      "{'success': True, 'result': {'observed_value': 'float64'}, 'exception_info': {'raised_exception': False, 'exception_message': None, 'exception_traceback': None}}\n",
      "{'success': True, 'result': {'observed_value': 'float64'}, 'exception_info': {'raised_exception': False, 'exception_message': None, 'exception_traceback': None}}\n",
      "{'success': True, 'result': {'observed_value': 'object_'}, 'exception_info': {'raised_exception': False, 'exception_message': None, 'exception_traceback': None}}\n",
      "{'success': True, 'result': {'observed_value': 'object_'}, 'exception_info': {'raised_exception': False, 'exception_message': None, 'exception_traceback': None}}\n",
      "{'success': True, 'result': {'observed_value': 'float64'}, 'exception_info': {'raised_exception': False, 'exception_message': None, 'exception_traceback': None}}\n",
      "{'success': True, 'result': {'observed_value': 'float64'}, 'exception_info': {'raised_exception': False, 'exception_message': None, 'exception_traceback': None}}\n",
      "{'success': True, 'result': {'observed_value': 'float64'}, 'exception_info': {'raised_exception': False, 'exception_message': None, 'exception_traceback': None}}\n",
      "{'success': True, 'result': {'observed_value': 'float64'}, 'exception_info': {'raised_exception': False, 'exception_message': None, 'exception_traceback': None}}\n",
      "{'success': True, 'result': {'observed_value': 'object_'}, 'exception_info': {'raised_exception': False, 'exception_message': None, 'exception_traceback': None}}\n",
      "{'success': True, 'result': {'observed_value': 'bool_'}, 'exception_info': {'raised_exception': False, 'exception_message': None, 'exception_traceback': None}}\n",
      "{'success': True, 'result': {'observed_value': 'float64'}, 'exception_info': {'raised_exception': False, 'exception_message': None, 'exception_traceback': None}}\n",
      "{'success': True, 'result': {'observed_value': 'bool_'}, 'exception_info': {'raised_exception': False, 'exception_message': None, 'exception_traceback': None}}\n",
      "{'success': True, 'result': {'observed_value': 'float64'}, 'exception_info': {'raised_exception': False, 'exception_message': None, 'exception_traceback': None}}\n",
      "{'success': True, 'result': {'observed_value': 'object_'}, 'exception_info': {'raised_exception': False, 'exception_message': None, 'exception_traceback': None}}\n",
      "{'success': True, 'result': {'observed_value': 'int16'}, 'exception_info': {'raised_exception': False, 'exception_message': None, 'exception_traceback': None}}\n",
      "{'success': True, 'result': {'observed_value': 'float64'}, 'exception_info': {'raised_exception': False, 'exception_message': None, 'exception_traceback': None}}\n",
      "{'success': True, 'result': {'observed_value': 'object_'}, 'exception_info': {'raised_exception': False, 'exception_message': None, 'exception_traceback': None}}\n",
      "{'success': True, 'result': {'observed_value': 'float64'}, 'exception_info': {'raised_exception': False, 'exception_message': None, 'exception_traceback': None}}\n",
      "{'success': True, 'result': {'observed_value': 'float64'}, 'exception_info': {'raised_exception': False, 'exception_message': None, 'exception_traceback': None}}\n",
      "{'success': True, 'result': {'observed_value': 'float64'}, 'exception_info': {'raised_exception': False, 'exception_message': None, 'exception_traceback': None}}\n",
      "{'success': True, 'result': {'observed_value': 'float64'}, 'exception_info': {'raised_exception': False, 'exception_message': None, 'exception_traceback': None}}\n",
      "{'success': True, 'result': {'observed_value': 'bool_'}, 'exception_info': {'raised_exception': False, 'exception_message': None, 'exception_traceback': None}}\n",
      "{'success': True, 'result': {'observed_value': 'datetime64'}, 'exception_info': {'raised_exception': False, 'exception_message': None, 'exception_traceback': None}}\n",
      "{'success': True, 'result': {'observed_value': 'datetime64'}, 'exception_info': {'raised_exception': False, 'exception_message': None, 'exception_traceback': None}}\n",
      "{'success': True, 'result': {'observed_value': 'datetime64'}, 'exception_info': {'raised_exception': False, 'exception_message': None, 'exception_traceback': None}}\n",
      "{'success': True, 'result': {'observed_value': 'datetime64'}, 'exception_info': {'raised_exception': False, 'exception_message': None, 'exception_traceback': None}}\n",
      "{'success': True, 'result': {'observed_value': 'datetime64'}, 'exception_info': {'raised_exception': False, 'exception_message': None, 'exception_traceback': None}}\n",
      "{'success': True, 'result': {'observed_value': 'datetime64'}, 'exception_info': {'raised_exception': False, 'exception_message': None, 'exception_traceback': None}}\n",
      "{'success': True, 'result': {'observed_value': 'datetime64'}, 'exception_info': {'raised_exception': False, 'exception_message': None, 'exception_traceback': None}}\n",
      "{'success': True, 'result': {'observed_value': 'datetime64'}, 'exception_info': {'raised_exception': False, 'exception_message': None, 'exception_traceback': None}}\n",
      "{'success': True, 'result': {'observed_value': 'datetime64'}, 'exception_info': {'raised_exception': False, 'exception_message': None, 'exception_traceback': None}}\n",
      "{'success': True, 'result': {'observed_value': 'datetime64'}, 'exception_info': {'raised_exception': False, 'exception_message': None, 'exception_traceback': None}}\n",
      "{'success': True, 'result': {'observed_value': 'datetime64'}, 'exception_info': {'raised_exception': False, 'exception_message': None, 'exception_traceback': None}}\n",
      "{'success': True, 'result': {'observed_value': 'datetime64'}, 'exception_info': {'raised_exception': False, 'exception_message': None, 'exception_traceback': None}}\n"
     ]
    }
   ],
   "source": [
    "for col, typ in network_claims_data_types.items():\n",
    "    print(batch.expect_column_values_to_be_of_type(col, typ, result_format='SUMMARY', catch_exceptions=True))"
   ]
  },
  {
   "cell_type": "markdown",
   "metadata": {},
   "source": [
    "### Review the expectations\n",
    "\n",
    "Expectations that were true on this data batch were added. To view all the expectations you added so far about this data asset, do:"
   ]
  },
  {
   "cell_type": "code",
   "execution_count": 131,
   "metadata": {
    "scrolled": true
   },
   "outputs": [
    {
     "name": "stdout",
     "output_type": "stream",
     "text": [
      "2020-02-24T12:38:40-0500 - INFO - \t128 expectation(s) included in expectation_suite. Omitting 3 expectation(s) that failed when last run; set discard_failed_expectations=False to include them. result_format settings filtered.\n"
     ]
    },
    {
     "data": {
      "text/plain": [
       "{'data_asset_name': 'agero_dsa_pandas/default/network_claims',\n",
       " 'expectation_suite_name': 'warnings_2019Q4',\n",
       " 'meta': {'great_expectations.__version__': '0.8.8'},\n",
       " 'expectations': [{'expectation_type': 'expect_column_to_exist',\n",
       "   'kwargs': {'column': 'ADDCHARGE_AMOUNT'}},\n",
       "  {'expectation_type': 'expect_column_to_exist',\n",
       "   'kwargs': {'column': 'ADDCHARGE_COUNT'}},\n",
       "  {'expectation_type': 'expect_column_to_exist',\n",
       "   'kwargs': {'column': 'ADDCHARGE_DETAILS'}},\n",
       "  {'expectation_type': 'expect_column_to_exist',\n",
       "   'kwargs': {'column': 'ADDPAY_APPROVED_DATE_EASTERN'}},\n",
       "  {'expectation_type': 'expect_column_to_exist',\n",
       "   'kwargs': {'column': 'ADDPAY_APPROVED_DATE_UTC'}},\n",
       "  {'expectation_type': 'expect_column_to_exist',\n",
       "   'kwargs': {'column': 'ADDPAY_APPROVED_PAYMENT'}},\n",
       "  {'expectation_type': 'expect_column_to_exist',\n",
       "   'kwargs': {'column': 'ADDPAY_COUNT'}},\n",
       "  {'expectation_type': 'expect_column_to_exist',\n",
       "   'kwargs': {'column': 'ADDPAY_DETAILS'}},\n",
       "  {'expectation_type': 'expect_column_to_exist',\n",
       "   'kwargs': {'column': 'ADDPAY_PAYMENT_AMOUNT'}},\n",
       "  {'expectation_type': 'expect_column_to_exist',\n",
       "   'kwargs': {'column': 'ADDPAY_SUBMITTED_DATE_EASTERN'}},\n",
       "  {'expectation_type': 'expect_column_to_exist',\n",
       "   'kwargs': {'column': 'ADDPAY_SUBMITTED_DATE_UTC'}},\n",
       "  {'expectation_type': 'expect_column_to_exist',\n",
       "   'kwargs': {'column': 'BASE_TOTAL_FROM_RATES'}},\n",
       "  {'expectation_type': 'expect_column_to_exist',\n",
       "   'kwargs': {'column': 'CASE_ID'}},\n",
       "  {'expectation_type': 'expect_column_to_exist',\n",
       "   'kwargs': {'column': 'CLAIM_ID'}},\n",
       "  {'expectation_type': 'expect_column_to_exist',\n",
       "   'kwargs': {'column': 'CLAIM_PO_NUMBER_ENTERED'}},\n",
       "  {'expectation_type': 'expect_column_to_exist',\n",
       "   'kwargs': {'column': 'COMPLETE_APPROVED_PAYMENT'}},\n",
       "  {'expectation_type': 'expect_column_to_exist',\n",
       "   'kwargs': {'column': 'IS_CLAIM_APPROVED'}},\n",
       "  {'expectation_type': 'expect_column_to_exist',\n",
       "   'kwargs': {'column': 'IS_VCC'}},\n",
       "  {'expectation_type': 'expect_column_to_exist',\n",
       "   'kwargs': {'column': 'MODIFIED_DATE_EASTERN'}},\n",
       "  {'expectation_type': 'expect_column_to_exist',\n",
       "   'kwargs': {'column': 'MODIFIED_DATE_UTC'}},\n",
       "  {'expectation_type': 'expect_column_to_exist',\n",
       "   'kwargs': {'column': 'ORIGINAL_CLAIM_APPROVED_DATE_EASTERN'}},\n",
       "  {'expectation_type': 'expect_column_to_exist',\n",
       "   'kwargs': {'column': 'ORIGINAL_CLAIM_APPROVED_DATE_UTC'}},\n",
       "  {'expectation_type': 'expect_column_to_exist',\n",
       "   'kwargs': {'column': 'ORIGINAL_CLAIM_APPROVED_PAYMENT'}},\n",
       "  {'expectation_type': 'expect_column_to_exist',\n",
       "   'kwargs': {'column': 'ORIGINAL_CLAIM_PAYMENT_AMOUNT'}},\n",
       "  {'expectation_type': 'expect_column_to_exist',\n",
       "   'kwargs': {'column': 'ORIGINAL_CLAIM_STATUS_CODE'}},\n",
       "  {'expectation_type': 'expect_column_to_exist',\n",
       "   'kwargs': {'column': 'ORIGINAL_CLAIM_SUBMITTED_DATE_EASTERN'}},\n",
       "  {'expectation_type': 'expect_column_to_exist',\n",
       "   'kwargs': {'column': 'ORIGINAL_CLAIM_SUBMITTED_DATE_UTC'}},\n",
       "  {'expectation_type': 'expect_column_to_exist',\n",
       "   'kwargs': {'column': 'ORIGINAL_CLAIM_TYPE_CODE'}},\n",
       "  {'expectation_type': 'expect_column_to_exist',\n",
       "   'kwargs': {'column': 'SERVICE_DATE_EASTERN'}},\n",
       "  {'expectation_type': 'expect_column_to_exist',\n",
       "   'kwargs': {'column': 'SERVICE_DATE_UTC'}},\n",
       "  {'expectation_type': 'expect_column_to_exist',\n",
       "   'kwargs': {'column': 'SERVICE_ID'}},\n",
       "  {'expectation_type': 'expect_column_to_exist',\n",
       "   'kwargs': {'column': 'SUBMITTED_CLAIM_AMOUNT'}},\n",
       "  {'expectation_type': 'expect_column_to_exist',\n",
       "   'kwargs': {'column': 'SUBMITTED_ENROUTE_MILES'}},\n",
       "  {'expectation_type': 'expect_column_to_exist',\n",
       "   'kwargs': {'column': 'SUBMITTED_LABOR_HOURS'}},\n",
       "  {'expectation_type': 'expect_column_to_exist',\n",
       "   'kwargs': {'column': 'SUBMITTED_TOW_MILES'}},\n",
       "  {'expectation_type': 'expect_column_to_exist',\n",
       "   'kwargs': {'column': 'TASK_ID'}},\n",
       "  {'expectation_type': 'expect_column_to_exist',\n",
       "   'kwargs': {'column': 'VENDOR_ADDRESS_ID'}},\n",
       "  {'expectation_type': 'expect_column_to_exist',\n",
       "   'kwargs': {'column': 'VENDOR_ID'}},\n",
       "  {'expectation_type': 'expect_column_to_exist',\n",
       "   'kwargs': {'column': 'WAS_AUDITED'}},\n",
       "  {'expectation_type': 'expect_table_column_count_to_equal',\n",
       "   'kwargs': {'value': 39}},\n",
       "  {'expectation_type': 'expect_column_values_to_not_be_null',\n",
       "   'kwargs': {'column': 'CASE_ID'}},\n",
       "  {'expectation_type': 'expect_column_values_to_not_be_null',\n",
       "   'kwargs': {'column': 'TASK_ID'}},\n",
       "  {'expectation_type': 'expect_column_values_to_not_be_null',\n",
       "   'kwargs': {'column': 'VENDOR_ID'}},\n",
       "  {'expectation_type': 'expect_column_values_to_not_be_null',\n",
       "   'kwargs': {'column': 'CLAIM_ID'}},\n",
       "  {'expectation_type': 'expect_column_values_to_not_be_null',\n",
       "   'kwargs': {'column': 'ORIGINAL_CLAIM_PAYMENT_AMOUNT'}},\n",
       "  {'expectation_type': 'expect_column_values_to_not_be_null',\n",
       "   'kwargs': {'column': 'ORIGINAL_CLAIM_STATUS_CODE'}},\n",
       "  {'expectation_type': 'expect_column_values_to_not_be_null',\n",
       "   'kwargs': {'column': 'ORIGINAL_CLAIM_TYPE_CODE'}},\n",
       "  {'expectation_type': 'expect_column_values_to_not_be_null',\n",
       "   'kwargs': {'column': 'SUBMITTED_CLAIM_AMOUNT'}},\n",
       "  {'expectation_type': 'expect_column_values_to_not_be_null',\n",
       "   'kwargs': {'column': 'SERVICE_ID'}},\n",
       "  {'expectation_type': 'expect_column_values_to_not_be_null',\n",
       "   'kwargs': {'column': 'WAS_AUDITED'}},\n",
       "  {'expectation_type': 'expect_column_values_to_not_be_null',\n",
       "   'kwargs': {'column': 'IS_CLAIM_APPROVED'}},\n",
       "  {'expectation_type': 'expect_column_values_to_not_be_null',\n",
       "   'kwargs': {'column': 'ORIGINAL_CLAIM_APPROVED_PAYMENT'}},\n",
       "  {'expectation_type': 'expect_column_values_to_not_be_null',\n",
       "   'kwargs': {'column': 'ADDCHARGE_COUNT'}},\n",
       "  {'expectation_type': 'expect_column_values_to_not_be_null',\n",
       "   'kwargs': {'column': 'COMPLETE_APPROVED_PAYMENT'}},\n",
       "  {'expectation_type': 'expect_column_values_to_not_be_null',\n",
       "   'kwargs': {'column': 'IS_VCC'}},\n",
       "  {'expectation_type': 'expect_column_values_to_not_be_null',\n",
       "   'kwargs': {'column': 'SERVICE_DATE_EASTERN'}},\n",
       "  {'expectation_type': 'expect_column_values_to_not_be_null',\n",
       "   'kwargs': {'column': 'SERVICE_DATE_UTC'}},\n",
       "  {'expectation_type': 'expect_column_values_to_not_be_null',\n",
       "   'kwargs': {'column': 'MODIFIED_DATE_EASTERN'}},\n",
       "  {'expectation_type': 'expect_column_values_to_not_be_null',\n",
       "   'kwargs': {'column': 'MODIFIED_DATE_UTC'}},\n",
       "  {'expectation_type': 'expect_column_values_to_not_be_null',\n",
       "   'kwargs': {'column': 'VENDOR_ADDRESS_ID', 'mostly': 0.995}},\n",
       "  {'expectation_type': 'expect_column_values_to_not_be_null',\n",
       "   'kwargs': {'column': 'CLAIM_PO_NUMBER_ENTERED', 'mostly': 0.998}},\n",
       "  {'expectation_type': 'expect_column_values_to_not_be_null',\n",
       "   'kwargs': {'column': 'SUBMITTED_TOW_MILES', 'mostly': 0.977}},\n",
       "  {'expectation_type': 'expect_column_values_to_not_be_null',\n",
       "   'kwargs': {'column': 'SUBMITTED_ENROUTE_MILES', 'mostly': 0.993}},\n",
       "  {'expectation_type': 'expect_column_values_to_not_be_null',\n",
       "   'kwargs': {'column': 'SUBMITTED_LABOR_HOURS', 'mostly': 0.937}},\n",
       "  {'expectation_type': 'expect_column_values_to_not_be_null',\n",
       "   'kwargs': {'column': 'ADDCHARGE_AMOUNT', 'mostly': 0.194}},\n",
       "  {'expectation_type': 'expect_column_values_to_not_be_null',\n",
       "   'kwargs': {'column': 'ADDCHARGE_DETAILS', 'mostly': 0.194}},\n",
       "  {'expectation_type': 'expect_column_values_to_not_be_null',\n",
       "   'kwargs': {'column': 'BASE_TOTAL_FROM_RATES', 'mostly': 0.651}},\n",
       "  {'expectation_type': 'expect_column_values_to_not_be_null',\n",
       "   'kwargs': {'column': 'ADDPAY_DETAILS', 'mostly': 0.037}},\n",
       "  {'expectation_type': 'expect_column_values_to_not_be_null',\n",
       "   'kwargs': {'column': 'ADDPAY_COUNT', 'mostly': 0.037}},\n",
       "  {'expectation_type': 'expect_column_values_to_not_be_null',\n",
       "   'kwargs': {'column': 'ADDPAY_PAYMENT_AMOUNT', 'mostly': 0.037}},\n",
       "  {'expectation_type': 'expect_column_values_to_not_be_null',\n",
       "   'kwargs': {'column': 'ADDPAY_APPROVED_PAYMENT', 'mostly': 0.037}},\n",
       "  {'expectation_type': 'expect_column_values_to_not_be_null',\n",
       "   'kwargs': {'column': 'ORIGINAL_CLAIM_APPROVED_DATE_EASTERN',\n",
       "    'mostly': 0.976}},\n",
       "  {'expectation_type': 'expect_column_values_to_not_be_null',\n",
       "   'kwargs': {'column': 'ORIGINAL_CLAIM_APPROVED_DATE_UTC', 'mostly': 0.976}},\n",
       "  {'expectation_type': 'expect_column_values_to_not_be_null',\n",
       "   'kwargs': {'column': 'ORIGINAL_CLAIM_SUBMITTED_DATE_EASTERN',\n",
       "    'mostly': 0.998}},\n",
       "  {'expectation_type': 'expect_column_values_to_not_be_null',\n",
       "   'kwargs': {'column': 'ORIGINAL_CLAIM_SUBMITTED_DATE_UTC', 'mostly': 0.998}},\n",
       "  {'expectation_type': 'expect_column_values_to_not_be_null',\n",
       "   'kwargs': {'column': 'ADDPAY_APPROVED_DATE_EASTERN', 'mostly': 0.035}},\n",
       "  {'expectation_type': 'expect_column_values_to_not_be_null',\n",
       "   'kwargs': {'column': 'ADDPAY_APPROVED_DATE_UTC', 'mostly': 0.035}},\n",
       "  {'expectation_type': 'expect_column_values_to_not_be_null',\n",
       "   'kwargs': {'column': 'ADDPAY_SUBMITTED_DATE_EASTERN', 'mostly': 0.037}},\n",
       "  {'expectation_type': 'expect_column_values_to_not_be_null',\n",
       "   'kwargs': {'column': 'ADDPAY_SUBMITTED_DATE_UTC', 'mostly': 0.037}},\n",
       "  {'expectation_type': 'expect_column_values_to_be_in_set',\n",
       "   'kwargs': {'column': 'ORIGINAL_CLAIM_STATUS_CODE',\n",
       "    'value_set': ['AP',\n",
       "     'DP',\n",
       "     'FC',\n",
       "     'FP',\n",
       "     'HD',\n",
       "     'PC',\n",
       "     'PD',\n",
       "     'PJ',\n",
       "     'SP',\n",
       "     'VD']}},\n",
       "  {'expectation_type': 'expect_column_values_to_be_in_set',\n",
       "   'kwargs': {'column': 'ORIGINAL_CLAIM_TYPE_CODE',\n",
       "    'value_set': ['OWN', 'VND']}},\n",
       "  {'expectation_type': 'expect_column_values_to_be_in_set',\n",
       "   'kwargs': {'column': 'SERVICE_ID',\n",
       "    'value_set': ['GOA',\n",
       "     'LOCK',\n",
       "     'Lock',\n",
       "     'NA',\n",
       "     'REPO',\n",
       "     'ROAD',\n",
       "     'Road',\n",
       "     'TOW',\n",
       "     'Tow',\n",
       "     'null',\n",
       "     'tow']}},\n",
       "  {'expectation_type': 'expect_column_values_to_be_json_parseable',\n",
       "   'kwargs': {'column': 'ADDCHARGE_DETAILS', 'mostly': 0.98}},\n",
       "  {'expectation_type': 'expect_column_values_to_be_json_parseable',\n",
       "   'kwargs': {'column': 'ADDPAY_DETAILS', 'mostly': 0.98}},\n",
       "  {'expectation_type': 'expect_column_values_to_match_json_schema',\n",
       "   'kwargs': {'column': 'ADDPAY_DETAILS',\n",
       "    'json_schema': {'definitions': {},\n",
       "     '$schema': 'http://json-schema.org/draft-07/schema#',\n",
       "     '$id': 'http://example.com/root.json',\n",
       "     'type': ['array', 'null'],\n",
       "     'title': 'The Root Schema',\n",
       "     'items': {'$id': '#/items',\n",
       "      'type': ['object', 'null'],\n",
       "      'title': 'The Items Schema',\n",
       "      'required': ['addpay_approved_date',\n",
       "       'addpay_approved_payment_amount',\n",
       "       'addpay_claim_id',\n",
       "       'addpay_is_approved',\n",
       "       'addpay_payment_amount',\n",
       "       'addpay_submitted_date',\n",
       "       'addpay_task_id',\n",
       "       'addpay_vendor_id',\n",
       "       'original_claim_amount_paid',\n",
       "       'original_claim_amount_requested',\n",
       "       'original_claim_id',\n",
       "       'original_claim_vendor_id',\n",
       "       'service_date'],\n",
       "      'properties': {'addpay_approved_date': {'$id': '#/items/properties/addpay_approved_date',\n",
       "        'type': ['string', 'null'],\n",
       "        'format': 'date-time',\n",
       "        'title': 'The Addpay_approved_date Schema',\n",
       "        'default': '',\n",
       "        'examples': ['2019-02-20T04:02:00'],\n",
       "        'pattern': '^(.*)$'},\n",
       "       'addpay_approved_payment_amount': {'$id': '#/items/properties/addpay_approved_payment_amount',\n",
       "        'type': ['number', 'null'],\n",
       "        'title': 'The Addpay_approved_payment_amount Schema',\n",
       "        'default': 0,\n",
       "        'examples': [27]},\n",
       "       'addpay_claim_id': {'$id': '#/items/properties/addpay_claim_id',\n",
       "        'type': ['number', 'null'],\n",
       "        'title': 'The Addpay_claim_id Schema',\n",
       "        'default': 0,\n",
       "        'examples': [88551584]},\n",
       "       'addpay_is_approved': {'$id': '#/items/properties/addpay_is_approved',\n",
       "        'type': ['boolean', 'null'],\n",
       "        'title': 'The Addpay_is_approved Schema',\n",
       "        'default': False,\n",
       "        'examples': [True]},\n",
       "       'addpay_payment_amount': {'$id': '#/items/properties/addpay_payment_amount',\n",
       "        'type': ['number', 'null'],\n",
       "        'title': 'The Addpay_payment_amount Schema',\n",
       "        'default': 0,\n",
       "        'examples': [27]},\n",
       "       'addpay_submitted_date': {'$id': '#/items/properties/addpay_submitted_date',\n",
       "        'type': ['string', 'null'],\n",
       "        'format': 'date-time',\n",
       "        'title': 'The Addpay_submitted_date Schema',\n",
       "        'default': '',\n",
       "        'examples': ['2019-02-19T00:00:00'],\n",
       "        'pattern': '^(.*)$'},\n",
       "       'addpay_task_id': {'$id': '#/items/properties/addpay_task_id',\n",
       "        'type': ['number', 'null'],\n",
       "        'title': 'The Addpay_task_id Schema',\n",
       "        'default': 0,\n",
       "        'examples': [2]},\n",
       "       'addpay_vendor_id': {'$id': '#/items/properties/addpay_vendor_id',\n",
       "        'type': ['string', 'null'],\n",
       "        'title': 'The Addpay_vendor_id Schema',\n",
       "        'default': '',\n",
       "        'examples': ['133573'],\n",
       "        'pattern': '^(.*)$'},\n",
       "       'original_claim_amount_paid': {'$id': '#/items/properties/original_claim_amount_paid',\n",
       "        'type': ['number', 'null'],\n",
       "        'title': 'The Original_claim_amount_paid Schema',\n",
       "        'default': 0.0,\n",
       "        'examples': [57.95]},\n",
       "       'original_claim_amount_requested': {'$id': '#/items/properties/original_claim_amount_requested',\n",
       "        'type': ['number', 'null'],\n",
       "        'title': 'The Original_claim_amount_requested Schema',\n",
       "        'default': 0,\n",
       "        'examples': [59]},\n",
       "       'original_claim_id': {'$id': '#/items/properties/original_claim_id',\n",
       "        'type': ['number', 'null'],\n",
       "        'title': 'The Original_claim_id Schema',\n",
       "        'default': 0,\n",
       "        'examples': [195082625]},\n",
       "       'original_claim_vendor_id': {'$id': '#/items/properties/original_claim_vendor_id',\n",
       "        'type': ['string', 'null'],\n",
       "        'title': 'The Original_claim_vendor_id Schema',\n",
       "        'default': '',\n",
       "        'examples': ['133573'],\n",
       "        'pattern': '^(.*)$'},\n",
       "       'service_date': {'$id': '#/items/properties/service_date',\n",
       "        'type': ['string', 'null'],\n",
       "        'format': 'date-time',\n",
       "        'title': 'The Service_date Schema',\n",
       "        'default': '',\n",
       "        'examples': ['2019-02-14T11:50:21'],\n",
       "        'pattern': '^(.*)$'}}}},\n",
       "    'mostly': 0.92}},\n",
       "  {'expectation_type': 'expect_column_values_to_match_json_schema',\n",
       "   'kwargs': {'column': 'ADDCHARGE_DETAILS',\n",
       "    'json_schema': {'definitions': {},\n",
       "     '$schema': 'http://json-schema.org/draft-07/schema#',\n",
       "     '$id': 'http://example.com/root.json',\n",
       "     'type': ['array', 'null'],\n",
       "     'title': 'The Root Schema',\n",
       "     'items': {'$id': '#/items',\n",
       "      'type': ['object', 'null'],\n",
       "      'title': 'The Items Schema',\n",
       "      'properties': {'addcharge_amount': {'$id': '#/items/properties/addcharge_amount',\n",
       "        'type': ['number', 'null'],\n",
       "        'title': 'The Addcharge_amount Schema'},\n",
       "       'addcharge_type': {'$id': '#/items/properties/addcharge_type',\n",
       "        'type': ['string', 'null'],\n",
       "        'title': 'The Addcharge_type Schema'}},\n",
       "      'additionalProperties': {'type': 'string'}}},\n",
       "    'mostly': 0.8}},\n",
       "  {'expectation_type': 'expect_multicolumn_values_to_be_unique',\n",
       "   'kwargs': {'column_list': ['CASE_ID', 'TASK_ID', 'VENDOR_ID']}},\n",
       "  {'expectation_type': 'expect_column_values_to_be_unique',\n",
       "   'kwargs': {'column': 'CLAIM_ID'}},\n",
       "  {'expectation_type': 'expect_column_pair_values_A_to_be_greater_than_B',\n",
       "   'kwargs': {'column_A': 'MODIFIED_DATE_UTC',\n",
       "    'column_B': 'ADDPAY_APPROVED_DATE_UTC',\n",
       "    'or_equal': True,\n",
       "    'ignore_row_if': 'either_value_is_missing'}},\n",
       "  {'expectation_type': 'expect_column_values_to_be_of_type',\n",
       "   'kwargs': {'column': 'CASE_ID', 'type_': 'int64'}},\n",
       "  {'expectation_type': 'expect_column_values_to_be_of_type',\n",
       "   'kwargs': {'column': 'TASK_ID', 'type_': 'int8'}},\n",
       "  {'expectation_type': 'expect_column_values_to_be_of_type',\n",
       "   'kwargs': {'column': 'VENDOR_ID', 'type_': 'object'}},\n",
       "  {'expectation_type': 'expect_column_values_to_be_of_type',\n",
       "   'kwargs': {'column': 'CLAIM_ID', 'type_': 'int32'}},\n",
       "  {'expectation_type': 'expect_column_values_to_be_of_type',\n",
       "   'kwargs': {'column': 'VENDOR_ADDRESS_ID', 'type_': 'float64'}},\n",
       "  {'expectation_type': 'expect_column_values_to_be_of_type',\n",
       "   'kwargs': {'column': 'CLAIM_PO_NUMBER_ENTERED', 'type_': 'float64'}},\n",
       "  {'expectation_type': 'expect_column_values_to_be_of_type',\n",
       "   'kwargs': {'column': 'ORIGINAL_CLAIM_PAYMENT_AMOUNT', 'type_': 'float64'}},\n",
       "  {'expectation_type': 'expect_column_values_to_be_of_type',\n",
       "   'kwargs': {'column': 'ORIGINAL_CLAIM_STATUS_CODE', 'type_': 'object'}},\n",
       "  {'expectation_type': 'expect_column_values_to_be_of_type',\n",
       "   'kwargs': {'column': 'ORIGINAL_CLAIM_TYPE_CODE', 'type_': 'object'}},\n",
       "  {'expectation_type': 'expect_column_values_to_be_of_type',\n",
       "   'kwargs': {'column': 'SUBMITTED_CLAIM_AMOUNT', 'type_': 'float64'}},\n",
       "  {'expectation_type': 'expect_column_values_to_be_of_type',\n",
       "   'kwargs': {'column': 'SUBMITTED_TOW_MILES', 'type_': 'float64'}},\n",
       "  {'expectation_type': 'expect_column_values_to_be_of_type',\n",
       "   'kwargs': {'column': 'SUBMITTED_ENROUTE_MILES', 'type_': 'float64'}},\n",
       "  {'expectation_type': 'expect_column_values_to_be_of_type',\n",
       "   'kwargs': {'column': 'SUBMITTED_LABOR_HOURS', 'type_': 'float64'}},\n",
       "  {'expectation_type': 'expect_column_values_to_be_of_type',\n",
       "   'kwargs': {'column': 'SERVICE_ID', 'type_': 'object'}},\n",
       "  {'expectation_type': 'expect_column_values_to_be_of_type',\n",
       "   'kwargs': {'column': 'WAS_AUDITED', 'type_': 'bool'}},\n",
       "  {'expectation_type': 'expect_column_values_to_be_of_type',\n",
       "   'kwargs': {'column': 'ADDCHARGE_AMOUNT', 'type_': 'float64'}},\n",
       "  {'expectation_type': 'expect_column_values_to_be_of_type',\n",
       "   'kwargs': {'column': 'IS_CLAIM_APPROVED', 'type_': 'bool'}},\n",
       "  {'expectation_type': 'expect_column_values_to_be_of_type',\n",
       "   'kwargs': {'column': 'ORIGINAL_CLAIM_APPROVED_PAYMENT',\n",
       "    'type_': 'float64'}},\n",
       "  {'expectation_type': 'expect_column_values_to_be_of_type',\n",
       "   'kwargs': {'column': 'ADDCHARGE_DETAILS', 'type_': 'object'}},\n",
       "  {'expectation_type': 'expect_column_values_to_be_of_type',\n",
       "   'kwargs': {'column': 'ADDCHARGE_COUNT', 'type_': 'int16'}},\n",
       "  {'expectation_type': 'expect_column_values_to_be_of_type',\n",
       "   'kwargs': {'column': 'BASE_TOTAL_FROM_RATES', 'type_': 'float64'}},\n",
       "  {'expectation_type': 'expect_column_values_to_be_of_type',\n",
       "   'kwargs': {'column': 'ADDPAY_DETAILS', 'type_': 'object'}},\n",
       "  {'expectation_type': 'expect_column_values_to_be_of_type',\n",
       "   'kwargs': {'column': 'ADDPAY_COUNT', 'type_': 'float64'}},\n",
       "  {'expectation_type': 'expect_column_values_to_be_of_type',\n",
       "   'kwargs': {'column': 'ADDPAY_PAYMENT_AMOUNT', 'type_': 'float64'}},\n",
       "  {'expectation_type': 'expect_column_values_to_be_of_type',\n",
       "   'kwargs': {'column': 'ADDPAY_APPROVED_PAYMENT', 'type_': 'float64'}},\n",
       "  {'expectation_type': 'expect_column_values_to_be_of_type',\n",
       "   'kwargs': {'column': 'COMPLETE_APPROVED_PAYMENT', 'type_': 'float64'}},\n",
       "  {'expectation_type': 'expect_column_values_to_be_of_type',\n",
       "   'kwargs': {'column': 'IS_VCC', 'type_': 'bool'}},\n",
       "  {'expectation_type': 'expect_column_values_to_be_of_type',\n",
       "   'kwargs': {'column': 'ORIGINAL_CLAIM_APPROVED_DATE_EASTERN',\n",
       "    'type_': 'datetime64[ns]'}},\n",
       "  {'expectation_type': 'expect_column_values_to_be_of_type',\n",
       "   'kwargs': {'column': 'ORIGINAL_CLAIM_APPROVED_DATE_UTC',\n",
       "    'type_': 'datetime64[ns]'}},\n",
       "  {'expectation_type': 'expect_column_values_to_be_of_type',\n",
       "   'kwargs': {'column': 'SERVICE_DATE_EASTERN', 'type_': 'datetime64[ns]'}},\n",
       "  {'expectation_type': 'expect_column_values_to_be_of_type',\n",
       "   'kwargs': {'column': 'SERVICE_DATE_UTC', 'type_': 'datetime64[ns]'}},\n",
       "  {'expectation_type': 'expect_column_values_to_be_of_type',\n",
       "   'kwargs': {'column': 'ORIGINAL_CLAIM_SUBMITTED_DATE_EASTERN',\n",
       "    'type_': 'datetime64[ns]'}},\n",
       "  {'expectation_type': 'expect_column_values_to_be_of_type',\n",
       "   'kwargs': {'column': 'ORIGINAL_CLAIM_SUBMITTED_DATE_UTC',\n",
       "    'type_': 'datetime64[ns]'}},\n",
       "  {'expectation_type': 'expect_column_values_to_be_of_type',\n",
       "   'kwargs': {'column': 'ADDPAY_APPROVED_DATE_EASTERN',\n",
       "    'type_': 'datetime64[ns]'}},\n",
       "  {'expectation_type': 'expect_column_values_to_be_of_type',\n",
       "   'kwargs': {'column': 'ADDPAY_APPROVED_DATE_UTC',\n",
       "    'type_': 'datetime64[ns]'}},\n",
       "  {'expectation_type': 'expect_column_values_to_be_of_type',\n",
       "   'kwargs': {'column': 'ADDPAY_SUBMITTED_DATE_EASTERN',\n",
       "    'type_': 'datetime64[ns]'}},\n",
       "  {'expectation_type': 'expect_column_values_to_be_of_type',\n",
       "   'kwargs': {'column': 'ADDPAY_SUBMITTED_DATE_UTC',\n",
       "    'type_': 'datetime64[ns]'}},\n",
       "  {'expectation_type': 'expect_column_values_to_be_of_type',\n",
       "   'kwargs': {'column': 'MODIFIED_DATE_EASTERN', 'type_': 'datetime64[ns]'}},\n",
       "  {'expectation_type': 'expect_column_values_to_be_of_type',\n",
       "   'kwargs': {'column': 'MODIFIED_DATE_UTC', 'type_': 'datetime64[ns]'}}],\n",
       " 'data_asset_type': 'Dataset'}"
      ]
     },
     "execution_count": 131,
     "metadata": {},
     "output_type": "execute_result"
    }
   ],
   "source": [
    "batch.get_expectation_suite()"
   ]
  },
  {
   "cell_type": "code",
   "execution_count": 41,
   "metadata": {},
   "outputs": [
    {
     "name": "stdout",
     "output_type": "stream",
     "text": [
      "2020-01-31T18:26:29-0500 - INFO - \t64 expectation(s) included in expectation_suite. result_format settings filtered.\n"
     ]
    }
   ],
   "source": [
    "batch.save_expectation_suite()"
   ]
  },
  {
   "cell_type": "markdown",
   "metadata": {},
   "source": [
    "### You created and saved expectations for at least one of the data assets.\n",
    "\n",
    "### We will show you how to set up validation - the process of checking if new files of this type conform to your expectations before they are processed by your pipeline's code. \n",
    "\n",
    "### Go to [integrate_validation_into_pipeline.ipynb](integrate_validation_into_pipeline.ipynb) to proceed.\n",
    "\n",
    "\n"
   ]
  }
 ],
 "metadata": {
  "kernelspec": {
   "display_name": "Python 3",
   "language": "python",
   "name": "python3"
  },
  "language_info": {
   "codemirror_mode": {
    "name": "ipython",
    "version": 3
   },
   "file_extension": ".py",
   "mimetype": "text/x-python",
   "name": "python",
   "nbconvert_exporter": "python",
   "pygments_lexer": "ipython3",
   "version": "3.7.6"
  }
 },
 "nbformat": 4,
 "nbformat_minor": 4
}
