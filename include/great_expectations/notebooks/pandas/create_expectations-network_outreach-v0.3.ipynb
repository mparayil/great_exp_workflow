{
 "cells": [
  {
   "cell_type": "code",
   "execution_count": 1,
   "metadata": {},
   "outputs": [
    {
     "name": "stdout",
     "output_type": "stream",
     "text": [
      "2020-02-26T14:18:45-0500 - INFO - Great Expectations logging enabled at INFO level by JupyterUX module.\n"
     ]
    }
   ],
   "source": [
    "import os\n",
    "import json\n",
    "import sys\n",
    "import great_expectations as ge\n",
    "import great_expectations.jupyter_ux\n",
    "from datetime import datetime\n",
    "import math\n",
    "import pandas as pd\n",
    "os.chdir('/Users/mparayil/Desktop/Development/dsa-data-workflows/grtexp_agero_dsa/great_expectations')\n",
    "\n",
    "import ge_prod.ge_data_access as gda\n",
    "from ge_prod.queries import queries"
   ]
  },
  {
   "cell_type": "markdown",
   "metadata": {},
   "source": [
    "# Author Expectations\n",
    "\n"
   ]
  },
  {
   "cell_type": "markdown",
   "metadata": {},
   "source": [
    "[**Watch a short tutorial video**](https://docs.greatexpectations.io/en/latest/getting_started/create_expectations.html?utm_source=notebook&utm_medium=create_expectations#video)\n",
    "\n",
    "[**Read more in the tutorial**](https://docs.greatexpectations.io/en/latest/getting_started/create_expectations.html?utm_source=notebook&utm_medium=create_expectations)\n",
    "\n",
    "**Reach out for help on** [**Great Expectations Slack**](https://tinyurl.com/great-expectations-slack)\n"
   ]
  },
  {
   "cell_type": "markdown",
   "metadata": {},
   "source": [
    "### Get a DataContext object\n",
    "[Read more in the tutorial](https://great-expectations.readthedocs.io/en/latest/getting_started/create_expectations.html?utm_source=notebook&utm_medium=create_expectations#get-datacontext-object)\n",
    "\n",
    "\n"
   ]
  },
  {
   "cell_type": "code",
   "execution_count": 2,
   "metadata": {},
   "outputs": [
    {
     "name": "stdout",
     "output_type": "stream",
     "text": [
      "2020-02-26T14:18:47-0500 - INFO - Using project config: /Users/mparayil/Desktop/Development/dsa-data-workflows/grtexp_agero_dsa/great_expectations/great_expectations.yml\n"
     ]
    }
   ],
   "source": [
    "context = ge.data_context.DataContext()"
   ]
  },
  {
   "cell_type": "markdown",
   "metadata": {},
   "source": [
    "### List data assets in your project\n",
    "\n",
    "[Read more in the tutorial](https://docs.greatexpectations.io/en/latest/getting_started/create_expectations.html?utm_source=notebook&utm_medium=create_expectations#data-assets)\n"
   ]
  },
  {
   "cell_type": "code",
   "execution_count": 3,
   "metadata": {},
   "outputs": [
    {
     "name": "stdout",
     "output_type": "stream",
     "text": [
      "Inspecting your data sources. This may take a moment...\n"
     ]
    },
    {
     "data": {
      "text/html": [
       "<p>No data assets found in this data source.</p>\n",
       "<p>Read about how generators derive data assets from data sources:\n",
       "<a href=\"https://great-expectations.readthedocs.io/en/latest/how_to_add_data_source.html\">Data assets</a>\n",
       "</p>"
      ],
      "text/plain": [
       "<IPython.core.display.HTML object>"
      ]
     },
     "metadata": {},
     "output_type": "display_data"
    },
    {
     "data": {
      "text/html": [
       "<h2 style='margin: 0'>Datasource: agero_dsa_pandas (PandasDatasource)</h2>generator: default (SubdirReaderGenerator)"
      ],
      "text/plain": [
       "<IPython.core.display.HTML object>"
      ]
     },
     "metadata": {},
     "output_type": "display_data"
    }
   ],
   "source": [
    "great_expectations.jupyter_ux.list_available_data_asset_names(context)"
   ]
  },
  {
   "cell_type": "markdown",
   "metadata": {},
   "source": [
    "#### Pick one of the data asset names above and use as the value of data_asset_name argument below\n",
    "\n",
    "[Read more in the tutorial](https://docs.greatexpectations.io/en/latest/getting_started/create_expectations.html?utm_source=notebook&utm_medium=create_expectations#get-batch)\n"
   ]
  },
  {
   "cell_type": "markdown",
   "metadata": {},
   "source": [
    "### Specify data_asset & expectation_suite_name"
   ]
  },
  {
   "cell_type": "code",
   "execution_count": 4,
   "metadata": {},
   "outputs": [
    {
     "name": "stdout",
     "output_type": "stream",
     "text": [
      "NormalizedDataAssetName(datasource='agero_dsa_pandas', generator='default', generator_asset='network_outreach')\n"
     ]
    }
   ],
   "source": [
    "data_asset_name = 'network_outreach'\n",
    "normalized_data_asset_name = context.normalize_data_asset_name(data_asset_name)\n",
    "print(normalized_data_asset_name)"
   ]
  },
  {
   "cell_type": "markdown",
   "metadata": {},
   "source": [
    "### Create a new empty expectation suite"
   ]
  },
  {
   "cell_type": "code",
   "execution_count": 5,
   "metadata": {},
   "outputs": [],
   "source": [
    "expectation_suite_name = 'warnings_dec2019'\n",
    "# context.create_expectation_suite(data_asset_name=data_asset_name, expectation_suite_name=expectation_suite_name,\n",
    "#                                 overwrite_existing=False)"
   ]
  },
  {
   "cell_type": "markdown",
   "metadata": {},
   "source": [
    "### Get batch to create expectations against"
   ]
  },
  {
   "cell_type": "code",
   "execution_count": 6,
   "metadata": {},
   "outputs": [],
   "source": [
    "query = queries.get('network_outreach').get('create_expectations_dec2019')"
   ]
  },
  {
   "cell_type": "code",
   "execution_count": 7,
   "metadata": {},
   "outputs": [
    {
     "data": {
      "text/plain": [
       "\"SELECT * FROM network_outreach WHERE dispatch_request_time_utc >= to_date('2019-12-01') and dispatch_request_time_utc <= to_date('2019-12-31');\""
      ]
     },
     "execution_count": 7,
     "metadata": {},
     "output_type": "execute_result"
    }
   ],
   "source": [
    "query"
   ]
  },
  {
   "cell_type": "code",
   "execution_count": 8,
   "metadata": {},
   "outputs": [],
   "source": [
    "rule_df = gda.snowflake_connector_to_df(query)\n",
    "batch_kwargs = {'dataset': rule_df}"
   ]
  },
  {
   "cell_type": "code",
   "execution_count": 9,
   "metadata": {
    "scrolled": true
   },
   "outputs": [
    {
     "data": {
      "text/html": [
       "<div>\n",
       "<style scoped>\n",
       "    .dataframe tbody tr th:only-of-type {\n",
       "        vertical-align: middle;\n",
       "    }\n",
       "\n",
       "    .dataframe tbody tr th {\n",
       "        vertical-align: top;\n",
       "    }\n",
       "\n",
       "    .dataframe thead th {\n",
       "        text-align: right;\n",
       "    }\n",
       "</style>\n",
       "<table border=\"1\" class=\"dataframe\">\n",
       "  <thead>\n",
       "    <tr style=\"text-align: right;\">\n",
       "      <th></th>\n",
       "      <th>CASE_ID</th>\n",
       "      <th>TASK_ID</th>\n",
       "      <th>VENDOR_ID</th>\n",
       "      <th>VENDOR_ADDRESS_ID</th>\n",
       "      <th>VENDOR_CATEGORY</th>\n",
       "      <th>VENDOR_CANDIDATE_NUMBER</th>\n",
       "      <th>DISPATCH_RESPONSE</th>\n",
       "      <th>DISPATCH_RESPONSE_REASON</th>\n",
       "      <th>DISPATCH_TYPE</th>\n",
       "      <th>ENROUTE_MILES</th>\n",
       "      <th>...</th>\n",
       "      <th>VENDOR_PHONE</th>\n",
       "      <th>VENDOR_FAX</th>\n",
       "      <th>ETA_MINUTES</th>\n",
       "      <th>TOTAL_ETA_EXTENSION_MINUTES</th>\n",
       "      <th>TOTAL_ETA_EXTENSION_COUNT</th>\n",
       "      <th>IS_DISPATCHED_VENDOR</th>\n",
       "      <th>SERVICE_TIME_EASTERN</th>\n",
       "      <th>SERVICE_TIME_UTC</th>\n",
       "      <th>DISPATCH_REQUEST_TIME_EASTERN</th>\n",
       "      <th>DISPATCH_REQUEST_TIME_UTC</th>\n",
       "    </tr>\n",
       "  </thead>\n",
       "  <tbody>\n",
       "    <tr>\n",
       "      <th>0</th>\n",
       "      <td>2295319688</td>\n",
       "      <td>1</td>\n",
       "      <td>52998</td>\n",
       "      <td>1</td>\n",
       "      <td>D</td>\n",
       "      <td>3</td>\n",
       "      <td>REFUSED</td>\n",
       "      <td>Do not have the proper equipment at this time</td>\n",
       "      <td>dispatch_bot</td>\n",
       "      <td>34.71</td>\n",
       "      <td>...</td>\n",
       "      <td>6087845872</td>\n",
       "      <td>6087840727</td>\n",
       "      <td>NaN</td>\n",
       "      <td>0.0</td>\n",
       "      <td>0</td>\n",
       "      <td>False</td>\n",
       "      <td>2019-12-30 12:30:55</td>\n",
       "      <td>2019-12-30 17:30:55</td>\n",
       "      <td>2019-12-30 12:34:14</td>\n",
       "      <td>2019-12-30 17:34:14</td>\n",
       "    </tr>\n",
       "    <tr>\n",
       "      <th>1</th>\n",
       "      <td>2295282365</td>\n",
       "      <td>1</td>\n",
       "      <td>113002</td>\n",
       "      <td>1</td>\n",
       "      <td>D</td>\n",
       "      <td>9</td>\n",
       "      <td>ACCEPTED</td>\n",
       "      <td>Available</td>\n",
       "      <td>agent_call</td>\n",
       "      <td>33.35</td>\n",
       "      <td>...</td>\n",
       "      <td>8129239920</td>\n",
       "      <td>8129232820</td>\n",
       "      <td>90.0</td>\n",
       "      <td>0.0</td>\n",
       "      <td>0</td>\n",
       "      <td>True</td>\n",
       "      <td>2019-12-30 01:41:23</td>\n",
       "      <td>2019-12-30 06:41:23</td>\n",
       "      <td>2019-12-30 01:40:00</td>\n",
       "      <td>2019-12-30 06:40:00</td>\n",
       "    </tr>\n",
       "    <tr>\n",
       "      <th>2</th>\n",
       "      <td>2295324153</td>\n",
       "      <td>1</td>\n",
       "      <td>24485</td>\n",
       "      <td>1</td>\n",
       "      <td>PA</td>\n",
       "      <td>1</td>\n",
       "      <td>REFUSED</td>\n",
       "      <td>Out of My Coverage Area</td>\n",
       "      <td>agent_call</td>\n",
       "      <td>4.64</td>\n",
       "      <td>...</td>\n",
       "      <td>8437622421</td>\n",
       "      <td>8437622422</td>\n",
       "      <td>NaN</td>\n",
       "      <td>0.0</td>\n",
       "      <td>0</td>\n",
       "      <td>False</td>\n",
       "      <td>2019-12-30 13:54:20</td>\n",
       "      <td>2019-12-30 18:54:20</td>\n",
       "      <td>2019-12-30 13:54:24</td>\n",
       "      <td>2019-12-30 18:54:24</td>\n",
       "    </tr>\n",
       "    <tr>\n",
       "      <th>3</th>\n",
       "      <td>2295336508</td>\n",
       "      <td>1</td>\n",
       "      <td>100519</td>\n",
       "      <td>1</td>\n",
       "      <td>PA</td>\n",
       "      <td>1</td>\n",
       "      <td>ACCEPTED</td>\n",
       "      <td>Available</td>\n",
       "      <td>edispatch</td>\n",
       "      <td>20.49</td>\n",
       "      <td>...</td>\n",
       "      <td>7027249000</td>\n",
       "      <td>7027249007</td>\n",
       "      <td>45.0</td>\n",
       "      <td>0.0</td>\n",
       "      <td>0</td>\n",
       "      <td>True</td>\n",
       "      <td>2019-12-30 14:23:27</td>\n",
       "      <td>2019-12-30 19:23:27</td>\n",
       "      <td>2019-12-30 14:23:31</td>\n",
       "      <td>2019-12-30 19:23:31</td>\n",
       "    </tr>\n",
       "    <tr>\n",
       "      <th>4</th>\n",
       "      <td>2295290956</td>\n",
       "      <td>1</td>\n",
       "      <td>123670</td>\n",
       "      <td>3</td>\n",
       "      <td>D</td>\n",
       "      <td>4</td>\n",
       "      <td>REFUSED</td>\n",
       "      <td>Out of My Coverage Area</td>\n",
       "      <td>agent_call</td>\n",
       "      <td>36.56</td>\n",
       "      <td>...</td>\n",
       "      <td>8106679400</td>\n",
       "      <td>None</td>\n",
       "      <td>NaN</td>\n",
       "      <td>0.0</td>\n",
       "      <td>0</td>\n",
       "      <td>False</td>\n",
       "      <td>2019-12-30 08:55:32</td>\n",
       "      <td>2019-12-30 13:55:32</td>\n",
       "      <td>2019-12-30 08:55:32</td>\n",
       "      <td>2019-12-30 13:55:32</td>\n",
       "    </tr>\n",
       "  </tbody>\n",
       "</table>\n",
       "<p>5 rows × 24 columns</p>\n",
       "</div>"
      ],
      "text/plain": [
       "      CASE_ID  TASK_ID VENDOR_ID  VENDOR_ADDRESS_ID VENDOR_CATEGORY  \\\n",
       "0  2295319688        1     52998                  1               D   \n",
       "1  2295282365        1    113002                  1               D   \n",
       "2  2295324153        1     24485                  1              PA   \n",
       "3  2295336508        1    100519                  1              PA   \n",
       "4  2295290956        1    123670                  3               D   \n",
       "\n",
       "   VENDOR_CANDIDATE_NUMBER DISPATCH_RESPONSE  \\\n",
       "0                        3           REFUSED   \n",
       "1                        9          ACCEPTED   \n",
       "2                        1           REFUSED   \n",
       "3                        1          ACCEPTED   \n",
       "4                        4           REFUSED   \n",
       "\n",
       "                        DISPATCH_RESPONSE_REASON DISPATCH_TYPE  ENROUTE_MILES  \\\n",
       "0  Do not have the proper equipment at this time  dispatch_bot          34.71   \n",
       "1                                      Available    agent_call          33.35   \n",
       "2                        Out of My Coverage Area    agent_call           4.64   \n",
       "3                                      Available     edispatch          20.49   \n",
       "4                        Out of My Coverage Area    agent_call          36.56   \n",
       "\n",
       "   ... VENDOR_PHONE  VENDOR_FAX ETA_MINUTES TOTAL_ETA_EXTENSION_MINUTES  \\\n",
       "0  ...   6087845872  6087840727         NaN                         0.0   \n",
       "1  ...   8129239920  8129232820        90.0                         0.0   \n",
       "2  ...   8437622421  8437622422         NaN                         0.0   \n",
       "3  ...   7027249000  7027249007        45.0                         0.0   \n",
       "4  ...   8106679400        None         NaN                         0.0   \n",
       "\n",
       "  TOTAL_ETA_EXTENSION_COUNT IS_DISPATCHED_VENDOR  SERVICE_TIME_EASTERN  \\\n",
       "0                         0                False   2019-12-30 12:30:55   \n",
       "1                         0                 True   2019-12-30 01:41:23   \n",
       "2                         0                False   2019-12-30 13:54:20   \n",
       "3                         0                 True   2019-12-30 14:23:27   \n",
       "4                         0                False   2019-12-30 08:55:32   \n",
       "\n",
       "     SERVICE_TIME_UTC  DISPATCH_REQUEST_TIME_EASTERN  \\\n",
       "0 2019-12-30 17:30:55            2019-12-30 12:34:14   \n",
       "1 2019-12-30 06:41:23            2019-12-30 01:40:00   \n",
       "2 2019-12-30 18:54:20            2019-12-30 13:54:24   \n",
       "3 2019-12-30 19:23:27            2019-12-30 14:23:31   \n",
       "4 2019-12-30 13:55:32            2019-12-30 08:55:32   \n",
       "\n",
       "   DISPATCH_REQUEST_TIME_UTC  \n",
       "0        2019-12-30 17:34:14  \n",
       "1        2019-12-30 06:40:00  \n",
       "2        2019-12-30 18:54:24  \n",
       "3        2019-12-30 19:23:31  \n",
       "4        2019-12-30 13:55:32  \n",
       "\n",
       "[5 rows x 24 columns]"
      ]
     },
     "execution_count": 9,
     "metadata": {},
     "output_type": "execute_result"
    }
   ],
   "source": [
    "batch = context.get_batch(normalized_data_asset_name, expectation_suite_name=expectation_suite_name,\n",
    "                         batch_kwargs=batch_kwargs)\n",
    "batch.head()"
   ]
  },
  {
   "cell_type": "code",
   "execution_count": 10,
   "metadata": {},
   "outputs": [
    {
     "data": {
      "text/plain": [
       "great_expectations.dataset.pandas_dataset.PandasDataset"
      ]
     },
     "execution_count": 10,
     "metadata": {},
     "output_type": "execute_result"
    }
   ],
   "source": [
    "type(batch)"
   ]
  },
  {
   "cell_type": "code",
   "execution_count": 11,
   "metadata": {},
   "outputs": [
    {
     "name": "stdout",
     "output_type": "stream",
     "text": [
      "1991435\n"
     ]
    }
   ],
   "source": [
    "print(batch.get_row_count())"
   ]
  },
  {
   "cell_type": "code",
   "execution_count": 12,
   "metadata": {},
   "outputs": [
    {
     "name": "stdout",
     "output_type": "stream",
     "text": [
      "(1991435, 24)\n"
     ]
    }
   ],
   "source": [
    "print(rule_df.shape)"
   ]
  },
  {
   "cell_type": "code",
   "execution_count": 13,
   "metadata": {},
   "outputs": [],
   "source": [
    "# getting rule_df batchId & fingerprint\n",
    "rule_batch_fingerprint = batch.batch_fingerprint\n",
    "rule_batch_id = batch.batch_id"
   ]
  },
  {
   "cell_type": "code",
   "execution_count": 14,
   "metadata": {},
   "outputs": [
    {
     "name": "stdout",
     "output_type": "stream",
     "text": [
      "rule_batch_fingerprint:  \n",
      " {'partition_id': '20200226T191946.738015Z', 'fingerprint': 'e99420d7b7accce7c3d15c96ac6d68c5'}\n",
      "rule_batch_id:  \n",
      " {'timestamp': 1582744784.9986188, 'PandasInMemoryDF': True, 'fingerprint': 'ecc34d0d3b9f984866a2e747353f9dd8'}\n"
     ]
    }
   ],
   "source": [
    "print('rule_batch_fingerprint: ', '\\n', rule_batch_fingerprint)\n",
    "print('rule_batch_id: ', '\\n', rule_batch_id)"
   ]
  },
  {
   "cell_type": "markdown",
   "metadata": {},
   "source": [
    "## Author Expectations\n",
    "\n",
    "[Read more in the tutorial](https://docs.greatexpectations.io/en/latest/getting_started/create_expectations.html?utm_source=notebook&utm_medium=create_expectations#create-expectations)\n",
    "\n",
    "See available expectations in the [expectation glossary](https://docs.greatexpectations.io/en/latest/glossary.html?utm_source=notebook&utm_medium=create_expectations)\n"
   ]
  },
  {
   "cell_type": "markdown",
   "metadata": {},
   "source": [
    "### Dataset exploration & understanding of fields to ensure rules reflect behavior of data\n",
    "- Validating columns to exist in table shape\n",
    "- Expected column count in table shape\n",
    "- Expected set values to be seen in given column\n",
    "- Expected columns to have null or non-null values X percentage of the time\n",
    "- Expect column values to be of certain data type(s)\n",
    "- Placing max and min values limits on numerical columns\n",
    "- Average or median column value to be within a certain range\n",
    "- Expecting column A to be large/less than column B"
   ]
  },
  {
   "cell_type": "markdown",
   "metadata": {},
   "source": [
    "### 1. Validating to see if every column exists in table"
   ]
  },
  {
   "cell_type": "code",
   "execution_count": 15,
   "metadata": {},
   "outputs": [
    {
     "name": "stdout",
     "output_type": "stream",
     "text": [
      "['CASE_ID', 'TASK_ID', 'VENDOR_ID', 'VENDOR_ADDRESS_ID', 'VENDOR_CATEGORY', 'VENDOR_CANDIDATE_NUMBER', 'DISPATCH_RESPONSE', 'DISPATCH_RESPONSE_REASON', 'DISPATCH_TYPE', 'ENROUTE_MILES', 'VENDOR_NAME', 'VENDOR_ADDRESS_1', 'VENDOR_ADDRESS_2', 'VENDOR_ZIP', 'VENDOR_PHONE', 'VENDOR_FAX', 'ETA_MINUTES', 'TOTAL_ETA_EXTENSION_MINUTES', 'TOTAL_ETA_EXTENSION_COUNT', 'IS_DISPATCHED_VENDOR', 'SERVICE_TIME_EASTERN', 'SERVICE_TIME_UTC', 'DISPATCH_REQUEST_TIME_EASTERN', 'DISPATCH_REQUEST_TIME_UTC']\n"
     ]
    }
   ],
   "source": [
    "# add more expectations here\n",
    "column_names = batch.get_table_columns()\n",
    "print(column_names)"
   ]
  },
  {
   "cell_type": "code",
   "execution_count": 16,
   "metadata": {},
   "outputs": [
    {
     "name": "stdout",
     "output_type": "stream",
     "text": [
      "CASE_ID: {'success': True}\n",
      "TASK_ID: {'success': True}\n",
      "VENDOR_ID: {'success': True}\n",
      "VENDOR_ADDRESS_ID: {'success': True}\n",
      "VENDOR_CATEGORY: {'success': True}\n",
      "VENDOR_CANDIDATE_NUMBER: {'success': True}\n",
      "DISPATCH_RESPONSE: {'success': True}\n",
      "DISPATCH_RESPONSE_REASON: {'success': True}\n",
      "DISPATCH_TYPE: {'success': True}\n",
      "ENROUTE_MILES: {'success': True}\n",
      "VENDOR_NAME: {'success': True}\n",
      "VENDOR_ADDRESS_1: {'success': True}\n",
      "VENDOR_ADDRESS_2: {'success': True}\n",
      "VENDOR_ZIP: {'success': True}\n",
      "VENDOR_PHONE: {'success': True}\n",
      "VENDOR_FAX: {'success': True}\n",
      "ETA_MINUTES: {'success': True}\n",
      "TOTAL_ETA_EXTENSION_MINUTES: {'success': True}\n",
      "TOTAL_ETA_EXTENSION_COUNT: {'success': True}\n",
      "IS_DISPATCHED_VENDOR: {'success': True}\n",
      "SERVICE_TIME_EASTERN: {'success': True}\n",
      "SERVICE_TIME_UTC: {'success': True}\n",
      "DISPATCH_REQUEST_TIME_EASTERN: {'success': True}\n",
      "DISPATCH_REQUEST_TIME_UTC: {'success': True}\n"
     ]
    }
   ],
   "source": [
    "# add more expectations here\n",
    "for col in column_names:\n",
    "    print(col + ':',batch.expect_column_to_exist(col))"
   ]
  },
  {
   "cell_type": "markdown",
   "metadata": {},
   "source": [
    "### 2. Validating column count in table is always the same"
   ]
  },
  {
   "cell_type": "code",
   "execution_count": 17,
   "metadata": {},
   "outputs": [
    {
     "name": "stdout",
     "output_type": "stream",
     "text": [
      "# of columns in network_outreach:  24\n"
     ]
    },
    {
     "data": {
      "text/plain": [
       "(None,)"
      ]
     },
     "execution_count": 17,
     "metadata": {},
     "output_type": "execute_result"
    }
   ],
   "source": [
    "print('# of columns in network_outreach: ', len(column_names)), "
   ]
  },
  {
   "cell_type": "code",
   "execution_count": 18,
   "metadata": {},
   "outputs": [],
   "source": [
    "master_col_names = [\n",
    "\t\t'CASE_ID', 'TASK_ID', 'VENDOR_ID', 'VENDOR_ADDRESS_ID', 'VENDOR_CATEGORY',\n",
    "\t\t'VENDOR_CANDIDATE_NUMBER', 'DISPATCH_RESPONSE', 'DISPATCH_RESPONSE_REASON', 'DISPATCH_TYPE',\n",
    "\t\t'ENROUTE_MILES', 'SERVICE_TIME_EASTERN', 'SERVICE_TIME_UTC', 'DISPATCH_REQUEST_TIME_EASTERN',\n",
    "\t\t'DISPATCH_REQUEST_TIME_UTC', 'VENDOR_NAME', 'VENDOR_ADDRESS_1', 'VENDOR_ADDRESS_2',\n",
    "\t\t'VENDOR_ZIP', 'VENDOR_PHONE', 'VENDOR_FAX', 'ETA_MINUTES', 'TOTAL_ETA_EXTENSION_MINUTES',\n",
    "\t\t'TOTAL_ETA_EXTENSION_COUNT', 'IS_DISPATCHED_VENDOR'\n",
    "\t]"
   ]
  },
  {
   "cell_type": "code",
   "execution_count": 19,
   "metadata": {},
   "outputs": [
    {
     "data": {
      "text/plain": [
       "24"
      ]
     },
     "execution_count": 19,
     "metadata": {},
     "output_type": "execute_result"
    }
   ],
   "source": [
    "len(master_col_names)"
   ]
  },
  {
   "cell_type": "code",
   "execution_count": null,
   "metadata": {},
   "outputs": [],
   "source": [
    "if len(column_names) == 18:\n",
    "    print(batch.expect_table_column_count_to_equal(18, result_format='SUMMARY'))\n",
    "elif len(column_names) == 19:\n",
    "    print(batch.expect_table_column_count_to_equal(19, result_format='SUMMARY'))"
   ]
  },
  {
   "cell_type": "code",
   "execution_count": null,
   "metadata": {},
   "outputs": [],
   "source": [
    "# Looking at how often eta with 0 values occurs in the data\n",
    "\n",
    "print('eta values with 0 values: ', \n",
    "      rule_df[rule_df.eta == 0].shape[0] / rule_df.shape[0], 'percent of the time')"
   ]
  },
  {
   "cell_type": "code",
   "execution_count": null,
   "metadata": {},
   "outputs": [],
   "source": [
    "# looking at how often eta is missing in the data\n",
    "\n",
    "print('null eta values missing: ', \n",
    "      rule_df[rule_df.eta.isnull()].shape[0] / rule_df.shape[0], 'percent of the time')"
   ]
  },
  {
   "cell_type": "markdown",
   "metadata": {},
   "source": [
    "### 3. Checking which columns should not have null values"
   ]
  },
  {
   "cell_type": "code",
   "execution_count": 21,
   "metadata": {},
   "outputs": [
    {
     "name": "stdout",
     "output_type": "stream",
     "text": [
      "['case_id', 'task_id', 'vendor_id', 'vendor_address_id', 'eta', 'eta_extension', 'vendor_category', 'vendor_candidate_number', 'dispatch_response_description', 'dispatch_response_id', 'dispatch_response_reason', 'dispatch_type', 'task_status_code', 'enroute_miles', 'is_dispatch', 'service_time_eastern', 'service_time_utc', 'dispatch_request_time_eastern', 'dispatch_request_time_utc']\n"
     ]
    }
   ],
   "source": [
    "# identifying which columns should not be null\n",
    "print(column_names)"
   ]
  },
  {
   "cell_type": "code",
   "execution_count": 22,
   "metadata": {},
   "outputs": [
    {
     "data": {
      "text/plain": [
       "case_id                               0\n",
       "task_id                               0\n",
       "vendor_id                             0\n",
       "vendor_address_id                     0\n",
       "eta                              775689\n",
       "eta_extension                         0\n",
       "vendor_category                   24130\n",
       "vendor_candidate_number               0\n",
       "dispatch_response_description         0\n",
       "dispatch_response_id                  0\n",
       "dispatch_response_reason              0\n",
       "dispatch_type                         0\n",
       "task_status_code                      0\n",
       "enroute_miles                    100865\n",
       "is_dispatch                           0\n",
       "service_time_eastern                  0\n",
       "service_time_utc                      0\n",
       "dispatch_request_time_eastern         0\n",
       "dispatch_request_time_utc             0\n",
       "dtype: int64"
      ]
     },
     "execution_count": 22,
     "metadata": {},
     "output_type": "execute_result"
    }
   ],
   "source": [
    "rule_df.isnull().sum()"
   ]
  },
  {
   "cell_type": "code",
   "execution_count": 23,
   "metadata": {},
   "outputs": [],
   "source": [
    "# Separating null & non-null columns\n",
    "null_cols = list(rule_df.isnull().sum()[rule_df.isnull().sum() > 0].keys())\n",
    "not_null_cols = list(rule_df.isnull().sum()[rule_df.isnull().sum() == 0].keys())"
   ]
  },
  {
   "cell_type": "code",
   "execution_count": 24,
   "metadata": {},
   "outputs": [
    {
     "name": "stdout",
     "output_type": "stream",
     "text": [
      "case_id \n",
      " {'success': True, 'result': {'element_count': 2202075, 'unexpected_count': 0, 'unexpected_percent': 0.0, 'partial_unexpected_list': []}}\n",
      "task_id \n",
      " {'success': True, 'result': {'element_count': 2202075, 'unexpected_count': 0, 'unexpected_percent': 0.0, 'partial_unexpected_list': []}}\n",
      "vendor_id \n",
      " {'success': True, 'result': {'element_count': 2202075, 'unexpected_count': 0, 'unexpected_percent': 0.0, 'partial_unexpected_list': []}}\n",
      "vendor_address_id \n",
      " {'success': True, 'result': {'element_count': 2202075, 'unexpected_count': 0, 'unexpected_percent': 0.0, 'partial_unexpected_list': []}}\n",
      "eta_extension \n",
      " {'success': True, 'result': {'element_count': 2202075, 'unexpected_count': 0, 'unexpected_percent': 0.0, 'partial_unexpected_list': []}}\n",
      "vendor_candidate_number \n",
      " {'success': True, 'result': {'element_count': 2202075, 'unexpected_count': 0, 'unexpected_percent': 0.0, 'partial_unexpected_list': []}}\n",
      "dispatch_response_description \n",
      " {'success': True, 'result': {'element_count': 2202075, 'unexpected_count': 0, 'unexpected_percent': 0.0, 'partial_unexpected_list': []}}\n",
      "dispatch_response_id \n",
      " {'success': True, 'result': {'element_count': 2202075, 'unexpected_count': 0, 'unexpected_percent': 0.0, 'partial_unexpected_list': []}}\n",
      "dispatch_response_reason \n",
      " {'success': True, 'result': {'element_count': 2202075, 'unexpected_count': 0, 'unexpected_percent': 0.0, 'partial_unexpected_list': []}}\n",
      "dispatch_type \n",
      " {'success': True, 'result': {'element_count': 2202075, 'unexpected_count': 0, 'unexpected_percent': 0.0, 'partial_unexpected_list': []}}\n",
      "task_status_code \n",
      " {'success': True, 'result': {'element_count': 2202075, 'unexpected_count': 0, 'unexpected_percent': 0.0, 'partial_unexpected_list': []}}\n",
      "is_dispatch \n",
      " {'success': True, 'result': {'element_count': 2202075, 'unexpected_count': 0, 'unexpected_percent': 0.0, 'partial_unexpected_list': []}}\n",
      "service_time_eastern \n",
      " {'success': True, 'result': {'element_count': 2202075, 'unexpected_count': 0, 'unexpected_percent': 0.0, 'partial_unexpected_list': []}}\n",
      "service_time_utc \n",
      " {'success': True, 'result': {'element_count': 2202075, 'unexpected_count': 0, 'unexpected_percent': 0.0, 'partial_unexpected_list': []}}\n",
      "dispatch_request_time_eastern \n",
      " {'success': True, 'result': {'element_count': 2202075, 'unexpected_count': 0, 'unexpected_percent': 0.0, 'partial_unexpected_list': []}}\n",
      "dispatch_request_time_utc \n",
      " {'success': True, 'result': {'element_count': 2202075, 'unexpected_count': 0, 'unexpected_percent': 0.0, 'partial_unexpected_list': []}}\n"
     ]
    }
   ],
   "source": [
    "# checking for all columns that shouldn't be null are not\n",
    "for col in not_null_cols:\n",
    "    print(col, '\\n', batch.expect_column_values_to_not_be_null(col, result_format='BASIC'))"
   ]
  },
  {
   "cell_type": "markdown",
   "metadata": {},
   "source": [
    "### 4. Validating columns to have null values\n",
    "- **columns to check:**\n",
    "    - eta, vendor_category, and enroute_miles"
   ]
  },
  {
   "cell_type": "code",
   "execution_count": 25,
   "metadata": {},
   "outputs": [
    {
     "name": "stdout",
     "output_type": "stream",
     "text": [
      "eta                0.352254\n",
      "vendor_category    0.010958\n",
      "enroute_miles      0.045805\n",
      "dtype: float64\n",
      "---------------------------------------\n",
      "eta 0.352\n",
      "vendor_category 0.011\n",
      "enroute_miles 0.046\n"
     ]
    }
   ],
   "source": [
    "# grabbing percentage of values that are null by column\n",
    "null_percents = (rule_df.isnull().sum() / len(rule_df))[rule_df.isnull().sum() / len(rule_df) > 0]\n",
    "print(null_percents)\n",
    "print('---------------------------------------')\n",
    "for x, y in null_percents.iteritems():\n",
    "    print(x, round(y,3))"
   ]
  },
  {
   "cell_type": "code",
   "execution_count": 26,
   "metadata": {},
   "outputs": [
    {
     "name": "stdout",
     "output_type": "stream",
     "text": [
      "0.35\n",
      "0.01\n",
      "0.05\n"
     ]
    }
   ],
   "source": [
    "for weight in null_percents.values:\n",
    "    print(round(weight,2))"
   ]
  },
  {
   "cell_type": "code",
   "execution_count": 48,
   "metadata": {},
   "outputs": [
    {
     "data": {
      "text/html": [
       "<div>\n",
       "<style scoped>\n",
       "    .dataframe tbody tr th:only-of-type {\n",
       "        vertical-align: middle;\n",
       "    }\n",
       "\n",
       "    .dataframe tbody tr th {\n",
       "        vertical-align: top;\n",
       "    }\n",
       "\n",
       "    .dataframe thead th {\n",
       "        text-align: right;\n",
       "    }\n",
       "</style>\n",
       "<table border=\"1\" class=\"dataframe\">\n",
       "  <thead>\n",
       "    <tr style=\"text-align: right;\">\n",
       "      <th></th>\n",
       "      <th>CASE_ID</th>\n",
       "      <th>TASK_ID</th>\n",
       "      <th>VENDOR_ID</th>\n",
       "      <th>VENDOR_ADDRESS_ID</th>\n",
       "      <th>VENDOR_CATEGORY</th>\n",
       "      <th>VENDOR_CANDIDATE_NUMBER</th>\n",
       "      <th>DISPATCH_RESPONSE</th>\n",
       "      <th>DISPATCH_RESPONSE_REASON</th>\n",
       "      <th>DISPATCH_TYPE</th>\n",
       "      <th>ENROUTE_MILES</th>\n",
       "      <th>...</th>\n",
       "      <th>VENDOR_PHONE</th>\n",
       "      <th>VENDOR_FAX</th>\n",
       "      <th>ETA_MINUTES</th>\n",
       "      <th>TOTAL_ETA_EXTENSION_MINUTES</th>\n",
       "      <th>TOTAL_ETA_EXTENSION_COUNT</th>\n",
       "      <th>IS_DISPATCHED_VENDOR</th>\n",
       "      <th>SERVICE_TIME_EASTERN</th>\n",
       "      <th>SERVICE_TIME_UTC</th>\n",
       "      <th>DISPATCH_REQUEST_TIME_EASTERN</th>\n",
       "      <th>DISPATCH_REQUEST_TIME_UTC</th>\n",
       "    </tr>\n",
       "  </thead>\n",
       "  <tbody>\n",
       "    <tr>\n",
       "      <th>0</th>\n",
       "      <td>2295319688</td>\n",
       "      <td>1</td>\n",
       "      <td>52998</td>\n",
       "      <td>1</td>\n",
       "      <td>D</td>\n",
       "      <td>3</td>\n",
       "      <td>REFUSED</td>\n",
       "      <td>Do not have the proper equipment at this time</td>\n",
       "      <td>dispatch_bot</td>\n",
       "      <td>34.71</td>\n",
       "      <td>...</td>\n",
       "      <td>6087845872</td>\n",
       "      <td>6087840727</td>\n",
       "      <td>NaN</td>\n",
       "      <td>0.0</td>\n",
       "      <td>0</td>\n",
       "      <td>False</td>\n",
       "      <td>2019-12-30 12:30:55</td>\n",
       "      <td>2019-12-30 17:30:55</td>\n",
       "      <td>2019-12-30 12:34:14</td>\n",
       "      <td>2019-12-30 17:34:14</td>\n",
       "    </tr>\n",
       "    <tr>\n",
       "      <th>1</th>\n",
       "      <td>2295282365</td>\n",
       "      <td>1</td>\n",
       "      <td>113002</td>\n",
       "      <td>1</td>\n",
       "      <td>D</td>\n",
       "      <td>9</td>\n",
       "      <td>ACCEPTED</td>\n",
       "      <td>Available</td>\n",
       "      <td>agent_call</td>\n",
       "      <td>33.35</td>\n",
       "      <td>...</td>\n",
       "      <td>8129239920</td>\n",
       "      <td>8129232820</td>\n",
       "      <td>90.0</td>\n",
       "      <td>0.0</td>\n",
       "      <td>0</td>\n",
       "      <td>True</td>\n",
       "      <td>2019-12-30 01:41:23</td>\n",
       "      <td>2019-12-30 06:41:23</td>\n",
       "      <td>2019-12-30 01:40:00</td>\n",
       "      <td>2019-12-30 06:40:00</td>\n",
       "    </tr>\n",
       "    <tr>\n",
       "      <th>2</th>\n",
       "      <td>2295324153</td>\n",
       "      <td>1</td>\n",
       "      <td>24485</td>\n",
       "      <td>1</td>\n",
       "      <td>PA</td>\n",
       "      <td>1</td>\n",
       "      <td>REFUSED</td>\n",
       "      <td>Out of My Coverage Area</td>\n",
       "      <td>agent_call</td>\n",
       "      <td>4.64</td>\n",
       "      <td>...</td>\n",
       "      <td>8437622421</td>\n",
       "      <td>8437622422</td>\n",
       "      <td>NaN</td>\n",
       "      <td>0.0</td>\n",
       "      <td>0</td>\n",
       "      <td>False</td>\n",
       "      <td>2019-12-30 13:54:20</td>\n",
       "      <td>2019-12-30 18:54:20</td>\n",
       "      <td>2019-12-30 13:54:24</td>\n",
       "      <td>2019-12-30 18:54:24</td>\n",
       "    </tr>\n",
       "    <tr>\n",
       "      <th>3</th>\n",
       "      <td>2295336508</td>\n",
       "      <td>1</td>\n",
       "      <td>100519</td>\n",
       "      <td>1</td>\n",
       "      <td>PA</td>\n",
       "      <td>1</td>\n",
       "      <td>ACCEPTED</td>\n",
       "      <td>Available</td>\n",
       "      <td>edispatch</td>\n",
       "      <td>20.49</td>\n",
       "      <td>...</td>\n",
       "      <td>7027249000</td>\n",
       "      <td>7027249007</td>\n",
       "      <td>45.0</td>\n",
       "      <td>0.0</td>\n",
       "      <td>0</td>\n",
       "      <td>True</td>\n",
       "      <td>2019-12-30 14:23:27</td>\n",
       "      <td>2019-12-30 19:23:27</td>\n",
       "      <td>2019-12-30 14:23:31</td>\n",
       "      <td>2019-12-30 19:23:31</td>\n",
       "    </tr>\n",
       "    <tr>\n",
       "      <th>4</th>\n",
       "      <td>2295290956</td>\n",
       "      <td>1</td>\n",
       "      <td>123670</td>\n",
       "      <td>3</td>\n",
       "      <td>D</td>\n",
       "      <td>4</td>\n",
       "      <td>REFUSED</td>\n",
       "      <td>Out of My Coverage Area</td>\n",
       "      <td>agent_call</td>\n",
       "      <td>36.56</td>\n",
       "      <td>...</td>\n",
       "      <td>8106679400</td>\n",
       "      <td>None</td>\n",
       "      <td>NaN</td>\n",
       "      <td>0.0</td>\n",
       "      <td>0</td>\n",
       "      <td>False</td>\n",
       "      <td>2019-12-30 08:55:32</td>\n",
       "      <td>2019-12-30 13:55:32</td>\n",
       "      <td>2019-12-30 08:55:32</td>\n",
       "      <td>2019-12-30 13:55:32</td>\n",
       "    </tr>\n",
       "  </tbody>\n",
       "</table>\n",
       "<p>5 rows × 24 columns</p>\n",
       "</div>"
      ],
      "text/plain": [
       "      CASE_ID  TASK_ID VENDOR_ID  VENDOR_ADDRESS_ID VENDOR_CATEGORY  \\\n",
       "0  2295319688        1     52998                  1               D   \n",
       "1  2295282365        1    113002                  1               D   \n",
       "2  2295324153        1     24485                  1              PA   \n",
       "3  2295336508        1    100519                  1              PA   \n",
       "4  2295290956        1    123670                  3               D   \n",
       "\n",
       "   VENDOR_CANDIDATE_NUMBER DISPATCH_RESPONSE  \\\n",
       "0                        3           REFUSED   \n",
       "1                        9          ACCEPTED   \n",
       "2                        1           REFUSED   \n",
       "3                        1          ACCEPTED   \n",
       "4                        4           REFUSED   \n",
       "\n",
       "                        DISPATCH_RESPONSE_REASON DISPATCH_TYPE  ENROUTE_MILES  \\\n",
       "0  Do not have the proper equipment at this time  dispatch_bot          34.71   \n",
       "1                                      Available    agent_call          33.35   \n",
       "2                        Out of My Coverage Area    agent_call           4.64   \n",
       "3                                      Available     edispatch          20.49   \n",
       "4                        Out of My Coverage Area    agent_call          36.56   \n",
       "\n",
       "   ... VENDOR_PHONE  VENDOR_FAX ETA_MINUTES TOTAL_ETA_EXTENSION_MINUTES  \\\n",
       "0  ...   6087845872  6087840727         NaN                         0.0   \n",
       "1  ...   8129239920  8129232820        90.0                         0.0   \n",
       "2  ...   8437622421  8437622422         NaN                         0.0   \n",
       "3  ...   7027249000  7027249007        45.0                         0.0   \n",
       "4  ...   8106679400        None         NaN                         0.0   \n",
       "\n",
       "  TOTAL_ETA_EXTENSION_COUNT IS_DISPATCHED_VENDOR  SERVICE_TIME_EASTERN  \\\n",
       "0                         0                False   2019-12-30 12:30:55   \n",
       "1                         0                 True   2019-12-30 01:41:23   \n",
       "2                         0                False   2019-12-30 13:54:20   \n",
       "3                         0                 True   2019-12-30 14:23:27   \n",
       "4                         0                False   2019-12-30 08:55:32   \n",
       "\n",
       "     SERVICE_TIME_UTC  DISPATCH_REQUEST_TIME_EASTERN  \\\n",
       "0 2019-12-30 17:30:55            2019-12-30 12:34:14   \n",
       "1 2019-12-30 06:41:23            2019-12-30 01:40:00   \n",
       "2 2019-12-30 18:54:20            2019-12-30 13:54:24   \n",
       "3 2019-12-30 19:23:27            2019-12-30 14:23:31   \n",
       "4 2019-12-30 13:55:32            2019-12-30 08:55:32   \n",
       "\n",
       "   DISPATCH_REQUEST_TIME_UTC  \n",
       "0        2019-12-30 17:34:14  \n",
       "1        2019-12-30 06:40:00  \n",
       "2        2019-12-30 18:54:24  \n",
       "3        2019-12-30 19:23:31  \n",
       "4        2019-12-30 13:55:32  \n",
       "\n",
       "[5 rows x 24 columns]"
      ]
     },
     "execution_count": 48,
     "metadata": {},
     "output_type": "execute_result"
    }
   ],
   "source": [
    "rule_df.head()"
   ]
  },
  {
   "cell_type": "code",
   "execution_count": null,
   "metadata": {},
   "outputs": [],
   "source": [
    "# df.notnull().mean()\n",
    "# df.groupby(\"Team\").apply(lambda x: x.notnull().mean())\n",
    "# df.set_index(\"Team\").notnull().groupby(level=0).mean()"
   ]
  },
  {
   "cell_type": "code",
   "execution_count": null,
   "metadata": {},
   "outputs": [],
   "source": [
    "df.groupby(\"DISPATCH_REQUEST_TIME_UTC\").apply(lambda x: x.notnull().mean())"
   ]
  },
  {
   "cell_type": "code",
   "execution_count": 15,
   "metadata": {},
   "outputs": [],
   "source": [
    "df = rule_df.copy()"
   ]
  },
  {
   "cell_type": "code",
   "execution_count": 45,
   "metadata": {},
   "outputs": [],
   "source": [
    "from typing import Union\n",
    "from great_expectations.dataset import PandasDataset"
   ]
  },
  {
   "cell_type": "code",
   "execution_count": 211,
   "metadata": {},
   "outputs": [],
   "source": [
    "def get_df_not_null_weights(df: Union[pd.DataFrame, PandasDataset], date_col: str, not_null_col: str) -> float:\n",
    "    df_group = df.groupby(df[date_col].dt.day)\n",
    "    df_group = df_group.apply(lambda x: x[not_null_col].notnull().mean())\n",
    "    \n",
    "    original_weight = df_group.mean()\n",
    "    new_weight = round((original_weight - 0.05), 3)\n",
    "    if new_weight < 0:\n",
    "        final_weight = original_weight\n",
    "    else:\n",
    "        final_weight = new_weight\n",
    "    return float(final_weight)"
   ]
  },
  {
   "cell_type": "code",
   "execution_count": 212,
   "metadata": {},
   "outputs": [],
   "source": [
    "null_cols = ['VENDOR_CATEGORY', 'ENROUTE_MILES']"
   ]
  },
  {
   "cell_type": "code",
   "execution_count": 213,
   "metadata": {},
   "outputs": [],
   "source": [
    "w = get_df_not_null_weights(df, 'DISPATCH_REQUEST_TIME_UTC', 'ENROUTE_MILES')"
   ]
  },
  {
   "cell_type": "code",
   "execution_count": 217,
   "metadata": {},
   "outputs": [],
   "source": [
    "weight_cols = ['ETA_MINUTES', 'VENDOR_CATEGORY', 'ENROUTE_MILES']"
   ]
  },
  {
   "cell_type": "code",
   "execution_count": 219,
   "metadata": {},
   "outputs": [
    {
     "name": "stdout",
     "output_type": "stream",
     "text": [
      "ETA_MINUTES 0.547\n",
      "VENDOR_CATEGORY 0.939\n",
      "ENROUTE_MILES 0.904\n"
     ]
    }
   ],
   "source": [
    "for col in weight_cols:\n",
    "    s = get_df_not_null_weights(df, 'DISPATCH_REQUEST_TIME_UTC', col)\n",
    "    print(col, s)"
   ]
  },
  {
   "cell_type": "code",
   "execution_count": 182,
   "metadata": {
    "scrolled": true
   },
   "outputs": [],
   "source": [
    "g = df.groupby(df.DISPATCH_REQUEST_TIME_UTC.dt.day)\n",
    "g= g.apply(lambda x: x['VENDOR_CATEGORY'].notnull().mean())"
   ]
  },
  {
   "cell_type": "code",
   "execution_count": 187,
   "metadata": {},
   "outputs": [
    {
     "name": "stdout",
     "output_type": "stream",
     "text": [
      "0.979\n",
      "0.979\n"
     ]
    }
   ],
   "source": [
    "print(g.min().round(3))\n",
    "print(round(g.min(), 3))"
   ]
  },
  {
   "cell_type": "code",
   "execution_count": 20,
   "metadata": {},
   "outputs": [
    {
     "name": "stdout",
     "output_type": "stream",
     "text": [
      "VENDOR_CATEGORY\n",
      "0.9877234255700036\n",
      "ENROUTE_MILES\n",
      "0.9531393191341921\n",
      "VENDOR_ADDRESS_1\n",
      "0.9997057398308256\n",
      "VENDOR_ADDRESS_2\n",
      "0.006691657021193231\n",
      "VENDOR_ZIP\n",
      "0.9997057398308256\n",
      "VENDOR_PHONE\n",
      "0.9840748003324236\n",
      "VENDOR_FAX\n",
      "0.6389648670431121\n",
      "ETA_MINUTES\n",
      "0.5999472742017691\n",
      "---------------------------------------\n",
      "not null weights:\n",
      "VENDOR_CATEGORY 0.938\n",
      "ENROUTE_MILES 0.903\n",
      "VENDOR_ADDRESS_1 0.95\n",
      "VENDOR_ADDRESS_2 -0.043\n",
      "VENDOR_ZIP 0.95\n",
      "VENDOR_PHONE 0.934\n",
      "VENDOR_FAX 0.589\n",
      "ETA_MINUTES 0.55\n"
     ]
    }
   ],
   "source": [
    "# calculating weight for columns of how often they should be null\n",
    "null_percents = (1 - (batch.isnull().sum() / len(batch))[batch.isnull().sum() / len(batch) > 0])\n",
    "for x, y in null_percents.items():\n",
    "    print(x, y, sep='\\n')\n",
    "    \n",
    "not_null_weights = dict(null_percents)\n",
    "\n",
    "# lowering weights by one thousandth of decimal\n",
    "for key, original_weight in not_null_weights.items():\n",
    "    not_null_weights[key] = round((original_weight - 0.05), 3)\n",
    "    \n",
    "print('---------------------------------------')\n",
    "print('not null weights:')\n",
    "for x, y in not_null_weights.items():\n",
    "    print(x,y)"
   ]
  },
  {
   "cell_type": "code",
   "execution_count": 27,
   "metadata": {},
   "outputs": [],
   "source": [
    "# adjusting weights to mostly at this minimum\n",
    "weights = {'eta': 0.3, 'vendor_category': 0.01, 'enroute_miles': 0.04}"
   ]
  },
  {
   "cell_type": "code",
   "execution_count": 28,
   "metadata": {},
   "outputs": [
    {
     "name": "stdout",
     "output_type": "stream",
     "text": [
      "eta \n",
      " {'success': True, 'result': {'element_count': 2202075, 'unexpected_count': 1426386, 'unexpected_percent': 64.77463301658662, 'partial_unexpected_list': []}, 'expectation_config': {'expectation_type': 'expect_column_values_to_be_null', 'kwargs': {'column': 'eta', 'mostly': 0.3, 'result_format': 'BASIC'}}, 'exception_info': {'raised_exception': False, 'exception_message': None, 'exception_traceback': None}}\n",
      "vendor_category \n",
      " {'success': True, 'result': {'element_count': 2202075, 'unexpected_count': 2177945, 'unexpected_percent': 98.90421534234756, 'partial_unexpected_list': []}, 'expectation_config': {'expectation_type': 'expect_column_values_to_be_null', 'kwargs': {'column': 'vendor_category', 'mostly': 0.01, 'result_format': 'BASIC'}}, 'exception_info': {'raised_exception': False, 'exception_message': None, 'exception_traceback': None}}\n",
      "enroute_miles \n",
      " {'success': True, 'result': {'element_count': 2202075, 'unexpected_count': 2101210, 'unexpected_percent': 95.41954747227047, 'partial_unexpected_list': []}, 'expectation_config': {'expectation_type': 'expect_column_values_to_be_null', 'kwargs': {'column': 'enroute_miles', 'mostly': 0.04, 'result_format': 'BASIC'}}, 'exception_info': {'raised_exception': False, 'exception_message': None, 'exception_traceback': None}}\n"
     ]
    }
   ],
   "source": [
    "# validating columns that should be null with \n",
    "for col, weight in weights.items():\n",
    "    print(col, '\\n', batch.expect_column_values_to_be_null(col, mostly=weight, include_config=True,\n",
    "                                                           catch_exceptions=True,\n",
    "                                                           result_format='BASIC'))"
   ]
  },
  {
   "cell_type": "markdown",
   "metadata": {},
   "source": [
    "### 5. Expecting column values to be in a set\n",
    "- vendor_category\n",
    "- dispatch_response_description\n",
    "- dispatch_type\n",
    "- task_status_code"
   ]
  },
  {
   "cell_type": "code",
   "execution_count": 29,
   "metadata": {},
   "outputs": [
    {
     "data": {
      "text/html": [
       "<div>\n",
       "<style scoped>\n",
       "    .dataframe tbody tr th:only-of-type {\n",
       "        vertical-align: middle;\n",
       "    }\n",
       "\n",
       "    .dataframe tbody tr th {\n",
       "        vertical-align: top;\n",
       "    }\n",
       "\n",
       "    .dataframe thead th {\n",
       "        text-align: right;\n",
       "    }\n",
       "</style>\n",
       "<table border=\"1\" class=\"dataframe\">\n",
       "  <thead>\n",
       "    <tr style=\"text-align: right;\">\n",
       "      <th></th>\n",
       "      <th>case_id</th>\n",
       "      <th>task_id</th>\n",
       "      <th>vendor_id</th>\n",
       "      <th>vendor_address_id</th>\n",
       "      <th>eta</th>\n",
       "      <th>eta_extension</th>\n",
       "      <th>vendor_category</th>\n",
       "      <th>vendor_candidate_number</th>\n",
       "      <th>dispatch_response_description</th>\n",
       "      <th>dispatch_response_id</th>\n",
       "      <th>dispatch_response_reason</th>\n",
       "      <th>dispatch_type</th>\n",
       "      <th>task_status_code</th>\n",
       "      <th>enroute_miles</th>\n",
       "      <th>is_dispatch</th>\n",
       "      <th>service_time_eastern</th>\n",
       "      <th>service_time_utc</th>\n",
       "      <th>dispatch_request_time_eastern</th>\n",
       "      <th>dispatch_request_time_utc</th>\n",
       "    </tr>\n",
       "  </thead>\n",
       "  <tbody>\n",
       "    <tr>\n",
       "      <th>0</th>\n",
       "      <td>2.263692e+09</td>\n",
       "      <td>1</td>\n",
       "      <td>25795</td>\n",
       "      <td>1</td>\n",
       "      <td>45.0</td>\n",
       "      <td>0.0</td>\n",
       "      <td>PA</td>\n",
       "      <td>1.0</td>\n",
       "      <td>ACCEPTED</td>\n",
       "      <td>2</td>\n",
       "      <td>Available</td>\n",
       "      <td>edispatch</td>\n",
       "      <td>DCM</td>\n",
       "      <td>12.25</td>\n",
       "      <td>True</td>\n",
       "      <td>2019-01-07 09:40:45</td>\n",
       "      <td>2019-01-07 14:40:45</td>\n",
       "      <td>2019-01-07 09:40:47</td>\n",
       "      <td>2019-01-07 14:40:47</td>\n",
       "    </tr>\n",
       "    <tr>\n",
       "      <th>1</th>\n",
       "      <td>2.263695e+09</td>\n",
       "      <td>1</td>\n",
       "      <td>46182</td>\n",
       "      <td>1</td>\n",
       "      <td>0.0</td>\n",
       "      <td>0.0</td>\n",
       "      <td>None</td>\n",
       "      <td>1.0</td>\n",
       "      <td>OPEN</td>\n",
       "      <td>1</td>\n",
       "      <td>Available</td>\n",
       "      <td>agent_call</td>\n",
       "      <td>ADV</td>\n",
       "      <td>0.00</td>\n",
       "      <td>False</td>\n",
       "      <td>2019-01-07 10:00:56</td>\n",
       "      <td>2019-01-07 15:00:56</td>\n",
       "      <td>2019-01-07 10:00:57</td>\n",
       "      <td>2019-01-07 15:00:57</td>\n",
       "    </tr>\n",
       "    <tr>\n",
       "      <th>2</th>\n",
       "      <td>2.263703e+09</td>\n",
       "      <td>1</td>\n",
       "      <td>30957</td>\n",
       "      <td>1</td>\n",
       "      <td>50.0</td>\n",
       "      <td>0.0</td>\n",
       "      <td>PA</td>\n",
       "      <td>1.0</td>\n",
       "      <td>CANCELED</td>\n",
       "      <td>4</td>\n",
       "      <td>Customer Cancel</td>\n",
       "      <td>edispatch</td>\n",
       "      <td>CCAN</td>\n",
       "      <td>3.14</td>\n",
       "      <td>True</td>\n",
       "      <td>2019-01-07 11:02:27</td>\n",
       "      <td>2019-01-07 16:02:27</td>\n",
       "      <td>2019-01-07 11:02:29</td>\n",
       "      <td>2019-01-07 16:02:29</td>\n",
       "    </tr>\n",
       "    <tr>\n",
       "      <th>3</th>\n",
       "      <td>2.263704e+09</td>\n",
       "      <td>1</td>\n",
       "      <td>112537</td>\n",
       "      <td>1</td>\n",
       "      <td>75.0</td>\n",
       "      <td>0.0</td>\n",
       "      <td>PA2</td>\n",
       "      <td>2.0</td>\n",
       "      <td>ACCEPTED</td>\n",
       "      <td>2</td>\n",
       "      <td>Available</td>\n",
       "      <td>edispatch</td>\n",
       "      <td>DCM</td>\n",
       "      <td>10.62</td>\n",
       "      <td>True</td>\n",
       "      <td>2019-01-07 11:01:58</td>\n",
       "      <td>2019-01-07 16:01:58</td>\n",
       "      <td>2019-01-07 11:02:53</td>\n",
       "      <td>2019-01-07 16:02:53</td>\n",
       "    </tr>\n",
       "    <tr>\n",
       "      <th>4</th>\n",
       "      <td>2.263368e+09</td>\n",
       "      <td>1</td>\n",
       "      <td>45979</td>\n",
       "      <td>1</td>\n",
       "      <td>40.0</td>\n",
       "      <td>0.0</td>\n",
       "      <td>PA</td>\n",
       "      <td>1.0</td>\n",
       "      <td>ACCEPTED</td>\n",
       "      <td>2</td>\n",
       "      <td>Available</td>\n",
       "      <td>agent_call</td>\n",
       "      <td>DCM</td>\n",
       "      <td>22.23</td>\n",
       "      <td>True</td>\n",
       "      <td>2019-01-07 11:11:26</td>\n",
       "      <td>2019-01-07 16:11:26</td>\n",
       "      <td>2019-01-07 11:02:59</td>\n",
       "      <td>2019-01-07 16:02:59</td>\n",
       "    </tr>\n",
       "  </tbody>\n",
       "</table>\n",
       "</div>"
      ],
      "text/plain": [
       "        case_id  task_id vendor_id  vendor_address_id   eta  eta_extension  \\\n",
       "0  2.263692e+09        1     25795                  1  45.0            0.0   \n",
       "1  2.263695e+09        1     46182                  1   0.0            0.0   \n",
       "2  2.263703e+09        1     30957                  1  50.0            0.0   \n",
       "3  2.263704e+09        1    112537                  1  75.0            0.0   \n",
       "4  2.263368e+09        1     45979                  1  40.0            0.0   \n",
       "\n",
       "  vendor_category  vendor_candidate_number dispatch_response_description  \\\n",
       "0              PA                      1.0                      ACCEPTED   \n",
       "1            None                      1.0                          OPEN   \n",
       "2              PA                      1.0                      CANCELED   \n",
       "3             PA2                      2.0                      ACCEPTED   \n",
       "4              PA                      1.0                      ACCEPTED   \n",
       "\n",
       "   dispatch_response_id dispatch_response_reason dispatch_type  \\\n",
       "0                     2                Available     edispatch   \n",
       "1                     1                Available    agent_call   \n",
       "2                     4          Customer Cancel     edispatch   \n",
       "3                     2                Available     edispatch   \n",
       "4                     2                Available    agent_call   \n",
       "\n",
       "  task_status_code  enroute_miles  is_dispatch service_time_eastern  \\\n",
       "0              DCM          12.25         True  2019-01-07 09:40:45   \n",
       "1              ADV           0.00        False  2019-01-07 10:00:56   \n",
       "2             CCAN           3.14         True  2019-01-07 11:02:27   \n",
       "3              DCM          10.62         True  2019-01-07 11:01:58   \n",
       "4              DCM          22.23         True  2019-01-07 11:11:26   \n",
       "\n",
       "     service_time_utc dispatch_request_time_eastern dispatch_request_time_utc  \n",
       "0 2019-01-07 14:40:45           2019-01-07 09:40:47       2019-01-07 14:40:47  \n",
       "1 2019-01-07 15:00:56           2019-01-07 10:00:57       2019-01-07 15:00:57  \n",
       "2 2019-01-07 16:02:27           2019-01-07 11:02:29       2019-01-07 16:02:29  \n",
       "3 2019-01-07 16:01:58           2019-01-07 11:02:53       2019-01-07 16:02:53  \n",
       "4 2019-01-07 16:11:26           2019-01-07 11:02:59       2019-01-07 16:02:59  "
      ]
     },
     "execution_count": 29,
     "metadata": {},
     "output_type": "execute_result"
    }
   ],
   "source": [
    "batch.head()"
   ]
  },
  {
   "cell_type": "code",
   "execution_count": 216,
   "metadata": {},
   "outputs": [],
   "source": [
    "category_cols = ['vendor_category', 'dispatch_response_description', 'dispatch_type', 'task_status_code']"
   ]
  },
  {
   "cell_type": "code",
   "execution_count": 31,
   "metadata": {},
   "outputs": [
    {
     "name": "stdout",
     "output_type": "stream",
     "text": [
      "['AA', 'BST', 'D', 'DLROWN', 'DP', 'MT', 'PA', 'PA0', 'PA01', 'PA2', 'PA3', 'TP', 'UNLISTED SERVICE PROVIDER', 'UnListed Service Provider', 'Unknown', 'ZPB', 'ZPP', 'ZPS'] \n",
      "\n",
      "['ACCEPTED', 'CANCELED', 'OPEN', 'REFUSED'] \n",
      "\n",
      "['agent_call', 'dispatch_bot', 'edispatch'] \n",
      "\n",
      "['ADV', 'AGCN', 'CCAN', 'DA', 'DCM', 'DEC', 'DR', 'DS', 'HLD', 'IS', 'NCC', 'SCM', 'SPCN', 'SPI', 'SU', 'TCR'] \n",
      "\n"
     ]
    }
   ],
   "source": [
    "for col in category_cols:\n",
    "    print(list(batch.get_column_value_counts(col, sort='value').keys()), '\\n')"
   ]
  },
  {
   "cell_type": "code",
   "execution_count": 32,
   "metadata": {},
   "outputs": [
    {
     "name": "stdout",
     "output_type": "stream",
     "text": [
      "value\n",
      "Available                                        1043473\n",
      "Can Not Assist - Dealership Currently Closed           4\n",
      "Can not cross state lines                            765\n",
      "Can not transport customers                          809\n",
      "Code Black                                         99760\n",
      "Customer Cancel                                    59456\n",
      "Customer Rejected                                      2\n",
      "Customer Requested a Different Dealer                  2\n",
      "Do not accept customers form of payment             7694\n",
      "Do not have the proper equipment at this time      56966\n",
      "ETA Issues                                         35328\n",
      "ETA Issues-General                                 11976\n",
      "ETA over 90 minutes                                    2\n",
      "Equipment not in Fleet                             60098\n",
      "Hold by Customer                                    1256\n",
      "No longer offer that service                         573\n",
      "Other                                             109443\n",
      "Out of My Coverage Area                           316762\n",
      "Phone Busy                                             1\n",
      "Phone-Hold time over 1 min                             2\n",
      "Phone-No Answer                                       34\n",
      "Phone-No Contact                                  219597\n",
      "Phone-Page/Ans Mach/Svc                                6\n",
      "Phone-Wrong #/Area Code                             5471\n",
      "Refuses to service customer                            2\n",
      "Request for Phone call                              1572\n",
      "Request for extension of response time                 6\n",
      "Response Time Out                                  71513\n",
      "Restricted Roadway                                   761\n",
      "SP Cancel                                          14539\n",
      "SP Dissatisfied-Claims Payment Issue                1182\n",
      "SP Dissatisfied-Discontinued Services                751\n",
      "Service Unsuccessful                               25034\n",
      "ServiceSuccessful                                    929\n",
      "Skip Service Provider                              52511\n",
      "Tech - Do not stock Spares                             1\n",
      "Tech directs Tow                                       2\n",
      "Tech only in shop                                      7\n",
      "Unattended Service                                  1438\n",
      "Weather/Code Blue                                   2346\n",
      "Will not go to location                                1\n",
      "Name: count, dtype: int64\n"
     ]
    }
   ],
   "source": [
    "print(batch.get_column_value_counts('dispatch_response_reason', sort='value'))"
   ]
  },
  {
   "cell_type": "code",
   "execution_count": 33,
   "metadata": {},
   "outputs": [],
   "source": [
    "vc_set = list(batch.get_column_value_counts('vendor_category', sort='value').keys())\n",
    "drd_set = list(batch.get_column_value_counts('dispatch_response_description', sort='value').keys())\n",
    "dt_set = list(batch.get_column_value_counts('dispatch_type', sort='value').keys())\n",
    "tsc_set = list(batch.get_column_value_counts('task_status_code', sort='value').keys())\n",
    "\n",
    "val_set_list = []\n",
    "\n",
    "for col in category_cols:\n",
    "    list_sets = list(batch.get_column_value_counts(col, sort='value').keys())\n",
    "    val_set_list.append(list_sets)"
   ]
  },
  {
   "cell_type": "code",
   "execution_count": 34,
   "metadata": {},
   "outputs": [
    {
     "name": "stdout",
     "output_type": "stream",
     "text": [
      "vendor_category \n",
      " ['AA', 'BST', 'D', 'DLROWN', 'DP', 'MT', 'PA', 'PA0', 'PA01', 'PA2', 'PA3', 'TP', 'UNLISTED SERVICE PROVIDER', 'UnListed Service Provider', 'Unknown', 'ZPB', 'ZPP', 'ZPS'] \n",
      "\n",
      "dispatch_response_description \n",
      " ['ACCEPTED', 'CANCELED', 'OPEN', 'REFUSED'] \n",
      "\n",
      "dispatch_type \n",
      " ['agent_call', 'dispatch_bot', 'edispatch'] \n",
      "\n",
      "task_status_code \n",
      " ['ADV', 'AGCN', 'CCAN', 'DA', 'DCM', 'DEC', 'DR', 'DS', 'HLD', 'IS', 'NCC', 'SCM', 'SPCN', 'SPI', 'SU', 'TCR'] \n",
      "\n"
     ]
    }
   ],
   "source": [
    "for col, x in zip(category_cols,val_set_list):\n",
    "    print(col, '\\n', x, '\\n')"
   ]
  },
  {
   "cell_type": "code",
   "execution_count": 35,
   "metadata": {},
   "outputs": [
    {
     "name": "stdout",
     "output_type": "stream",
     "text": [
      "vendor_category \n",
      " {'success': True, 'result': {'element_count': 2202075, 'missing_count': 24130, 'missing_percent': 1.0957846576524415, 'unexpected_count': 0, 'unexpected_percent': 0.0, 'unexpected_percent_nonmissing': 0.0, 'partial_unexpected_list': []}, 'expectation_config': {'expectation_type': 'expect_column_values_to_be_in_set', 'kwargs': {'column': 'vendor_category', 'value_set': ['AA', 'BST', 'D', 'DLROWN', 'DP', 'MT', 'PA', 'PA0', 'PA01', 'PA2', 'PA3', 'TP', 'UNLISTED SERVICE PROVIDER', 'UnListed Service Provider', 'Unknown', 'ZPB', 'ZPP', 'ZPS'], 'mostly': 0.8, 'result_format': 'BASIC'}}, 'exception_info': {'raised_exception': False, 'exception_message': None, 'exception_traceback': None}} \n",
      "\n",
      "dispatch_response_description \n",
      " {'success': True, 'result': {'element_count': 2202075, 'missing_count': 0, 'missing_percent': 0.0, 'unexpected_count': 0, 'unexpected_percent': 0.0, 'unexpected_percent_nonmissing': 0.0, 'partial_unexpected_list': []}, 'expectation_config': {'expectation_type': 'expect_column_values_to_be_in_set', 'kwargs': {'column': 'dispatch_response_description', 'value_set': ['ACCEPTED', 'CANCELED', 'OPEN', 'REFUSED'], 'mostly': 0.8, 'result_format': 'BASIC'}}, 'exception_info': {'raised_exception': False, 'exception_message': None, 'exception_traceback': None}} \n",
      "\n",
      "dispatch_type \n",
      " {'success': True, 'result': {'element_count': 2202075, 'missing_count': 0, 'missing_percent': 0.0, 'unexpected_count': 0, 'unexpected_percent': 0.0, 'unexpected_percent_nonmissing': 0.0, 'partial_unexpected_list': []}, 'expectation_config': {'expectation_type': 'expect_column_values_to_be_in_set', 'kwargs': {'column': 'dispatch_type', 'value_set': ['agent_call', 'dispatch_bot', 'edispatch'], 'mostly': 0.8, 'result_format': 'BASIC'}}, 'exception_info': {'raised_exception': False, 'exception_message': None, 'exception_traceback': None}} \n",
      "\n",
      "task_status_code \n",
      " {'success': True, 'result': {'element_count': 2202075, 'missing_count': 0, 'missing_percent': 0.0, 'unexpected_count': 0, 'unexpected_percent': 0.0, 'unexpected_percent_nonmissing': 0.0, 'partial_unexpected_list': []}, 'expectation_config': {'expectation_type': 'expect_column_values_to_be_in_set', 'kwargs': {'column': 'task_status_code', 'value_set': ['ADV', 'AGCN', 'CCAN', 'DA', 'DCM', 'DEC', 'DR', 'DS', 'HLD', 'IS', 'NCC', 'SCM', 'SPCN', 'SPI', 'SU', 'TCR'], 'mostly': 0.8, 'result_format': 'BASIC'}}, 'exception_info': {'raised_exception': False, 'exception_message': None, 'exception_traceback': None}} \n",
      "\n"
     ]
    }
   ],
   "source": [
    "for col, vals in zip(category_cols, val_set_list):\n",
    "    print(col, '\\n', batch.expect_column_values_to_be_in_set(col, vals, mostly=0.8, result_format='BASIC', \n",
    "                                        include_config=True, catch_exceptions=True), '\\n')\n",
    "    # dispatch_response_description & dispatch_type are complete \n",
    "    # Lookup table for vendor_category & task_status_code values"
   ]
  },
  {
   "cell_type": "markdown",
   "metadata": {},
   "source": [
    "### 6. Looking eta values to be in a range"
   ]
  },
  {
   "cell_type": "code",
   "execution_count": 36,
   "metadata": {},
   "outputs": [
    {
     "data": {
      "text/plain": [
       "{'success': True,\n",
       " 'result': {'element_count': 2202075,\n",
       "  'missing_count': 775689,\n",
       "  'missing_percent': 35.22536698341337,\n",
       "  'unexpected_count': 333,\n",
       "  'unexpected_percent': 0.0151221007458874,\n",
       "  'unexpected_percent_nonmissing': 0.0233457142736959,\n",
       "  'partial_unexpected_list': [1200.0,\n",
       "   1660.0,\n",
       "   4500.0,\n",
       "   1200.0,\n",
       "   1200.0,\n",
       "   2250.0,\n",
       "   4551.0,\n",
       "   7070.0,\n",
       "   4500.0,\n",
       "   1120.0,\n",
       "   1200.0,\n",
       "   2100.0,\n",
       "   3855.0,\n",
       "   1303.0,\n",
       "   2012.0,\n",
       "   1200.0,\n",
       "   2400.0,\n",
       "   1250.0,\n",
       "   7500.0,\n",
       "   2222.0]},\n",
       " 'exception_info': {'raised_exception': False,\n",
       "  'exception_message': None,\n",
       "  'exception_traceback': None}}"
      ]
     },
     "execution_count": 36,
     "metadata": {},
     "output_type": "execute_result"
    }
   ],
   "source": [
    "batch.expect_column_values_to_be_between('eta', min_value=0, max_value=1000, mostly=0.90, result_format='BASIC', \n",
    "                                         catch_exceptions=True)"
   ]
  },
  {
   "cell_type": "markdown",
   "metadata": {},
   "source": [
    "### 7. Looking dispatch_request_time to be greater than service_time"
   ]
  },
  {
   "cell_type": "code",
   "execution_count": 37,
   "metadata": {},
   "outputs": [
    {
     "data": {
      "text/plain": [
       "{'success': True,\n",
       " 'result': {'element_count': 2202075,\n",
       "  'missing_count': 0,\n",
       "  'missing_percent': 0.0,\n",
       "  'unexpected_count': 558414,\n",
       "  'unexpected_percent': 25.35853683457648,\n",
       "  'unexpected_percent_nonmissing': 25.35853683457648,\n",
       "  'partial_unexpected_list': [['2019-01-07 16:02:59', '2019-01-07 16:11:26'],\n",
       "   ['2019-01-07 17:44:18', '2019-01-07 18:23:23'],\n",
       "   ['2019-01-07 22:21:27', '2019-01-07 22:27:31'],\n",
       "   ['2019-01-07 15:01:15', '2019-01-07 15:04:05'],\n",
       "   ['2019-01-07 18:26:48', '2019-01-07 18:33:21'],\n",
       "   ['2019-01-07 19:38:05', '2019-01-07 19:46:30'],\n",
       "   ['2019-01-07 21:22:50', '2019-01-07 21:58:11'],\n",
       "   ['2019-01-08 00:12:33', '2019-01-08 02:19:38'],\n",
       "   ['2019-01-07 11:30:24', '2019-01-07 12:30:00'],\n",
       "   ['2019-01-07 15:24:03', '2019-01-07 15:24:03'],\n",
       "   ['2019-01-07 19:17:13', '2019-01-07 19:55:47'],\n",
       "   ['2019-01-07 22:26:15', '2019-01-07 23:02:45'],\n",
       "   ['2019-01-07 23:34:28', '2019-01-08 00:15:23'],\n",
       "   ['2019-01-07 12:50:50', '2019-01-07 12:58:21'],\n",
       "   ['2019-01-07 16:26:33', '2019-01-07 16:38:54'],\n",
       "   ['2019-01-07 18:09:18', '2019-01-07 18:15:17'],\n",
       "   ['2019-01-07 23:02:50', '2019-01-08 00:08:30'],\n",
       "   ['2019-01-07 23:02:50', '2019-01-08 00:08:30'],\n",
       "   ['2019-01-07 23:37:20', '2019-01-07 23:40:05'],\n",
       "   ['2019-01-08 04:52:04', '2019-01-08 04:52:52']]},\n",
       " 'exception_info': {'raised_exception': False,\n",
       "  'exception_message': None,\n",
       "  'exception_traceback': None}}"
      ]
     },
     "execution_count": 37,
     "metadata": {},
     "output_type": "execute_result"
    }
   ],
   "source": [
    "batch.expect_column_pair_values_A_to_be_greater_than_B('dispatch_request_time_utc', 'service_time_utc', mostly=0.7,\n",
    "                                                      ignore_row_if='either_value_is_missing', result_format='BASIC',\n",
    "                                                      catch_exceptions=True)"
   ]
  },
  {
   "cell_type": "markdown",
   "metadata": {},
   "source": [
    "### 8. Expecting columns to be certain data type"
   ]
  },
  {
   "cell_type": "code",
   "execution_count": 38,
   "metadata": {},
   "outputs": [
    {
     "name": "stdout",
     "output_type": "stream",
     "text": [
      "case_id float64\n",
      "task_id int64\n",
      "vendor_id object\n",
      "vendor_address_id int64\n",
      "eta float64\n",
      "eta_extension float64\n",
      "vendor_category object\n",
      "vendor_candidate_number float64\n",
      "dispatch_response_description object\n",
      "dispatch_response_id int64\n",
      "dispatch_response_reason object\n",
      "dispatch_type object\n",
      "task_status_code object\n",
      "enroute_miles float64\n",
      "is_dispatch bool\n",
      "service_time_eastern datetime64[ns]\n",
      "service_time_utc datetime64[ns]\n",
      "dispatch_request_time_eastern datetime64[ns]\n",
      "dispatch_request_time_utc datetime64[ns]\n"
     ]
    }
   ],
   "source": [
    "for x, y in batch.dtypes.iteritems():\n",
    "    print(x, y)"
   ]
  },
  {
   "cell_type": "code",
   "execution_count": 39,
   "metadata": {},
   "outputs": [
    {
     "name": "stdout",
     "output_type": "stream",
     "text": [
      "{'success': True, 'result': {'observed_value': 'float64'}, 'exception_info': {'raised_exception': False, 'exception_message': None, 'exception_traceback': None}}\n",
      "{'success': True, 'result': {'observed_value': 'int64'}, 'exception_info': {'raised_exception': False, 'exception_message': None, 'exception_traceback': None}}\n",
      "{'success': True, 'result': {'observed_value': 'object_'}, 'exception_info': {'raised_exception': False, 'exception_message': None, 'exception_traceback': None}}\n",
      "{'success': True, 'result': {'observed_value': 'int64'}, 'exception_info': {'raised_exception': False, 'exception_message': None, 'exception_traceback': None}}\n",
      "{'success': True, 'result': {'observed_value': 'float64'}, 'exception_info': {'raised_exception': False, 'exception_message': None, 'exception_traceback': None}}\n",
      "{'success': True, 'result': {'observed_value': 'float64'}, 'exception_info': {'raised_exception': False, 'exception_message': None, 'exception_traceback': None}}\n",
      "{'success': True, 'result': {'observed_value': 'object_'}, 'exception_info': {'raised_exception': False, 'exception_message': None, 'exception_traceback': None}}\n",
      "{'success': True, 'result': {'observed_value': 'float64'}, 'exception_info': {'raised_exception': False, 'exception_message': None, 'exception_traceback': None}}\n",
      "{'success': True, 'result': {'observed_value': 'object_'}, 'exception_info': {'raised_exception': False, 'exception_message': None, 'exception_traceback': None}}\n",
      "{'success': True, 'result': {'observed_value': 'int64'}, 'exception_info': {'raised_exception': False, 'exception_message': None, 'exception_traceback': None}}\n",
      "{'success': True, 'result': {'observed_value': 'object_'}, 'exception_info': {'raised_exception': False, 'exception_message': None, 'exception_traceback': None}}\n",
      "{'success': True, 'result': {'observed_value': 'object_'}, 'exception_info': {'raised_exception': False, 'exception_message': None, 'exception_traceback': None}}\n",
      "{'success': True, 'result': {'observed_value': 'object_'}, 'exception_info': {'raised_exception': False, 'exception_message': None, 'exception_traceback': None}}\n",
      "{'success': True, 'result': {'observed_value': 'float64'}, 'exception_info': {'raised_exception': False, 'exception_message': None, 'exception_traceback': None}}\n",
      "{'success': True, 'result': {'observed_value': 'bool_'}, 'exception_info': {'raised_exception': False, 'exception_message': None, 'exception_traceback': None}}\n",
      "{'success': True, 'result': {'observed_value': 'datetime64'}, 'exception_info': {'raised_exception': False, 'exception_message': None, 'exception_traceback': None}}\n",
      "{'success': True, 'result': {'observed_value': 'datetime64'}, 'exception_info': {'raised_exception': False, 'exception_message': None, 'exception_traceback': None}}\n",
      "{'success': True, 'result': {'observed_value': 'datetime64'}, 'exception_info': {'raised_exception': False, 'exception_message': None, 'exception_traceback': None}}\n",
      "{'success': True, 'result': {'observed_value': 'datetime64'}, 'exception_info': {'raised_exception': False, 'exception_message': None, 'exception_traceback': None}}\n"
     ]
    }
   ],
   "source": [
    "for col, typ in batch.dtypes.items():\n",
    "    print(batch.expect_column_values_to_be_of_type(col, str(typ), result_format='BASIC', catch_exceptions=True))"
   ]
  },
  {
   "cell_type": "markdown",
   "metadata": {},
   "source": [
    "### Review the expectations\n",
    "\n",
    "Expectations that were true on this data batch were added. To view all the expectations you added so far about this data asset, do:"
   ]
  },
  {
   "cell_type": "code",
   "execution_count": 40,
   "metadata": {
    "scrolled": true
   },
   "outputs": [
    {
     "name": "stdout",
     "output_type": "stream",
     "text": [
      "2020-01-31T18:21:57-0500 - INFO - \t64 expectation(s) included in expectation_suite. result_format settings filtered.\n"
     ]
    },
    {
     "data": {
      "text/plain": [
       "{'data_asset_name': 'agero_dsa_pandas/default/network_outreach',\n",
       " 'expectation_suite_name': 'warnings',\n",
       " 'meta': {'great_expectations.__version__': '0.8.7'},\n",
       " 'expectations': [{'expectation_type': 'expect_column_to_exist',\n",
       "   'kwargs': {'column': 'case_id'}},\n",
       "  {'expectation_type': 'expect_column_to_exist',\n",
       "   'kwargs': {'column': 'task_id'}},\n",
       "  {'expectation_type': 'expect_column_to_exist',\n",
       "   'kwargs': {'column': 'vendor_id'}},\n",
       "  {'expectation_type': 'expect_column_to_exist',\n",
       "   'kwargs': {'column': 'vendor_address_id'}},\n",
       "  {'expectation_type': 'expect_column_to_exist', 'kwargs': {'column': 'eta'}},\n",
       "  {'expectation_type': 'expect_column_to_exist',\n",
       "   'kwargs': {'column': 'eta_extension'}},\n",
       "  {'expectation_type': 'expect_column_to_exist',\n",
       "   'kwargs': {'column': 'vendor_category'}},\n",
       "  {'expectation_type': 'expect_column_to_exist',\n",
       "   'kwargs': {'column': 'vendor_candidate_number'}},\n",
       "  {'expectation_type': 'expect_column_to_exist',\n",
       "   'kwargs': {'column': 'dispatch_response_description'}},\n",
       "  {'expectation_type': 'expect_column_to_exist',\n",
       "   'kwargs': {'column': 'dispatch_response_id'}},\n",
       "  {'expectation_type': 'expect_column_to_exist',\n",
       "   'kwargs': {'column': 'dispatch_response_reason'}},\n",
       "  {'expectation_type': 'expect_column_to_exist',\n",
       "   'kwargs': {'column': 'dispatch_type'}},\n",
       "  {'expectation_type': 'expect_column_to_exist',\n",
       "   'kwargs': {'column': 'task_status_code'}},\n",
       "  {'expectation_type': 'expect_column_to_exist',\n",
       "   'kwargs': {'column': 'enroute_miles'}},\n",
       "  {'expectation_type': 'expect_column_to_exist',\n",
       "   'kwargs': {'column': 'is_dispatch'}},\n",
       "  {'expectation_type': 'expect_column_to_exist',\n",
       "   'kwargs': {'column': 'service_time_eastern'}},\n",
       "  {'expectation_type': 'expect_column_to_exist',\n",
       "   'kwargs': {'column': 'service_time_utc'}},\n",
       "  {'expectation_type': 'expect_column_to_exist',\n",
       "   'kwargs': {'column': 'dispatch_request_time_eastern'}},\n",
       "  {'expectation_type': 'expect_column_to_exist',\n",
       "   'kwargs': {'column': 'dispatch_request_time_utc'}},\n",
       "  {'expectation_type': 'expect_table_column_count_to_equal',\n",
       "   'kwargs': {'value': 19}},\n",
       "  {'expectation_type': 'expect_column_values_to_not_be_null',\n",
       "   'kwargs': {'column': 'case_id'}},\n",
       "  {'expectation_type': 'expect_column_values_to_not_be_null',\n",
       "   'kwargs': {'column': 'task_id'}},\n",
       "  {'expectation_type': 'expect_column_values_to_not_be_null',\n",
       "   'kwargs': {'column': 'vendor_id'}},\n",
       "  {'expectation_type': 'expect_column_values_to_not_be_null',\n",
       "   'kwargs': {'column': 'vendor_address_id'}},\n",
       "  {'expectation_type': 'expect_column_values_to_not_be_null',\n",
       "   'kwargs': {'column': 'eta_extension'}},\n",
       "  {'expectation_type': 'expect_column_values_to_not_be_null',\n",
       "   'kwargs': {'column': 'vendor_candidate_number'}},\n",
       "  {'expectation_type': 'expect_column_values_to_not_be_null',\n",
       "   'kwargs': {'column': 'dispatch_response_description'}},\n",
       "  {'expectation_type': 'expect_column_values_to_not_be_null',\n",
       "   'kwargs': {'column': 'dispatch_response_id'}},\n",
       "  {'expectation_type': 'expect_column_values_to_not_be_null',\n",
       "   'kwargs': {'column': 'dispatch_response_reason'}},\n",
       "  {'expectation_type': 'expect_column_values_to_not_be_null',\n",
       "   'kwargs': {'column': 'dispatch_type'}},\n",
       "  {'expectation_type': 'expect_column_values_to_not_be_null',\n",
       "   'kwargs': {'column': 'task_status_code'}},\n",
       "  {'expectation_type': 'expect_column_values_to_not_be_null',\n",
       "   'kwargs': {'column': 'is_dispatch'}},\n",
       "  {'expectation_type': 'expect_column_values_to_not_be_null',\n",
       "   'kwargs': {'column': 'service_time_eastern'}},\n",
       "  {'expectation_type': 'expect_column_values_to_not_be_null',\n",
       "   'kwargs': {'column': 'service_time_utc'}},\n",
       "  {'expectation_type': 'expect_column_values_to_not_be_null',\n",
       "   'kwargs': {'column': 'dispatch_request_time_eastern'}},\n",
       "  {'expectation_type': 'expect_column_values_to_not_be_null',\n",
       "   'kwargs': {'column': 'dispatch_request_time_utc'}},\n",
       "  {'expectation_type': 'expect_column_values_to_be_null',\n",
       "   'kwargs': {'column': 'eta', 'mostly': 0.3}},\n",
       "  {'expectation_type': 'expect_column_values_to_be_null',\n",
       "   'kwargs': {'column': 'vendor_category', 'mostly': 0.01}},\n",
       "  {'expectation_type': 'expect_column_values_to_be_null',\n",
       "   'kwargs': {'column': 'enroute_miles', 'mostly': 0.04}},\n",
       "  {'expectation_type': 'expect_column_values_to_be_in_set',\n",
       "   'kwargs': {'column': 'vendor_category',\n",
       "    'value_set': ['AA',\n",
       "     'BST',\n",
       "     'D',\n",
       "     'DLROWN',\n",
       "     'DP',\n",
       "     'MT',\n",
       "     'PA',\n",
       "     'PA0',\n",
       "     'PA01',\n",
       "     'PA2',\n",
       "     'PA3',\n",
       "     'TP',\n",
       "     'UNLISTED SERVICE PROVIDER',\n",
       "     'UnListed Service Provider',\n",
       "     'Unknown',\n",
       "     'ZPB',\n",
       "     'ZPP',\n",
       "     'ZPS'],\n",
       "    'mostly': 0.8}},\n",
       "  {'expectation_type': 'expect_column_values_to_be_in_set',\n",
       "   'kwargs': {'column': 'dispatch_response_description',\n",
       "    'value_set': ['ACCEPTED', 'CANCELED', 'OPEN', 'REFUSED'],\n",
       "    'mostly': 0.8}},\n",
       "  {'expectation_type': 'expect_column_values_to_be_in_set',\n",
       "   'kwargs': {'column': 'dispatch_type',\n",
       "    'value_set': ['agent_call', 'dispatch_bot', 'edispatch'],\n",
       "    'mostly': 0.8}},\n",
       "  {'expectation_type': 'expect_column_values_to_be_in_set',\n",
       "   'kwargs': {'column': 'task_status_code',\n",
       "    'value_set': ['ADV',\n",
       "     'AGCN',\n",
       "     'CCAN',\n",
       "     'DA',\n",
       "     'DCM',\n",
       "     'DEC',\n",
       "     'DR',\n",
       "     'DS',\n",
       "     'HLD',\n",
       "     'IS',\n",
       "     'NCC',\n",
       "     'SCM',\n",
       "     'SPCN',\n",
       "     'SPI',\n",
       "     'SU',\n",
       "     'TCR'],\n",
       "    'mostly': 0.8}},\n",
       "  {'expectation_type': 'expect_column_values_to_be_between',\n",
       "   'kwargs': {'column': 'eta',\n",
       "    'min_value': 0,\n",
       "    'max_value': 1000,\n",
       "    'mostly': 0.9}},\n",
       "  {'expectation_type': 'expect_column_pair_values_A_to_be_greater_than_B',\n",
       "   'kwargs': {'column_A': 'dispatch_request_time_utc',\n",
       "    'column_B': 'service_time_utc',\n",
       "    'mostly': 0.7,\n",
       "    'ignore_row_if': 'either_value_is_missing'}},\n",
       "  {'expectation_type': 'expect_column_values_to_be_of_type',\n",
       "   'kwargs': {'column': 'case_id', 'type_': 'float64'}},\n",
       "  {'expectation_type': 'expect_column_values_to_be_of_type',\n",
       "   'kwargs': {'column': 'task_id', 'type_': 'int64'}},\n",
       "  {'expectation_type': 'expect_column_values_to_be_of_type',\n",
       "   'kwargs': {'column': 'vendor_id', 'type_': 'object'}},\n",
       "  {'expectation_type': 'expect_column_values_to_be_of_type',\n",
       "   'kwargs': {'column': 'vendor_address_id', 'type_': 'int64'}},\n",
       "  {'expectation_type': 'expect_column_values_to_be_of_type',\n",
       "   'kwargs': {'column': 'eta', 'type_': 'float64'}},\n",
       "  {'expectation_type': 'expect_column_values_to_be_of_type',\n",
       "   'kwargs': {'column': 'eta_extension', 'type_': 'float64'}},\n",
       "  {'expectation_type': 'expect_column_values_to_be_of_type',\n",
       "   'kwargs': {'column': 'vendor_category', 'type_': 'object'}},\n",
       "  {'expectation_type': 'expect_column_values_to_be_of_type',\n",
       "   'kwargs': {'column': 'vendor_candidate_number', 'type_': 'float64'}},\n",
       "  {'expectation_type': 'expect_column_values_to_be_of_type',\n",
       "   'kwargs': {'column': 'dispatch_response_description', 'type_': 'object'}},\n",
       "  {'expectation_type': 'expect_column_values_to_be_of_type',\n",
       "   'kwargs': {'column': 'dispatch_response_id', 'type_': 'int64'}},\n",
       "  {'expectation_type': 'expect_column_values_to_be_of_type',\n",
       "   'kwargs': {'column': 'dispatch_response_reason', 'type_': 'object'}},\n",
       "  {'expectation_type': 'expect_column_values_to_be_of_type',\n",
       "   'kwargs': {'column': 'dispatch_type', 'type_': 'object'}},\n",
       "  {'expectation_type': 'expect_column_values_to_be_of_type',\n",
       "   'kwargs': {'column': 'task_status_code', 'type_': 'object'}},\n",
       "  {'expectation_type': 'expect_column_values_to_be_of_type',\n",
       "   'kwargs': {'column': 'enroute_miles', 'type_': 'float64'}},\n",
       "  {'expectation_type': 'expect_column_values_to_be_of_type',\n",
       "   'kwargs': {'column': 'is_dispatch', 'type_': 'bool'}},\n",
       "  {'expectation_type': 'expect_column_values_to_be_of_type',\n",
       "   'kwargs': {'column': 'service_time_eastern', 'type_': 'datetime64[ns]'}},\n",
       "  {'expectation_type': 'expect_column_values_to_be_of_type',\n",
       "   'kwargs': {'column': 'service_time_utc', 'type_': 'datetime64[ns]'}},\n",
       "  {'expectation_type': 'expect_column_values_to_be_of_type',\n",
       "   'kwargs': {'column': 'dispatch_request_time_eastern',\n",
       "    'type_': 'datetime64[ns]'}},\n",
       "  {'expectation_type': 'expect_column_values_to_be_of_type',\n",
       "   'kwargs': {'column': 'dispatch_request_time_utc',\n",
       "    'type_': 'datetime64[ns]'}}],\n",
       " 'data_asset_type': 'Dataset'}"
      ]
     },
     "execution_count": 40,
     "metadata": {},
     "output_type": "execute_result"
    }
   ],
   "source": [
    "batch.get_expectation_suite()"
   ]
  },
  {
   "cell_type": "code",
   "execution_count": 41,
   "metadata": {},
   "outputs": [
    {
     "name": "stdout",
     "output_type": "stream",
     "text": [
      "2020-01-31T18:26:29-0500 - INFO - \t64 expectation(s) included in expectation_suite. result_format settings filtered.\n"
     ]
    }
   ],
   "source": [
    "batch.save_expectation_suite()"
   ]
  },
  {
   "cell_type": "markdown",
   "metadata": {},
   "source": [
    "### You created and saved expectations for at least one of the data assets.\n",
    "\n",
    "### We will show you how to set up validation - the process of checking if new files of this type conform to your expectations before they are processed by your pipeline's code. \n",
    "\n",
    "### Go to [integrate_validation_into_pipeline.ipynb](integrate_validation_into_pipeline.ipynb) to proceed.\n",
    "\n",
    "\n"
   ]
  }
 ],
 "metadata": {
  "kernelspec": {
   "display_name": "Python 3",
   "language": "python",
   "name": "python3"
  },
  "language_info": {
   "codemirror_mode": {
    "name": "ipython",
    "version": 3
   },
   "file_extension": ".py",
   "mimetype": "text/x-python",
   "name": "python",
   "nbconvert_exporter": "python",
   "pygments_lexer": "ipython3",
   "version": "3.7.6"
  }
 },
 "nbformat": 4,
 "nbformat_minor": 4
}
