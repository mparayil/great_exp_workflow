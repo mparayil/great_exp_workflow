{
 "cells": [
  {
   "cell_type": "code",
   "execution_count": 1,
   "metadata": {},
   "outputs": [
    {
     "name": "stdout",
     "output_type": "stream",
     "text": [
      "2020-03-01T21:37:24-0500 - INFO - Great Expectations logging enabled at INFO level by JupyterUX module.\n"
     ]
    }
   ],
   "source": [
    "import os\n",
    "import json\n",
    "import sys\n",
    "import great_expectations as ge\n",
    "import great_expectations.jupyter_ux\n",
    "from datetime import datetime\n",
    "import math\n",
    "import pandas as pd\n",
    "os.chdir('/Users/mparayil/Desktop/Development/dsa-data-workflows/grtexp_agero_dsa/great_expectations')"
   ]
  },
  {
   "cell_type": "code",
   "execution_count": 2,
   "metadata": {},
   "outputs": [],
   "source": [
    "import ge_prod.ge_data_access as gda\n",
    "import ge_prod.queries as queries"
   ]
  },
  {
   "cell_type": "code",
   "execution_count": 3,
   "metadata": {},
   "outputs": [],
   "source": [
    "rule_query = queries.queries.get('service_progress').get('create_expectations_2019Q4')"
   ]
  },
  {
   "cell_type": "code",
   "execution_count": 4,
   "metadata": {},
   "outputs": [
    {
     "data": {
      "text/plain": [
       "\"SELECT * FROM service_progress where completed_time_utc >= to_date('2019-10-01') and completed_time_utc <= to_date('2019-12-31');\""
      ]
     },
     "execution_count": 4,
     "metadata": {},
     "output_type": "execute_result"
    }
   ],
   "source": [
    "rule_query"
   ]
  },
  {
   "cell_type": "markdown",
   "metadata": {},
   "source": [
    "# Author Expectations\n",
    "\n"
   ]
  },
  {
   "cell_type": "markdown",
   "metadata": {},
   "source": [
    "[**Watch a short tutorial video**](https://docs.greatexpectations.io/en/latest/getting_started/create_expectations.html?utm_source=notebook&utm_medium=create_expectations#video)\n",
    "\n",
    "[**Read more in the tutorial**](https://docs.greatexpectations.io/en/latest/getting_started/create_expectations.html?utm_source=notebook&utm_medium=create_expectations)\n",
    "\n",
    "**Reach out for help on** [**Great Expectations Slack**](https://tinyurl.com/great-expectations-slack)\n"
   ]
  },
  {
   "cell_type": "markdown",
   "metadata": {},
   "source": [
    "### Get a DataContext object\n",
    "[Read more in the tutorial](https://great-expectations.readthedocs.io/en/latest/getting_started/create_expectations.html?utm_source=notebook&utm_medium=create_expectations#get-datacontext-object)\n",
    "\n",
    "\n"
   ]
  },
  {
   "cell_type": "code",
   "execution_count": 5,
   "metadata": {},
   "outputs": [
    {
     "name": "stdout",
     "output_type": "stream",
     "text": [
      "2020-03-01T21:38:07-0500 - INFO - Using project config: /Users/mparayil/Desktop/Development/dsa-data-workflows/grtexp_agero_dsa/great_expectations/great_expectations.yml\n"
     ]
    }
   ],
   "source": [
    "context = ge.data_context.DataContext()"
   ]
  },
  {
   "cell_type": "markdown",
   "metadata": {},
   "source": [
    "### List data assets in your project\n",
    "\n",
    "[Read more in the tutorial](https://docs.greatexpectations.io/en/latest/getting_started/create_expectations.html?utm_source=notebook&utm_medium=create_expectations#data-assets)\n"
   ]
  },
  {
   "cell_type": "code",
   "execution_count": 6,
   "metadata": {},
   "outputs": [
    {
     "name": "stdout",
     "output_type": "stream",
     "text": [
      "Inspecting your data sources. This may take a moment...\n"
     ]
    },
    {
     "data": {
      "text/html": [
       "<p>No data assets found in this data source.</p>\n",
       "<p>Read about how generators derive data assets from data sources:\n",
       "<a href=\"https://great-expectations.readthedocs.io/en/latest/how_to_add_data_source.html\">Data assets</a>\n",
       "</p>"
      ],
      "text/plain": [
       "<IPython.core.display.HTML object>"
      ]
     },
     "metadata": {},
     "output_type": "display_data"
    },
    {
     "data": {
      "text/html": [
       "<h2 style='margin: 0'>Datasource: agero_dsa_pandas (PandasDatasource)</h2>generator: default (SubdirReaderGenerator)"
      ],
      "text/plain": [
       "<IPython.core.display.HTML object>"
      ]
     },
     "metadata": {},
     "output_type": "display_data"
    }
   ],
   "source": [
    "great_expectations.jupyter_ux.list_available_data_asset_names(context)"
   ]
  },
  {
   "cell_type": "markdown",
   "metadata": {},
   "source": [
    "#### Pick one of the data asset names above and use as the value of data_asset_name argument below\n",
    "\n",
    "[Read more in the tutorial](https://docs.greatexpectations.io/en/latest/getting_started/create_expectations.html?utm_source=notebook&utm_medium=create_expectations#get-batch)\n"
   ]
  },
  {
   "cell_type": "markdown",
   "metadata": {},
   "source": [
    "### Specify data_asset & expectation_suite_name"
   ]
  },
  {
   "cell_type": "code",
   "execution_count": 7,
   "metadata": {},
   "outputs": [
    {
     "name": "stdout",
     "output_type": "stream",
     "text": [
      "NormalizedDataAssetName(datasource='agero_dsa_pandas', generator='default', generator_asset='service_progress')\n"
     ]
    }
   ],
   "source": [
    "data_asset_name = 'service_progress'\n",
    "normalized_data_asset_name = context.normalize_data_asset_name(data_asset_name)\n",
    "print(normalized_data_asset_name)"
   ]
  },
  {
   "cell_type": "markdown",
   "metadata": {},
   "source": [
    "### Create a new empty expectation suite"
   ]
  },
  {
   "cell_type": "code",
   "execution_count": 10,
   "metadata": {},
   "outputs": [
    {
     "data": {
      "text/plain": [
       "{'data_asset_name': 'agero_dsa_pandas/default/service_progress',\n",
       " 'expectation_suite_name': 'warnings_2019Q4',\n",
       " 'meta': {'great_expectations.__version__': '0.8.8'},\n",
       " 'expectations': []}"
      ]
     },
     "execution_count": 10,
     "metadata": {},
     "output_type": "execute_result"
    }
   ],
   "source": [
    "expectation_suite_name = 'warnings_2019Q4'\n",
    "context.create_expectation_suite(data_asset_name=normalized_data_asset_name, expectation_suite_name=expectation_suite_name,\n",
    "                                overwrite_existing=True)"
   ]
  },
  {
   "cell_type": "code",
   "execution_count": 11,
   "metadata": {
    "scrolled": true
   },
   "outputs": [
    {
     "data": {
      "text/plain": [
       "[{'data_asset_name': agero_dsa_pandas/default/customer_experience,\n",
       "  'expectation_suite_name': 'warnings_2019Q3-Q4'},\n",
       " {'data_asset_name': agero_dsa_pandas/default/network_outreach,\n",
       "  'expectation_suite_name': 'warnings_2019Q4'},\n",
       " {'data_asset_name': agero_dsa_pandas/default/network_outreach,\n",
       "  'expectation_suite_name': 'warnings_dec2019'},\n",
       " {'data_asset_name': agero_dsa_pandas/default/network_outreach,\n",
       "  'expectation_suite_name': 'warnings'},\n",
       " {'data_asset_name': agero_dsa_pandas/default/customer_complaints,\n",
       "  'expectation_suite_name': 'warnings_2019Q4'},\n",
       " {'data_asset_name': agero_dsa_pandas/default/network_claims,\n",
       "  'expectation_suite_name': 'warnings_2019Q4'},\n",
       " {'data_asset_name': agero_dsa_pandas/default/network_claims,\n",
       "  'expectation_suite_name': 'warnings_dec2019'},\n",
       " {'data_asset_name': agero_dsa_pandas/default/service_progress,\n",
       "  'expectation_suite_name': 'warnings_2019Q4'}]"
      ]
     },
     "execution_count": 11,
     "metadata": {},
     "output_type": "execute_result"
    }
   ],
   "source": [
    "context.list_expectation_suite_keys()"
   ]
  },
  {
   "cell_type": "markdown",
   "metadata": {},
   "source": [
    "### Get batch to create expectations against"
   ]
  },
  {
   "cell_type": "code",
   "execution_count": 12,
   "metadata": {},
   "outputs": [],
   "source": [
    "rule_df = gda.snowflake_connector_to_df(rule_query)\n",
    "# rule_df.to_pickle('temp_data/network_claims_2019Q4.pkl')"
   ]
  },
  {
   "cell_type": "code",
   "execution_count": 20,
   "metadata": {},
   "outputs": [],
   "source": [
    "rule_df.to_pickle('temp_data/service_progress_2019Q4.pkl')"
   ]
  },
  {
   "cell_type": "code",
   "execution_count": 13,
   "metadata": {},
   "outputs": [
    {
     "data": {
      "text/plain": [
       "(2125493, 42)"
      ]
     },
     "execution_count": 13,
     "metadata": {},
     "output_type": "execute_result"
    }
   ],
   "source": [
    "rule_df.shape"
   ]
  },
  {
   "cell_type": "code",
   "execution_count": 14,
   "metadata": {},
   "outputs": [],
   "source": [
    "b_kwargs = {\"dataset\": rule_df}\n",
    "batch = context.get_batch(normalized_data_asset_name, expectation_suite_name=expectation_suite_name,\n",
    "                         batch_kwargs=b_kwargs)"
   ]
  },
  {
   "cell_type": "code",
   "execution_count": 21,
   "metadata": {},
   "outputs": [
    {
     "data": {
      "text/plain": [
       "2125493"
      ]
     },
     "execution_count": 21,
     "metadata": {},
     "output_type": "execute_result"
    }
   ],
   "source": [
    "batch.get_row_count()"
   ]
  },
  {
   "cell_type": "code",
   "execution_count": 22,
   "metadata": {},
   "outputs": [
    {
     "name": "stdout",
     "output_type": "stream",
     "text": [
      "(2125493, 42)\n"
     ]
    }
   ],
   "source": [
    "print(rule_df.shape)"
   ]
  },
  {
   "cell_type": "code",
   "execution_count": 23,
   "metadata": {},
   "outputs": [
    {
     "data": {
      "text/plain": [
       "['agero_dsa_pandas']"
      ]
     },
     "execution_count": 23,
     "metadata": {},
     "output_type": "execute_result"
    }
   ],
   "source": [
    "[datasource['name'] for datasource in context.list_datasources() if datasource['class_name'] == 'PandasDatasource']"
   ]
  },
  {
   "cell_type": "code",
   "execution_count": 24,
   "metadata": {},
   "outputs": [],
   "source": [
    "# getting rule_df batchId & fingerprint\n",
    "rule_batch_fingerprint = batch.batch_fingerprint\n",
    "rule_batch_id = batch.batch_id"
   ]
  },
  {
   "cell_type": "code",
   "execution_count": 25,
   "metadata": {},
   "outputs": [
    {
     "name": "stdout",
     "output_type": "stream",
     "text": [
      "rule_batch_fingerprint: \n",
      "{'partition_id': '20200302T024059.144845Z', 'fingerprint': '7226722f7525871f1fcf9480acec6a89'}\n",
      "rule_batch_id: \n",
      "{'timestamp': 1583116829.278037, 'PandasInMemoryDF': True, 'fingerprint': 'e1ed5ce77da0b50a6823c67f5dce8c6c'}\n"
     ]
    }
   ],
   "source": [
    "print('rule_batch_fingerprint: ', rule_batch_fingerprint, sep='\\n')\n",
    "print('rule_batch_id: ', rule_batch_id, sep='\\n')"
   ]
  },
  {
   "cell_type": "markdown",
   "metadata": {},
   "source": [
    "## Author Expectations\n",
    "\n",
    "[Read more in the tutorial](https://docs.greatexpectations.io/en/latest/getting_started/create_expectations.html?utm_source=notebook&utm_medium=create_expectations#create-expectations)\n",
    "\n",
    "See available expectations in the [expectation glossary](https://docs.greatexpectations.io/en/latest/glossary.html?utm_source=notebook&utm_medium=create_expectations)\n"
   ]
  },
  {
   "cell_type": "markdown",
   "metadata": {},
   "source": [
    "### Dataset exploration & understanding of fields to ensure rules reflect behavior of data\n",
    "- Validating columns to exist in table shape\n",
    "- Expected column count in table shape\n",
    "- Expected set values to be seen in given column\n",
    "- Expected columns to have null or non-null values X percentage of the time\n",
    "- Expect column values to be of certain data type(s)\n",
    "- Placing max and min values limits on numerical columns\n",
    "- Average or median column value to be within a certain range\n",
    "- Expecting column A to be large/less than column B"
   ]
  },
  {
   "cell_type": "markdown",
   "metadata": {},
   "source": [
    "### 1. Validating to see if every column exists in table"
   ]
  },
  {
   "cell_type": "code",
   "execution_count": 26,
   "metadata": {},
   "outputs": [
    {
     "data": {
      "text/plain": [
       "['CASE_ID',\n",
       " 'TASK_ID',\n",
       " 'DRIVER_PROFILE_ID',\n",
       " 'DISPATCHER_PROFILE_ID',\n",
       " 'ENROUTE_LATITUDE',\n",
       " 'ENROUTE_LONGITUDE',\n",
       " 'ONSCENE_LATITUDE',\n",
       " 'ONSCENE_LONGITUDE',\n",
       " 'TOW_IN_PROGRESS_LATITUDE',\n",
       " 'TOW_IN_PROGRESS_LONGITUDE',\n",
       " 'TOW_ARRIVED_LATITUDE',\n",
       " 'TOW_ARRIVED_LONGITUDE',\n",
       " 'COMPLETED_LATITUDE',\n",
       " 'COMPLETED_LONGITUDE',\n",
       " 'STATUS_SOURCE',\n",
       " 'ASSIGNED_SOURCE_DETAILS',\n",
       " 'ENROUTE_SOURCE_DETAILS',\n",
       " 'ONSCENE_SOURCE_DETAILS',\n",
       " 'TOW_IN_PROGRESS_SOURCE_DETAILS',\n",
       " 'TOW_ARRIVED_SOURCE_DETAILS',\n",
       " 'COMPLETED_SOURCE_DETAILS',\n",
       " 'SERVICE_TIME_EASTERN',\n",
       " 'SERVICE_TIME_UTC',\n",
       " 'SERVICE_TIME_LOCAL',\n",
       " 'ASSIGNED_TIME_EASTERN',\n",
       " 'ASSIGNED_TIME_UTC',\n",
       " 'ASSIGNED_TIME_LOCAL',\n",
       " 'ENROUTE_TIME_EASTERN',\n",
       " 'ENROUTE_TIME_UTC',\n",
       " 'ENROUTE_TIME_LOCAL',\n",
       " 'ONSCENE_TIME_EASTERN',\n",
       " 'ONSCENE_TIME_UTC',\n",
       " 'ONSCENE_TIME_LOCAL',\n",
       " 'TOW_IN_PROGRESS_TIME_EASTERN',\n",
       " 'TOW_IN_PROGRESS_TIME_UTC',\n",
       " 'TOW_IN_PROGRESS_TIME_LOCAL',\n",
       " 'TOW_ARRIVED_TIME_EASTERN',\n",
       " 'TOW_ARRIVED_TIME_UTC',\n",
       " 'TOW_ARRIVED_TIME_LOCAL',\n",
       " 'COMPLETED_TIME_EASTERN',\n",
       " 'COMPLETED_TIME_UTC',\n",
       " 'COMPLETED_TIME_LOCAL']"
      ]
     },
     "execution_count": 26,
     "metadata": {},
     "output_type": "execute_result"
    }
   ],
   "source": [
    "# add more expectations here\n",
    "column_names = batch.get_table_columns()\n",
    "column_names"
   ]
  },
  {
   "cell_type": "code",
   "execution_count": 30,
   "metadata": {},
   "outputs": [],
   "source": [
    "colnames = list(batch.columns)\n",
    "# colnames.sort()"
   ]
  },
  {
   "cell_type": "code",
   "execution_count": 31,
   "metadata": {},
   "outputs": [
    {
     "name": "stdout",
     "output_type": "stream",
     "text": [
      "['CASE_ID', 'TASK_ID', 'DRIVER_PROFILE_ID', 'DISPATCHER_PROFILE_ID', 'ENROUTE_LATITUDE', 'ENROUTE_LONGITUDE', 'ONSCENE_LATITUDE', 'ONSCENE_LONGITUDE', 'TOW_IN_PROGRESS_LATITUDE', 'TOW_IN_PROGRESS_LONGITUDE', 'TOW_ARRIVED_LATITUDE', 'TOW_ARRIVED_LONGITUDE', 'COMPLETED_LATITUDE', 'COMPLETED_LONGITUDE', 'STATUS_SOURCE', 'ASSIGNED_SOURCE_DETAILS', 'ENROUTE_SOURCE_DETAILS', 'ONSCENE_SOURCE_DETAILS', 'TOW_IN_PROGRESS_SOURCE_DETAILS', 'TOW_ARRIVED_SOURCE_DETAILS', 'COMPLETED_SOURCE_DETAILS', 'SERVICE_TIME_EASTERN', 'SERVICE_TIME_UTC', 'SERVICE_TIME_LOCAL', 'ASSIGNED_TIME_EASTERN', 'ASSIGNED_TIME_UTC', 'ASSIGNED_TIME_LOCAL', 'ENROUTE_TIME_EASTERN', 'ENROUTE_TIME_UTC', 'ENROUTE_TIME_LOCAL', 'ONSCENE_TIME_EASTERN', 'ONSCENE_TIME_UTC', 'ONSCENE_TIME_LOCAL', 'TOW_IN_PROGRESS_TIME_EASTERN', 'TOW_IN_PROGRESS_TIME_UTC', 'TOW_IN_PROGRESS_TIME_LOCAL', 'TOW_ARRIVED_TIME_EASTERN', 'TOW_ARRIVED_TIME_UTC', 'TOW_ARRIVED_TIME_LOCAL', 'COMPLETED_TIME_EASTERN', 'COMPLETED_TIME_UTC', 'COMPLETED_TIME_LOCAL']\n"
     ]
    }
   ],
   "source": [
    "print(colnames)"
   ]
  },
  {
   "cell_type": "code",
   "execution_count": 32,
   "metadata": {},
   "outputs": [],
   "source": [
    "master_column_names = ['CASE_ID', 'TASK_ID', 'DRIVER_PROFILE_ID', 'DISPATCHER_PROFILE_ID', 'ENROUTE_LATITUDE',\n",
    "                        'ENROUTE_LONGITUDE', 'ONSCENE_LATITUDE', 'ONSCENE_LONGITUDE', 'TOW_IN_PROGRESS_LATITUDE',\n",
    "                        'TOW_IN_PROGRESS_LONGITUDE', 'TOW_ARRIVED_LATITUDE', 'TOW_ARRIVED_LONGITUDE',\n",
    "                        'COMPLETED_LATITUDE', 'COMPLETED_LONGITUDE', 'STATUS_SOURCE', 'ASSIGNED_SOURCE_DETAILS',\n",
    "                        'ENROUTE_SOURCE_DETAILS', 'ONSCENE_SOURCE_DETAILS', 'TOW_IN_PROGRESS_SOURCE_DETAILS',\n",
    "                        'TOW_ARRIVED_SOURCE_DETAILS', 'COMPLETED_SOURCE_DETAILS', 'SERVICE_TIME_EASTERN',\n",
    "                        'SERVICE_TIME_UTC', 'SERVICE_TIME_LOCAL', 'ASSIGNED_TIME_EASTERN', 'ASSIGNED_TIME_UTC',\n",
    "                        'ASSIGNED_TIME_LOCAL', 'ENROUTE_TIME_EASTERN', 'ENROUTE_TIME_UTC', 'ENROUTE_TIME_LOCAL',\n",
    "                        'ONSCENE_TIME_EASTERN', 'ONSCENE_TIME_UTC', 'ONSCENE_TIME_LOCAL',\n",
    "                        'TOW_IN_PROGRESS_TIME_EASTERN', 'TOW_IN_PROGRESS_TIME_UTC', 'TOW_IN_PROGRESS_TIME_LOCAL',\n",
    "                        'TOW_ARRIVED_TIME_EASTERN', 'TOW_ARRIVED_TIME_UTC', 'TOW_ARRIVED_TIME_LOCAL',\n",
    "                        'COMPLETED_TIME_EASTERN', 'COMPLETED_TIME_UTC', 'COMPLETED_TIME_LOCAL']"
   ]
  },
  {
   "cell_type": "code",
   "execution_count": 33,
   "metadata": {},
   "outputs": [
    {
     "data": {
      "text/plain": [
       "42"
      ]
     },
     "execution_count": 33,
     "metadata": {},
     "output_type": "execute_result"
    }
   ],
   "source": [
    "len(master_column_names)"
   ]
  },
  {
   "cell_type": "code",
   "execution_count": 34,
   "metadata": {},
   "outputs": [
    {
     "data": {
      "text/plain": [
       "42"
      ]
     },
     "execution_count": 34,
     "metadata": {},
     "output_type": "execute_result"
    }
   ],
   "source": [
    "len(column_names)"
   ]
  },
  {
   "cell_type": "code",
   "execution_count": 35,
   "metadata": {},
   "outputs": [
    {
     "name": "stdout",
     "output_type": "stream",
     "text": [
      "CASE_ID:\n",
      "{'success': True, 'exception_info': {'raised_exception': False, 'exception_message': None, 'exception_traceback': None}}\n",
      "TASK_ID:\n",
      "{'success': True, 'exception_info': {'raised_exception': False, 'exception_message': None, 'exception_traceback': None}}\n",
      "DRIVER_PROFILE_ID:\n",
      "{'success': True, 'exception_info': {'raised_exception': False, 'exception_message': None, 'exception_traceback': None}}\n",
      "DISPATCHER_PROFILE_ID:\n",
      "{'success': True, 'exception_info': {'raised_exception': False, 'exception_message': None, 'exception_traceback': None}}\n",
      "ENROUTE_LATITUDE:\n",
      "{'success': True, 'exception_info': {'raised_exception': False, 'exception_message': None, 'exception_traceback': None}}\n",
      "ENROUTE_LONGITUDE:\n",
      "{'success': True, 'exception_info': {'raised_exception': False, 'exception_message': None, 'exception_traceback': None}}\n",
      "ONSCENE_LATITUDE:\n",
      "{'success': True, 'exception_info': {'raised_exception': False, 'exception_message': None, 'exception_traceback': None}}\n",
      "ONSCENE_LONGITUDE:\n",
      "{'success': True, 'exception_info': {'raised_exception': False, 'exception_message': None, 'exception_traceback': None}}\n",
      "TOW_IN_PROGRESS_LATITUDE:\n",
      "{'success': True, 'exception_info': {'raised_exception': False, 'exception_message': None, 'exception_traceback': None}}\n",
      "TOW_IN_PROGRESS_LONGITUDE:\n",
      "{'success': True, 'exception_info': {'raised_exception': False, 'exception_message': None, 'exception_traceback': None}}\n",
      "TOW_ARRIVED_LATITUDE:\n",
      "{'success': True, 'exception_info': {'raised_exception': False, 'exception_message': None, 'exception_traceback': None}}\n",
      "TOW_ARRIVED_LONGITUDE:\n",
      "{'success': True, 'exception_info': {'raised_exception': False, 'exception_message': None, 'exception_traceback': None}}\n",
      "COMPLETED_LATITUDE:\n",
      "{'success': True, 'exception_info': {'raised_exception': False, 'exception_message': None, 'exception_traceback': None}}\n",
      "COMPLETED_LONGITUDE:\n",
      "{'success': True, 'exception_info': {'raised_exception': False, 'exception_message': None, 'exception_traceback': None}}\n",
      "STATUS_SOURCE:\n",
      "{'success': True, 'exception_info': {'raised_exception': False, 'exception_message': None, 'exception_traceback': None}}\n",
      "ASSIGNED_SOURCE_DETAILS:\n",
      "{'success': True, 'exception_info': {'raised_exception': False, 'exception_message': None, 'exception_traceback': None}}\n",
      "ENROUTE_SOURCE_DETAILS:\n",
      "{'success': True, 'exception_info': {'raised_exception': False, 'exception_message': None, 'exception_traceback': None}}\n",
      "ONSCENE_SOURCE_DETAILS:\n",
      "{'success': True, 'exception_info': {'raised_exception': False, 'exception_message': None, 'exception_traceback': None}}\n",
      "TOW_IN_PROGRESS_SOURCE_DETAILS:\n",
      "{'success': True, 'exception_info': {'raised_exception': False, 'exception_message': None, 'exception_traceback': None}}\n",
      "TOW_ARRIVED_SOURCE_DETAILS:\n",
      "{'success': True, 'exception_info': {'raised_exception': False, 'exception_message': None, 'exception_traceback': None}}\n",
      "COMPLETED_SOURCE_DETAILS:\n",
      "{'success': True, 'exception_info': {'raised_exception': False, 'exception_message': None, 'exception_traceback': None}}\n",
      "SERVICE_TIME_EASTERN:\n",
      "{'success': True, 'exception_info': {'raised_exception': False, 'exception_message': None, 'exception_traceback': None}}\n",
      "SERVICE_TIME_UTC:\n",
      "{'success': True, 'exception_info': {'raised_exception': False, 'exception_message': None, 'exception_traceback': None}}\n",
      "SERVICE_TIME_LOCAL:\n",
      "{'success': True, 'exception_info': {'raised_exception': False, 'exception_message': None, 'exception_traceback': None}}\n",
      "ASSIGNED_TIME_EASTERN:\n",
      "{'success': True, 'exception_info': {'raised_exception': False, 'exception_message': None, 'exception_traceback': None}}\n",
      "ASSIGNED_TIME_UTC:\n",
      "{'success': True, 'exception_info': {'raised_exception': False, 'exception_message': None, 'exception_traceback': None}}\n",
      "ASSIGNED_TIME_LOCAL:\n",
      "{'success': True, 'exception_info': {'raised_exception': False, 'exception_message': None, 'exception_traceback': None}}\n",
      "ENROUTE_TIME_EASTERN:\n",
      "{'success': True, 'exception_info': {'raised_exception': False, 'exception_message': None, 'exception_traceback': None}}\n",
      "ENROUTE_TIME_UTC:\n",
      "{'success': True, 'exception_info': {'raised_exception': False, 'exception_message': None, 'exception_traceback': None}}\n",
      "ENROUTE_TIME_LOCAL:\n",
      "{'success': True, 'exception_info': {'raised_exception': False, 'exception_message': None, 'exception_traceback': None}}\n",
      "ONSCENE_TIME_EASTERN:\n",
      "{'success': True, 'exception_info': {'raised_exception': False, 'exception_message': None, 'exception_traceback': None}}\n",
      "ONSCENE_TIME_UTC:\n",
      "{'success': True, 'exception_info': {'raised_exception': False, 'exception_message': None, 'exception_traceback': None}}\n",
      "ONSCENE_TIME_LOCAL:\n",
      "{'success': True, 'exception_info': {'raised_exception': False, 'exception_message': None, 'exception_traceback': None}}\n",
      "TOW_IN_PROGRESS_TIME_EASTERN:\n",
      "{'success': True, 'exception_info': {'raised_exception': False, 'exception_message': None, 'exception_traceback': None}}\n",
      "TOW_IN_PROGRESS_TIME_UTC:\n",
      "{'success': True, 'exception_info': {'raised_exception': False, 'exception_message': None, 'exception_traceback': None}}\n",
      "TOW_IN_PROGRESS_TIME_LOCAL:\n",
      "{'success': True, 'exception_info': {'raised_exception': False, 'exception_message': None, 'exception_traceback': None}}\n",
      "TOW_ARRIVED_TIME_EASTERN:\n",
      "{'success': True, 'exception_info': {'raised_exception': False, 'exception_message': None, 'exception_traceback': None}}\n",
      "TOW_ARRIVED_TIME_UTC:\n",
      "{'success': True, 'exception_info': {'raised_exception': False, 'exception_message': None, 'exception_traceback': None}}\n",
      "TOW_ARRIVED_TIME_LOCAL:\n",
      "{'success': True, 'exception_info': {'raised_exception': False, 'exception_message': None, 'exception_traceback': None}}\n",
      "COMPLETED_TIME_EASTERN:\n",
      "{'success': True, 'exception_info': {'raised_exception': False, 'exception_message': None, 'exception_traceback': None}}\n",
      "COMPLETED_TIME_UTC:\n",
      "{'success': True, 'exception_info': {'raised_exception': False, 'exception_message': None, 'exception_traceback': None}}\n",
      "COMPLETED_TIME_LOCAL:\n",
      "{'success': True, 'exception_info': {'raised_exception': False, 'exception_message': None, 'exception_traceback': None}}\n"
     ]
    }
   ],
   "source": [
    "# Ensuring columns to exist\n",
    "for col in master_column_names:\n",
    "    print(col + ':', batch.expect_column_to_exist(col, result_format='BASIC', catch_exceptions=True), sep='\\n')"
   ]
  },
  {
   "cell_type": "markdown",
   "metadata": {},
   "source": [
    "### 2. Validating column count in table is always the same"
   ]
  },
  {
   "cell_type": "code",
   "execution_count": 36,
   "metadata": {},
   "outputs": [
    {
     "name": "stdout",
     "output_type": "stream",
     "text": [
      "# of columns in customer_complaints:  42\n"
     ]
    }
   ],
   "source": [
    "print('# of columns in customer_complaints: ', len(column_names))"
   ]
  },
  {
   "cell_type": "code",
   "execution_count": 27,
   "metadata": {},
   "outputs": [
    {
     "name": "stdout",
     "output_type": "stream",
     "text": [
      "# of columns in network_claims:  22 \n",
      "\n",
      "{'success': True, 'result': {'observed_value': 22}}\n"
     ]
    }
   ],
   "source": [
    "print('# of columns in {}: '.format('network_claims'), len(master_column_names), '\\n')\n",
    "if len(column_names) == len(master_column_names):\n",
    "    print(batch.expect_table_column_count_to_equal(len(column_names), result_format='SUMMARY'))\n",
    "else:\n",
    "    print(batch.expect_table_column_count_to_equal(len(master_column_names), result_format='SUMMARY'))"
   ]
  },
  {
   "cell_type": "markdown",
   "metadata": {},
   "source": [
    "### 3. Checking which columns should not have null values"
   ]
  },
  {
   "cell_type": "code",
   "execution_count": 37,
   "metadata": {},
   "outputs": [
    {
     "name": "stdout",
     "output_type": "stream",
     "text": [
      "['CASE_ID', 'TASK_ID', 'DRIVER_PROFILE_ID', 'DISPATCHER_PROFILE_ID', 'ENROUTE_LATITUDE', 'ENROUTE_LONGITUDE', 'ONSCENE_LATITUDE', 'ONSCENE_LONGITUDE', 'TOW_IN_PROGRESS_LATITUDE', 'TOW_IN_PROGRESS_LONGITUDE', 'TOW_ARRIVED_LATITUDE', 'TOW_ARRIVED_LONGITUDE', 'COMPLETED_LATITUDE', 'COMPLETED_LONGITUDE', 'STATUS_SOURCE', 'ASSIGNED_SOURCE_DETAILS', 'ENROUTE_SOURCE_DETAILS', 'ONSCENE_SOURCE_DETAILS', 'TOW_IN_PROGRESS_SOURCE_DETAILS', 'TOW_ARRIVED_SOURCE_DETAILS', 'COMPLETED_SOURCE_DETAILS', 'SERVICE_TIME_EASTERN', 'SERVICE_TIME_UTC', 'SERVICE_TIME_LOCAL', 'ASSIGNED_TIME_EASTERN', 'ASSIGNED_TIME_UTC', 'ASSIGNED_TIME_LOCAL', 'ENROUTE_TIME_EASTERN', 'ENROUTE_TIME_UTC', 'ENROUTE_TIME_LOCAL', 'ONSCENE_TIME_EASTERN', 'ONSCENE_TIME_UTC', 'ONSCENE_TIME_LOCAL', 'TOW_IN_PROGRESS_TIME_EASTERN', 'TOW_IN_PROGRESS_TIME_UTC', 'TOW_IN_PROGRESS_TIME_LOCAL', 'TOW_ARRIVED_TIME_EASTERN', 'TOW_ARRIVED_TIME_UTC', 'TOW_ARRIVED_TIME_LOCAL', 'COMPLETED_TIME_EASTERN', 'COMPLETED_TIME_UTC', 'COMPLETED_TIME_LOCAL']\n"
     ]
    }
   ],
   "source": [
    "# identifying which columns should not be null\n",
    "print(column_names)"
   ]
  },
  {
   "cell_type": "code",
   "execution_count": 38,
   "metadata": {},
   "outputs": [
    {
     "data": {
      "text/plain": [
       "CASE_ID                                 0\n",
       "TASK_ID                                 0\n",
       "DRIVER_PROFILE_ID                   75900\n",
       "DISPATCHER_PROFILE_ID                 157\n",
       "ENROUTE_LATITUDE                   477148\n",
       "ENROUTE_LONGITUDE                  477148\n",
       "ONSCENE_LATITUDE                   458142\n",
       "ONSCENE_LONGITUDE                  458142\n",
       "TOW_IN_PROGRESS_LATITUDE          1249104\n",
       "TOW_IN_PROGRESS_LONGITUDE         1249104\n",
       "TOW_ARRIVED_LATITUDE              1624380\n",
       "TOW_ARRIVED_LONGITUDE             1624380\n",
       "COMPLETED_LATITUDE                 118180\n",
       "COMPLETED_LONGITUDE                118180\n",
       "STATUS_SOURCE                         683\n",
       "ASSIGNED_SOURCE_DETAILS           2090301\n",
       "ENROUTE_SOURCE_DETAILS             444402\n",
       "ONSCENE_SOURCE_DETAILS             464771\n",
       "TOW_IN_PROGRESS_SOURCE_DETAILS    1235314\n",
       "TOW_ARRIVED_SOURCE_DETAILS        1615565\n",
       "COMPLETED_SOURCE_DETAILS           161466\n",
       "SERVICE_TIME_EASTERN               256088\n",
       "SERVICE_TIME_UTC                   256088\n",
       "SERVICE_TIME_LOCAL                 261186\n",
       "ASSIGNED_TIME_EASTERN              256088\n",
       "ASSIGNED_TIME_UTC                  256088\n",
       "ASSIGNED_TIME_LOCAL                261186\n",
       "ENROUTE_TIME_EASTERN               411591\n",
       "ENROUTE_TIME_UTC                   411591\n",
       "ENROUTE_TIME_LOCAL                 416540\n",
       "ONSCENE_TIME_EASTERN               396216\n",
       "ONSCENE_TIME_UTC                   396216\n",
       "ONSCENE_TIME_LOCAL                 401286\n",
       "TOW_IN_PROGRESS_TIME_EASTERN      1215289\n",
       "TOW_IN_PROGRESS_TIME_UTC          1215289\n",
       "TOW_IN_PROGRESS_TIME_LOCAL        1217697\n",
       "TOW_ARRIVED_TIME_EASTERN          1615199\n",
       "TOW_ARRIVED_TIME_UTC              1615199\n",
       "TOW_ARRIVED_TIME_LOCAL            1616419\n",
       "COMPLETED_TIME_EASTERN                  0\n",
       "COMPLETED_TIME_UTC                      0\n",
       "COMPLETED_TIME_LOCAL                 6088\n",
       "dtype: int64"
      ]
     },
     "execution_count": 38,
     "metadata": {},
     "output_type": "execute_result"
    }
   ],
   "source": [
    "rule_df.isnull().sum()"
   ]
  },
  {
   "cell_type": "code",
   "execution_count": 67,
   "metadata": {},
   "outputs": [],
   "source": [
    "# Separating null & non-null columns\n",
    "null_cols = list(batch.isnull().sum()[batch.isnull().sum() > 0].keys())\n",
    "not_null_cols = list(batch.isnull().sum()[batch.isnull().sum() == 0].keys())"
   ]
  },
  {
   "cell_type": "code",
   "execution_count": 40,
   "metadata": {},
   "outputs": [
    {
     "name": "stdout",
     "output_type": "stream",
     "text": [
      "Viewing column null value counts: \n",
      "CASE_ID                                 0\n",
      "TASK_ID                                 0\n",
      "DRIVER_PROFILE_ID                   75900\n",
      "DISPATCHER_PROFILE_ID                 157\n",
      "ENROUTE_LATITUDE                   477148\n",
      "ENROUTE_LONGITUDE                  477148\n",
      "ONSCENE_LATITUDE                   458142\n",
      "ONSCENE_LONGITUDE                  458142\n",
      "TOW_IN_PROGRESS_LATITUDE          1249104\n",
      "TOW_IN_PROGRESS_LONGITUDE         1249104\n",
      "TOW_ARRIVED_LATITUDE              1624380\n",
      "TOW_ARRIVED_LONGITUDE             1624380\n",
      "COMPLETED_LATITUDE                 118180\n",
      "COMPLETED_LONGITUDE                118180\n",
      "STATUS_SOURCE                         683\n",
      "ASSIGNED_SOURCE_DETAILS           2090301\n",
      "ENROUTE_SOURCE_DETAILS             444402\n",
      "ONSCENE_SOURCE_DETAILS             464771\n",
      "TOW_IN_PROGRESS_SOURCE_DETAILS    1235314\n",
      "TOW_ARRIVED_SOURCE_DETAILS        1615565\n",
      "COMPLETED_SOURCE_DETAILS           161466\n",
      "SERVICE_TIME_EASTERN               256088\n",
      "SERVICE_TIME_UTC                   256088\n",
      "SERVICE_TIME_LOCAL                 261186\n",
      "ASSIGNED_TIME_EASTERN              256088\n",
      "ASSIGNED_TIME_UTC                  256088\n",
      "ASSIGNED_TIME_LOCAL                261186\n",
      "ENROUTE_TIME_EASTERN               411591\n",
      "ENROUTE_TIME_UTC                   411591\n",
      "ENROUTE_TIME_LOCAL                 416540\n",
      "ONSCENE_TIME_EASTERN               396216\n",
      "ONSCENE_TIME_UTC                   396216\n",
      "ONSCENE_TIME_LOCAL                 401286\n",
      "TOW_IN_PROGRESS_TIME_EASTERN      1215289\n",
      "TOW_IN_PROGRESS_TIME_UTC          1215289\n",
      "TOW_IN_PROGRESS_TIME_LOCAL        1217697\n",
      "TOW_ARRIVED_TIME_EASTERN          1615199\n",
      "TOW_ARRIVED_TIME_UTC              1615199\n",
      "TOW_ARRIVED_TIME_LOCAL            1616419\n",
      "COMPLETED_TIME_EASTERN                  0\n",
      "COMPLETED_TIME_UTC                      0\n",
      "COMPLETED_TIME_LOCAL                 6088\n",
      "dtype: int64\n"
     ]
    }
   ],
   "source": [
    "print('Viewing column null value counts: ', batch.isnull().sum(), sep='\\n')"
   ]
  },
  {
   "cell_type": "code",
   "execution_count": 51,
   "metadata": {},
   "outputs": [],
   "source": [
    "not_null_cols.sort()"
   ]
  },
  {
   "cell_type": "code",
   "execution_count": 45,
   "metadata": {},
   "outputs": [
    {
     "name": "stdout",
     "output_type": "stream",
     "text": [
      "['CASE_ID', 'TASK_ID', 'COMPLETED_TIME_EASTERN', 'COMPLETED_TIME_UTC']\n"
     ]
    }
   ],
   "source": [
    "print(not_null_cols)"
   ]
  },
  {
   "cell_type": "code",
   "execution_count": 47,
   "metadata": {},
   "outputs": [],
   "source": [
    "null_cols.sort()"
   ]
  },
  {
   "cell_type": "code",
   "execution_count": 68,
   "metadata": {
    "scrolled": true
   },
   "outputs": [
    {
     "name": "stdout",
     "output_type": "stream",
     "text": [
      "['DRIVER_PROFILE_ID', 'DISPATCHER_PROFILE_ID', 'ENROUTE_LATITUDE', 'ENROUTE_LONGITUDE', 'ONSCENE_LATITUDE', 'ONSCENE_LONGITUDE', 'TOW_IN_PROGRESS_LATITUDE', 'TOW_IN_PROGRESS_LONGITUDE', 'TOW_ARRIVED_LATITUDE', 'TOW_ARRIVED_LONGITUDE', 'COMPLETED_LATITUDE', 'COMPLETED_LONGITUDE', 'STATUS_SOURCE', 'ASSIGNED_SOURCE_DETAILS', 'ENROUTE_SOURCE_DETAILS', 'ONSCENE_SOURCE_DETAILS', 'TOW_IN_PROGRESS_SOURCE_DETAILS', 'TOW_ARRIVED_SOURCE_DETAILS', 'COMPLETED_SOURCE_DETAILS', 'SERVICE_TIME_EASTERN', 'SERVICE_TIME_UTC', 'SERVICE_TIME_LOCAL', 'ASSIGNED_TIME_EASTERN', 'ASSIGNED_TIME_UTC', 'ASSIGNED_TIME_LOCAL', 'ENROUTE_TIME_EASTERN', 'ENROUTE_TIME_UTC', 'ENROUTE_TIME_LOCAL', 'ONSCENE_TIME_EASTERN', 'ONSCENE_TIME_UTC', 'ONSCENE_TIME_LOCAL', 'TOW_IN_PROGRESS_TIME_EASTERN', 'TOW_IN_PROGRESS_TIME_UTC', 'TOW_IN_PROGRESS_TIME_LOCAL', 'TOW_ARRIVED_TIME_EASTERN', 'TOW_ARRIVED_TIME_UTC', 'TOW_ARRIVED_TIME_LOCAL', 'COMPLETED_TIME_LOCAL']\n"
     ]
    }
   ],
   "source": [
    "print(null_cols)"
   ]
  },
  {
   "cell_type": "code",
   "execution_count": 69,
   "metadata": {},
   "outputs": [
    {
     "name": "stdout",
     "output_type": "stream",
     "text": [
      "CASE_ID \n",
      " {'success': True, 'result': {'element_count': 2125493, 'unexpected_count': 0, 'unexpected_percent': 0.0, 'partial_unexpected_list': []}}\n",
      "TASK_ID \n",
      " {'success': True, 'result': {'element_count': 2125493, 'unexpected_count': 0, 'unexpected_percent': 0.0, 'partial_unexpected_list': []}}\n",
      "COMPLETED_TIME_EASTERN \n",
      " {'success': True, 'result': {'element_count': 2125493, 'unexpected_count': 0, 'unexpected_percent': 0.0, 'partial_unexpected_list': []}}\n",
      "COMPLETED_TIME_UTC \n",
      " {'success': True, 'result': {'element_count': 2125493, 'unexpected_count': 0, 'unexpected_percent': 0.0, 'partial_unexpected_list': []}}\n"
     ]
    }
   ],
   "source": [
    "# checking for all columns that shouldn't be null are not\n",
    "for col in not_null_cols:\n",
    "    print(col, '\\n', batch.expect_column_values_to_not_be_null(col, result_format='BASIC'))"
   ]
  },
  {
   "cell_type": "code",
   "execution_count": 49,
   "metadata": {},
   "outputs": [
    {
     "name": "stdout",
     "output_type": "stream",
     "text": [
      "capturing the following columns to not be null: \n",
      " ['CASE_ID', 'TASK_ID', 'COMPLETED_TIME_EASTERN', 'COMPLETED_TIME_UTC']\n"
     ]
    }
   ],
   "source": [
    "print(f\"capturing the following columns to not be null: \\n {not_null_cols}\")"
   ]
  },
  {
   "cell_type": "markdown",
   "metadata": {},
   "source": [
    "### 4. Validating columns to have null values\n",
    "- **columns to check:**\n",
    "    - 'ASSIGNED_SOURCE_DETAILS', 'ASSIGNED_TIME_EASTERN', 'ASSIGNED_TIME_LOCAL', 'ASSIGNED_TIME_UTC',\n",
    "'COMPLETED_LATITUDE', 'COMPLETED_LONGITUDE', 'COMPLETED_SOURCE_DETAILS', 'COMPLETED_TIME_LOCAL',\n",
    "'DISPATCHER_PROFILE_ID', 'DRIVER_PROFILE_ID', 'ENROUTE_LATITUDE', 'ENROUTE_LONGITUDE',\n",
    "'ENROUTE_SOURCE_DETAILS', 'ENROUTE_TIME_EASTERN', 'ENROUTE_TIME_LOCAL','ENROUTE_TIME_UTC',\t                    'ONSCENE_LATITUDE', 'ONSCENE_LONGITUDE', 'ONSCENE_SOURCE_DETAILS', 'ONSCENE_TIME_EASTERN',\n",
    "'ONSCENE_TIME_LOCAL', 'ONSCENE_TIME_UTC', 'SERVICE_TIME_EASTERN', 'SERVICE_TIME_LOCAL',\n",
    "'SERVICE_TIME_UTC', 'STATUS_SOURCE', 'TOW_ARRIVED_LATITUDE', 'TOW_ARRIVED_LONGITUDE',\n",
    "'TOW_ARRIVED_SOURCE_DETAILS', 'TOW_ARRIVED_TIME_EASTERN', 'TOW_ARRIVED_TIME_LOCAL',\n",
    "'TOW_ARRIVED_TIME_UTC', 'TOW_IN_PROGRESS_LATITUDE', 'TOW_IN_PROGRESS_LONGITUDE',\n",
    "'TOW_IN_PROGRESS_SOURCE_DETAILS', 'TOW_IN_PROGRESS_TIME_EASTERN', 'TOW_IN_PROGRESS_TIME_LOCAL',\n",
    "'TOW_IN_PROGRESS_TIME_UTC'"
   ]
  },
  {
   "cell_type": "code",
   "execution_count": 242,
   "metadata": {},
   "outputs": [],
   "source": [
    "from typing import Union\n",
    "from great_expectations.dataset import PandasDataset\n",
    "def get_df_not_null_weights(df: Union[pd.DataFrame, PandasDataset], groupby_col: str, not_null_col: str) -> float:\n",
    "    \"\"\"\n",
    "    Provides specified column's weight/percentage for it not to be null.\n",
    "\n",
    "    Parameters\n",
    "    -----------\n",
    "    df: pd.DataFrame or great_expectations.dataset.PandasDataset\n",
    "        dataframe object to look at\n",
    "    groupby_col: str\n",
    "        grouping column string to groupby dataframe on when looking at specified column in next parameter\n",
    "    not_null_col: str\n",
    "        column used from dataframe to calculate safe weight thresholds of when it would be not null\n",
    "\n",
    "    Returns\n",
    "    ------------\n",
    "    float\n",
    "        Not null weight of specified column lowered by 5% after looking at the 10% quartile\n",
    "    \"\"\"\n",
    "\n",
    "    df_group = df.groupby(df[groupby_col].dt.date)\n",
    "    df_group = df_group.apply(lambda x: x[not_null_col].notnull().mean())\n",
    "\n",
    "    adjusted_weight = df_group.quantile(0.1, interpolation='lower')\n",
    "    return adjusted_weight.round(4)"
   ]
  },
  {
   "cell_type": "code",
   "execution_count": 115,
   "metadata": {},
   "outputs": [],
   "source": [
    "from typing import Union\n",
    "from great_expectations.dataset import PandasDataset\n",
    "def get_df_not_null_weights(df: Union[pd.DataFrame, PandasDataset], groupby_col: str, not_null_col: str) -> float:\n",
    "\t\"\"\"\n",
    "\tProvides specified column's weight/percentage for it not to be null.\n",
    "\n",
    "\tParameters\n",
    "\t-----------\n",
    "\tdf: pd.DataFrame or great_expectations.dataset.PandasDataset\n",
    "\t\tdataframe object to look at\n",
    "\tgroupby_col: str\n",
    "\t\tgrouping column string to groupby dataframe on when looking at specified column in next parameter\n",
    "\tnot_null_col: str\n",
    "\t\tcolumn used from dataframe to calculate safe weight thresholds of when it would be not null\n",
    "\n",
    "\tReturns\n",
    "\t------------\n",
    "\tfloat\n",
    "\t\tNot null weight of specified column lowered by 5% after looking at the 10% quartile\n",
    "\t\"\"\"\n",
    "\t\n",
    "\tdf_group = df.groupby(df[groupby_col].dt.date)\n",
    "\tdf_group = df_group.apply(lambda x: x[not_null_col].notnull().mean())\n",
    "\n",
    "\tbase_weight = df_group.quantile(0.1, interpolation='midpoint')\n",
    "\tadjusted_weight = (base_weight - 0.009)\n",
    "\tif adjusted_weight < 0.005:\n",
    "\t\tfinal_weight = base_weight.round(4)\n",
    "\telse:\n",
    "\t\tfinal_weight = adjusted_weight.round(4)\n",
    "\treturn float(final_weight)"
   ]
  },
  {
   "cell_type": "code",
   "execution_count": 116,
   "metadata": {
    "scrolled": true
   },
   "outputs": [
    {
     "name": "stdout",
     "output_type": "stream",
     "text": [
      "DRIVER_PROFILE_ID\n",
      "0.9513\n",
      "DISPATCHER_PROFILE_ID\n",
      "0.9909\n",
      "ENROUTE_LATITUDE\n",
      "0.7595\n",
      "ENROUTE_LONGITUDE\n",
      "0.7595\n",
      "ONSCENE_LATITUDE\n",
      "0.7679\n",
      "ONSCENE_LONGITUDE\n",
      "0.7679\n",
      "TOW_IN_PROGRESS_LATITUDE\n",
      "0.3144\n",
      "TOW_IN_PROGRESS_LONGITUDE\n",
      "0.3144\n",
      "TOW_ARRIVED_LATITUDE\n",
      "0.1772\n",
      "TOW_ARRIVED_LONGITUDE\n",
      "0.1772\n",
      "COMPLETED_LATITUDE\n",
      "0.9313\n",
      "COMPLETED_LONGITUDE\n",
      "0.9313\n",
      "STATUS_SOURCE\n",
      "0.9905\n"
     ]
    },
    {
     "ename": "KeyboardInterrupt",
     "evalue": "",
     "output_type": "error",
     "traceback": [
      "\u001b[0;31m---------------------------------------------------------------------------\u001b[0m",
      "\u001b[0;31mKeyboardInterrupt\u001b[0m                         Traceback (most recent call last)",
      "\u001b[0;32m<ipython-input-116-18928d668211>\u001b[0m in \u001b[0;36m<module>\u001b[0;34m\u001b[0m\n\u001b[1;32m      1\u001b[0m \u001b[0;32mfor\u001b[0m \u001b[0mcol\u001b[0m \u001b[0;32min\u001b[0m \u001b[0mnull_cols\u001b[0m\u001b[0;34m:\u001b[0m\u001b[0;34m\u001b[0m\u001b[0;34m\u001b[0m\u001b[0m\n\u001b[0;32m----> 2\u001b[0;31m     \u001b[0mw\u001b[0m \u001b[0;34m=\u001b[0m \u001b[0mget_df_not_null_weights\u001b[0m\u001b[0;34m(\u001b[0m\u001b[0mrule_df\u001b[0m\u001b[0;34m,\u001b[0m \u001b[0;34m'COMPLETED_TIME_UTC'\u001b[0m\u001b[0;34m,\u001b[0m \u001b[0mcol\u001b[0m\u001b[0;34m)\u001b[0m\u001b[0;34m\u001b[0m\u001b[0;34m\u001b[0m\u001b[0m\n\u001b[0m\u001b[1;32m      3\u001b[0m     \u001b[0mprint\u001b[0m\u001b[0;34m(\u001b[0m\u001b[0mcol\u001b[0m\u001b[0;34m,\u001b[0m \u001b[0mw\u001b[0m\u001b[0;34m,\u001b[0m \u001b[0msep\u001b[0m\u001b[0;34m=\u001b[0m\u001b[0;34m'\\n'\u001b[0m\u001b[0;34m)\u001b[0m\u001b[0;34m\u001b[0m\u001b[0;34m\u001b[0m\u001b[0m\n",
      "\u001b[0;32m<ipython-input-115-59e1b691b1a6>\u001b[0m in \u001b[0;36mget_df_not_null_weights\u001b[0;34m(df, groupby_col, not_null_col)\u001b[0m\n\u001b[1;32m     20\u001b[0m \t\"\"\"\n\u001b[1;32m     21\u001b[0m \u001b[0;34m\u001b[0m\u001b[0m\n\u001b[0;32m---> 22\u001b[0;31m         \u001b[0mdf_group\u001b[0m \u001b[0;34m=\u001b[0m \u001b[0mdf\u001b[0m\u001b[0;34m.\u001b[0m\u001b[0mgroupby\u001b[0m\u001b[0;34m(\u001b[0m\u001b[0mdf\u001b[0m\u001b[0;34m[\u001b[0m\u001b[0mgroupby_col\u001b[0m\u001b[0;34m]\u001b[0m\u001b[0;34m.\u001b[0m\u001b[0mdt\u001b[0m\u001b[0;34m.\u001b[0m\u001b[0mdate\u001b[0m\u001b[0;34m)\u001b[0m\u001b[0;34m\u001b[0m\u001b[0;34m\u001b[0m\u001b[0m\n\u001b[0m\u001b[1;32m     23\u001b[0m         \u001b[0mdf_group\u001b[0m \u001b[0;34m=\u001b[0m \u001b[0mdf_group\u001b[0m\u001b[0;34m.\u001b[0m\u001b[0mapply\u001b[0m\u001b[0;34m(\u001b[0m\u001b[0;32mlambda\u001b[0m \u001b[0mx\u001b[0m\u001b[0;34m:\u001b[0m \u001b[0mx\u001b[0m\u001b[0;34m[\u001b[0m\u001b[0mnot_null_col\u001b[0m\u001b[0;34m]\u001b[0m\u001b[0;34m.\u001b[0m\u001b[0mnotnull\u001b[0m\u001b[0;34m(\u001b[0m\u001b[0;34m)\u001b[0m\u001b[0;34m.\u001b[0m\u001b[0mmean\u001b[0m\u001b[0;34m(\u001b[0m\u001b[0;34m)\u001b[0m\u001b[0;34m)\u001b[0m\u001b[0;34m\u001b[0m\u001b[0;34m\u001b[0m\u001b[0m\n\u001b[1;32m     24\u001b[0m \u001b[0;34m\u001b[0m\u001b[0m\n",
      "\u001b[0;32m~/opt/anaconda3/envs/airflow/lib/python3.7/site-packages/pandas/core/accessor.py\u001b[0m in \u001b[0;36m_getter\u001b[0;34m(self)\u001b[0m\n\u001b[1;32m     77\u001b[0m         \u001b[0;32mdef\u001b[0m \u001b[0m_create_delegator_property\u001b[0m\u001b[0;34m(\u001b[0m\u001b[0mname\u001b[0m\u001b[0;34m)\u001b[0m\u001b[0;34m:\u001b[0m\u001b[0;34m\u001b[0m\u001b[0;34m\u001b[0m\u001b[0m\n\u001b[1;32m     78\u001b[0m             \u001b[0;32mdef\u001b[0m \u001b[0m_getter\u001b[0m\u001b[0;34m(\u001b[0m\u001b[0mself\u001b[0m\u001b[0;34m)\u001b[0m\u001b[0;34m:\u001b[0m\u001b[0;34m\u001b[0m\u001b[0;34m\u001b[0m\u001b[0m\n\u001b[0;32m---> 79\u001b[0;31m                 \u001b[0;32mreturn\u001b[0m \u001b[0mself\u001b[0m\u001b[0;34m.\u001b[0m\u001b[0m_delegate_property_get\u001b[0m\u001b[0;34m(\u001b[0m\u001b[0mname\u001b[0m\u001b[0;34m)\u001b[0m\u001b[0;34m\u001b[0m\u001b[0;34m\u001b[0m\u001b[0m\n\u001b[0m\u001b[1;32m     80\u001b[0m \u001b[0;34m\u001b[0m\u001b[0m\n\u001b[1;32m     81\u001b[0m             \u001b[0;32mdef\u001b[0m \u001b[0m_setter\u001b[0m\u001b[0;34m(\u001b[0m\u001b[0mself\u001b[0m\u001b[0;34m,\u001b[0m \u001b[0mnew_values\u001b[0m\u001b[0;34m)\u001b[0m\u001b[0;34m:\u001b[0m\u001b[0;34m\u001b[0m\u001b[0;34m\u001b[0m\u001b[0m\n",
      "\u001b[0;32m~/opt/anaconda3/envs/airflow/lib/python3.7/site-packages/pandas/core/indexes/accessors.py\u001b[0m in \u001b[0;36m_delegate_property_get\u001b[0;34m(self, name)\u001b[0m\n\u001b[1;32m     65\u001b[0m         \u001b[0mvalues\u001b[0m \u001b[0;34m=\u001b[0m \u001b[0mself\u001b[0m\u001b[0;34m.\u001b[0m\u001b[0m_get_values\u001b[0m\u001b[0;34m(\u001b[0m\u001b[0;34m)\u001b[0m\u001b[0;34m\u001b[0m\u001b[0;34m\u001b[0m\u001b[0m\n\u001b[1;32m     66\u001b[0m \u001b[0;34m\u001b[0m\u001b[0m\n\u001b[0;32m---> 67\u001b[0;31m         \u001b[0mresult\u001b[0m \u001b[0;34m=\u001b[0m \u001b[0mgetattr\u001b[0m\u001b[0;34m(\u001b[0m\u001b[0mvalues\u001b[0m\u001b[0;34m,\u001b[0m \u001b[0mname\u001b[0m\u001b[0;34m)\u001b[0m\u001b[0;34m\u001b[0m\u001b[0;34m\u001b[0m\u001b[0m\n\u001b[0m\u001b[1;32m     68\u001b[0m \u001b[0;34m\u001b[0m\u001b[0m\n\u001b[1;32m     69\u001b[0m         \u001b[0;31m# maybe need to upcast (ints)\u001b[0m\u001b[0;34m\u001b[0m\u001b[0;34m\u001b[0m\u001b[0;34m\u001b[0m\u001b[0m\n",
      "\u001b[0;32m~/opt/anaconda3/envs/airflow/lib/python3.7/site-packages/pandas/core/accessor.py\u001b[0m in \u001b[0;36m_getter\u001b[0;34m(self)\u001b[0m\n\u001b[1;32m     77\u001b[0m         \u001b[0;32mdef\u001b[0m \u001b[0m_create_delegator_property\u001b[0m\u001b[0;34m(\u001b[0m\u001b[0mname\u001b[0m\u001b[0;34m)\u001b[0m\u001b[0;34m:\u001b[0m\u001b[0;34m\u001b[0m\u001b[0;34m\u001b[0m\u001b[0m\n\u001b[1;32m     78\u001b[0m             \u001b[0;32mdef\u001b[0m \u001b[0m_getter\u001b[0m\u001b[0;34m(\u001b[0m\u001b[0mself\u001b[0m\u001b[0;34m)\u001b[0m\u001b[0;34m:\u001b[0m\u001b[0;34m\u001b[0m\u001b[0;34m\u001b[0m\u001b[0m\n\u001b[0;32m---> 79\u001b[0;31m                 \u001b[0;32mreturn\u001b[0m \u001b[0mself\u001b[0m\u001b[0;34m.\u001b[0m\u001b[0m_delegate_property_get\u001b[0m\u001b[0;34m(\u001b[0m\u001b[0mname\u001b[0m\u001b[0;34m)\u001b[0m\u001b[0;34m\u001b[0m\u001b[0;34m\u001b[0m\u001b[0m\n\u001b[0m\u001b[1;32m     80\u001b[0m \u001b[0;34m\u001b[0m\u001b[0m\n\u001b[1;32m     81\u001b[0m             \u001b[0;32mdef\u001b[0m \u001b[0m_setter\u001b[0m\u001b[0;34m(\u001b[0m\u001b[0mself\u001b[0m\u001b[0;34m,\u001b[0m \u001b[0mnew_values\u001b[0m\u001b[0;34m)\u001b[0m\u001b[0;34m:\u001b[0m\u001b[0;34m\u001b[0m\u001b[0;34m\u001b[0m\u001b[0m\n",
      "\u001b[0;32m~/opt/anaconda3/envs/airflow/lib/python3.7/site-packages/pandas/core/indexes/datetimelike.py\u001b[0m in \u001b[0;36m_delegate_property_get\u001b[0;34m(self, name, *args, **kwargs)\u001b[0m\n\u001b[1;32m    802\u001b[0m \u001b[0;34m\u001b[0m\u001b[0m\n\u001b[1;32m    803\u001b[0m     \u001b[0;32mdef\u001b[0m \u001b[0m_delegate_property_get\u001b[0m\u001b[0;34m(\u001b[0m\u001b[0mself\u001b[0m\u001b[0;34m,\u001b[0m \u001b[0mname\u001b[0m\u001b[0;34m,\u001b[0m \u001b[0;34m*\u001b[0m\u001b[0margs\u001b[0m\u001b[0;34m,\u001b[0m \u001b[0;34m**\u001b[0m\u001b[0mkwargs\u001b[0m\u001b[0;34m)\u001b[0m\u001b[0;34m:\u001b[0m\u001b[0;34m\u001b[0m\u001b[0;34m\u001b[0m\u001b[0m\n\u001b[0;32m--> 804\u001b[0;31m         \u001b[0mresult\u001b[0m \u001b[0;34m=\u001b[0m \u001b[0mgetattr\u001b[0m\u001b[0;34m(\u001b[0m\u001b[0mself\u001b[0m\u001b[0;34m.\u001b[0m\u001b[0m_data\u001b[0m\u001b[0;34m,\u001b[0m \u001b[0mname\u001b[0m\u001b[0;34m)\u001b[0m\u001b[0;34m\u001b[0m\u001b[0;34m\u001b[0m\u001b[0m\n\u001b[0m\u001b[1;32m    805\u001b[0m         \u001b[0;32mif\u001b[0m \u001b[0mname\u001b[0m \u001b[0;32mnot\u001b[0m \u001b[0;32min\u001b[0m \u001b[0mself\u001b[0m\u001b[0;34m.\u001b[0m\u001b[0m_raw_properties\u001b[0m\u001b[0;34m:\u001b[0m\u001b[0;34m\u001b[0m\u001b[0;34m\u001b[0m\u001b[0m\n\u001b[1;32m    806\u001b[0m             \u001b[0mresult\u001b[0m \u001b[0;34m=\u001b[0m \u001b[0mIndex\u001b[0m\u001b[0;34m(\u001b[0m\u001b[0mresult\u001b[0m\u001b[0;34m,\u001b[0m \u001b[0mname\u001b[0m\u001b[0;34m=\u001b[0m\u001b[0mself\u001b[0m\u001b[0;34m.\u001b[0m\u001b[0mname\u001b[0m\u001b[0;34m)\u001b[0m\u001b[0;34m\u001b[0m\u001b[0;34m\u001b[0m\u001b[0m\n",
      "\u001b[0;32m~/opt/anaconda3/envs/airflow/lib/python3.7/site-packages/pandas/core/arrays/datetimes.py\u001b[0m in \u001b[0;36mdate\u001b[0;34m(self)\u001b[0m\n\u001b[1;32m   1413\u001b[0m             \u001b[0mtimestamps\u001b[0m \u001b[0;34m=\u001b[0m \u001b[0mself\u001b[0m\u001b[0;34m.\u001b[0m\u001b[0masi8\u001b[0m\u001b[0;34m\u001b[0m\u001b[0;34m\u001b[0m\u001b[0m\n\u001b[1;32m   1414\u001b[0m \u001b[0;34m\u001b[0m\u001b[0m\n\u001b[0;32m-> 1415\u001b[0;31m         \u001b[0;32mreturn\u001b[0m \u001b[0mtslib\u001b[0m\u001b[0;34m.\u001b[0m\u001b[0mints_to_pydatetime\u001b[0m\u001b[0;34m(\u001b[0m\u001b[0mtimestamps\u001b[0m\u001b[0;34m,\u001b[0m \u001b[0mbox\u001b[0m\u001b[0;34m=\u001b[0m\u001b[0;34m\"date\"\u001b[0m\u001b[0;34m)\u001b[0m\u001b[0;34m\u001b[0m\u001b[0;34m\u001b[0m\u001b[0m\n\u001b[0m\u001b[1;32m   1416\u001b[0m \u001b[0;34m\u001b[0m\u001b[0m\n\u001b[1;32m   1417\u001b[0m     \u001b[0myear\u001b[0m \u001b[0;34m=\u001b[0m \u001b[0m_field_accessor\u001b[0m\u001b[0;34m(\u001b[0m\u001b[0;34m\"year\"\u001b[0m\u001b[0;34m,\u001b[0m \u001b[0;34m\"Y\"\u001b[0m\u001b[0;34m,\u001b[0m \u001b[0;34m\"The year of the datetime.\"\u001b[0m\u001b[0;34m)\u001b[0m\u001b[0;34m\u001b[0m\u001b[0;34m\u001b[0m\u001b[0m\n",
      "\u001b[0;31mKeyboardInterrupt\u001b[0m: "
     ]
    }
   ],
   "source": [
    "for col in null_cols:\n",
    "    w = get_df_not_null_weights(rule_df, 'COMPLETED_TIME_UTC', col)\n",
    "    print(col, w, sep='\\n')"
   ]
  },
  {
   "cell_type": "code",
   "execution_count": 124,
   "metadata": {
    "scrolled": false
   },
   "outputs": [
    {
     "name": "stdout",
     "output_type": "stream",
     "text": [
      "{'DRIVER_PROFILE_ID': 0.9642906375132734, 'DISPATCHER_PROFILE_ID': 0.999926134783789, 'ENROUTE_LATITUDE': 0.7755118459576202, 'ENROUTE_LONGITUDE': 0.7755118459576202, 'ONSCENE_LATITUDE': 0.7844537714309103, 'ONSCENE_LONGITUDE': 0.7844537714309103, 'TOW_IN_PROGRESS_LATITUDE': 0.41232269407615085, 'TOW_IN_PROGRESS_LONGITUDE': 0.41232269407615085, 'TOW_ARRIVED_LATITUDE': 0.23576318529395301, 'TOW_ARRIVED_LONGITUDE': 0.23576318529395301, 'COMPLETED_LATITUDE': 0.9443987818355554, 'COMPLETED_LONGITUDE': 0.9443987818355554, 'STATUS_SOURCE': 0.9996786627855279, 'ASSIGNED_SOURCE_DETAILS': 0.016557099929287, 'ENROUTE_SOURCE_DETAILS': 0.7909181540470847, 'ONSCENE_SOURCE_DETAILS': 0.7813349655821026, 'TOW_IN_PROGRESS_SOURCE_DETAILS': 0.4188106006465323, 'TOW_ARRIVED_SOURCE_DETAILS': 0.23991045842070524, 'COMPLETED_SOURCE_DETAILS': 0.9240336241991858, 'SERVICE_TIME_EASTERN': 0.8795159522990667, 'SERVICE_TIME_UTC': 0.8795159522990667, 'SERVICE_TIME_LOCAL': 0.8771174499280873, 'ASSIGNED_TIME_EASTERN': 0.8795159522990667, 'ASSIGNED_TIME_UTC': 0.8795159522990667, 'ASSIGNED_TIME_LOCAL': 0.8771174499280873, 'ENROUTE_TIME_EASTERN': 0.8063550432770186, 'ENROUTE_TIME_UTC': 0.8063550432770186, 'ENROUTE_TIME_LOCAL': 0.804026642289577, 'ONSCENE_TIME_EASTERN': 0.8135886591957725, 'ONSCENE_TIME_UTC': 0.8135886591957725, 'ONSCENE_TIME_LOCAL': 0.8112033302391493, 'TOW_IN_PROGRESS_TIME_EASTERN': 0.42823194430656797, 'TOW_IN_PROGRESS_TIME_UTC': 0.42823194430656797, 'TOW_IN_PROGRESS_TIME_LOCAL': 0.4270990306719429, 'TOW_ARRIVED_TIME_EASTERN': 0.24008265376550286, 'TOW_ARRIVED_TIME_UTC': 0.24008265376550286, 'TOW_ARRIVED_TIME_LOCAL': 0.23950866928284398, 'COMPLETED_TIME_LOCAL': 0.9971357233357155}\n",
      "---------------------------------------\n",
      "not null weights:\n",
      "{'DRIVER_PROFILE_ID': 0.9553, 'DISPATCHER_PROFILE_ID': 0.9909, 'ENROUTE_LATITUDE': 0.7665, 'ENROUTE_LONGITUDE': 0.7665, 'ONSCENE_LATITUDE': 0.7755, 'ONSCENE_LONGITUDE': 0.7755, 'TOW_IN_PROGRESS_LATITUDE': 0.4033, 'TOW_IN_PROGRESS_LONGITUDE': 0.4033, 'TOW_ARRIVED_LATITUDE': 0.2268, 'TOW_ARRIVED_LONGITUDE': 0.2268, 'COMPLETED_LATITUDE': 0.9354, 'COMPLETED_LONGITUDE': 0.9354, 'STATUS_SOURCE': 0.9907, 'ASSIGNED_SOURCE_DETAILS': 0.0076, 'ENROUTE_SOURCE_DETAILS': 0.7819, 'ONSCENE_SOURCE_DETAILS': 0.7723, 'TOW_IN_PROGRESS_SOURCE_DETAILS': 0.4098, 'TOW_ARRIVED_SOURCE_DETAILS': 0.2309, 'COMPLETED_SOURCE_DETAILS': 0.915, 'SERVICE_TIME_EASTERN': 0.8705, 'SERVICE_TIME_UTC': 0.8705, 'SERVICE_TIME_LOCAL': 0.8681, 'ASSIGNED_TIME_EASTERN': 0.8705, 'ASSIGNED_TIME_UTC': 0.8705, 'ASSIGNED_TIME_LOCAL': 0.8681, 'ENROUTE_TIME_EASTERN': 0.7974, 'ENROUTE_TIME_UTC': 0.7974, 'ENROUTE_TIME_LOCAL': 0.795, 'ONSCENE_TIME_EASTERN': 0.8046, 'ONSCENE_TIME_UTC': 0.8046, 'ONSCENE_TIME_LOCAL': 0.8022, 'TOW_IN_PROGRESS_TIME_EASTERN': 0.4192, 'TOW_IN_PROGRESS_TIME_UTC': 0.4192, 'TOW_IN_PROGRESS_TIME_LOCAL': 0.4181, 'TOW_ARRIVED_TIME_EASTERN': 0.2311, 'TOW_ARRIVED_TIME_UTC': 0.2311, 'TOW_ARRIVED_TIME_LOCAL': 0.2305, 'COMPLETED_TIME_LOCAL': 0.9881}\n"
     ]
    }
   ],
   "source": [
    "# calculating weight for columns of how often they should be null\n",
    "null_percents = dict(1 -(batch.isnull().sum() / len(batch))[batch.isnull().sum() / len(batch) > 0])\n",
    "    \n",
    "print(null_percents)\n",
    "not_null_weights = null_percents.copy()\n",
    "\n",
    "# lowering weights by one thousandth of decimal\n",
    "for key, weight in not_null_weights.items():\n",
    "    not_null_weights[key] = round((weight - 0.009), 4)\n",
    "    \n",
    "print('---------------------------------------')\n",
    "print('not null weights:')\n",
    "print(not_null_weights)"
   ]
  },
  {
   "cell_type": "code",
   "execution_count": 143,
   "metadata": {},
   "outputs": [],
   "source": [
    "round_null_percents = {k:round(v, 4) for k, v in null_percents.items()}\n",
    "round_not_null_weights = {k:round(v, 4) for k, v in not_null_weights.items()}"
   ]
  },
  {
   "cell_type": "code",
   "execution_count": 144,
   "metadata": {},
   "outputs": [
    {
     "name": "stdout",
     "output_type": "stream",
     "text": [
      "{'DRIVER_PROFILE_ID': 0.9643, 'DISPATCHER_PROFILE_ID': 0.9999, 'ENROUTE_LATITUDE': 0.7755, 'ENROUTE_LONGITUDE': 0.7755, 'ONSCENE_LATITUDE': 0.7845, 'ONSCENE_LONGITUDE': 0.7845, 'TOW_IN_PROGRESS_LATITUDE': 0.4123, 'TOW_IN_PROGRESS_LONGITUDE': 0.4123, 'TOW_ARRIVED_LATITUDE': 0.2358, 'TOW_ARRIVED_LONGITUDE': 0.2358, 'COMPLETED_LATITUDE': 0.9444, 'COMPLETED_LONGITUDE': 0.9444, 'STATUS_SOURCE': 0.9997, 'ASSIGNED_SOURCE_DETAILS': 0.0166, 'ENROUTE_SOURCE_DETAILS': 0.7909, 'ONSCENE_SOURCE_DETAILS': 0.7813, 'TOW_IN_PROGRESS_SOURCE_DETAILS': 0.4188, 'TOW_ARRIVED_SOURCE_DETAILS': 0.2399, 'COMPLETED_SOURCE_DETAILS': 0.924, 'SERVICE_TIME_EASTERN': 0.8795, 'SERVICE_TIME_UTC': 0.8795, 'SERVICE_TIME_LOCAL': 0.8771, 'ASSIGNED_TIME_EASTERN': 0.8795, 'ASSIGNED_TIME_UTC': 0.8795, 'ASSIGNED_TIME_LOCAL': 0.8771, 'ENROUTE_TIME_EASTERN': 0.8064, 'ENROUTE_TIME_UTC': 0.8064, 'ENROUTE_TIME_LOCAL': 0.804, 'ONSCENE_TIME_EASTERN': 0.8136, 'ONSCENE_TIME_UTC': 0.8136, 'ONSCENE_TIME_LOCAL': 0.8112, 'TOW_IN_PROGRESS_TIME_EASTERN': 0.4282, 'TOW_IN_PROGRESS_TIME_UTC': 0.4282, 'TOW_IN_PROGRESS_TIME_LOCAL': 0.4271, 'TOW_ARRIVED_TIME_EASTERN': 0.2401, 'TOW_ARRIVED_TIME_UTC': 0.2401, 'TOW_ARRIVED_TIME_LOCAL': 0.2395, 'COMPLETED_TIME_LOCAL': 0.9971}\n"
     ]
    }
   ],
   "source": [
    "print(round_null_percents)"
   ]
  },
  {
   "cell_type": "code",
   "execution_count": 145,
   "metadata": {},
   "outputs": [
    {
     "name": "stdout",
     "output_type": "stream",
     "text": [
      "{'DRIVER_PROFILE_ID': 0.9553, 'DISPATCHER_PROFILE_ID': 0.9909, 'ENROUTE_LATITUDE': 0.7665, 'ENROUTE_LONGITUDE': 0.7665, 'ONSCENE_LATITUDE': 0.7755, 'ONSCENE_LONGITUDE': 0.7755, 'TOW_IN_PROGRESS_LATITUDE': 0.4033, 'TOW_IN_PROGRESS_LONGITUDE': 0.4033, 'TOW_ARRIVED_LATITUDE': 0.2268, 'TOW_ARRIVED_LONGITUDE': 0.2268, 'COMPLETED_LATITUDE': 0.9354, 'COMPLETED_LONGITUDE': 0.9354, 'STATUS_SOURCE': 0.9907, 'ASSIGNED_SOURCE_DETAILS': 0.0076, 'ENROUTE_SOURCE_DETAILS': 0.7819, 'ONSCENE_SOURCE_DETAILS': 0.7723, 'TOW_IN_PROGRESS_SOURCE_DETAILS': 0.4098, 'TOW_ARRIVED_SOURCE_DETAILS': 0.2309, 'COMPLETED_SOURCE_DETAILS': 0.915, 'SERVICE_TIME_EASTERN': 0.8705, 'SERVICE_TIME_UTC': 0.8705, 'SERVICE_TIME_LOCAL': 0.8681, 'ASSIGNED_TIME_EASTERN': 0.8705, 'ASSIGNED_TIME_UTC': 0.8705, 'ASSIGNED_TIME_LOCAL': 0.8681, 'ENROUTE_TIME_EASTERN': 0.7974, 'ENROUTE_TIME_UTC': 0.7974, 'ENROUTE_TIME_LOCAL': 0.795, 'ONSCENE_TIME_EASTERN': 0.8046, 'ONSCENE_TIME_UTC': 0.8046, 'ONSCENE_TIME_LOCAL': 0.8022, 'TOW_IN_PROGRESS_TIME_EASTERN': 0.4192, 'TOW_IN_PROGRESS_TIME_UTC': 0.4192, 'TOW_IN_PROGRESS_TIME_LOCAL': 0.4181, 'TOW_ARRIVED_TIME_EASTERN': 0.2311, 'TOW_ARRIVED_TIME_UTC': 0.2311, 'TOW_ARRIVED_TIME_LOCAL': 0.2305, 'COMPLETED_TIME_LOCAL': 0.9881}\n"
     ]
    }
   ],
   "source": [
    "print(round_not_null_weights)"
   ]
  },
  {
   "cell_type": "code",
   "execution_count": 130,
   "metadata": {},
   "outputs": [
    {
     "name": "stdout",
     "output_type": "stream",
     "text": [
      "{'DRIVER_PROFILE_ID': 0.9642906375132734, 'DISPATCHER_PROFILE_ID': 0.999926134783789, 'ENROUTE_LATITUDE': 0.7755118459576202, 'ENROUTE_LONGITUDE': 0.7755118459576202, 'ONSCENE_LATITUDE': 0.7844537714309103, 'ONSCENE_LONGITUDE': 0.7844537714309103, 'TOW_IN_PROGRESS_LATITUDE': 0.41232269407615085, 'TOW_IN_PROGRESS_LONGITUDE': 0.41232269407615085, 'TOW_ARRIVED_LATITUDE': 0.23576318529395301, 'TOW_ARRIVED_LONGITUDE': 0.23576318529395301, 'COMPLETED_LATITUDE': 0.9443987818355554, 'COMPLETED_LONGITUDE': 0.9443987818355554, 'STATUS_SOURCE': 0.9996786627855279, 'ASSIGNED_SOURCE_DETAILS': 0.016557099929287, 'ENROUTE_SOURCE_DETAILS': 0.7909181540470847, 'ONSCENE_SOURCE_DETAILS': 0.7813349655821026, 'TOW_IN_PROGRESS_SOURCE_DETAILS': 0.4188106006465323, 'TOW_ARRIVED_SOURCE_DETAILS': 0.23991045842070524, 'COMPLETED_SOURCE_DETAILS': 0.9240336241991858, 'SERVICE_TIME_EASTERN': 0.8795159522990667, 'SERVICE_TIME_UTC': 0.8795159522990667, 'SERVICE_TIME_LOCAL': 0.8771174499280873, 'ASSIGNED_TIME_EASTERN': 0.8795159522990667, 'ASSIGNED_TIME_UTC': 0.8795159522990667, 'ASSIGNED_TIME_LOCAL': 0.8771174499280873, 'ENROUTE_TIME_EASTERN': 0.8063550432770186, 'ENROUTE_TIME_UTC': 0.8063550432770186, 'ENROUTE_TIME_LOCAL': 0.804026642289577, 'ONSCENE_TIME_EASTERN': 0.8135886591957725, 'ONSCENE_TIME_UTC': 0.8135886591957725, 'ONSCENE_TIME_LOCAL': 0.8112033302391493, 'TOW_IN_PROGRESS_TIME_EASTERN': 0.42823194430656797, 'TOW_IN_PROGRESS_TIME_UTC': 0.42823194430656797, 'TOW_IN_PROGRESS_TIME_LOCAL': 0.4270990306719429, 'TOW_ARRIVED_TIME_EASTERN': 0.24008265376550286, 'TOW_ARRIVED_TIME_UTC': 0.24008265376550286, 'TOW_ARRIVED_TIME_LOCAL': 0.23950866928284398, 'COMPLETED_TIME_LOCAL': 0.9971357233357155}\n"
     ]
    }
   ],
   "source": [
    "print(null_percents)"
   ]
  },
  {
   "cell_type": "code",
   "execution_count": 131,
   "metadata": {
    "scrolled": true
   },
   "outputs": [
    {
     "name": "stdout",
     "output_type": "stream",
     "text": [
      "{'DRIVER_PROFILE_ID': 0.9553, 'DISPATCHER_PROFILE_ID': 0.9909, 'ENROUTE_LATITUDE': 0.7665, 'ENROUTE_LONGITUDE': 0.7665, 'ONSCENE_LATITUDE': 0.7755, 'ONSCENE_LONGITUDE': 0.7755, 'TOW_IN_PROGRESS_LATITUDE': 0.4033, 'TOW_IN_PROGRESS_LONGITUDE': 0.4033, 'TOW_ARRIVED_LATITUDE': 0.2268, 'TOW_ARRIVED_LONGITUDE': 0.2268, 'COMPLETED_LATITUDE': 0.9354, 'COMPLETED_LONGITUDE': 0.9354, 'STATUS_SOURCE': 0.9907, 'ASSIGNED_SOURCE_DETAILS': 0.0076, 'ENROUTE_SOURCE_DETAILS': 0.7819, 'ONSCENE_SOURCE_DETAILS': 0.7723, 'TOW_IN_PROGRESS_SOURCE_DETAILS': 0.4098, 'TOW_ARRIVED_SOURCE_DETAILS': 0.2309, 'COMPLETED_SOURCE_DETAILS': 0.915, 'SERVICE_TIME_EASTERN': 0.8705, 'SERVICE_TIME_UTC': 0.8705, 'SERVICE_TIME_LOCAL': 0.8681, 'ASSIGNED_TIME_EASTERN': 0.8705, 'ASSIGNED_TIME_UTC': 0.8705, 'ASSIGNED_TIME_LOCAL': 0.8681, 'ENROUTE_TIME_EASTERN': 0.7974, 'ENROUTE_TIME_UTC': 0.7974, 'ENROUTE_TIME_LOCAL': 0.795, 'ONSCENE_TIME_EASTERN': 0.8046, 'ONSCENE_TIME_UTC': 0.8046, 'ONSCENE_TIME_LOCAL': 0.8022, 'TOW_IN_PROGRESS_TIME_EASTERN': 0.4192, 'TOW_IN_PROGRESS_TIME_UTC': 0.4192, 'TOW_IN_PROGRESS_TIME_LOCAL': 0.4181, 'TOW_ARRIVED_TIME_EASTERN': 0.2311, 'TOW_ARRIVED_TIME_UTC': 0.2311, 'TOW_ARRIVED_TIME_LOCAL': 0.2305, 'COMPLETED_TIME_LOCAL': 0.9881}\n"
     ]
    }
   ],
   "source": [
    "print(not_null_weights)"
   ]
  },
  {
   "cell_type": "code",
   "execution_count": 146,
   "metadata": {},
   "outputs": [],
   "source": [
    "null_col_weights = {'DRIVER_PROFILE_ID': 0.95, 'DISPATCHER_PROFILE_ID': 0.99, 'ENROUTE_LATITUDE': 0.75,\n",
    "\t                    'ENROUTE_LONGITUDE': 0.75, 'ONSCENE_LATITUDE': 0.75, 'ONSCENE_LONGITUDE': 0.75,\n",
    "\t                    'TOW_IN_PROGRESS_LATITUDE': 0.4, 'TOW_IN_PROGRESS_LONGITUDE': 0.4,\n",
    "\t                    'TOW_ARRIVED_LATITUDE': 0.2, 'TOW_ARRIVED_LONGITUDE': 0.2, 'COMPLETED_LATITUDE': 0.92,\n",
    "\t                    'COMPLETED_LONGITUDE': 0.92, 'STATUS_SOURCE': 0.99, 'ASSIGNED_SOURCE_DETAILS': 0.01,\n",
    "\t                    'ENROUTE_SOURCE_DETAILS': 0.75, 'ONSCENE_SOURCE_DETAILS': 0.75,\n",
    "\t                    'TOW_IN_PROGRESS_SOURCE_DETAILS': 0.40, 'TOW_ARRIVED_SOURCE_DETAILS': 0.2,\n",
    "\t                    'COMPLETED_SOURCE_DETAILS': 0.9, 'SERVICE_TIME_EASTERN': 0.85, 'SERVICE_TIME_UTC': 0.85,\n",
    "\t                    'SERVICE_TIME_LOCAL': 0.85, 'ASSIGNED_TIME_EASTERN': 0.85, 'ASSIGNED_TIME_UTC': 0.85,\n",
    "\t                    'ASSIGNED_TIME_LOCAL': 0.85, 'ENROUTE_TIME_EASTERN': 0.78, 'ENROUTE_TIME_UTC': 0.78,\n",
    "\t                    'ENROUTE_TIME_LOCAL': 0.78, 'ONSCENE_TIME_EASTERN': 0.79, 'ONSCENE_TIME_UTC': 0.79,\n",
    "\t                    'ONSCENE_TIME_LOCAL': 0.79, 'TOW_IN_PROGRESS_TIME_EASTERN': 0.4,\n",
    "\t                    'TOW_IN_PROGRESS_TIME_UTC': 0.4, 'TOW_IN_PROGRESS_TIME_LOCAL': 0.4,\n",
    "\t                    'TOW_ARRIVED_TIME_EASTERN': 0.21, 'TOW_ARRIVED_TIME_UTC': 0.21,\n",
    "\t                    'TOW_ARRIVED_TIME_LOCAL': 0.21, 'COMPLETED_TIME_LOCAL': 0.99}"
   ]
  },
  {
   "cell_type": "code",
   "execution_count": 147,
   "metadata": {},
   "outputs": [
    {
     "name": "stdout",
     "output_type": "stream",
     "text": [
      "DRIVER_PROFILE_ID\n",
      "{'success': True, 'result': {'element_count': 2125493, 'unexpected_count': 75900, 'unexpected_percent': 3.5709362486726612, 'partial_unexpected_list': []}, 'expectation_config': {'expectation_type': 'expect_column_values_to_not_be_null', 'kwargs': {'column': 'DRIVER_PROFILE_ID', 'mostly': 0.95, 'result_format': 'SUMMARY'}}, 'exception_info': {'raised_exception': False, 'exception_message': None, 'exception_traceback': None}}\n",
      "DISPATCHER_PROFILE_ID\n",
      "{'success': True, 'result': {'element_count': 2125493, 'unexpected_count': 157, 'unexpected_percent': 0.007386521621101552, 'partial_unexpected_list': []}, 'expectation_config': {'expectation_type': 'expect_column_values_to_not_be_null', 'kwargs': {'column': 'DISPATCHER_PROFILE_ID', 'mostly': 0.99, 'result_format': 'SUMMARY'}}, 'exception_info': {'raised_exception': False, 'exception_message': None, 'exception_traceback': None}}\n",
      "ENROUTE_LATITUDE\n",
      "{'success': True, 'result': {'element_count': 2125493, 'unexpected_count': 477148, 'unexpected_percent': 22.448815404237983, 'partial_unexpected_list': []}, 'expectation_config': {'expectation_type': 'expect_column_values_to_not_be_null', 'kwargs': {'column': 'ENROUTE_LATITUDE', 'mostly': 0.75, 'result_format': 'SUMMARY'}}, 'exception_info': {'raised_exception': False, 'exception_message': None, 'exception_traceback': None}}\n",
      "ENROUTE_LONGITUDE\n",
      "{'success': True, 'result': {'element_count': 2125493, 'unexpected_count': 477148, 'unexpected_percent': 22.448815404237983, 'partial_unexpected_list': []}, 'expectation_config': {'expectation_type': 'expect_column_values_to_not_be_null', 'kwargs': {'column': 'ENROUTE_LONGITUDE', 'mostly': 0.75, 'result_format': 'SUMMARY'}}, 'exception_info': {'raised_exception': False, 'exception_message': None, 'exception_traceback': None}}\n",
      "ONSCENE_LATITUDE\n",
      "{'success': True, 'result': {'element_count': 2125493, 'unexpected_count': 458142, 'unexpected_percent': 21.55462285690896, 'partial_unexpected_list': []}, 'expectation_config': {'expectation_type': 'expect_column_values_to_not_be_null', 'kwargs': {'column': 'ONSCENE_LATITUDE', 'mostly': 0.75, 'result_format': 'SUMMARY'}}, 'exception_info': {'raised_exception': False, 'exception_message': None, 'exception_traceback': None}}\n",
      "ONSCENE_LONGITUDE\n",
      "{'success': True, 'result': {'element_count': 2125493, 'unexpected_count': 458142, 'unexpected_percent': 21.55462285690896, 'partial_unexpected_list': []}, 'expectation_config': {'expectation_type': 'expect_column_values_to_not_be_null', 'kwargs': {'column': 'ONSCENE_LONGITUDE', 'mostly': 0.75, 'result_format': 'SUMMARY'}}, 'exception_info': {'raised_exception': False, 'exception_message': None, 'exception_traceback': None}}\n",
      "TOW_IN_PROGRESS_LATITUDE\n",
      "{'success': True, 'result': {'element_count': 2125493, 'unexpected_count': 1249104, 'unexpected_percent': 58.767730592384915, 'partial_unexpected_list': []}, 'expectation_config': {'expectation_type': 'expect_column_values_to_not_be_null', 'kwargs': {'column': 'TOW_IN_PROGRESS_LATITUDE', 'mostly': 0.4, 'result_format': 'SUMMARY'}}, 'exception_info': {'raised_exception': False, 'exception_message': None, 'exception_traceback': None}}\n",
      "TOW_IN_PROGRESS_LONGITUDE\n",
      "{'success': True, 'result': {'element_count': 2125493, 'unexpected_count': 1249104, 'unexpected_percent': 58.767730592384915, 'partial_unexpected_list': []}, 'expectation_config': {'expectation_type': 'expect_column_values_to_not_be_null', 'kwargs': {'column': 'TOW_IN_PROGRESS_LONGITUDE', 'mostly': 0.4, 'result_format': 'SUMMARY'}}, 'exception_info': {'raised_exception': False, 'exception_message': None, 'exception_traceback': None}}\n",
      "TOW_ARRIVED_LATITUDE\n",
      "{'success': True, 'result': {'element_count': 2125493, 'unexpected_count': 1624380, 'unexpected_percent': 76.42368147060469, 'partial_unexpected_list': []}, 'expectation_config': {'expectation_type': 'expect_column_values_to_not_be_null', 'kwargs': {'column': 'TOW_ARRIVED_LATITUDE', 'mostly': 0.2, 'result_format': 'SUMMARY'}}, 'exception_info': {'raised_exception': False, 'exception_message': None, 'exception_traceback': None}}\n",
      "TOW_ARRIVED_LONGITUDE\n",
      "{'success': True, 'result': {'element_count': 2125493, 'unexpected_count': 1624380, 'unexpected_percent': 76.42368147060469, 'partial_unexpected_list': []}, 'expectation_config': {'expectation_type': 'expect_column_values_to_not_be_null', 'kwargs': {'column': 'TOW_ARRIVED_LONGITUDE', 'mostly': 0.2, 'result_format': 'SUMMARY'}}, 'exception_info': {'raised_exception': False, 'exception_message': None, 'exception_traceback': None}}\n",
      "COMPLETED_LATITUDE\n",
      "{'success': True, 'result': {'element_count': 2125493, 'unexpected_count': 118180, 'unexpected_percent': 5.560121816444467, 'partial_unexpected_list': []}, 'expectation_config': {'expectation_type': 'expect_column_values_to_not_be_null', 'kwargs': {'column': 'COMPLETED_LATITUDE', 'mostly': 0.92, 'result_format': 'SUMMARY'}}, 'exception_info': {'raised_exception': False, 'exception_message': None, 'exception_traceback': None}}\n",
      "COMPLETED_LONGITUDE\n",
      "{'success': True, 'result': {'element_count': 2125493, 'unexpected_count': 118180, 'unexpected_percent': 5.560121816444467, 'partial_unexpected_list': []}, 'expectation_config': {'expectation_type': 'expect_column_values_to_not_be_null', 'kwargs': {'column': 'COMPLETED_LONGITUDE', 'mostly': 0.92, 'result_format': 'SUMMARY'}}, 'exception_info': {'raised_exception': False, 'exception_message': None, 'exception_traceback': None}}\n",
      "STATUS_SOURCE\n",
      "{'success': True, 'result': {'element_count': 2125493, 'unexpected_count': 683, 'unexpected_percent': 0.032133721447212486, 'partial_unexpected_list': []}, 'expectation_config': {'expectation_type': 'expect_column_values_to_not_be_null', 'kwargs': {'column': 'STATUS_SOURCE', 'mostly': 0.99, 'result_format': 'SUMMARY'}}, 'exception_info': {'raised_exception': False, 'exception_message': None, 'exception_traceback': None}}\n",
      "ASSIGNED_SOURCE_DETAILS\n",
      "{'success': True, 'result': {'element_count': 2125493, 'unexpected_count': 2090301, 'unexpected_percent': 98.3442900070713, 'partial_unexpected_list': []}, 'expectation_config': {'expectation_type': 'expect_column_values_to_not_be_null', 'kwargs': {'column': 'ASSIGNED_SOURCE_DETAILS', 'mostly': 0.01, 'result_format': 'SUMMARY'}}, 'exception_info': {'raised_exception': False, 'exception_message': None, 'exception_traceback': None}}\n",
      "ENROUTE_SOURCE_DETAILS\n",
      "{'success': True, 'result': {'element_count': 2125493, 'unexpected_count': 444402, 'unexpected_percent': 20.90818459529154, 'partial_unexpected_list': []}, 'expectation_config': {'expectation_type': 'expect_column_values_to_not_be_null', 'kwargs': {'column': 'ENROUTE_SOURCE_DETAILS', 'mostly': 0.75, 'result_format': 'SUMMARY'}}, 'exception_info': {'raised_exception': False, 'exception_message': None, 'exception_traceback': None}}\n",
      "ONSCENE_SOURCE_DETAILS\n",
      "{'success': True, 'result': {'element_count': 2125493, 'unexpected_count': 464771, 'unexpected_percent': 21.86650344178974, 'partial_unexpected_list': []}, 'expectation_config': {'expectation_type': 'expect_column_values_to_not_be_null', 'kwargs': {'column': 'ONSCENE_SOURCE_DETAILS', 'mostly': 0.75, 'result_format': 'SUMMARY'}}, 'exception_info': {'raised_exception': False, 'exception_message': None, 'exception_traceback': None}}\n",
      "TOW_IN_PROGRESS_SOURCE_DETAILS\n",
      "{'success': True, 'result': {'element_count': 2125493, 'unexpected_count': 1235314, 'unexpected_percent': 58.118939935346766, 'partial_unexpected_list': []}, 'expectation_config': {'expectation_type': 'expect_column_values_to_not_be_null', 'kwargs': {'column': 'TOW_IN_PROGRESS_SOURCE_DETAILS', 'mostly': 0.4, 'result_format': 'SUMMARY'}}, 'exception_info': {'raised_exception': False, 'exception_message': None, 'exception_traceback': None}}\n",
      "TOW_ARRIVED_SOURCE_DETAILS\n",
      "{'success': True, 'result': {'element_count': 2125493, 'unexpected_count': 1615565, 'unexpected_percent': 76.00895415792948, 'partial_unexpected_list': []}, 'expectation_config': {'expectation_type': 'expect_column_values_to_not_be_null', 'kwargs': {'column': 'TOW_ARRIVED_SOURCE_DETAILS', 'mostly': 0.2, 'result_format': 'SUMMARY'}}, 'exception_info': {'raised_exception': False, 'exception_message': None, 'exception_traceback': None}}\n",
      "COMPLETED_SOURCE_DETAILS\n",
      "{'success': True, 'result': {'element_count': 2125493, 'unexpected_count': 161466, 'unexpected_percent': 7.5966375800814205, 'partial_unexpected_list': []}, 'expectation_config': {'expectation_type': 'expect_column_values_to_not_be_null', 'kwargs': {'column': 'COMPLETED_SOURCE_DETAILS', 'mostly': 0.9, 'result_format': 'SUMMARY'}}, 'exception_info': {'raised_exception': False, 'exception_message': None, 'exception_traceback': None}}\n"
     ]
    },
    {
     "name": "stdout",
     "output_type": "stream",
     "text": [
      "SERVICE_TIME_EASTERN\n",
      "{'success': True, 'result': {'element_count': 2125493, 'unexpected_count': 256088, 'unexpected_percent': 12.048404770093338, 'partial_unexpected_list': []}, 'expectation_config': {'expectation_type': 'expect_column_values_to_not_be_null', 'kwargs': {'column': 'SERVICE_TIME_EASTERN', 'mostly': 0.85, 'result_format': 'SUMMARY'}}, 'exception_info': {'raised_exception': False, 'exception_message': None, 'exception_traceback': None}}\n",
      "SERVICE_TIME_UTC\n",
      "{'success': True, 'result': {'element_count': 2125493, 'unexpected_count': 256088, 'unexpected_percent': 12.048404770093338, 'partial_unexpected_list': []}, 'expectation_config': {'expectation_type': 'expect_column_values_to_not_be_null', 'kwargs': {'column': 'SERVICE_TIME_UTC', 'mostly': 0.85, 'result_format': 'SUMMARY'}}, 'exception_info': {'raised_exception': False, 'exception_message': None, 'exception_traceback': None}}\n",
      "SERVICE_TIME_LOCAL\n",
      "{'success': True, 'result': {'element_count': 2125493, 'unexpected_count': 261186, 'unexpected_percent': 12.288255007191273, 'partial_unexpected_list': []}, 'expectation_config': {'expectation_type': 'expect_column_values_to_not_be_null', 'kwargs': {'column': 'SERVICE_TIME_LOCAL', 'mostly': 0.85, 'result_format': 'SUMMARY'}}, 'exception_info': {'raised_exception': False, 'exception_message': None, 'exception_traceback': None}}\n",
      "ASSIGNED_TIME_EASTERN\n",
      "{'success': True, 'result': {'element_count': 2125493, 'unexpected_count': 256088, 'unexpected_percent': 12.048404770093338, 'partial_unexpected_list': []}, 'expectation_config': {'expectation_type': 'expect_column_values_to_not_be_null', 'kwargs': {'column': 'ASSIGNED_TIME_EASTERN', 'mostly': 0.85, 'result_format': 'SUMMARY'}}, 'exception_info': {'raised_exception': False, 'exception_message': None, 'exception_traceback': None}}\n",
      "ASSIGNED_TIME_UTC\n",
      "{'success': True, 'result': {'element_count': 2125493, 'unexpected_count': 256088, 'unexpected_percent': 12.048404770093338, 'partial_unexpected_list': []}, 'expectation_config': {'expectation_type': 'expect_column_values_to_not_be_null', 'kwargs': {'column': 'ASSIGNED_TIME_UTC', 'mostly': 0.85, 'result_format': 'SUMMARY'}}, 'exception_info': {'raised_exception': False, 'exception_message': None, 'exception_traceback': None}}\n",
      "ASSIGNED_TIME_LOCAL\n",
      "{'success': True, 'result': {'element_count': 2125493, 'unexpected_count': 261186, 'unexpected_percent': 12.288255007191273, 'partial_unexpected_list': []}, 'expectation_config': {'expectation_type': 'expect_column_values_to_not_be_null', 'kwargs': {'column': 'ASSIGNED_TIME_LOCAL', 'mostly': 0.85, 'result_format': 'SUMMARY'}}, 'exception_info': {'raised_exception': False, 'exception_message': None, 'exception_traceback': None}}\n",
      "ENROUTE_TIME_EASTERN\n",
      "{'success': True, 'result': {'element_count': 2125493, 'unexpected_count': 411591, 'unexpected_percent': 19.364495672298144, 'partial_unexpected_list': []}, 'expectation_config': {'expectation_type': 'expect_column_values_to_not_be_null', 'kwargs': {'column': 'ENROUTE_TIME_EASTERN', 'mostly': 0.78, 'result_format': 'SUMMARY'}}, 'exception_info': {'raised_exception': False, 'exception_message': None, 'exception_traceback': None}}\n",
      "ENROUTE_TIME_UTC\n",
      "{'success': True, 'result': {'element_count': 2125493, 'unexpected_count': 411591, 'unexpected_percent': 19.364495672298144, 'partial_unexpected_list': []}, 'expectation_config': {'expectation_type': 'expect_column_values_to_not_be_null', 'kwargs': {'column': 'ENROUTE_TIME_UTC', 'mostly': 0.78, 'result_format': 'SUMMARY'}}, 'exception_info': {'raised_exception': False, 'exception_message': None, 'exception_traceback': None}}\n",
      "ENROUTE_TIME_LOCAL\n",
      "{'success': True, 'result': {'element_count': 2125493, 'unexpected_count': 416540, 'unexpected_percent': 19.597335771042296, 'partial_unexpected_list': []}, 'expectation_config': {'expectation_type': 'expect_column_values_to_not_be_null', 'kwargs': {'column': 'ENROUTE_TIME_LOCAL', 'mostly': 0.78, 'result_format': 'SUMMARY'}}, 'exception_info': {'raised_exception': False, 'exception_message': None, 'exception_traceback': None}}\n",
      "ONSCENE_TIME_EASTERN\n",
      "{'success': True, 'result': {'element_count': 2125493, 'unexpected_count': 396216, 'unexpected_percent': 18.641134080422752, 'partial_unexpected_list': []}, 'expectation_config': {'expectation_type': 'expect_column_values_to_not_be_null', 'kwargs': {'column': 'ONSCENE_TIME_EASTERN', 'mostly': 0.79, 'result_format': 'SUMMARY'}}, 'exception_info': {'raised_exception': False, 'exception_message': None, 'exception_traceback': None}}\n",
      "ONSCENE_TIME_UTC\n",
      "{'success': True, 'result': {'element_count': 2125493, 'unexpected_count': 396216, 'unexpected_percent': 18.641134080422752, 'partial_unexpected_list': []}, 'expectation_config': {'expectation_type': 'expect_column_values_to_not_be_null', 'kwargs': {'column': 'ONSCENE_TIME_UTC', 'mostly': 0.79, 'result_format': 'SUMMARY'}}, 'exception_info': {'raised_exception': False, 'exception_message': None, 'exception_traceback': None}}\n",
      "ONSCENE_TIME_LOCAL\n",
      "{'success': True, 'result': {'element_count': 2125493, 'unexpected_count': 401286, 'unexpected_percent': 18.879666976085076, 'partial_unexpected_list': []}, 'expectation_config': {'expectation_type': 'expect_column_values_to_not_be_null', 'kwargs': {'column': 'ONSCENE_TIME_LOCAL', 'mostly': 0.79, 'result_format': 'SUMMARY'}}, 'exception_info': {'raised_exception': False, 'exception_message': None, 'exception_traceback': None}}\n"
     ]
    },
    {
     "ename": "KeyboardInterrupt",
     "evalue": "",
     "output_type": "error",
     "traceback": [
      "\u001b[0;31m---------------------------------------------------------------------------\u001b[0m",
      "\u001b[0;31mKeyboardInterrupt\u001b[0m                         Traceback (most recent call last)",
      "\u001b[0;32m<ipython-input-147-53cc679a45a0>\u001b[0m in \u001b[0;36m<module>\u001b[0;34m\u001b[0m\n\u001b[1;32m      2\u001b[0m     print(col, batch.expect_column_values_to_not_be_null(col, mostly=weight, include_config=True,\n\u001b[1;32m      3\u001b[0m                                                            \u001b[0mcatch_exceptions\u001b[0m\u001b[0;34m=\u001b[0m\u001b[0;32mTrue\u001b[0m\u001b[0;34m,\u001b[0m\u001b[0;34m\u001b[0m\u001b[0;34m\u001b[0m\u001b[0m\n\u001b[0;32m----> 4\u001b[0;31m                                                            result_format='SUMMARY'), sep='\\n')\n\u001b[0m",
      "\u001b[0;32m~/opt/anaconda3/envs/airflow/lib/python3.7/site-packages/great_expectations/data_asset/util.py\u001b[0m in \u001b[0;36mf\u001b[0;34m(*args, **kwargs)\u001b[0m\n\u001b[1;32m     83\u001b[0m         \u001b[0;34m@\u001b[0m\u001b[0mwraps\u001b[0m\u001b[0;34m(\u001b[0m\u001b[0mself\u001b[0m\u001b[0;34m.\u001b[0m\u001b[0mmthd\u001b[0m\u001b[0;34m,\u001b[0m \u001b[0massigned\u001b[0m\u001b[0;34m=\u001b[0m\u001b[0;34m(\u001b[0m\u001b[0;34m'__name__'\u001b[0m\u001b[0;34m,\u001b[0m \u001b[0;34m'__module__'\u001b[0m\u001b[0;34m)\u001b[0m\u001b[0;34m)\u001b[0m\u001b[0;34m\u001b[0m\u001b[0;34m\u001b[0m\u001b[0m\n\u001b[1;32m     84\u001b[0m         \u001b[0;32mdef\u001b[0m \u001b[0mf\u001b[0m\u001b[0;34m(\u001b[0m\u001b[0;34m*\u001b[0m\u001b[0margs\u001b[0m\u001b[0;34m,\u001b[0m \u001b[0;34m**\u001b[0m\u001b[0mkwargs\u001b[0m\u001b[0;34m)\u001b[0m\u001b[0;34m:\u001b[0m\u001b[0;34m\u001b[0m\u001b[0;34m\u001b[0m\u001b[0m\n\u001b[0;32m---> 85\u001b[0;31m             \u001b[0;32mreturn\u001b[0m \u001b[0mself\u001b[0m\u001b[0;34m.\u001b[0m\u001b[0mmthd\u001b[0m\u001b[0;34m(\u001b[0m\u001b[0mobj\u001b[0m\u001b[0;34m,\u001b[0m \u001b[0;34m*\u001b[0m\u001b[0margs\u001b[0m\u001b[0;34m,\u001b[0m \u001b[0;34m**\u001b[0m\u001b[0mkwargs\u001b[0m\u001b[0;34m)\u001b[0m\u001b[0;34m\u001b[0m\u001b[0;34m\u001b[0m\u001b[0m\n\u001b[0m\u001b[1;32m     86\u001b[0m \u001b[0;34m\u001b[0m\u001b[0m\n\u001b[1;32m     87\u001b[0m         \u001b[0mf\u001b[0m\u001b[0;34m.\u001b[0m\u001b[0m__doc__\u001b[0m \u001b[0;34m=\u001b[0m \u001b[0mdoc\u001b[0m\u001b[0;34m\u001b[0m\u001b[0;34m\u001b[0m\u001b[0m\n",
      "\u001b[0;32m~/opt/anaconda3/envs/airflow/lib/python3.7/site-packages/great_expectations/data_asset/data_asset.py\u001b[0m in \u001b[0;36mwrapper\u001b[0;34m(self, *args, **kwargs)\u001b[0m\n\u001b[1;32m    221\u001b[0m                 \u001b[0;32mif\u001b[0m \u001b[0mself\u001b[0m\u001b[0;34m.\u001b[0m\u001b[0m_config\u001b[0m\u001b[0;34m.\u001b[0m\u001b[0mget\u001b[0m\u001b[0;34m(\u001b[0m\u001b[0;34m\"interactive_evaluation\"\u001b[0m\u001b[0;34m,\u001b[0m \u001b[0;32mTrue\u001b[0m\u001b[0;34m)\u001b[0m \u001b[0;32mor\u001b[0m \u001b[0mself\u001b[0m\u001b[0;34m.\u001b[0m\u001b[0m_active_validation\u001b[0m\u001b[0;34m:\u001b[0m\u001b[0;34m\u001b[0m\u001b[0;34m\u001b[0m\u001b[0m\n\u001b[1;32m    222\u001b[0m                     \u001b[0;32mtry\u001b[0m\u001b[0;34m:\u001b[0m\u001b[0;34m\u001b[0m\u001b[0;34m\u001b[0m\u001b[0m\n\u001b[0;32m--> 223\u001b[0;31m                         \u001b[0mreturn_obj\u001b[0m \u001b[0;34m=\u001b[0m \u001b[0mfunc\u001b[0m\u001b[0;34m(\u001b[0m\u001b[0mself\u001b[0m\u001b[0;34m,\u001b[0m \u001b[0;34m**\u001b[0m\u001b[0mevaluation_args\u001b[0m\u001b[0;34m)\u001b[0m\u001b[0;34m\u001b[0m\u001b[0;34m\u001b[0m\u001b[0m\n\u001b[0m\u001b[1;32m    224\u001b[0m \u001b[0;34m\u001b[0m\u001b[0m\n\u001b[1;32m    225\u001b[0m                     \u001b[0;32mexcept\u001b[0m \u001b[0mException\u001b[0m \u001b[0;32mas\u001b[0m \u001b[0merr\u001b[0m\u001b[0;34m:\u001b[0m\u001b[0;34m\u001b[0m\u001b[0;34m\u001b[0m\u001b[0m\n",
      "\u001b[0;32m~/opt/anaconda3/envs/airflow/lib/python3.7/site-packages/great_expectations/dataset/pandas_dataset.py\u001b[0m in \u001b[0;36minner_wrapper\u001b[0;34m(self, column, mostly, result_format, *args, **kwargs)\u001b[0m\n\u001b[1;32m     79\u001b[0m             \u001b[0;32mif\u001b[0m \u001b[0mlen\u001b[0m\u001b[0;34m(\u001b[0m\u001b[0mignore_values\u001b[0m\u001b[0;34m)\u001b[0m \u001b[0;34m==\u001b[0m \u001b[0;36m0\u001b[0m\u001b[0;34m:\u001b[0m\u001b[0;34m\u001b[0m\u001b[0;34m\u001b[0m\u001b[0m\n\u001b[1;32m     80\u001b[0m                 boolean_mapped_null_values = np.array(\n\u001b[0;32m---> 81\u001b[0;31m                     [False for value in series])\n\u001b[0m\u001b[1;32m     82\u001b[0m             \u001b[0;32melse\u001b[0m\u001b[0;34m:\u001b[0m\u001b[0;34m\u001b[0m\u001b[0;34m\u001b[0m\u001b[0m\n\u001b[1;32m     83\u001b[0m                 boolean_mapped_null_values = np.array([True if (value in ignore_values) or (pd.isnull(value)) else False\n",
      "\u001b[0;32m~/opt/anaconda3/envs/airflow/lib/python3.7/site-packages/great_expectations/dataset/pandas_dataset.py\u001b[0m in \u001b[0;36m<listcomp>\u001b[0;34m(.0)\u001b[0m\n\u001b[1;32m     79\u001b[0m             \u001b[0;32mif\u001b[0m \u001b[0mlen\u001b[0m\u001b[0;34m(\u001b[0m\u001b[0mignore_values\u001b[0m\u001b[0;34m)\u001b[0m \u001b[0;34m==\u001b[0m \u001b[0;36m0\u001b[0m\u001b[0;34m:\u001b[0m\u001b[0;34m\u001b[0m\u001b[0;34m\u001b[0m\u001b[0m\n\u001b[1;32m     80\u001b[0m                 boolean_mapped_null_values = np.array(\n\u001b[0;32m---> 81\u001b[0;31m                     [False for value in series])\n\u001b[0m\u001b[1;32m     82\u001b[0m             \u001b[0;32melse\u001b[0m\u001b[0;34m:\u001b[0m\u001b[0;34m\u001b[0m\u001b[0;34m\u001b[0m\u001b[0m\n\u001b[1;32m     83\u001b[0m                 boolean_mapped_null_values = np.array([True if (value in ignore_values) or (pd.isnull(value)) else False\n",
      "\u001b[0;31mKeyboardInterrupt\u001b[0m: "
     ]
    }
   ],
   "source": [
    "for col, weight in null_col_weights.items():\n",
    "    print(col, batch.expect_column_values_to_not_be_null(col, mostly=weight, include_config=True,\n",
    "                                                           catch_exceptions=True,\n",
    "                                                           result_format='SUMMARY'), sep='\\n')"
   ]
  },
  {
   "cell_type": "markdown",
   "metadata": {},
   "source": [
    "### 5. Expecting column values to be in a set\n",
    "- COMPLAINT_CATEGORY\n",
    "- COMPLAINT_REASON\n",
    "- COMPLAINT_REASON_DETAILS\n",
    "- COMPLAINT_ORGIN\n",
    "- CASE_RESOLUTION\n",
    "- COMPLAINT_TYPE"
   ]
  },
  {
   "cell_type": "code",
   "execution_count": 134,
   "metadata": {},
   "outputs": [],
   "source": [
    "from snowflake.connector.converter_null import SnowflakeNoConverterToPython\n",
    "def snowflake_connector_to_df(query: str) -> pd.DataFrame:\n",
    "    sf_creds = load_credentials()\n",
    "    ctx = snowflake.connector.connect(\n",
    "        user=sf_creds['dsa_username'],\n",
    "        password=sf_creds['dsa_password'],\n",
    "        account=sf_creds['dsa_account'],\n",
    "        database=sf_creds['dsa_master_database'],\n",
    "        schema=sf_creds['dsa_schema'],\n",
    "        warehouse=sf_creds['dsa_warehouse'],\n",
    "        role=sf_creds['dsa_etl_role'],\n",
    "        converter_class=SnowflakeNoConverterToPython\n",
    "    )\n",
    "    cur = ctx.cursor()\n",
    "    try:\n",
    "        cur.execute(query)\n",
    "        df = cur.fetch_pandas_all()\n",
    "    finally:\n",
    "        cur.close()\n",
    "    return df"
   ]
  },
  {
   "cell_type": "code",
   "execution_count": 135,
   "metadata": {},
   "outputs": [],
   "source": [
    "from snowflake.connector.converter_null import SnowflakeNoConverterToPython\n",
    "def snowflake_connector_to_df(query: str) -> pd.DataFrame:\n",
    "    sf_creds = gda.load_credentials()\n",
    "    ctx = snowflake.connector.connect(\n",
    "        user=sf_creds['dsa_username'],\n",
    "        password=sf_creds['dsa_password'],\n",
    "        account=sf_creds['dsa_account'],\n",
    "        database=sf_creds['dsa_master_database'],\n",
    "        schema=sf_creds['dsa_schema'],\n",
    "        warehouse=sf_creds['dsa_warehouse'],\n",
    "        role=sf_creds['dsa_etl_role'],\n",
    "        converter_class=SnowflakeNoConverterToPython\n",
    "    )\n",
    "    cur = ctx.cursor()\n",
    "    try:\n",
    "        cur.execute(query)\n",
    "        df = cur.fetch_pandas_all()\n",
    "    finally:\n",
    "        cur.close()\n",
    "    return df"
   ]
  },
  {
   "cell_type": "code",
   "execution_count": 148,
   "metadata": {},
   "outputs": [
    {
     "data": {
      "text/plain": [
       "['CASE_ID',\n",
       " 'TASK_ID',\n",
       " 'DRIVER_PROFILE_ID',\n",
       " 'DISPATCHER_PROFILE_ID',\n",
       " 'ENROUTE_LATITUDE',\n",
       " 'ENROUTE_LONGITUDE',\n",
       " 'ONSCENE_LATITUDE',\n",
       " 'ONSCENE_LONGITUDE',\n",
       " 'TOW_IN_PROGRESS_LATITUDE',\n",
       " 'TOW_IN_PROGRESS_LONGITUDE',\n",
       " 'TOW_ARRIVED_LATITUDE',\n",
       " 'TOW_ARRIVED_LONGITUDE',\n",
       " 'COMPLETED_LATITUDE',\n",
       " 'COMPLETED_LONGITUDE',\n",
       " 'STATUS_SOURCE',\n",
       " 'ASSIGNED_SOURCE_DETAILS',\n",
       " 'ENROUTE_SOURCE_DETAILS',\n",
       " 'ONSCENE_SOURCE_DETAILS',\n",
       " 'TOW_IN_PROGRESS_SOURCE_DETAILS',\n",
       " 'TOW_ARRIVED_SOURCE_DETAILS',\n",
       " 'COMPLETED_SOURCE_DETAILS',\n",
       " 'SERVICE_TIME_EASTERN',\n",
       " 'SERVICE_TIME_UTC',\n",
       " 'SERVICE_TIME_LOCAL',\n",
       " 'ASSIGNED_TIME_EASTERN',\n",
       " 'ASSIGNED_TIME_UTC',\n",
       " 'ASSIGNED_TIME_LOCAL',\n",
       " 'ENROUTE_TIME_EASTERN',\n",
       " 'ENROUTE_TIME_UTC',\n",
       " 'ENROUTE_TIME_LOCAL',\n",
       " 'ONSCENE_TIME_EASTERN',\n",
       " 'ONSCENE_TIME_UTC',\n",
       " 'ONSCENE_TIME_LOCAL',\n",
       " 'TOW_IN_PROGRESS_TIME_EASTERN',\n",
       " 'TOW_IN_PROGRESS_TIME_UTC',\n",
       " 'TOW_IN_PROGRESS_TIME_LOCAL',\n",
       " 'TOW_ARRIVED_TIME_EASTERN',\n",
       " 'TOW_ARRIVED_TIME_UTC',\n",
       " 'TOW_ARRIVED_TIME_LOCAL',\n",
       " 'COMPLETED_TIME_EASTERN',\n",
       " 'COMPLETED_TIME_UTC',\n",
       " 'COMPLETED_TIME_LOCAL']"
      ]
     },
     "execution_count": 148,
     "metadata": {},
     "output_type": "execute_result"
    }
   ],
   "source": [
    "master_column_names\n"
   ]
  },
  {
   "cell_type": "code",
   "execution_count": 152,
   "metadata": {},
   "outputs": [],
   "source": [
    "c_weights = {}\n",
    "for col in master_column_names:\n",
    "    unique_weights = rule_df[col].value_counts(normalize=True) * 100\n",
    "    c_weights[col] = unique_weights.values.mean().round(5)"
   ]
  },
  {
   "cell_type": "code",
   "execution_count": 153,
   "metadata": {},
   "outputs": [
    {
     "data": {
      "text/plain": [
       "{'CASE_ID': 5e-05,\n",
       " 'TASK_ID': 6.66667,\n",
       " 'DRIVER_PROFILE_ID': 0.00392,\n",
       " 'DISPATCHER_PROFILE_ID': 0.02138,\n",
       " 'ENROUTE_LATITUDE': 7e-05,\n",
       " 'ENROUTE_LONGITUDE': 7e-05,\n",
       " 'ONSCENE_LATITUDE': 7e-05,\n",
       " 'ONSCENE_LONGITUDE': 7e-05,\n",
       " 'TOW_IN_PROGRESS_LATITUDE': 0.00012,\n",
       " 'TOW_IN_PROGRESS_LONGITUDE': 0.00012,\n",
       " 'TOW_ARRIVED_LATITUDE': 0.00021,\n",
       " 'TOW_ARRIVED_LONGITUDE': 0.00021,\n",
       " 'COMPLETED_LATITUDE': 6e-05,\n",
       " 'COMPLETED_LONGITUDE': 6e-05,\n",
       " 'STATUS_SOURCE': 8.33333,\n",
       " 'ASSIGNED_SOURCE_DETAILS': 50.0,\n",
       " 'ENROUTE_SOURCE_DETAILS': 11.11111,\n",
       " 'ONSCENE_SOURCE_DETAILS': 7.14286,\n",
       " 'TOW_IN_PROGRESS_SOURCE_DETAILS': 12.5,\n",
       " 'TOW_ARRIVED_SOURCE_DETAILS': 14.28571,\n",
       " 'COMPLETED_SOURCE_DETAILS': 9.09091,\n",
       " 'SERVICE_TIME_EASTERN': 7e-05,\n",
       " 'SERVICE_TIME_UTC': 7e-05,\n",
       " 'SERVICE_TIME_LOCAL': 7e-05,\n",
       " 'ASSIGNED_TIME_EASTERN': 6e-05,\n",
       " 'ASSIGNED_TIME_UTC': 6e-05,\n",
       " 'ASSIGNED_TIME_LOCAL': 6e-05,\n",
       " 'ENROUTE_TIME_EASTERN': 7e-05,\n",
       " 'ENROUTE_TIME_UTC': 7e-05,\n",
       " 'ENROUTE_TIME_LOCAL': 7e-05,\n",
       " 'ONSCENE_TIME_EASTERN': 7e-05,\n",
       " 'ONSCENE_TIME_UTC': 7e-05,\n",
       " 'ONSCENE_TIME_LOCAL': 7e-05,\n",
       " 'TOW_IN_PROGRESS_TIME_EASTERN': 0.00012,\n",
       " 'TOW_IN_PROGRESS_TIME_UTC': 0.00012,\n",
       " 'TOW_IN_PROGRESS_TIME_LOCAL': 0.00012,\n",
       " 'TOW_ARRIVED_TIME_EASTERN': 0.00021,\n",
       " 'TOW_ARRIVED_TIME_UTC': 0.00021,\n",
       " 'TOW_ARRIVED_TIME_LOCAL': 0.00021,\n",
       " 'COMPLETED_TIME_EASTERN': 6e-05,\n",
       " 'COMPLETED_TIME_UTC': 6e-05,\n",
       " 'COMPLETED_TIME_LOCAL': 6e-05}"
      ]
     },
     "execution_count": 153,
     "metadata": {},
     "output_type": "execute_result"
    }
   ],
   "source": [
    "c_weights"
   ]
  },
  {
   "cell_type": "code",
   "execution_count": 164,
   "metadata": {},
   "outputs": [],
   "source": [
    "def get_categorical_columns_values(df: Union[pd.DataFrame, PandasDataset], cols: list, table_name: str) -> dict:\n",
    "\tc_weights = {}\n",
    "\tfor col in cols:\n",
    "\t\tunique_weights = df[col].value_counts(normalize=True) * 100\n",
    "\t\tc_weights[col] = unique_weights.values.mean().round(5)\n",
    "\t\t\n",
    "\tcat_weight_dict = {c: w for (c, w) in c_weights.items() if w > 0.9 if df[c].dtypes != bool\n",
    "\t                   if c not in ['TASK_ID', 'task_id'] if c not in ['CLIENT_ID', 'client_id']}\n",
    "\t\n",
    "\texecute_strings = ' '.join(f\"SELECT DISTINCT {c_name} FROM {table_name};\" for c_name in cat_weight_dict.keys())\n",
    "\tctx = gda.get_snowflake_connector()\n",
    "\t\n",
    "\tcursor_list = ctx.execute_string(execute_strings, remove_comments=True, return_cursors=True)\n",
    "\tcategory_col_values = {}\n",
    "\tfor cur in cursor_list:\n",
    "\t\tcol_names = ','.join([col[0] for col in cur.description])\n",
    "\t\tcat_values = [x[0] for x in cur.fetchall() if x[0]]\n",
    "\t\tcategory_col_values[col_names] = cat_values\n",
    "\treturn category_col_values"
   ]
  },
  {
   "cell_type": "code",
   "execution_count": 157,
   "metadata": {},
   "outputs": [],
   "source": [
    "dtest = get_categorical_columns_values(rule_df, master_column_names, 'service_progress')"
   ]
  },
  {
   "cell_type": "code",
   "execution_count": 168,
   "metadata": {
    "scrolled": true
   },
   "outputs": [
    {
     "name": "stdout",
     "output_type": "stream",
     "text": [
      "{'STATUS_SOURCE': ['pulsar-connection-app', 'swoop_digital_dispatch', 'towmagic', 'roadsideconnect', 'towxchangetopsinterfaceprod', 'rangersst', 'towmagic4-prod', 'inman_app_issc', '&src:automaticstatusupdate', 'towbook', 'roadsideconnect-ios-app', 'agero_html5-agerosupport-web-portal', 'progrssive-platforms-dispatch-app', 'trackerddlive'], 'ASSIGNED_SOURCE_DETAILS': ['autoassigned', 'autoassi', 'autoas'], 'ENROUTE_SOURCE_DETAILS': ['tomtom; error', 'unknown', 'android', 'pulsar', 'ranger', 'txi', 'tomtom', 'ios', 'swoop', 'towmagic4'], 'ONSCENE_SOURCE_DETAILS': ['automaticstatusupd', 'tomtom; error', 'ios-geofence-ss', 'unknown', 'automaticstatusupdate aws-g', 'issc', 'system', 'automaticstatusupda', 'android', 'pulsar', 'automaticstatu', 'towbook', 'automaticstatusupdate aws-gf', 'txi', 'ranger', 'automa', 'tomtom', 'automaticstatusupdate aws-', 'ios', 'swoop', 'towmagic4', 'android-geofence-ss', '-geofence-ss'], 'TOW_IN_PROGRESS_SOURCE_DETAILS': ['automaticstatusupd', 'tomtom; error', 'unknown', 'automaticstatusupda', 'android', 'automaticstatu', 'automaticstatusupdate aws-gf', 'ranger', 'tomtom', 'automa', 'automaticstatusupdate aws-', 'ios', 'swoop', 'towmagic4'], 'TOW_ARRIVED_SOURCE_DETAILS': ['automaticstatusupd', 'automaticstatu', 'automaticstatusupdate aws-gf', 'txi', 'ranger', 'automa', 'automaticstatusupdate aws-', 'swoop', 'towmagic4'], 'COMPLETED_SOURCE_DETAILS': ['automaticstatusupd', 'unknown', 'issc', 'system', 'android', 'pulsar', 'automaticstatu', 'agero_html5-agerosupport-web-portal', 'automaticstatusupdate aws-gf', 'txi', 'tomtom', 'ranger', 'automa', 'ios', 'automaticstatusupdate aws-', 'swoop', 'towmagic4']}\n"
     ]
    }
   ],
   "source": [
    "print(dtest)"
   ]
  },
  {
   "cell_type": "code",
   "execution_count": 419,
   "metadata": {},
   "outputs": [
    {
     "data": {
      "text/plain": [
       "[8, 73, 8, 13, 34, 39]"
      ]
     },
     "execution_count": 419,
     "metadata": {},
     "output_type": "execute_result"
    }
   ],
   "source": [
    "[len(x) for x in val_set_list]"
   ]
  },
  {
   "cell_type": "code",
   "execution_count": 248,
   "metadata": {},
   "outputs": [],
   "source": [
    "execute_strings = ' '.join(f\"SELECT DISTINCT {col} FROM customer_complaints;\" for col in cat_dict)"
   ]
  },
  {
   "cell_type": "code",
   "execution_count": 249,
   "metadata": {},
   "outputs": [
    {
     "data": {
      "text/plain": [
       "'SELECT DISTINCT CASE_RESOLUTION FROM customer_complaints; SELECT DISTINCT COMPLAINT_CATEGORY FROM customer_complaints; SELECT DISTINCT COMPLAINT_ORIGIN FROM customer_complaints; SELECT DISTINCT COMPLAINT_REASON FROM customer_complaints; SELECT DISTINCT COMPLAINT_REASON_DETAILS FROM customer_complaints; SELECT DISTINCT COMPLAINT_TYPE FROM customer_complaints;'"
      ]
     },
     "execution_count": 249,
     "metadata": {},
     "output_type": "execute_result"
    }
   ],
   "source": [
    "execute_strings"
   ]
  },
  {
   "cell_type": "code",
   "execution_count": 292,
   "metadata": {
    "scrolled": true
   },
   "outputs": [
    {
     "name": "stdout",
     "output_type": "stream",
     "text": [
      "42\n",
      "11\n",
      "23\n",
      "89\n",
      "38\n",
      "62\n"
     ]
    }
   ],
   "source": [
    "for v in category_col_values.values():\n",
    "    print(len(v))"
   ]
  },
  {
   "cell_type": "code",
   "execution_count": 269,
   "metadata": {},
   "outputs": [],
   "source": [
    "frames = []\n",
    "for cur in cursor_list:\n",
    "    df = cur.fetch_pandas_all()\n",
    "    frames.append(df)\n",
    "cat_df = pd.concat(frames)"
   ]
  },
  {
   "cell_type": "code",
   "execution_count": 272,
   "metadata": {},
   "outputs": [],
   "source": [
    "cat_df3 = cat_df.drop_duplicates()"
   ]
  },
  {
   "cell_type": "code",
   "execution_count": 271,
   "metadata": {},
   "outputs": [
    {
     "data": {
      "text/plain": [
       "12"
      ]
     },
     "execution_count": 271,
     "metadata": {},
     "output_type": "execute_result"
    }
   ],
   "source": [
    "cat_df.COMPLAINT_CATEGORY.nunique()"
   ]
  },
  {
   "cell_type": "code",
   "execution_count": 428,
   "metadata": {},
   "outputs": [],
   "source": [
    "val_set_list = []\n",
    "\n",
    "for col in master_categorical_columns:\n",
    "    list_sets = list(batch.get_column_value_counts(col, sort='count').keys())\n",
    "    val_set_list.append(list_sets)"
   ]
  },
  {
   "cell_type": "code",
   "execution_count": 429,
   "metadata": {},
   "outputs": [
    {
     "name": "stdout",
     "output_type": "stream",
     "text": [
      "COMPLAINT_CATEGORY 8\n",
      "COMPLAINT_REASON 73\n",
      "COMPLAINT_REASON_DETAILS 8\n",
      "COMPLAINT_ORIGIN 13\n",
      "CASE_RESOLUTION 34\n",
      "COMPLAINT_TYPE 39\n"
     ]
    }
   ],
   "source": [
    "for c, v in zip(master_categorical_columns, val_set_list):\n",
    "    print(c, len(v))"
   ]
  },
  {
   "cell_type": "code",
   "execution_count": 79,
   "metadata": {},
   "outputs": [
    {
     "name": "stdout",
     "output_type": "stream",
     "text": [
      "ORIGINAL_CLAIM_STATUS_CODE \n",
      " {'success': True, 'result': {'element_count': 2678943, 'missing_count': 0, 'missing_percent': 0.0, 'unexpected_count': 0, 'unexpected_percent': 0.0, 'unexpected_percent_nonmissing': 0.0, 'partial_unexpected_list': []}, 'expectation_config': {'expectation_type': 'expect_column_values_to_be_in_set', 'kwargs': {'column': 'ORIGINAL_CLAIM_STATUS_CODE', 'value_set': ['AP', 'DP', 'FC', 'FP', 'HD', 'IN', 'PA', 'PC', 'PD', 'PJ', 'SP', 'VD'], 'result_format': 'BASIC'}}, 'exception_info': {'raised_exception': False, 'exception_message': None, 'exception_traceback': None}} \n",
      "\n",
      "ORIGINAL_CLAIM_TYPE_CODE \n",
      " {'success': True, 'result': {'element_count': 2678943, 'missing_count': 0, 'missing_percent': 0.0, 'unexpected_count': 0, 'unexpected_percent': 0.0, 'unexpected_percent_nonmissing': 0.0, 'partial_unexpected_list': []}, 'expectation_config': {'expectation_type': 'expect_column_values_to_be_in_set', 'kwargs': {'column': 'ORIGINAL_CLAIM_TYPE_CODE', 'value_set': ['OWN', 'VND'], 'result_format': 'BASIC'}}, 'exception_info': {'raised_exception': False, 'exception_message': None, 'exception_traceback': None}} \n",
      "\n",
      "SERVICE_ID \n",
      " {'success': True, 'result': {'element_count': 2678943, 'missing_count': 0, 'missing_percent': 0.0, 'unexpected_count': 0, 'unexpected_percent': 0.0, 'unexpected_percent_nonmissing': 0.0, 'partial_unexpected_list': []}, 'expectation_config': {'expectation_type': 'expect_column_values_to_be_in_set', 'kwargs': {'column': 'SERVICE_ID', 'value_set': ['GOA', 'LOCK', 'Lock', 'NA', 'REPO', 'ROAD', 'Road', 'TOW', 'Tow', 'Winch', 'null', 'tow'], 'result_format': 'BASIC'}}, 'exception_info': {'raised_exception': False, 'exception_message': None, 'exception_traceback': None}} \n",
      "\n"
     ]
    }
   ],
   "source": [
    "for col, vals in zip(category_cols, val_set_list):\n",
    "    print(col, '\\n', batch.expect_column_values_to_be_in_set(col, vals, result_format='BASIC', \n",
    "                                        include_config=True, catch_exceptions=True), '\\n')"
   ]
  },
  {
   "cell_type": "code",
   "execution_count": 431,
   "metadata": {},
   "outputs": [],
   "source": [
    "pd.set_option('display.max_rows', 500)\n",
    "pd.set_option('display.max_columns', 500)\n",
    "pd.set_option('display.width', 1000)"
   ]
  },
  {
   "cell_type": "markdown",
   "metadata": {},
   "source": [
    "### 8. Determine if columns are unique per row\n",
    "- CASE_ID, TASK_ID"
   ]
  },
  {
   "cell_type": "code",
   "execution_count": 171,
   "metadata": {},
   "outputs": [
    {
     "data": {
      "text/plain": [
       "{'success': True,\n",
       " 'result': {'element_count': 2125493,\n",
       "  'missing_count': 0,\n",
       "  'missing_percent': 0.0,\n",
       "  'unexpected_count': 0,\n",
       "  'unexpected_percent': 0.0,\n",
       "  'unexpected_percent_nonmissing': 0.0,\n",
       "  'partial_unexpected_list': [],\n",
       "  'partial_unexpected_index_list': [],\n",
       "  'partial_unexpected_counts': []},\n",
       " 'expectation_config': {'expectation_type': 'expect_multicolumn_values_to_be_unique',\n",
       "  'kwargs': {'column_list': ['CASE_ID', 'TASK_ID'],\n",
       "   'result_format': 'SUMMARY'}},\n",
       " 'exception_info': {'raised_exception': False,\n",
       "  'exception_message': None,\n",
       "  'exception_traceback': None}}"
      ]
     },
     "execution_count": 171,
     "metadata": {},
     "output_type": "execute_result"
    }
   ],
   "source": [
    "batch.expect_multicolumn_values_to_be_unique(column_list=['CASE_ID', 'TASK_ID'], result_format='SUMMARY',\n",
    "                                            catch_exceptions=True, include_config=True)"
   ]
  },
  {
   "cell_type": "markdown",
   "metadata": {},
   "source": [
    "### 9. Looking at column A to be greater than column B\n",
    "- COMPLETED_TIME_UTC > SERVICE_TIME_UTC\n",
    "- ASSIGNED_TIME_UTC > SERVICE_TIME_UTC\n",
    "- ENROUTE_TIME_UTC > ASSIGNED_TIME_UTC\n",
    "- ONSCENE_TIME_UTC > ENROUTE_TIME_UTC\n",
    "- TOW_IN_PROGRESS_TIME_UTC > ONSCENE_TIME_UTC\n",
    "- TOW_ARRIVED_TIME_UTC > TOW_IN_PROGRESS_TIME_UTC\n",
    "- COMPLETED_TIME_UTC > TOW_ARRIVED_TIME_UTC"
   ]
  },
  {
   "cell_type": "code",
   "execution_count": 192,
   "metadata": {},
   "outputs": [
    {
     "name": "stdout",
     "output_type": "stream",
     "text": [
      "COMPLETED_TIME_UTC TOW_ARRIVED_TIME_UTC\n"
     ]
    }
   ],
   "source": [
    "print(larger_than_cols[-1][0], larger_than_cols[-1][1])"
   ]
  },
  {
   "cell_type": "code",
   "execution_count": 194,
   "metadata": {},
   "outputs": [
    {
     "data": {
      "text/plain": [
       "{'success': True,\n",
       " 'result': {'element_count': 2125493,\n",
       "  'missing_count': 1615199,\n",
       "  'missing_percent': 75.99173462344972,\n",
       "  'unexpected_count': 26604,\n",
       "  'unexpected_percent': 1.251662555463603,\n",
       "  'unexpected_percent_nonmissing': 5.213465178896872,\n",
       "  'partial_unexpected_list': [['2019-10-06 18:19:46', '2019-10-06 18:19:47'],\n",
       "   ['2019-10-06 18:23:01', '2019-10-06 18:23:02'],\n",
       "   ['2019-10-06 20:21:42', '2019-10-06 20:21:44'],\n",
       "   ['2019-10-06 18:41:25', '2019-10-06 18:41:26'],\n",
       "   ['2019-10-06 19:08:42', '2019-10-06 19:08:43'],\n",
       "   ['2019-10-06 18:48:17', '2019-10-06 18:48:19'],\n",
       "   ['2019-10-06 18:47:33', '2019-10-06 19:10:24'],\n",
       "   ['2019-10-06 18:31:25', '2019-10-06 18:31:27'],\n",
       "   ['2019-10-06 19:12:37', '2019-10-06 19:12:38'],\n",
       "   ['2019-10-06 19:22:11', '2019-10-06 19:22:13'],\n",
       "   ['2019-10-06 19:17:05', '2019-10-06 20:11:40'],\n",
       "   ['2019-10-06 17:38:59', '2019-10-06 19:02:42'],\n",
       "   ['2019-10-06 18:52:57', '2019-10-06 18:52:58'],\n",
       "   ['2019-10-06 18:54:02', '2019-10-06 18:54:04'],\n",
       "   ['2019-10-06 21:32:30', '2019-10-06 21:32:31'],\n",
       "   ['2019-10-06 20:04:47', '2019-10-06 20:04:49'],\n",
       "   ['2019-10-06 19:27:23', '2019-10-06 19:27:24'],\n",
       "   ['2019-10-06 18:32:20', '2019-10-06 18:32:21'],\n",
       "   ['2019-10-06 19:08:01', '2019-10-06 19:08:03'],\n",
       "   ['2019-10-06 19:12:10', '2019-10-06 19:28:59']],\n",
       "  'partial_unexpected_index_list': [67,\n",
       "   460,\n",
       "   497,\n",
       "   504,\n",
       "   594,\n",
       "   597,\n",
       "   895,\n",
       "   1039,\n",
       "   1104,\n",
       "   1155,\n",
       "   1247,\n",
       "   1316,\n",
       "   1341,\n",
       "   1462,\n",
       "   1608,\n",
       "   1611,\n",
       "   1642,\n",
       "   1672,\n",
       "   1678,\n",
       "   1692],\n",
       "  'partial_unexpected_counts': [{'value': ['2019-10-01 23:01:40',\n",
       "     '2019-10-01 23:01:41'],\n",
       "    'count': 2},\n",
       "   {'value': ['2019-10-03 02:32:13', '2019-10-03 02:32:14'], 'count': 2},\n",
       "   {'value': ['2019-10-04 00:30:06', '2019-10-04 00:30:07'], 'count': 2},\n",
       "   {'value': ['2019-10-04 20:36:19', '2019-10-04 20:36:20'], 'count': 2},\n",
       "   {'value': ['2019-10-07 21:30:07', '2019-10-07 21:30:09'], 'count': 2},\n",
       "   {'value': ['2019-10-13 04:04:03', '2019-10-13 04:04:04'], 'count': 2},\n",
       "   {'value': ['2019-10-23 15:38:42', '2019-10-23 15:38:43'], 'count': 2},\n",
       "   {'value': ['2019-10-23 16:33:43', '2019-10-23 16:33:44'], 'count': 2},\n",
       "   {'value': ['2019-11-04 20:38:38', '2019-11-04 20:38:39'], 'count': 2},\n",
       "   {'value': ['2019-11-06 00:37:30', '2019-11-06 00:37:31'], 'count': 2},\n",
       "   {'value': ['2019-11-07 21:23:20', '2019-11-07 21:23:21'], 'count': 2},\n",
       "   {'value': ['2019-11-08 16:07:58', '2019-11-08 16:07:59'], 'count': 2},\n",
       "   {'value': ['2019-11-17 02:37:14', '2019-11-17 02:37:15'], 'count': 2},\n",
       "   {'value': ['2019-11-23 16:16:16', '2019-11-23 16:16:17'], 'count': 2},\n",
       "   {'value': ['2019-11-23 17:27:36', '2019-11-23 17:27:37'], 'count': 2},\n",
       "   {'value': ['2019-11-23 21:03:04', '2019-11-23 21:03:05'], 'count': 2},\n",
       "   {'value': ['2019-11-25 20:19:30', '2019-11-25 20:19:31'], 'count': 2},\n",
       "   {'value': ['2019-11-25 21:23:58', '2019-11-25 21:23:59'], 'count': 2},\n",
       "   {'value': ['2019-12-02 22:03:57', '2019-12-02 22:03:58'], 'count': 2},\n",
       "   {'value': ['2019-12-19 20:14:43', '2019-12-19 20:14:45'], 'count': 2}]},\n",
       " 'exception_info': {'raised_exception': False,\n",
       "  'exception_message': None,\n",
       "  'exception_traceback': None}}"
      ]
     },
     "execution_count": 194,
     "metadata": {},
     "output_type": "execute_result"
    }
   ],
   "source": [
    "larger_than_cols = [[\"COMPLETED_TIME_UTC\", \"SERVICE_TIME_UTC\"], [\"ASSIGNED_TIME_UTC\", \"SERVICE_TIME_UTC\"],\n",
    "\t                    [\"ENROUTE_TIME_UTC\", \"ASSIGNED_TIME_UTC\"], [\"ONSCENE_TIME_UTC\", \"ENROUTE_TIME_UTC\"],\n",
    "\t                    [\"TOW_IN_PROGRESS_TIME_UTC\", \"ONSCENE_TIME_UTC\"],\n",
    "\t                    [\"TOW_ARRIVED_TIME_UTC\", \"TOW_IN_PROGRESS_TIME_UTC\"],\n",
    "\t                    [\"COMPLETED_TIME_UTC\", \"TOW_ARRIVED_TIME_UTC\"]]\n",
    "\n",
    "\n",
    "batch.expect_column_pair_values_A_to_be_greater_than_B(larger_than_cols[-1][0], larger_than_cols[-1][1], mostly=0.94,\n",
    "                                                       ignore_row_if='either_value_is_missing', or_equal=True,\n",
    "                                                       result_format='SUMMARY', catch_exceptions=True)"
   ]
  },
  {
   "cell_type": "code",
   "execution_count": 189,
   "metadata": {
    "scrolled": false
   },
   "outputs": [
    {
     "name": "stdout",
     "output_type": "stream",
     "text": [
      "['COMPLETED_TIME_UTC', 'SERVICE_TIME_UTC']\n",
      "{'success': True, 'result': {'element_count': 2125493, 'missing_count': 256088, 'missing_percent': 12.048404770093338, 'unexpected_count': 7320, 'unexpected_percent': 0.344390689595308, 'unexpected_percent_nonmissing': 0.3915684402256333, 'partial_unexpected_list': [['2019-10-06 23:24:32', '2019-10-06 23:30:00'], ['2019-10-06 20:40:58', '2019-10-06 21:30:00'], ['2019-10-06 20:21:41', '2019-10-06 21:00:00'], ['2019-10-06 21:10:52', '2019-10-06 21:30:00'], ['2019-10-06 22:47:12', '2019-10-06 23:30:00'], ['2019-10-06 23:20:02', '2019-10-06 23:30:00'], ['2019-10-07 00:08:55', '2019-10-07 00:30:00'], ['2019-10-07 00:42:52', '2019-10-07 01:00:00'], ['2019-10-07 03:34:48', '2019-10-07 04:00:00'], ['2019-10-15 14:03:42', '2019-10-15 14:30:00'], ['2019-10-15 14:15:16', '2019-10-15 15:00:00'], ['2019-10-15 19:19:46', '2019-10-15 20:00:00'], ['2019-10-15 19:23:51', '2019-10-15 20:00:00'], ['2019-10-15 20:25:36', '2019-10-15 20:30:00'], ['2019-10-15 16:19:57', '2019-10-15 16:30:00'], ['2019-10-16 13:48:06', '2019-10-16 14:00:00'], ['2019-10-15 14:37:34', '2019-10-15 16:22:09'], ['2019-10-15 17:24:35', '2019-10-15 17:30:00'], ['2019-10-15 16:59:03', '2019-10-15 17:00:00'], ['2019-10-15 17:16:55', '2019-10-15 17:30:00']], 'partial_unexpected_index_list': [941, 2173, 3394, 3472, 3701, 6787, 7078, 7192, 10208, 10853, 11246, 11745, 11746, 11787, 11806, 12444, 12841, 13300, 13378, 14265], 'partial_unexpected_counts': [{'value': ['2019-10-05 14:17:21', '2019-10-05 14:30:00'], 'count': 2}, {'value': ['2019-10-07 03:34:48', '2019-10-07 04:00:00'], 'count': 2}, {'value': ['2019-10-08 13:40:04', '2019-10-08 14:00:00'], 'count': 2}, {'value': ['2019-10-14 13:26:14', '2019-10-14 13:30:00'], 'count': 2}, {'value': ['2019-10-21 03:37:07', '2019-10-21 04:00:00'], 'count': 2}, {'value': ['2019-10-21 14:48:26', '2019-10-21 15:00:00'], 'count': 2}, {'value': ['2019-12-02 04:17:36', '2019-12-02 05:00:00'], 'count': 2}, {'value': ['2019-12-09 13:50:31', '2019-12-09 14:00:00'], 'count': 2}, {'value': ['2019-10-06 20:21:41', '2019-10-06 21:00:00'], 'count': 1}, {'value': ['2019-10-06 20:40:58', '2019-10-06 21:30:00'], 'count': 1}, {'value': ['2019-10-06 21:10:52', '2019-10-06 21:30:00'], 'count': 1}, {'value': ['2019-10-06 22:47:12', '2019-10-06 23:30:00'], 'count': 1}, {'value': ['2019-10-06 23:20:02', '2019-10-06 23:30:00'], 'count': 1}, {'value': ['2019-10-06 23:24:32', '2019-10-06 23:30:00'], 'count': 1}, {'value': ['2019-10-07 00:08:55', '2019-10-07 00:30:00'], 'count': 1}, {'value': ['2019-10-07 00:42:52', '2019-10-07 01:00:00'], 'count': 1}, {'value': ['2019-10-15 14:03:42', '2019-10-15 14:30:00'], 'count': 1}, {'value': ['2019-10-15 14:15:16', '2019-10-15 15:00:00'], 'count': 1}, {'value': ['2019-10-15 19:19:46', '2019-10-15 20:00:00'], 'count': 1}, {'value': ['2019-10-15 19:23:51', '2019-10-15 20:00:00'], 'count': 1}]}, 'exception_info': {'raised_exception': False, 'exception_message': None, 'exception_traceback': None}}\n",
      "['ASSIGNED_TIME_UTC', 'SERVICE_TIME_UTC']\n",
      "{'success': True, 'result': {'element_count': 2125493, 'missing_count': 256088, 'missing_percent': 12.048404770093338, 'unexpected_count': 34190, 'unexpected_percent': 1.6085679886972106, 'unexpected_percent_nonmissing': 1.8289241764090711, 'partial_unexpected_list': [['2019-10-06 17:31:18', '2019-10-06 18:30:00'], ['2019-10-06 17:00:46', '2019-10-06 18:00:00'], ['2019-10-06 19:15:28', '2019-10-06 20:00:00'], ['2019-10-06 22:32:38', '2019-10-06 23:30:00'], ['2019-10-06 18:25:21', '2019-10-06 18:30:00'], ['2019-10-06 18:02:08', '2019-10-06 19:00:00'], ['2019-10-06 19:06:15', '2019-10-06 19:30:00'], ['2019-10-06 18:03:44', '2019-10-06 19:00:00'], ['2019-10-06 18:32:48', '2019-10-06 19:30:00'], ['2019-10-06 19:33:46', '2019-10-06 20:30:00'], ['2019-10-06 19:34:30', '2019-10-06 20:30:00'], ['2019-10-06 20:32:41', '2019-10-06 21:30:00'], ['2019-10-06 21:01:42', '2019-10-06 22:00:00'], ['2019-10-06 19:32:52', '2019-10-06 20:30:00'], ['2019-10-06 18:29:05', '2019-10-06 18:37:51'], ['2019-10-06 21:02:12', '2019-10-06 22:00:00'], ['2019-10-06 21:01:35', '2019-10-06 22:00:00'], ['2019-10-06 20:05:08', '2019-10-06 21:00:00'], ['2019-10-06 20:32:48', '2019-10-06 21:30:00'], ['2019-10-06 22:46:57', '2019-10-06 23:30:00']], 'partial_unexpected_index_list': [104, 318, 659, 941, 1052, 1133, 1304, 1355, 1474, 1864, 2010, 2173, 2210, 2406, 2648, 3055, 3381, 3394, 3472, 3701], 'partial_unexpected_counts': [{'value': ['2019-11-13 20:02:30', '2019-11-13 21:00:00'], 'count': 3}, {'value': ['2019-11-29 13:02:02', '2019-11-29 14:00:00'], 'count': 3}, {'value': ['2019-12-04 15:01:18', '2019-12-04 16:00:00'], 'count': 3}, {'value': ['2019-12-09 14:01:52', '2019-12-09 15:00:00'], 'count': 3}, {'value': ['2019-12-10 13:02:20', '2019-12-10 14:00:00'], 'count': 3}, {'value': ['2019-12-14 16:02:40', '2019-12-14 17:00:00'], 'count': 3}, {'value': ['2019-10-07 03:01:28', '2019-10-07 04:00:00'], 'count': 2}, {'value': ['2019-10-15 20:02:19', '2019-10-15 21:00:00'], 'count': 2}, {'value': ['2019-10-16 11:02:57', '2019-10-16 12:00:00'], 'count': 2}, {'value': ['2019-10-16 11:03:30', '2019-10-16 12:00:00'], 'count': 2}, {'value': ['2019-10-16 11:32:06', '2019-10-16 12:30:00'], 'count': 2}, {'value': ['2019-10-16 12:32:16', '2019-10-16 13:30:00'], 'count': 2}, {'value': ['2019-10-16 17:02:13', '2019-10-16 18:00:00'], 'count': 2}, {'value': ['2019-10-16 21:07:46', '2019-10-16 22:00:00'], 'count': 2}, {'value': ['2019-10-17 12:40:26', '2019-10-17 13:30:00'], 'count': 2}, {'value': ['2019-10-17 14:02:31', '2019-10-17 15:00:00'], 'count': 2}, {'value': ['2019-10-17 14:31:00', '2019-10-17 15:30:00'], 'count': 2}, {'value': ['2019-10-17 19:01:20', '2019-10-17 20:00:00'], 'count': 2}, {'value': ['2019-10-18 13:01:49', '2019-10-18 14:00:00'], 'count': 2}, {'value': ['2019-10-18 17:01:06', '2019-10-18 18:00:00'], 'count': 2}]}, 'exception_info': {'raised_exception': False, 'exception_message': None, 'exception_traceback': None}}\n",
      "['ENROUTE_TIME_UTC', 'ASSIGNED_TIME_UTC']\n",
      "{'success': True, 'result': {'element_count': 2125493, 'missing_count': 540694, 'missing_percent': 25.43852179235594, 'unexpected_count': 24310, 'unexpected_percent': 1.1437346535603738, 'unexpected_percent_nonmissing': 1.5339484691749554, 'partial_unexpected_list': [['2019-10-06 16:18:57', '2019-10-06 16:38:11'], ['2019-10-06 16:16:34', '2019-10-06 17:03:53'], ['2019-10-06 16:58:10', '2019-10-06 17:14:39'], ['2019-10-06 16:53:42', '2019-10-06 16:53:49'], ['2019-10-06 17:07:23', '2019-10-06 17:07:37'], ['2019-10-06 17:45:10', '2019-10-06 19:18:54'], ['2019-10-06 17:26:21', '2019-10-06 17:41:12'], ['2019-10-06 17:29:32', '2019-10-06 17:38:54'], ['2019-10-06 17:24:39', '2019-10-06 17:25:48'], ['2019-10-06 17:27:57', '2019-10-06 17:28:48'], ['2019-10-06 17:24:36', '2019-10-06 17:25:18'], ['2019-10-06 17:26:12', '2019-10-06 17:31:37'], ['2019-10-06 17:36:01', '2019-10-06 18:04:25'], ['2019-10-06 18:06:48', '2019-10-06 18:28:04'], ['2019-10-06 17:33:22', '2019-10-06 17:34:24'], ['2019-10-06 17:25:50', '2019-10-06 17:39:41'], ['2019-10-06 18:08:23', '2019-10-06 18:46:58'], ['2019-10-06 18:51:08', '2019-10-06 18:52:53'], ['2019-10-06 19:13:59', '2019-10-06 19:14:43'], ['2019-10-06 17:40:33', '2019-10-06 17:48:54']], 'partial_unexpected_index_list': [27, 97, 119, 398, 942, 1247, 1302, 1337, 1423, 1433, 1436, 1464, 1510, 1574, 1620, 1640, 1677, 1702, 1744, 1769], 'partial_unexpected_counts': [{'value': ['2019-10-06 16:16:34', '2019-10-06 17:03:53'], 'count': 1}, {'value': ['2019-10-06 16:18:57', '2019-10-06 16:38:11'], 'count': 1}, {'value': ['2019-10-06 16:53:42', '2019-10-06 16:53:49'], 'count': 1}, {'value': ['2019-10-06 16:58:10', '2019-10-06 17:14:39'], 'count': 1}, {'value': ['2019-10-06 17:07:23', '2019-10-06 17:07:37'], 'count': 1}, {'value': ['2019-10-06 17:24:36', '2019-10-06 17:25:18'], 'count': 1}, {'value': ['2019-10-06 17:24:39', '2019-10-06 17:25:48'], 'count': 1}, {'value': ['2019-10-06 17:25:50', '2019-10-06 17:39:41'], 'count': 1}, {'value': ['2019-10-06 17:26:12', '2019-10-06 17:31:37'], 'count': 1}, {'value': ['2019-10-06 17:26:21', '2019-10-06 17:41:12'], 'count': 1}, {'value': ['2019-10-06 17:27:57', '2019-10-06 17:28:48'], 'count': 1}, {'value': ['2019-10-06 17:29:32', '2019-10-06 17:38:54'], 'count': 1}, {'value': ['2019-10-06 17:33:22', '2019-10-06 17:34:24'], 'count': 1}, {'value': ['2019-10-06 17:36:01', '2019-10-06 18:04:25'], 'count': 1}, {'value': ['2019-10-06 17:40:33', '2019-10-06 17:48:54'], 'count': 1}, {'value': ['2019-10-06 17:45:10', '2019-10-06 19:18:54'], 'count': 1}, {'value': ['2019-10-06 18:06:48', '2019-10-06 18:28:04'], 'count': 1}, {'value': ['2019-10-06 18:08:23', '2019-10-06 18:46:58'], 'count': 1}, {'value': ['2019-10-06 18:51:08', '2019-10-06 18:52:53'], 'count': 1}, {'value': ['2019-10-06 19:13:59', '2019-10-06 19:14:43'], 'count': 1}]}, 'exception_info': {'raised_exception': False, 'exception_message': None, 'exception_traceback': None}}\n"
     ]
    },
    {
     "name": "stdout",
     "output_type": "stream",
     "text": [
      "['ONSCENE_TIME_UTC', 'ENROUTE_TIME_UTC']\n",
      "{'success': True, 'result': {'element_count': 2125493, 'missing_count': 576747, 'missing_percent': 27.13474003442966, 'unexpected_count': 12751, 'unexpected_percent': 0.5999078801953242, 'unexpected_percent_nonmissing': 0.8233112466472875, 'partial_unexpected_list': [['2019-10-06 18:07:11', '2019-10-06 18:19:45'], ['2019-10-06 16:25:31', '2019-10-06 16:25:34'], ['2019-10-06 16:54:26', '2019-10-06 17:00:20'], ['2019-10-06 16:35:34', '2019-10-06 16:48:55'], ['2019-10-06 17:44:09', '2019-10-06 17:46:03'], ['2019-10-06 17:43:13', '2019-10-06 17:52:09'], ['2019-10-06 17:40:47', '2019-10-06 17:55:38'], ['2019-10-06 18:27:20', '2019-10-06 18:27:44'], ['2019-10-06 18:20:01', '2019-10-06 18:23:25'], ['2019-10-06 18:02:54', '2019-10-06 18:35:24'], ['2019-10-06 18:48:11', '2019-10-06 18:53:30'], ['2019-10-06 18:56:54', '2019-10-06 20:20:17'], ['2019-10-06 19:58:14', '2019-10-06 20:08:38'], ['2019-10-06 19:40:22', '2019-10-06 19:40:23'], ['2019-10-06 19:43:25', '2019-10-06 19:59:20'], ['2019-10-06 20:29:39', '2019-10-06 20:29:54'], ['2019-10-06 20:08:23', '2019-10-06 20:08:24'], ['2019-10-06 20:21:16', '2019-10-06 20:29:11'], ['2019-10-06 20:44:06', '2019-10-06 20:49:55'], ['2019-10-06 20:02:12', '2019-10-06 20:58:58']], 'partial_unexpected_index_list': [268, 336, 359, 377, 561, 862, 964, 2018, 2148, 2305, 2553, 2691, 2695, 2993, 3102, 3638, 3723, 4153, 4344, 4348], 'partial_unexpected_counts': [{'value': ['2019-10-06 16:25:31', '2019-10-06 16:25:34'], 'count': 1}, {'value': ['2019-10-06 16:35:34', '2019-10-06 16:48:55'], 'count': 1}, {'value': ['2019-10-06 16:54:26', '2019-10-06 17:00:20'], 'count': 1}, {'value': ['2019-10-06 17:40:47', '2019-10-06 17:55:38'], 'count': 1}, {'value': ['2019-10-06 17:43:13', '2019-10-06 17:52:09'], 'count': 1}, {'value': ['2019-10-06 17:44:09', '2019-10-06 17:46:03'], 'count': 1}, {'value': ['2019-10-06 18:02:54', '2019-10-06 18:35:24'], 'count': 1}, {'value': ['2019-10-06 18:07:11', '2019-10-06 18:19:45'], 'count': 1}, {'value': ['2019-10-06 18:20:01', '2019-10-06 18:23:25'], 'count': 1}, {'value': ['2019-10-06 18:27:20', '2019-10-06 18:27:44'], 'count': 1}, {'value': ['2019-10-06 18:48:11', '2019-10-06 18:53:30'], 'count': 1}, {'value': ['2019-10-06 18:56:54', '2019-10-06 20:20:17'], 'count': 1}, {'value': ['2019-10-06 19:40:22', '2019-10-06 19:40:23'], 'count': 1}, {'value': ['2019-10-06 19:43:25', '2019-10-06 19:59:20'], 'count': 1}, {'value': ['2019-10-06 19:58:14', '2019-10-06 20:08:38'], 'count': 1}, {'value': ['2019-10-06 20:02:12', '2019-10-06 20:58:58'], 'count': 1}, {'value': ['2019-10-06 20:08:23', '2019-10-06 20:08:24'], 'count': 1}, {'value': ['2019-10-06 20:21:16', '2019-10-06 20:29:11'], 'count': 1}, {'value': ['2019-10-06 20:29:39', '2019-10-06 20:29:54'], 'count': 1}, {'value': ['2019-10-06 20:44:06', '2019-10-06 20:49:55'], 'count': 1}]}, 'exception_info': {'raised_exception': False, 'exception_message': None, 'exception_traceback': None}}\n",
      "['TOW_IN_PROGRESS_TIME_UTC', 'ONSCENE_TIME_UTC']\n",
      "{'success': True, 'result': {'element_count': 2125493, 'missing_count': 1284276, 'missing_percent': 60.42249962714532, 'unexpected_count': 9311, 'unexpected_percent': 0.4380630752488952, 'unexpected_percent_nonmissing': 1.1068487679160073, 'partial_unexpected_list': [['2019-10-06 17:41:07', '2019-10-06 17:42:39'], ['2019-10-06 17:06:43', '2019-10-06 20:49:46'], ['2019-10-06 23:40:52', '2019-10-06 23:43:59'], ['2019-10-06 17:18:00', '2019-10-06 17:44:54'], ['2019-10-06 20:17:16', '2019-10-06 20:23:21'], ['2019-10-06 18:06:14', '2019-10-06 18:40:06'], ['2019-10-06 17:52:54', '2019-10-06 17:58:17'], ['2019-10-06 17:49:03', '2019-10-06 17:49:33'], ['2019-10-06 17:58:06', '2019-10-06 18:05:45'], ['2019-10-06 22:55:15', '2019-10-07 03:08:41'], ['2019-10-06 19:48:18', '2019-10-06 19:48:45'], ['2019-10-06 18:38:13', '2019-10-07 11:33:03'], ['2019-10-06 18:45:41', '2019-10-06 19:19:44'], ['2019-10-06 19:56:19', '2019-10-06 19:58:26'], ['2019-10-06 20:13:18', '2019-10-06 20:13:32'], ['2019-10-06 19:19:03', '2019-10-06 19:19:22'], ['2019-10-06 20:08:02', '2019-10-06 20:08:06'], ['2019-10-06 20:09:34', '2019-10-06 20:16:10'], ['2019-10-07 01:45:16', '2019-10-07 01:48:08'], ['2019-10-06 20:14:15', '2019-10-06 20:14:43']], 'partial_unexpected_index_list': [434, 436, 444, 536, 588, 615, 624, 821, 1200, 1480, 1500, 1533, 2244, 2406, 2859, 3022, 3103, 3432, 3619, 3878], 'partial_unexpected_counts': [{'value': ['2019-10-06 17:06:43', '2019-10-06 20:49:46'], 'count': 1}, {'value': ['2019-10-06 17:18:00', '2019-10-06 17:44:54'], 'count': 1}, {'value': ['2019-10-06 17:41:07', '2019-10-06 17:42:39'], 'count': 1}, {'value': ['2019-10-06 17:49:03', '2019-10-06 17:49:33'], 'count': 1}, {'value': ['2019-10-06 17:52:54', '2019-10-06 17:58:17'], 'count': 1}, {'value': ['2019-10-06 17:58:06', '2019-10-06 18:05:45'], 'count': 1}, {'value': ['2019-10-06 18:06:14', '2019-10-06 18:40:06'], 'count': 1}, {'value': ['2019-10-06 18:38:13', '2019-10-07 11:33:03'], 'count': 1}, {'value': ['2019-10-06 18:45:41', '2019-10-06 19:19:44'], 'count': 1}, {'value': ['2019-10-06 19:19:03', '2019-10-06 19:19:22'], 'count': 1}, {'value': ['2019-10-06 19:48:18', '2019-10-06 19:48:45'], 'count': 1}, {'value': ['2019-10-06 19:56:19', '2019-10-06 19:58:26'], 'count': 1}, {'value': ['2019-10-06 20:08:02', '2019-10-06 20:08:06'], 'count': 1}, {'value': ['2019-10-06 20:09:34', '2019-10-06 20:16:10'], 'count': 1}, {'value': ['2019-10-06 20:13:18', '2019-10-06 20:13:32'], 'count': 1}, {'value': ['2019-10-06 20:14:15', '2019-10-06 20:14:43'], 'count': 1}, {'value': ['2019-10-06 20:17:16', '2019-10-06 20:23:21'], 'count': 1}, {'value': ['2019-10-06 22:55:15', '2019-10-07 03:08:41'], 'count': 1}, {'value': ['2019-10-06 23:40:52', '2019-10-06 23:43:59'], 'count': 1}, {'value': ['2019-10-07 01:45:16', '2019-10-07 01:48:08'], 'count': 1}]}, 'exception_info': {'raised_exception': False, 'exception_message': None, 'exception_traceback': None}}\n",
      "['TOW_ARRIVED_TIME_UTC', 'TOW_IN_PROGRESS_TIME_UTC']\n",
      "{'success': True, 'result': {'element_count': 2125493, 'missing_count': 1638384, 'missing_percent': 77.0825403800436, 'unexpected_count': 8845, 'unexpected_percent': 0.4161387499276638, 'unexpected_percent_nonmissing': 1.8158153513895245, 'partial_unexpected_list': [['2019-10-07 16:51:12', '2019-10-07 16:51:18'], ['2019-10-06 17:27:31', '2019-10-06 17:41:55'], ['2019-10-06 19:14:36', '2019-10-06 19:22:51'], ['2019-10-06 19:04:16', '2019-10-06 19:08:19'], ['2019-10-06 19:28:47', '2019-10-06 19:36:13'], ['2019-10-06 18:41:20', '2019-10-06 18:41:25'], ['2019-10-06 18:35:01', '2019-10-06 18:39:54'], ['2019-10-06 19:16:23', '2019-10-06 19:18:22'], ['2019-10-06 20:12:22', '2019-10-06 20:26:37'], ['2019-10-06 22:28:12', '2019-10-06 22:47:14'], ['2019-10-06 23:08:01', '2019-10-06 23:15:26'], ['2019-10-06 21:54:23', '2019-10-07 00:07:45'], ['2019-10-06 20:23:45', '2019-10-06 20:36:44'], ['2019-10-06 20:25:22', '2019-10-06 20:38:47'], ['2019-10-06 20:22:53', '2019-10-06 20:24:02'], ['2019-10-06 21:32:49', '2019-10-06 21:43:58'], ['2019-10-06 20:58:49', '2019-10-06 20:58:56'], ['2019-10-06 22:09:06', '2019-10-06 22:27:19'], ['2019-10-06 22:14:44', '2019-10-06 23:09:49'], ['2019-10-06 22:32:07', '2019-10-06 22:32:16']], 'partial_unexpected_index_list': [106, 215, 1457, 1950, 2091, 2161, 2262, 2444, 2790, 3697, 3698, 3775, 3841, 3850, 4281, 4421, 4779, 4888, 5197, 5398], 'partial_unexpected_counts': [{'value': ['2019-10-06 17:27:31', '2019-10-06 17:41:55'], 'count': 1}, {'value': ['2019-10-06 18:35:01', '2019-10-06 18:39:54'], 'count': 1}, {'value': ['2019-10-06 18:41:20', '2019-10-06 18:41:25'], 'count': 1}, {'value': ['2019-10-06 19:04:16', '2019-10-06 19:08:19'], 'count': 1}, {'value': ['2019-10-06 19:14:36', '2019-10-06 19:22:51'], 'count': 1}, {'value': ['2019-10-06 19:16:23', '2019-10-06 19:18:22'], 'count': 1}, {'value': ['2019-10-06 19:28:47', '2019-10-06 19:36:13'], 'count': 1}, {'value': ['2019-10-06 20:12:22', '2019-10-06 20:26:37'], 'count': 1}, {'value': ['2019-10-06 20:22:53', '2019-10-06 20:24:02'], 'count': 1}, {'value': ['2019-10-06 20:23:45', '2019-10-06 20:36:44'], 'count': 1}, {'value': ['2019-10-06 20:25:22', '2019-10-06 20:38:47'], 'count': 1}, {'value': ['2019-10-06 20:58:49', '2019-10-06 20:58:56'], 'count': 1}, {'value': ['2019-10-06 21:32:49', '2019-10-06 21:43:58'], 'count': 1}, {'value': ['2019-10-06 21:54:23', '2019-10-07 00:07:45'], 'count': 1}, {'value': ['2019-10-06 22:09:06', '2019-10-06 22:27:19'], 'count': 1}, {'value': ['2019-10-06 22:14:44', '2019-10-06 23:09:49'], 'count': 1}, {'value': ['2019-10-06 22:28:12', '2019-10-06 22:47:14'], 'count': 1}, {'value': ['2019-10-06 22:32:07', '2019-10-06 22:32:16'], 'count': 1}, {'value': ['2019-10-06 23:08:01', '2019-10-06 23:15:26'], 'count': 1}, {'value': ['2019-10-07 16:51:12', '2019-10-07 16:51:18'], 'count': 1}]}, 'exception_info': {'raised_exception': False, 'exception_message': None, 'exception_traceback': None}}\n"
     ]
    },
    {
     "name": "stdout",
     "output_type": "stream",
     "text": [
      "['COMPLETED_TIME_UTC', 'TOW_ARRIVED_TIME_UTC']\n",
      "{'success': False, 'result': {'element_count': 2125493, 'missing_count': 1615199, 'missing_percent': 75.99173462344972, 'unexpected_count': 26604, 'unexpected_percent': 1.251662555463603, 'unexpected_percent_nonmissing': 5.213465178896872, 'partial_unexpected_list': [['2019-10-06 18:19:46', '2019-10-06 18:19:47'], ['2019-10-06 18:23:01', '2019-10-06 18:23:02'], ['2019-10-06 20:21:42', '2019-10-06 20:21:44'], ['2019-10-06 18:41:25', '2019-10-06 18:41:26'], ['2019-10-06 19:08:42', '2019-10-06 19:08:43'], ['2019-10-06 18:48:17', '2019-10-06 18:48:19'], ['2019-10-06 18:47:33', '2019-10-06 19:10:24'], ['2019-10-06 18:31:25', '2019-10-06 18:31:27'], ['2019-10-06 19:12:37', '2019-10-06 19:12:38'], ['2019-10-06 19:22:11', '2019-10-06 19:22:13'], ['2019-10-06 19:17:05', '2019-10-06 20:11:40'], ['2019-10-06 17:38:59', '2019-10-06 19:02:42'], ['2019-10-06 18:52:57', '2019-10-06 18:52:58'], ['2019-10-06 18:54:02', '2019-10-06 18:54:04'], ['2019-10-06 21:32:30', '2019-10-06 21:32:31'], ['2019-10-06 20:04:47', '2019-10-06 20:04:49'], ['2019-10-06 19:27:23', '2019-10-06 19:27:24'], ['2019-10-06 18:32:20', '2019-10-06 18:32:21'], ['2019-10-06 19:08:01', '2019-10-06 19:08:03'], ['2019-10-06 19:12:10', '2019-10-06 19:28:59']], 'partial_unexpected_index_list': [67, 460, 497, 504, 594, 597, 895, 1039, 1104, 1155, 1247, 1316, 1341, 1462, 1608, 1611, 1642, 1672, 1678, 1692], 'partial_unexpected_counts': [{'value': ['2019-10-01 23:01:40', '2019-10-01 23:01:41'], 'count': 2}, {'value': ['2019-10-03 02:32:13', '2019-10-03 02:32:14'], 'count': 2}, {'value': ['2019-10-04 00:30:06', '2019-10-04 00:30:07'], 'count': 2}, {'value': ['2019-10-04 20:36:19', '2019-10-04 20:36:20'], 'count': 2}, {'value': ['2019-10-07 21:30:07', '2019-10-07 21:30:09'], 'count': 2}, {'value': ['2019-10-13 04:04:03', '2019-10-13 04:04:04'], 'count': 2}, {'value': ['2019-10-23 15:38:42', '2019-10-23 15:38:43'], 'count': 2}, {'value': ['2019-10-23 16:33:43', '2019-10-23 16:33:44'], 'count': 2}, {'value': ['2019-11-04 20:38:38', '2019-11-04 20:38:39'], 'count': 2}, {'value': ['2019-11-06 00:37:30', '2019-11-06 00:37:31'], 'count': 2}, {'value': ['2019-11-07 21:23:20', '2019-11-07 21:23:21'], 'count': 2}, {'value': ['2019-11-08 16:07:58', '2019-11-08 16:07:59'], 'count': 2}, {'value': ['2019-11-17 02:37:14', '2019-11-17 02:37:15'], 'count': 2}, {'value': ['2019-11-23 16:16:16', '2019-11-23 16:16:17'], 'count': 2}, {'value': ['2019-11-23 17:27:36', '2019-11-23 17:27:37'], 'count': 2}, {'value': ['2019-11-23 21:03:04', '2019-11-23 21:03:05'], 'count': 2}, {'value': ['2019-11-25 20:19:30', '2019-11-25 20:19:31'], 'count': 2}, {'value': ['2019-11-25 21:23:58', '2019-11-25 21:23:59'], 'count': 2}, {'value': ['2019-12-02 22:03:57', '2019-12-02 22:03:58'], 'count': 2}, {'value': ['2019-12-19 20:14:43', '2019-12-19 20:14:45'], 'count': 2}]}, 'exception_info': {'raised_exception': False, 'exception_message': None, 'exception_traceback': None}}\n"
     ]
    }
   ],
   "source": [
    "for cols in larger_than_cols:\n",
    "    print(cols, batch.expect_column_pair_values_A_to_be_greater_than_B(cols[0], cols[1], mostly=0.98,\n",
    "                                                       ignore_row_if='either_value_is_missing', or_equal=True,\n",
    "                                                       result_format='SUMMARY', catch_exceptions=True), sep='\\n')"
   ]
  },
  {
   "cell_type": "markdown",
   "metadata": {},
   "source": [
    "### 8. Expecting columns to be certain data type"
   ]
  },
  {
   "cell_type": "code",
   "execution_count": 196,
   "metadata": {},
   "outputs": [
    {
     "data": {
      "text/plain": [
       "CASE_ID                                    int64\n",
       "TASK_ID                                     int8\n",
       "DRIVER_PROFILE_ID                        float64\n",
       "DISPATCHER_PROFILE_ID                    float64\n",
       "ENROUTE_LATITUDE                         float64\n",
       "ENROUTE_LONGITUDE                        float64\n",
       "ONSCENE_LATITUDE                         float64\n",
       "ONSCENE_LONGITUDE                        float64\n",
       "TOW_IN_PROGRESS_LATITUDE                 float64\n",
       "TOW_IN_PROGRESS_LONGITUDE                float64\n",
       "TOW_ARRIVED_LATITUDE                     float64\n",
       "TOW_ARRIVED_LONGITUDE                    float64\n",
       "COMPLETED_LATITUDE                       float64\n",
       "COMPLETED_LONGITUDE                      float64\n",
       "STATUS_SOURCE                             object\n",
       "ASSIGNED_SOURCE_DETAILS                   object\n",
       "ENROUTE_SOURCE_DETAILS                    object\n",
       "ONSCENE_SOURCE_DETAILS                    object\n",
       "TOW_IN_PROGRESS_SOURCE_DETAILS            object\n",
       "TOW_ARRIVED_SOURCE_DETAILS                object\n",
       "COMPLETED_SOURCE_DETAILS                  object\n",
       "SERVICE_TIME_EASTERN              datetime64[ns]\n",
       "SERVICE_TIME_UTC                  datetime64[ns]\n",
       "SERVICE_TIME_LOCAL                datetime64[ns]\n",
       "ASSIGNED_TIME_EASTERN             datetime64[ns]\n",
       "ASSIGNED_TIME_UTC                 datetime64[ns]\n",
       "ASSIGNED_TIME_LOCAL               datetime64[ns]\n",
       "ENROUTE_TIME_EASTERN              datetime64[ns]\n",
       "ENROUTE_TIME_UTC                  datetime64[ns]\n",
       "ENROUTE_TIME_LOCAL                datetime64[ns]\n",
       "ONSCENE_TIME_EASTERN              datetime64[ns]\n",
       "ONSCENE_TIME_UTC                  datetime64[ns]\n",
       "ONSCENE_TIME_LOCAL                datetime64[ns]\n",
       "TOW_IN_PROGRESS_TIME_EASTERN      datetime64[ns]\n",
       "TOW_IN_PROGRESS_TIME_UTC          datetime64[ns]\n",
       "TOW_IN_PROGRESS_TIME_LOCAL        datetime64[ns]\n",
       "TOW_ARRIVED_TIME_EASTERN          datetime64[ns]\n",
       "TOW_ARRIVED_TIME_UTC              datetime64[ns]\n",
       "TOW_ARRIVED_TIME_LOCAL            datetime64[ns]\n",
       "COMPLETED_TIME_EASTERN            datetime64[ns]\n",
       "COMPLETED_TIME_UTC                datetime64[ns]\n",
       "COMPLETED_TIME_LOCAL              datetime64[ns]\n",
       "dtype: object"
      ]
     },
     "execution_count": 196,
     "metadata": {},
     "output_type": "execute_result"
    }
   ],
   "source": [
    "rule_df.dtypes"
   ]
  },
  {
   "cell_type": "code",
   "execution_count": 197,
   "metadata": {},
   "outputs": [
    {
     "name": "stdout",
     "output_type": "stream",
     "text": [
      "CASE_ID int64\n",
      "TASK_ID int8\n",
      "DRIVER_PROFILE_ID float64\n",
      "DISPATCHER_PROFILE_ID float64\n",
      "ENROUTE_LATITUDE float64\n",
      "ENROUTE_LONGITUDE float64\n",
      "ONSCENE_LATITUDE float64\n",
      "ONSCENE_LONGITUDE float64\n",
      "TOW_IN_PROGRESS_LATITUDE float64\n",
      "TOW_IN_PROGRESS_LONGITUDE float64\n",
      "TOW_ARRIVED_LATITUDE float64\n",
      "TOW_ARRIVED_LONGITUDE float64\n",
      "COMPLETED_LATITUDE float64\n",
      "COMPLETED_LONGITUDE float64\n",
      "STATUS_SOURCE object\n",
      "ASSIGNED_SOURCE_DETAILS object\n",
      "ENROUTE_SOURCE_DETAILS object\n",
      "ONSCENE_SOURCE_DETAILS object\n",
      "TOW_IN_PROGRESS_SOURCE_DETAILS object\n",
      "TOW_ARRIVED_SOURCE_DETAILS object\n",
      "COMPLETED_SOURCE_DETAILS object\n",
      "SERVICE_TIME_EASTERN datetime64[ns]\n",
      "SERVICE_TIME_UTC datetime64[ns]\n",
      "SERVICE_TIME_LOCAL datetime64[ns]\n",
      "ASSIGNED_TIME_EASTERN datetime64[ns]\n",
      "ASSIGNED_TIME_UTC datetime64[ns]\n",
      "ASSIGNED_TIME_LOCAL datetime64[ns]\n",
      "ENROUTE_TIME_EASTERN datetime64[ns]\n",
      "ENROUTE_TIME_UTC datetime64[ns]\n",
      "ENROUTE_TIME_LOCAL datetime64[ns]\n",
      "ONSCENE_TIME_EASTERN datetime64[ns]\n",
      "ONSCENE_TIME_UTC datetime64[ns]\n",
      "ONSCENE_TIME_LOCAL datetime64[ns]\n",
      "TOW_IN_PROGRESS_TIME_EASTERN datetime64[ns]\n",
      "TOW_IN_PROGRESS_TIME_UTC datetime64[ns]\n",
      "TOW_IN_PROGRESS_TIME_LOCAL datetime64[ns]\n",
      "TOW_ARRIVED_TIME_EASTERN datetime64[ns]\n",
      "TOW_ARRIVED_TIME_UTC datetime64[ns]\n",
      "TOW_ARRIVED_TIME_LOCAL datetime64[ns]\n",
      "COMPLETED_TIME_EASTERN datetime64[ns]\n",
      "COMPLETED_TIME_UTC datetime64[ns]\n",
      "COMPLETED_TIME_LOCAL datetime64[ns]\n"
     ]
    }
   ],
   "source": [
    "for x, y in batch.dtypes.iteritems():\n",
    "    print(x, y)"
   ]
  },
  {
   "cell_type": "code",
   "execution_count": 198,
   "metadata": {},
   "outputs": [],
   "source": [
    "service_progress_data_types = dict(batch.dtypes.iteritems())"
   ]
  },
  {
   "cell_type": "code",
   "execution_count": 200,
   "metadata": {},
   "outputs": [],
   "source": [
    "for key, val in service_progress_data_types.items():\n",
    "    service_progress_data_types[key] = str(val)"
   ]
  },
  {
   "cell_type": "code",
   "execution_count": 201,
   "metadata": {},
   "outputs": [
    {
     "name": "stdout",
     "output_type": "stream",
     "text": [
      "{'CASE_ID': 'int64', 'TASK_ID': 'int8', 'DRIVER_PROFILE_ID': 'float64', 'DISPATCHER_PROFILE_ID': 'float64', 'ENROUTE_LATITUDE': 'float64', 'ENROUTE_LONGITUDE': 'float64', 'ONSCENE_LATITUDE': 'float64', 'ONSCENE_LONGITUDE': 'float64', 'TOW_IN_PROGRESS_LATITUDE': 'float64', 'TOW_IN_PROGRESS_LONGITUDE': 'float64', 'TOW_ARRIVED_LATITUDE': 'float64', 'TOW_ARRIVED_LONGITUDE': 'float64', 'COMPLETED_LATITUDE': 'float64', 'COMPLETED_LONGITUDE': 'float64', 'STATUS_SOURCE': 'object', 'ASSIGNED_SOURCE_DETAILS': 'object', 'ENROUTE_SOURCE_DETAILS': 'object', 'ONSCENE_SOURCE_DETAILS': 'object', 'TOW_IN_PROGRESS_SOURCE_DETAILS': 'object', 'TOW_ARRIVED_SOURCE_DETAILS': 'object', 'COMPLETED_SOURCE_DETAILS': 'object', 'SERVICE_TIME_EASTERN': 'datetime64[ns]', 'SERVICE_TIME_UTC': 'datetime64[ns]', 'SERVICE_TIME_LOCAL': 'datetime64[ns]', 'ASSIGNED_TIME_EASTERN': 'datetime64[ns]', 'ASSIGNED_TIME_UTC': 'datetime64[ns]', 'ASSIGNED_TIME_LOCAL': 'datetime64[ns]', 'ENROUTE_TIME_EASTERN': 'datetime64[ns]', 'ENROUTE_TIME_UTC': 'datetime64[ns]', 'ENROUTE_TIME_LOCAL': 'datetime64[ns]', 'ONSCENE_TIME_EASTERN': 'datetime64[ns]', 'ONSCENE_TIME_UTC': 'datetime64[ns]', 'ONSCENE_TIME_LOCAL': 'datetime64[ns]', 'TOW_IN_PROGRESS_TIME_EASTERN': 'datetime64[ns]', 'TOW_IN_PROGRESS_TIME_UTC': 'datetime64[ns]', 'TOW_IN_PROGRESS_TIME_LOCAL': 'datetime64[ns]', 'TOW_ARRIVED_TIME_EASTERN': 'datetime64[ns]', 'TOW_ARRIVED_TIME_UTC': 'datetime64[ns]', 'TOW_ARRIVED_TIME_LOCAL': 'datetime64[ns]', 'COMPLETED_TIME_EASTERN': 'datetime64[ns]', 'COMPLETED_TIME_UTC': 'datetime64[ns]', 'COMPLETED_TIME_LOCAL': 'datetime64[ns]'}\n"
     ]
    }
   ],
   "source": [
    "print(service_progress_data_types)"
   ]
  },
  {
   "cell_type": "code",
   "execution_count": 130,
   "metadata": {},
   "outputs": [
    {
     "name": "stdout",
     "output_type": "stream",
     "text": [
      "{'success': True, 'result': {'observed_value': 'int64'}, 'exception_info': {'raised_exception': False, 'exception_message': None, 'exception_traceback': None}}\n",
      "{'success': True, 'result': {'observed_value': 'int8'}, 'exception_info': {'raised_exception': False, 'exception_message': None, 'exception_traceback': None}}\n",
      "{'success': True, 'result': {'observed_value': 'object_'}, 'exception_info': {'raised_exception': False, 'exception_message': None, 'exception_traceback': None}}\n",
      "{'success': True, 'result': {'observed_value': 'int32'}, 'exception_info': {'raised_exception': False, 'exception_message': None, 'exception_traceback': None}}\n",
      "{'success': True, 'result': {'observed_value': 'float64'}, 'exception_info': {'raised_exception': False, 'exception_message': None, 'exception_traceback': None}}\n",
      "{'success': True, 'result': {'observed_value': 'float64'}, 'exception_info': {'raised_exception': False, 'exception_message': None, 'exception_traceback': None}}\n",
      "{'success': True, 'result': {'observed_value': 'float64'}, 'exception_info': {'raised_exception': False, 'exception_message': None, 'exception_traceback': None}}\n",
      "{'success': True, 'result': {'observed_value': 'object_'}, 'exception_info': {'raised_exception': False, 'exception_message': None, 'exception_traceback': None}}\n",
      "{'success': True, 'result': {'observed_value': 'object_'}, 'exception_info': {'raised_exception': False, 'exception_message': None, 'exception_traceback': None}}\n",
      "{'success': True, 'result': {'observed_value': 'float64'}, 'exception_info': {'raised_exception': False, 'exception_message': None, 'exception_traceback': None}}\n",
      "{'success': True, 'result': {'observed_value': 'float64'}, 'exception_info': {'raised_exception': False, 'exception_message': None, 'exception_traceback': None}}\n",
      "{'success': True, 'result': {'observed_value': 'float64'}, 'exception_info': {'raised_exception': False, 'exception_message': None, 'exception_traceback': None}}\n",
      "{'success': True, 'result': {'observed_value': 'float64'}, 'exception_info': {'raised_exception': False, 'exception_message': None, 'exception_traceback': None}}\n",
      "{'success': True, 'result': {'observed_value': 'object_'}, 'exception_info': {'raised_exception': False, 'exception_message': None, 'exception_traceback': None}}\n",
      "{'success': True, 'result': {'observed_value': 'bool_'}, 'exception_info': {'raised_exception': False, 'exception_message': None, 'exception_traceback': None}}\n",
      "{'success': True, 'result': {'observed_value': 'float64'}, 'exception_info': {'raised_exception': False, 'exception_message': None, 'exception_traceback': None}}\n",
      "{'success': True, 'result': {'observed_value': 'bool_'}, 'exception_info': {'raised_exception': False, 'exception_message': None, 'exception_traceback': None}}\n",
      "{'success': True, 'result': {'observed_value': 'float64'}, 'exception_info': {'raised_exception': False, 'exception_message': None, 'exception_traceback': None}}\n",
      "{'success': True, 'result': {'observed_value': 'object_'}, 'exception_info': {'raised_exception': False, 'exception_message': None, 'exception_traceback': None}}\n",
      "{'success': True, 'result': {'observed_value': 'int16'}, 'exception_info': {'raised_exception': False, 'exception_message': None, 'exception_traceback': None}}\n",
      "{'success': True, 'result': {'observed_value': 'float64'}, 'exception_info': {'raised_exception': False, 'exception_message': None, 'exception_traceback': None}}\n",
      "{'success': True, 'result': {'observed_value': 'object_'}, 'exception_info': {'raised_exception': False, 'exception_message': None, 'exception_traceback': None}}\n",
      "{'success': True, 'result': {'observed_value': 'float64'}, 'exception_info': {'raised_exception': False, 'exception_message': None, 'exception_traceback': None}}\n",
      "{'success': True, 'result': {'observed_value': 'float64'}, 'exception_info': {'raised_exception': False, 'exception_message': None, 'exception_traceback': None}}\n",
      "{'success': True, 'result': {'observed_value': 'float64'}, 'exception_info': {'raised_exception': False, 'exception_message': None, 'exception_traceback': None}}\n",
      "{'success': True, 'result': {'observed_value': 'float64'}, 'exception_info': {'raised_exception': False, 'exception_message': None, 'exception_traceback': None}}\n",
      "{'success': True, 'result': {'observed_value': 'bool_'}, 'exception_info': {'raised_exception': False, 'exception_message': None, 'exception_traceback': None}}\n",
      "{'success': True, 'result': {'observed_value': 'datetime64'}, 'exception_info': {'raised_exception': False, 'exception_message': None, 'exception_traceback': None}}\n",
      "{'success': True, 'result': {'observed_value': 'datetime64'}, 'exception_info': {'raised_exception': False, 'exception_message': None, 'exception_traceback': None}}\n",
      "{'success': True, 'result': {'observed_value': 'datetime64'}, 'exception_info': {'raised_exception': False, 'exception_message': None, 'exception_traceback': None}}\n",
      "{'success': True, 'result': {'observed_value': 'datetime64'}, 'exception_info': {'raised_exception': False, 'exception_message': None, 'exception_traceback': None}}\n",
      "{'success': True, 'result': {'observed_value': 'datetime64'}, 'exception_info': {'raised_exception': False, 'exception_message': None, 'exception_traceback': None}}\n",
      "{'success': True, 'result': {'observed_value': 'datetime64'}, 'exception_info': {'raised_exception': False, 'exception_message': None, 'exception_traceback': None}}\n",
      "{'success': True, 'result': {'observed_value': 'datetime64'}, 'exception_info': {'raised_exception': False, 'exception_message': None, 'exception_traceback': None}}\n",
      "{'success': True, 'result': {'observed_value': 'datetime64'}, 'exception_info': {'raised_exception': False, 'exception_message': None, 'exception_traceback': None}}\n",
      "{'success': True, 'result': {'observed_value': 'datetime64'}, 'exception_info': {'raised_exception': False, 'exception_message': None, 'exception_traceback': None}}\n",
      "{'success': True, 'result': {'observed_value': 'datetime64'}, 'exception_info': {'raised_exception': False, 'exception_message': None, 'exception_traceback': None}}\n",
      "{'success': True, 'result': {'observed_value': 'datetime64'}, 'exception_info': {'raised_exception': False, 'exception_message': None, 'exception_traceback': None}}\n",
      "{'success': True, 'result': {'observed_value': 'datetime64'}, 'exception_info': {'raised_exception': False, 'exception_message': None, 'exception_traceback': None}}\n"
     ]
    }
   ],
   "source": [
    "for col, typ in network_claims_data_types.items():\n",
    "    print(batch.expect_column_values_to_be_of_type(col, typ, result_format='SUMMARY', catch_exceptions=True))"
   ]
  },
  {
   "cell_type": "markdown",
   "metadata": {},
   "source": [
    "### Review the expectations\n",
    "\n",
    "Expectations that were true on this data batch were added. To view all the expectations you added so far about this data asset, do:"
   ]
  },
  {
   "cell_type": "code",
   "execution_count": 131,
   "metadata": {
    "scrolled": true
   },
   "outputs": [
    {
     "name": "stdout",
     "output_type": "stream",
     "text": [
      "2020-02-24T12:38:40-0500 - INFO - \t128 expectation(s) included in expectation_suite. Omitting 3 expectation(s) that failed when last run; set discard_failed_expectations=False to include them. result_format settings filtered.\n"
     ]
    },
    {
     "data": {
      "text/plain": [
       "{'data_asset_name': 'agero_dsa_pandas/default/network_claims',\n",
       " 'expectation_suite_name': 'warnings_2019Q4',\n",
       " 'meta': {'great_expectations.__version__': '0.8.8'},\n",
       " 'expectations': [{'expectation_type': 'expect_column_to_exist',\n",
       "   'kwargs': {'column': 'ADDCHARGE_AMOUNT'}},\n",
       "  {'expectation_type': 'expect_column_to_exist',\n",
       "   'kwargs': {'column': 'ADDCHARGE_COUNT'}},\n",
       "  {'expectation_type': 'expect_column_to_exist',\n",
       "   'kwargs': {'column': 'ADDCHARGE_DETAILS'}},\n",
       "  {'expectation_type': 'expect_column_to_exist',\n",
       "   'kwargs': {'column': 'ADDPAY_APPROVED_DATE_EASTERN'}},\n",
       "  {'expectation_type': 'expect_column_to_exist',\n",
       "   'kwargs': {'column': 'ADDPAY_APPROVED_DATE_UTC'}},\n",
       "  {'expectation_type': 'expect_column_to_exist',\n",
       "   'kwargs': {'column': 'ADDPAY_APPROVED_PAYMENT'}},\n",
       "  {'expectation_type': 'expect_column_to_exist',\n",
       "   'kwargs': {'column': 'ADDPAY_COUNT'}},\n",
       "  {'expectation_type': 'expect_column_to_exist',\n",
       "   'kwargs': {'column': 'ADDPAY_DETAILS'}},\n",
       "  {'expectation_type': 'expect_column_to_exist',\n",
       "   'kwargs': {'column': 'ADDPAY_PAYMENT_AMOUNT'}},\n",
       "  {'expectation_type': 'expect_column_to_exist',\n",
       "   'kwargs': {'column': 'ADDPAY_SUBMITTED_DATE_EASTERN'}},\n",
       "  {'expectation_type': 'expect_column_to_exist',\n",
       "   'kwargs': {'column': 'ADDPAY_SUBMITTED_DATE_UTC'}},\n",
       "  {'expectation_type': 'expect_column_to_exist',\n",
       "   'kwargs': {'column': 'BASE_TOTAL_FROM_RATES'}},\n",
       "  {'expectation_type': 'expect_column_to_exist',\n",
       "   'kwargs': {'column': 'CASE_ID'}},\n",
       "  {'expectation_type': 'expect_column_to_exist',\n",
       "   'kwargs': {'column': 'CLAIM_ID'}},\n",
       "  {'expectation_type': 'expect_column_to_exist',\n",
       "   'kwargs': {'column': 'CLAIM_PO_NUMBER_ENTERED'}},\n",
       "  {'expectation_type': 'expect_column_to_exist',\n",
       "   'kwargs': {'column': 'COMPLETE_APPROVED_PAYMENT'}},\n",
       "  {'expectation_type': 'expect_column_to_exist',\n",
       "   'kwargs': {'column': 'IS_CLAIM_APPROVED'}},\n",
       "  {'expectation_type': 'expect_column_to_exist',\n",
       "   'kwargs': {'column': 'IS_VCC'}},\n",
       "  {'expectation_type': 'expect_column_to_exist',\n",
       "   'kwargs': {'column': 'MODIFIED_DATE_EASTERN'}},\n",
       "  {'expectation_type': 'expect_column_to_exist',\n",
       "   'kwargs': {'column': 'MODIFIED_DATE_UTC'}},\n",
       "  {'expectation_type': 'expect_column_to_exist',\n",
       "   'kwargs': {'column': 'ORIGINAL_CLAIM_APPROVED_DATE_EASTERN'}},\n",
       "  {'expectation_type': 'expect_column_to_exist',\n",
       "   'kwargs': {'column': 'ORIGINAL_CLAIM_APPROVED_DATE_UTC'}},\n",
       "  {'expectation_type': 'expect_column_to_exist',\n",
       "   'kwargs': {'column': 'ORIGINAL_CLAIM_APPROVED_PAYMENT'}},\n",
       "  {'expectation_type': 'expect_column_to_exist',\n",
       "   'kwargs': {'column': 'ORIGINAL_CLAIM_PAYMENT_AMOUNT'}},\n",
       "  {'expectation_type': 'expect_column_to_exist',\n",
       "   'kwargs': {'column': 'ORIGINAL_CLAIM_STATUS_CODE'}},\n",
       "  {'expectation_type': 'expect_column_to_exist',\n",
       "   'kwargs': {'column': 'ORIGINAL_CLAIM_SUBMITTED_DATE_EASTERN'}},\n",
       "  {'expectation_type': 'expect_column_to_exist',\n",
       "   'kwargs': {'column': 'ORIGINAL_CLAIM_SUBMITTED_DATE_UTC'}},\n",
       "  {'expectation_type': 'expect_column_to_exist',\n",
       "   'kwargs': {'column': 'ORIGINAL_CLAIM_TYPE_CODE'}},\n",
       "  {'expectation_type': 'expect_column_to_exist',\n",
       "   'kwargs': {'column': 'SERVICE_DATE_EASTERN'}},\n",
       "  {'expectation_type': 'expect_column_to_exist',\n",
       "   'kwargs': {'column': 'SERVICE_DATE_UTC'}},\n",
       "  {'expectation_type': 'expect_column_to_exist',\n",
       "   'kwargs': {'column': 'SERVICE_ID'}},\n",
       "  {'expectation_type': 'expect_column_to_exist',\n",
       "   'kwargs': {'column': 'SUBMITTED_CLAIM_AMOUNT'}},\n",
       "  {'expectation_type': 'expect_column_to_exist',\n",
       "   'kwargs': {'column': 'SUBMITTED_ENROUTE_MILES'}},\n",
       "  {'expectation_type': 'expect_column_to_exist',\n",
       "   'kwargs': {'column': 'SUBMITTED_LABOR_HOURS'}},\n",
       "  {'expectation_type': 'expect_column_to_exist',\n",
       "   'kwargs': {'column': 'SUBMITTED_TOW_MILES'}},\n",
       "  {'expectation_type': 'expect_column_to_exist',\n",
       "   'kwargs': {'column': 'TASK_ID'}},\n",
       "  {'expectation_type': 'expect_column_to_exist',\n",
       "   'kwargs': {'column': 'VENDOR_ADDRESS_ID'}},\n",
       "  {'expectation_type': 'expect_column_to_exist',\n",
       "   'kwargs': {'column': 'VENDOR_ID'}},\n",
       "  {'expectation_type': 'expect_column_to_exist',\n",
       "   'kwargs': {'column': 'WAS_AUDITED'}},\n",
       "  {'expectation_type': 'expect_table_column_count_to_equal',\n",
       "   'kwargs': {'value': 39}},\n",
       "  {'expectation_type': 'expect_column_values_to_not_be_null',\n",
       "   'kwargs': {'column': 'CASE_ID'}},\n",
       "  {'expectation_type': 'expect_column_values_to_not_be_null',\n",
       "   'kwargs': {'column': 'TASK_ID'}},\n",
       "  {'expectation_type': 'expect_column_values_to_not_be_null',\n",
       "   'kwargs': {'column': 'VENDOR_ID'}},\n",
       "  {'expectation_type': 'expect_column_values_to_not_be_null',\n",
       "   'kwargs': {'column': 'CLAIM_ID'}},\n",
       "  {'expectation_type': 'expect_column_values_to_not_be_null',\n",
       "   'kwargs': {'column': 'ORIGINAL_CLAIM_PAYMENT_AMOUNT'}},\n",
       "  {'expectation_type': 'expect_column_values_to_not_be_null',\n",
       "   'kwargs': {'column': 'ORIGINAL_CLAIM_STATUS_CODE'}},\n",
       "  {'expectation_type': 'expect_column_values_to_not_be_null',\n",
       "   'kwargs': {'column': 'ORIGINAL_CLAIM_TYPE_CODE'}},\n",
       "  {'expectation_type': 'expect_column_values_to_not_be_null',\n",
       "   'kwargs': {'column': 'SUBMITTED_CLAIM_AMOUNT'}},\n",
       "  {'expectation_type': 'expect_column_values_to_not_be_null',\n",
       "   'kwargs': {'column': 'SERVICE_ID'}},\n",
       "  {'expectation_type': 'expect_column_values_to_not_be_null',\n",
       "   'kwargs': {'column': 'WAS_AUDITED'}},\n",
       "  {'expectation_type': 'expect_column_values_to_not_be_null',\n",
       "   'kwargs': {'column': 'IS_CLAIM_APPROVED'}},\n",
       "  {'expectation_type': 'expect_column_values_to_not_be_null',\n",
       "   'kwargs': {'column': 'ORIGINAL_CLAIM_APPROVED_PAYMENT'}},\n",
       "  {'expectation_type': 'expect_column_values_to_not_be_null',\n",
       "   'kwargs': {'column': 'ADDCHARGE_COUNT'}},\n",
       "  {'expectation_type': 'expect_column_values_to_not_be_null',\n",
       "   'kwargs': {'column': 'COMPLETE_APPROVED_PAYMENT'}},\n",
       "  {'expectation_type': 'expect_column_values_to_not_be_null',\n",
       "   'kwargs': {'column': 'IS_VCC'}},\n",
       "  {'expectation_type': 'expect_column_values_to_not_be_null',\n",
       "   'kwargs': {'column': 'SERVICE_DATE_EASTERN'}},\n",
       "  {'expectation_type': 'expect_column_values_to_not_be_null',\n",
       "   'kwargs': {'column': 'SERVICE_DATE_UTC'}},\n",
       "  {'expectation_type': 'expect_column_values_to_not_be_null',\n",
       "   'kwargs': {'column': 'MODIFIED_DATE_EASTERN'}},\n",
       "  {'expectation_type': 'expect_column_values_to_not_be_null',\n",
       "   'kwargs': {'column': 'MODIFIED_DATE_UTC'}},\n",
       "  {'expectation_type': 'expect_column_values_to_not_be_null',\n",
       "   'kwargs': {'column': 'VENDOR_ADDRESS_ID', 'mostly': 0.995}},\n",
       "  {'expectation_type': 'expect_column_values_to_not_be_null',\n",
       "   'kwargs': {'column': 'CLAIM_PO_NUMBER_ENTERED', 'mostly': 0.998}},\n",
       "  {'expectation_type': 'expect_column_values_to_not_be_null',\n",
       "   'kwargs': {'column': 'SUBMITTED_TOW_MILES', 'mostly': 0.977}},\n",
       "  {'expectation_type': 'expect_column_values_to_not_be_null',\n",
       "   'kwargs': {'column': 'SUBMITTED_ENROUTE_MILES', 'mostly': 0.993}},\n",
       "  {'expectation_type': 'expect_column_values_to_not_be_null',\n",
       "   'kwargs': {'column': 'SUBMITTED_LABOR_HOURS', 'mostly': 0.937}},\n",
       "  {'expectation_type': 'expect_column_values_to_not_be_null',\n",
       "   'kwargs': {'column': 'ADDCHARGE_AMOUNT', 'mostly': 0.194}},\n",
       "  {'expectation_type': 'expect_column_values_to_not_be_null',\n",
       "   'kwargs': {'column': 'ADDCHARGE_DETAILS', 'mostly': 0.194}},\n",
       "  {'expectation_type': 'expect_column_values_to_not_be_null',\n",
       "   'kwargs': {'column': 'BASE_TOTAL_FROM_RATES', 'mostly': 0.651}},\n",
       "  {'expectation_type': 'expect_column_values_to_not_be_null',\n",
       "   'kwargs': {'column': 'ADDPAY_DETAILS', 'mostly': 0.037}},\n",
       "  {'expectation_type': 'expect_column_values_to_not_be_null',\n",
       "   'kwargs': {'column': 'ADDPAY_COUNT', 'mostly': 0.037}},\n",
       "  {'expectation_type': 'expect_column_values_to_not_be_null',\n",
       "   'kwargs': {'column': 'ADDPAY_PAYMENT_AMOUNT', 'mostly': 0.037}},\n",
       "  {'expectation_type': 'expect_column_values_to_not_be_null',\n",
       "   'kwargs': {'column': 'ADDPAY_APPROVED_PAYMENT', 'mostly': 0.037}},\n",
       "  {'expectation_type': 'expect_column_values_to_not_be_null',\n",
       "   'kwargs': {'column': 'ORIGINAL_CLAIM_APPROVED_DATE_EASTERN',\n",
       "    'mostly': 0.976}},\n",
       "  {'expectation_type': 'expect_column_values_to_not_be_null',\n",
       "   'kwargs': {'column': 'ORIGINAL_CLAIM_APPROVED_DATE_UTC', 'mostly': 0.976}},\n",
       "  {'expectation_type': 'expect_column_values_to_not_be_null',\n",
       "   'kwargs': {'column': 'ORIGINAL_CLAIM_SUBMITTED_DATE_EASTERN',\n",
       "    'mostly': 0.998}},\n",
       "  {'expectation_type': 'expect_column_values_to_not_be_null',\n",
       "   'kwargs': {'column': 'ORIGINAL_CLAIM_SUBMITTED_DATE_UTC', 'mostly': 0.998}},\n",
       "  {'expectation_type': 'expect_column_values_to_not_be_null',\n",
       "   'kwargs': {'column': 'ADDPAY_APPROVED_DATE_EASTERN', 'mostly': 0.035}},\n",
       "  {'expectation_type': 'expect_column_values_to_not_be_null',\n",
       "   'kwargs': {'column': 'ADDPAY_APPROVED_DATE_UTC', 'mostly': 0.035}},\n",
       "  {'expectation_type': 'expect_column_values_to_not_be_null',\n",
       "   'kwargs': {'column': 'ADDPAY_SUBMITTED_DATE_EASTERN', 'mostly': 0.037}},\n",
       "  {'expectation_type': 'expect_column_values_to_not_be_null',\n",
       "   'kwargs': {'column': 'ADDPAY_SUBMITTED_DATE_UTC', 'mostly': 0.037}},\n",
       "  {'expectation_type': 'expect_column_values_to_be_in_set',\n",
       "   'kwargs': {'column': 'ORIGINAL_CLAIM_STATUS_CODE',\n",
       "    'value_set': ['AP',\n",
       "     'DP',\n",
       "     'FC',\n",
       "     'FP',\n",
       "     'HD',\n",
       "     'PC',\n",
       "     'PD',\n",
       "     'PJ',\n",
       "     'SP',\n",
       "     'VD']}},\n",
       "  {'expectation_type': 'expect_column_values_to_be_in_set',\n",
       "   'kwargs': {'column': 'ORIGINAL_CLAIM_TYPE_CODE',\n",
       "    'value_set': ['OWN', 'VND']}},\n",
       "  {'expectation_type': 'expect_column_values_to_be_in_set',\n",
       "   'kwargs': {'column': 'SERVICE_ID',\n",
       "    'value_set': ['GOA',\n",
       "     'LOCK',\n",
       "     'Lock',\n",
       "     'NA',\n",
       "     'REPO',\n",
       "     'ROAD',\n",
       "     'Road',\n",
       "     'TOW',\n",
       "     'Tow',\n",
       "     'null',\n",
       "     'tow']}},\n",
       "  {'expectation_type': 'expect_column_values_to_be_json_parseable',\n",
       "   'kwargs': {'column': 'ADDCHARGE_DETAILS', 'mostly': 0.98}},\n",
       "  {'expectation_type': 'expect_column_values_to_be_json_parseable',\n",
       "   'kwargs': {'column': 'ADDPAY_DETAILS', 'mostly': 0.98}},\n",
       "  {'expectation_type': 'expect_column_values_to_match_json_schema',\n",
       "   'kwargs': {'column': 'ADDPAY_DETAILS',\n",
       "    'json_schema': {'definitions': {},\n",
       "     '$schema': 'http://json-schema.org/draft-07/schema#',\n",
       "     '$id': 'http://example.com/root.json',\n",
       "     'type': ['array', 'null'],\n",
       "     'title': 'The Root Schema',\n",
       "     'items': {'$id': '#/items',\n",
       "      'type': ['object', 'null'],\n",
       "      'title': 'The Items Schema',\n",
       "      'required': ['addpay_approved_date',\n",
       "       'addpay_approved_payment_amount',\n",
       "       'addpay_claim_id',\n",
       "       'addpay_is_approved',\n",
       "       'addpay_payment_amount',\n",
       "       'addpay_submitted_date',\n",
       "       'addpay_task_id',\n",
       "       'addpay_vendor_id',\n",
       "       'original_claim_amount_paid',\n",
       "       'original_claim_amount_requested',\n",
       "       'original_claim_id',\n",
       "       'original_claim_vendor_id',\n",
       "       'service_date'],\n",
       "      'properties': {'addpay_approved_date': {'$id': '#/items/properties/addpay_approved_date',\n",
       "        'type': ['string', 'null'],\n",
       "        'format': 'date-time',\n",
       "        'title': 'The Addpay_approved_date Schema',\n",
       "        'default': '',\n",
       "        'examples': ['2019-02-20T04:02:00'],\n",
       "        'pattern': '^(.*)$'},\n",
       "       'addpay_approved_payment_amount': {'$id': '#/items/properties/addpay_approved_payment_amount',\n",
       "        'type': ['number', 'null'],\n",
       "        'title': 'The Addpay_approved_payment_amount Schema',\n",
       "        'default': 0,\n",
       "        'examples': [27]},\n",
       "       'addpay_claim_id': {'$id': '#/items/properties/addpay_claim_id',\n",
       "        'type': ['number', 'null'],\n",
       "        'title': 'The Addpay_claim_id Schema',\n",
       "        'default': 0,\n",
       "        'examples': [88551584]},\n",
       "       'addpay_is_approved': {'$id': '#/items/properties/addpay_is_approved',\n",
       "        'type': ['boolean', 'null'],\n",
       "        'title': 'The Addpay_is_approved Schema',\n",
       "        'default': False,\n",
       "        'examples': [True]},\n",
       "       'addpay_payment_amount': {'$id': '#/items/properties/addpay_payment_amount',\n",
       "        'type': ['number', 'null'],\n",
       "        'title': 'The Addpay_payment_amount Schema',\n",
       "        'default': 0,\n",
       "        'examples': [27]},\n",
       "       'addpay_submitted_date': {'$id': '#/items/properties/addpay_submitted_date',\n",
       "        'type': ['string', 'null'],\n",
       "        'format': 'date-time',\n",
       "        'title': 'The Addpay_submitted_date Schema',\n",
       "        'default': '',\n",
       "        'examples': ['2019-02-19T00:00:00'],\n",
       "        'pattern': '^(.*)$'},\n",
       "       'addpay_task_id': {'$id': '#/items/properties/addpay_task_id',\n",
       "        'type': ['number', 'null'],\n",
       "        'title': 'The Addpay_task_id Schema',\n",
       "        'default': 0,\n",
       "        'examples': [2]},\n",
       "       'addpay_vendor_id': {'$id': '#/items/properties/addpay_vendor_id',\n",
       "        'type': ['string', 'null'],\n",
       "        'title': 'The Addpay_vendor_id Schema',\n",
       "        'default': '',\n",
       "        'examples': ['133573'],\n",
       "        'pattern': '^(.*)$'},\n",
       "       'original_claim_amount_paid': {'$id': '#/items/properties/original_claim_amount_paid',\n",
       "        'type': ['number', 'null'],\n",
       "        'title': 'The Original_claim_amount_paid Schema',\n",
       "        'default': 0.0,\n",
       "        'examples': [57.95]},\n",
       "       'original_claim_amount_requested': {'$id': '#/items/properties/original_claim_amount_requested',\n",
       "        'type': ['number', 'null'],\n",
       "        'title': 'The Original_claim_amount_requested Schema',\n",
       "        'default': 0,\n",
       "        'examples': [59]},\n",
       "       'original_claim_id': {'$id': '#/items/properties/original_claim_id',\n",
       "        'type': ['number', 'null'],\n",
       "        'title': 'The Original_claim_id Schema',\n",
       "        'default': 0,\n",
       "        'examples': [195082625]},\n",
       "       'original_claim_vendor_id': {'$id': '#/items/properties/original_claim_vendor_id',\n",
       "        'type': ['string', 'null'],\n",
       "        'title': 'The Original_claim_vendor_id Schema',\n",
       "        'default': '',\n",
       "        'examples': ['133573'],\n",
       "        'pattern': '^(.*)$'},\n",
       "       'service_date': {'$id': '#/items/properties/service_date',\n",
       "        'type': ['string', 'null'],\n",
       "        'format': 'date-time',\n",
       "        'title': 'The Service_date Schema',\n",
       "        'default': '',\n",
       "        'examples': ['2019-02-14T11:50:21'],\n",
       "        'pattern': '^(.*)$'}}}},\n",
       "    'mostly': 0.92}},\n",
       "  {'expectation_type': 'expect_column_values_to_match_json_schema',\n",
       "   'kwargs': {'column': 'ADDCHARGE_DETAILS',\n",
       "    'json_schema': {'definitions': {},\n",
       "     '$schema': 'http://json-schema.org/draft-07/schema#',\n",
       "     '$id': 'http://example.com/root.json',\n",
       "     'type': ['array', 'null'],\n",
       "     'title': 'The Root Schema',\n",
       "     'items': {'$id': '#/items',\n",
       "      'type': ['object', 'null'],\n",
       "      'title': 'The Items Schema',\n",
       "      'properties': {'addcharge_amount': {'$id': '#/items/properties/addcharge_amount',\n",
       "        'type': ['number', 'null'],\n",
       "        'title': 'The Addcharge_amount Schema'},\n",
       "       'addcharge_type': {'$id': '#/items/properties/addcharge_type',\n",
       "        'type': ['string', 'null'],\n",
       "        'title': 'The Addcharge_type Schema'}},\n",
       "      'additionalProperties': {'type': 'string'}}},\n",
       "    'mostly': 0.8}},\n",
       "  {'expectation_type': 'expect_multicolumn_values_to_be_unique',\n",
       "   'kwargs': {'column_list': ['CASE_ID', 'TASK_ID', 'VENDOR_ID']}},\n",
       "  {'expectation_type': 'expect_column_values_to_be_unique',\n",
       "   'kwargs': {'column': 'CLAIM_ID'}},\n",
       "  {'expectation_type': 'expect_column_pair_values_A_to_be_greater_than_B',\n",
       "   'kwargs': {'column_A': 'MODIFIED_DATE_UTC',\n",
       "    'column_B': 'ADDPAY_APPROVED_DATE_UTC',\n",
       "    'or_equal': True,\n",
       "    'ignore_row_if': 'either_value_is_missing'}},\n",
       "  {'expectation_type': 'expect_column_values_to_be_of_type',\n",
       "   'kwargs': {'column': 'CASE_ID', 'type_': 'int64'}},\n",
       "  {'expectation_type': 'expect_column_values_to_be_of_type',\n",
       "   'kwargs': {'column': 'TASK_ID', 'type_': 'int8'}},\n",
       "  {'expectation_type': 'expect_column_values_to_be_of_type',\n",
       "   'kwargs': {'column': 'VENDOR_ID', 'type_': 'object'}},\n",
       "  {'expectation_type': 'expect_column_values_to_be_of_type',\n",
       "   'kwargs': {'column': 'CLAIM_ID', 'type_': 'int32'}},\n",
       "  {'expectation_type': 'expect_column_values_to_be_of_type',\n",
       "   'kwargs': {'column': 'VENDOR_ADDRESS_ID', 'type_': 'float64'}},\n",
       "  {'expectation_type': 'expect_column_values_to_be_of_type',\n",
       "   'kwargs': {'column': 'CLAIM_PO_NUMBER_ENTERED', 'type_': 'float64'}},\n",
       "  {'expectation_type': 'expect_column_values_to_be_of_type',\n",
       "   'kwargs': {'column': 'ORIGINAL_CLAIM_PAYMENT_AMOUNT', 'type_': 'float64'}},\n",
       "  {'expectation_type': 'expect_column_values_to_be_of_type',\n",
       "   'kwargs': {'column': 'ORIGINAL_CLAIM_STATUS_CODE', 'type_': 'object'}},\n",
       "  {'expectation_type': 'expect_column_values_to_be_of_type',\n",
       "   'kwargs': {'column': 'ORIGINAL_CLAIM_TYPE_CODE', 'type_': 'object'}},\n",
       "  {'expectation_type': 'expect_column_values_to_be_of_type',\n",
       "   'kwargs': {'column': 'SUBMITTED_CLAIM_AMOUNT', 'type_': 'float64'}},\n",
       "  {'expectation_type': 'expect_column_values_to_be_of_type',\n",
       "   'kwargs': {'column': 'SUBMITTED_TOW_MILES', 'type_': 'float64'}},\n",
       "  {'expectation_type': 'expect_column_values_to_be_of_type',\n",
       "   'kwargs': {'column': 'SUBMITTED_ENROUTE_MILES', 'type_': 'float64'}},\n",
       "  {'expectation_type': 'expect_column_values_to_be_of_type',\n",
       "   'kwargs': {'column': 'SUBMITTED_LABOR_HOURS', 'type_': 'float64'}},\n",
       "  {'expectation_type': 'expect_column_values_to_be_of_type',\n",
       "   'kwargs': {'column': 'SERVICE_ID', 'type_': 'object'}},\n",
       "  {'expectation_type': 'expect_column_values_to_be_of_type',\n",
       "   'kwargs': {'column': 'WAS_AUDITED', 'type_': 'bool'}},\n",
       "  {'expectation_type': 'expect_column_values_to_be_of_type',\n",
       "   'kwargs': {'column': 'ADDCHARGE_AMOUNT', 'type_': 'float64'}},\n",
       "  {'expectation_type': 'expect_column_values_to_be_of_type',\n",
       "   'kwargs': {'column': 'IS_CLAIM_APPROVED', 'type_': 'bool'}},\n",
       "  {'expectation_type': 'expect_column_values_to_be_of_type',\n",
       "   'kwargs': {'column': 'ORIGINAL_CLAIM_APPROVED_PAYMENT',\n",
       "    'type_': 'float64'}},\n",
       "  {'expectation_type': 'expect_column_values_to_be_of_type',\n",
       "   'kwargs': {'column': 'ADDCHARGE_DETAILS', 'type_': 'object'}},\n",
       "  {'expectation_type': 'expect_column_values_to_be_of_type',\n",
       "   'kwargs': {'column': 'ADDCHARGE_COUNT', 'type_': 'int16'}},\n",
       "  {'expectation_type': 'expect_column_values_to_be_of_type',\n",
       "   'kwargs': {'column': 'BASE_TOTAL_FROM_RATES', 'type_': 'float64'}},\n",
       "  {'expectation_type': 'expect_column_values_to_be_of_type',\n",
       "   'kwargs': {'column': 'ADDPAY_DETAILS', 'type_': 'object'}},\n",
       "  {'expectation_type': 'expect_column_values_to_be_of_type',\n",
       "   'kwargs': {'column': 'ADDPAY_COUNT', 'type_': 'float64'}},\n",
       "  {'expectation_type': 'expect_column_values_to_be_of_type',\n",
       "   'kwargs': {'column': 'ADDPAY_PAYMENT_AMOUNT', 'type_': 'float64'}},\n",
       "  {'expectation_type': 'expect_column_values_to_be_of_type',\n",
       "   'kwargs': {'column': 'ADDPAY_APPROVED_PAYMENT', 'type_': 'float64'}},\n",
       "  {'expectation_type': 'expect_column_values_to_be_of_type',\n",
       "   'kwargs': {'column': 'COMPLETE_APPROVED_PAYMENT', 'type_': 'float64'}},\n",
       "  {'expectation_type': 'expect_column_values_to_be_of_type',\n",
       "   'kwargs': {'column': 'IS_VCC', 'type_': 'bool'}},\n",
       "  {'expectation_type': 'expect_column_values_to_be_of_type',\n",
       "   'kwargs': {'column': 'ORIGINAL_CLAIM_APPROVED_DATE_EASTERN',\n",
       "    'type_': 'datetime64[ns]'}},\n",
       "  {'expectation_type': 'expect_column_values_to_be_of_type',\n",
       "   'kwargs': {'column': 'ORIGINAL_CLAIM_APPROVED_DATE_UTC',\n",
       "    'type_': 'datetime64[ns]'}},\n",
       "  {'expectation_type': 'expect_column_values_to_be_of_type',\n",
       "   'kwargs': {'column': 'SERVICE_DATE_EASTERN', 'type_': 'datetime64[ns]'}},\n",
       "  {'expectation_type': 'expect_column_values_to_be_of_type',\n",
       "   'kwargs': {'column': 'SERVICE_DATE_UTC', 'type_': 'datetime64[ns]'}},\n",
       "  {'expectation_type': 'expect_column_values_to_be_of_type',\n",
       "   'kwargs': {'column': 'ORIGINAL_CLAIM_SUBMITTED_DATE_EASTERN',\n",
       "    'type_': 'datetime64[ns]'}},\n",
       "  {'expectation_type': 'expect_column_values_to_be_of_type',\n",
       "   'kwargs': {'column': 'ORIGINAL_CLAIM_SUBMITTED_DATE_UTC',\n",
       "    'type_': 'datetime64[ns]'}},\n",
       "  {'expectation_type': 'expect_column_values_to_be_of_type',\n",
       "   'kwargs': {'column': 'ADDPAY_APPROVED_DATE_EASTERN',\n",
       "    'type_': 'datetime64[ns]'}},\n",
       "  {'expectation_type': 'expect_column_values_to_be_of_type',\n",
       "   'kwargs': {'column': 'ADDPAY_APPROVED_DATE_UTC',\n",
       "    'type_': 'datetime64[ns]'}},\n",
       "  {'expectation_type': 'expect_column_values_to_be_of_type',\n",
       "   'kwargs': {'column': 'ADDPAY_SUBMITTED_DATE_EASTERN',\n",
       "    'type_': 'datetime64[ns]'}},\n",
       "  {'expectation_type': 'expect_column_values_to_be_of_type',\n",
       "   'kwargs': {'column': 'ADDPAY_SUBMITTED_DATE_UTC',\n",
       "    'type_': 'datetime64[ns]'}},\n",
       "  {'expectation_type': 'expect_column_values_to_be_of_type',\n",
       "   'kwargs': {'column': 'MODIFIED_DATE_EASTERN', 'type_': 'datetime64[ns]'}},\n",
       "  {'expectation_type': 'expect_column_values_to_be_of_type',\n",
       "   'kwargs': {'column': 'MODIFIED_DATE_UTC', 'type_': 'datetime64[ns]'}}],\n",
       " 'data_asset_type': 'Dataset'}"
      ]
     },
     "execution_count": 131,
     "metadata": {},
     "output_type": "execute_result"
    }
   ],
   "source": [
    "batch.get_expectation_suite()"
   ]
  },
  {
   "cell_type": "code",
   "execution_count": 41,
   "metadata": {},
   "outputs": [
    {
     "name": "stdout",
     "output_type": "stream",
     "text": [
      "2020-01-31T18:26:29-0500 - INFO - \t64 expectation(s) included in expectation_suite. result_format settings filtered.\n"
     ]
    }
   ],
   "source": [
    "batch.save_expectation_suite()"
   ]
  },
  {
   "cell_type": "markdown",
   "metadata": {},
   "source": [
    "### You created and saved expectations for at least one of the data assets.\n",
    "\n",
    "### We will show you how to set up validation - the process of checking if new files of this type conform to your expectations before they are processed by your pipeline's code. \n",
    "\n",
    "### Go to [integrate_validation_into_pipeline.ipynb](integrate_validation_into_pipeline.ipynb) to proceed.\n",
    "\n",
    "\n"
   ]
  }
 ],
 "metadata": {
  "kernelspec": {
   "display_name": "Python 3",
   "language": "python",
   "name": "python3"
  },
  "language_info": {
   "codemirror_mode": {
    "name": "ipython",
    "version": 3
   },
   "file_extension": ".py",
   "mimetype": "text/x-python",
   "name": "python",
   "nbconvert_exporter": "python",
   "pygments_lexer": "ipython3",
   "version": "3.7.6"
  }
 },
 "nbformat": 4,
 "nbformat_minor": 4
}
