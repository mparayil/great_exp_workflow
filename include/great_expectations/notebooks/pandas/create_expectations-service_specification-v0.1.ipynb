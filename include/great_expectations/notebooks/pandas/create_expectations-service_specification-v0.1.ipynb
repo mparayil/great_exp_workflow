{
 "cells": [
  {
   "cell_type": "code",
   "execution_count": 1,
   "metadata": {},
   "outputs": [
    {
     "name": "stdout",
     "output_type": "stream",
     "text": [
      "2020-03-17T11:37:20-0400 - INFO - Great Expectations logging enabled at INFO level by JupyterUX module.\n"
     ]
    }
   ],
   "source": [
    "import os\n",
    "import json\n",
    "import sys\n",
    "import great_expectations as ge\n",
    "import great_expectations.jupyter_ux\n",
    "from datetime import datetime\n",
    "import math\n",
    "import pandas as pd\n",
    "os.chdir('/Users/mparayil/Desktop/Development/dsa-data-workflows/grtexp_agero_dsa/great_expectations')"
   ]
  },
  {
   "cell_type": "code",
   "execution_count": 2,
   "metadata": {},
   "outputs": [],
   "source": [
    "import ge_prod.ge_data_access as gda\n",
    "import ge_prod.queries as queries"
   ]
  },
  {
   "cell_type": "code",
   "execution_count": 3,
   "metadata": {},
   "outputs": [],
   "source": [
    "rule_query = queries.queries.get('service_specification').get('create_expectations_dec2019')"
   ]
  },
  {
   "cell_type": "code",
   "execution_count": 4,
   "metadata": {},
   "outputs": [
    {
     "data": {
      "text/plain": [
       "\"SELECT * FROM service_specification where create_time_utc >= to_date('2019-12-01') and create_time_utc <= to_date('2019-12-31');\""
      ]
     },
     "execution_count": 4,
     "metadata": {},
     "output_type": "execute_result"
    }
   ],
   "source": [
    "rule_query"
   ]
  },
  {
   "cell_type": "markdown",
   "metadata": {},
   "source": [
    "# Author Expectations\n",
    "\n"
   ]
  },
  {
   "cell_type": "markdown",
   "metadata": {},
   "source": [
    "[**Watch a short tutorial video**](https://docs.greatexpectations.io/en/latest/getting_started/create_expectations.html?utm_source=notebook&utm_medium=create_expectations#video)\n",
    "\n",
    "[**Read more in the tutorial**](https://docs.greatexpectations.io/en/latest/getting_started/create_expectations.html?utm_source=notebook&utm_medium=create_expectations)\n",
    "\n",
    "**Reach out for help on** [**Great Expectations Slack**](https://tinyurl.com/great-expectations-slack)\n"
   ]
  },
  {
   "cell_type": "markdown",
   "metadata": {},
   "source": [
    "### Get a DataContext object\n",
    "[Read more in the tutorial](https://great-expectations.readthedocs.io/en/latest/getting_started/create_expectations.html?utm_source=notebook&utm_medium=create_expectations#get-datacontext-object)\n",
    "\n",
    "\n"
   ]
  },
  {
   "cell_type": "code",
   "execution_count": 5,
   "metadata": {},
   "outputs": [
    {
     "name": "stdout",
     "output_type": "stream",
     "text": [
      "2020-03-17T11:37:25-0400 - INFO - Using project config: /Users/mparayil/Desktop/Development/dsa-data-workflows/grtexp_agero_dsa/great_expectations/great_expectations.yml\n"
     ]
    }
   ],
   "source": [
    "context = ge.data_context.DataContext()"
   ]
  },
  {
   "cell_type": "markdown",
   "metadata": {},
   "source": [
    "### List data assets in your project\n",
    "\n",
    "[Read more in the tutorial](https://docs.greatexpectations.io/en/latest/getting_started/create_expectations.html?utm_source=notebook&utm_medium=create_expectations#data-assets)\n"
   ]
  },
  {
   "cell_type": "code",
   "execution_count": 6,
   "metadata": {},
   "outputs": [
    {
     "name": "stdout",
     "output_type": "stream",
     "text": [
      "Inspecting your data sources. This may take a moment...\n"
     ]
    },
    {
     "data": {
      "text/html": [
       "<p>No data assets found in this data source.</p>\n",
       "<p>Read about how generators derive data assets from data sources:\n",
       "<a href=\"https://great-expectations.readthedocs.io/en/latest/how_to_add_data_source.html\">Data assets</a>\n",
       "</p>"
      ],
      "text/plain": [
       "<IPython.core.display.HTML object>"
      ]
     },
     "metadata": {},
     "output_type": "display_data"
    },
    {
     "data": {
      "text/html": [
       "<h2 style='margin: 0'>Datasource: agero_dsa_pandas (PandasDatasource)</h2>generator: default (SubdirReaderGenerator)"
      ],
      "text/plain": [
       "<IPython.core.display.HTML object>"
      ]
     },
     "metadata": {},
     "output_type": "display_data"
    }
   ],
   "source": [
    "great_expectations.jupyter_ux.list_available_data_asset_names(context)"
   ]
  },
  {
   "cell_type": "markdown",
   "metadata": {},
   "source": [
    "#### Pick one of the data asset names above and use as the value of data_asset_name argument below\n",
    "\n",
    "[Read more in the tutorial](https://docs.greatexpectations.io/en/latest/getting_started/create_expectations.html?utm_source=notebook&utm_medium=create_expectations#get-batch)\n"
   ]
  },
  {
   "cell_type": "markdown",
   "metadata": {},
   "source": [
    "### Specify data_asset & expectation_suite_name"
   ]
  },
  {
   "cell_type": "code",
   "execution_count": 7,
   "metadata": {},
   "outputs": [
    {
     "name": "stdout",
     "output_type": "stream",
     "text": [
      "NormalizedDataAssetName(datasource='agero_dsa_pandas', generator='default', generator_asset='service_specification')\n"
     ]
    }
   ],
   "source": [
    "data_asset_name = 'service_specification'\n",
    "normalized_data_asset_name = context.normalize_data_asset_name(data_asset_name)\n",
    "print(normalized_data_asset_name)"
   ]
  },
  {
   "cell_type": "markdown",
   "metadata": {},
   "source": [
    "### Create a new empty expectation suite"
   ]
  },
  {
   "cell_type": "code",
   "execution_count": 8,
   "metadata": {},
   "outputs": [],
   "source": [
    "expectation_suite_name = 'warnings_dec2019'\n",
    "# context.create_expectation_suite(data_asset_name=normalized_data_asset_name, expectation_suite_name=expectation_suite_name,\n",
    "#                                 overwrite_existing=True)"
   ]
  },
  {
   "cell_type": "code",
   "execution_count": 9,
   "metadata": {
    "scrolled": true
   },
   "outputs": [
    {
     "data": {
      "text/plain": [
       "[{'data_asset_name': agero_dsa_pandas/default/service_specification,\n",
       "  'expectation_suite_name': 'warnings_dec2019'},\n",
       " {'data_asset_name': agero_dsa_pandas/default/customer_experience,\n",
       "  'expectation_suite_name': 'warnings_2019Q3-Q4'},\n",
       " {'data_asset_name': agero_dsa_pandas/default/network_outreach,\n",
       "  'expectation_suite_name': 'warnings_2019Q4'},\n",
       " {'data_asset_name': agero_dsa_pandas/default/network_outreach,\n",
       "  'expectation_suite_name': 'warnings_dec2019'},\n",
       " {'data_asset_name': agero_dsa_pandas/default/network_outreach,\n",
       "  'expectation_suite_name': 'warnings'},\n",
       " {'data_asset_name': agero_dsa_pandas/default/customer_complaints,\n",
       "  'expectation_suite_name': 'warnings_2019Q4'},\n",
       " {'data_asset_name': agero_dsa_pandas/default/network_claims,\n",
       "  'expectation_suite_name': 'warnings_2019Q4'},\n",
       " {'data_asset_name': agero_dsa_pandas/default/network_claims,\n",
       "  'expectation_suite_name': 'warnings_dec2019'},\n",
       " {'data_asset_name': agero_dsa_pandas/default/service_progress,\n",
       "  'expectation_suite_name': 'warnings_2019Q4'},\n",
       " {'data_asset_name': agero_dsa_pandas/default/zip_code_lookup,\n",
       "  'expectation_suite_name': 'warnings'}]"
      ]
     },
     "execution_count": 9,
     "metadata": {},
     "output_type": "execute_result"
    }
   ],
   "source": [
    "context.list_expectation_suite_keys()"
   ]
  },
  {
   "cell_type": "markdown",
   "metadata": {},
   "source": [
    "### Get batch to create expectations against"
   ]
  },
  {
   "cell_type": "code",
   "execution_count": 10,
   "metadata": {},
   "outputs": [],
   "source": [
    "rule_df = gda.snowflake_connector_to_df(rule_query)\n",
    "# rule_df.to_pickle('temp_data/network_claims_2019Q4.pkl')"
   ]
  },
  {
   "cell_type": "code",
   "execution_count": 12,
   "metadata": {},
   "outputs": [],
   "source": [
    "rule_df.to_pickle('temp_data/service_specification_dec2019.pkl')"
   ]
  },
  {
   "cell_type": "code",
   "execution_count": 11,
   "metadata": {},
   "outputs": [
    {
     "data": {
      "text/plain": [
       "(1516298, 56)"
      ]
     },
     "execution_count": 11,
     "metadata": {},
     "output_type": "execute_result"
    }
   ],
   "source": [
    "rule_df.shape"
   ]
  },
  {
   "cell_type": "code",
   "execution_count": 12,
   "metadata": {},
   "outputs": [],
   "source": [
    "b_kwargs = {\"dataset\": rule_df}\n",
    "batch = context.get_batch(normalized_data_asset_name, expectation_suite_name=expectation_suite_name,\n",
    "                         batch_kwargs=b_kwargs)"
   ]
  },
  {
   "cell_type": "code",
   "execution_count": 13,
   "metadata": {},
   "outputs": [
    {
     "data": {
      "text/plain": [
       "1516298"
      ]
     },
     "execution_count": 13,
     "metadata": {},
     "output_type": "execute_result"
    }
   ],
   "source": [
    "batch.get_row_count()"
   ]
  },
  {
   "cell_type": "code",
   "execution_count": 14,
   "metadata": {},
   "outputs": [
    {
     "name": "stdout",
     "output_type": "stream",
     "text": [
      "(1516298, 56)\n"
     ]
    }
   ],
   "source": [
    "print(rule_df.shape)"
   ]
  },
  {
   "cell_type": "code",
   "execution_count": 15,
   "metadata": {},
   "outputs": [
    {
     "data": {
      "text/plain": [
       "['agero_dsa_pandas']"
      ]
     },
     "execution_count": 15,
     "metadata": {},
     "output_type": "execute_result"
    }
   ],
   "source": [
    "[datasource['name'] for datasource in context.list_datasources() if datasource['class_name'] == 'PandasDatasource']"
   ]
  },
  {
   "cell_type": "code",
   "execution_count": 16,
   "metadata": {},
   "outputs": [],
   "source": [
    "# getting rule_df batchId & fingerprint\n",
    "rule_batch_fingerprint = batch.batch_fingerprint\n",
    "rule_batch_id = batch.batch_id"
   ]
  },
  {
   "cell_type": "code",
   "execution_count": 17,
   "metadata": {},
   "outputs": [
    {
     "name": "stdout",
     "output_type": "stream",
     "text": [
      "rule_batch_fingerprint: \n",
      "{'partition_id': '20200317T154359.443839Z', 'fingerprint': 'a22d45d9f735dbbea0f1712aeff7ef5c'}\n",
      "rule_batch_id: \n",
      "{'timestamp': 1584459555.327921, 'PandasInMemoryDF': True, 'fingerprint': '9ef58f980a692de2c01fc861bf7948be'}\n"
     ]
    }
   ],
   "source": [
    "print('rule_batch_fingerprint: ', rule_batch_fingerprint, sep='\\n')\n",
    "print('rule_batch_id: ', rule_batch_id, sep='\\n')"
   ]
  },
  {
   "cell_type": "markdown",
   "metadata": {},
   "source": [
    "## Author Expectations\n",
    "\n",
    "[Read more in the tutorial](https://docs.greatexpectations.io/en/latest/getting_started/create_expectations.html?utm_source=notebook&utm_medium=create_expectations#create-expectations)\n",
    "\n",
    "See available expectations in the [expectation glossary](https://docs.greatexpectations.io/en/latest/glossary.html?utm_source=notebook&utm_medium=create_expectations)\n"
   ]
  },
  {
   "cell_type": "markdown",
   "metadata": {},
   "source": [
    "### Dataset exploration & understanding of fields to ensure rules reflect behavior of data\n",
    "- Validating columns to exist in table shape\n",
    "- Expected column count in table shape\n",
    "- Expected set values to be seen in given column\n",
    "- Expected columns to have null or non-null values X percentage of the time\n",
    "- Expect column values to be of certain data type(s)\n",
    "- Placing max and min values limits on numerical columns\n",
    "- Average or median column value to be within a certain range\n",
    "- Expecting column A to be large/less than column B"
   ]
  },
  {
   "cell_type": "markdown",
   "metadata": {},
   "source": [
    "### 1. Validating to see if every column exists in table"
   ]
  },
  {
   "cell_type": "code",
   "execution_count": 18,
   "metadata": {},
   "outputs": [
    {
     "name": "stdout",
     "output_type": "stream",
     "text": [
      "['CASE_ID', 'TASK_ID', 'PO_NUMBER', 'TASK_STATUS_CODE', 'POLICY_NUMBER', 'IS_DISPATCH', 'CALL_REASON_CODE', 'DISABLEMENT_REASON_CODE', 'PROBLEM_CODE', 'IS_SCHEDULED_DISPATCH', 'SERVICE_TYPE_CODE', 'PRIMARY_EQUIPMENT_CODE', 'PRIMARY_EQUIPMENT_CLASS', 'PRIMARY_EQUIPMENT_TYPE', 'PRODUCT_TYPE', 'IS_PER_EVENT', 'DISABLEMENT_LATITUDE', 'DISABLEMENT_LONGITUDE', 'DISABLEMENT_ZIP_CODE', 'DISABLEMENT_ADDRESS_1', 'DISABLEMENT_ADDRESS_2', 'DISABLEMENT_CITY', 'DISABLEMENT_STATE_CODE', 'IS_DRIVER_WITH_VEHICLE', 'LOCATION_TYPE_CODE', 'VIN', 'VEHICLE_MODEL_YEAR', 'VEHICLE_MAKE', 'VEHICLE_MODEL', 'BILL_GROUP_ID', 'CLIENT_ID', 'COVERAGE_STATUS_CODE', 'COVERAGE_AMOUNT', 'COVERAGE_STATUS_DESCRIPTION', 'COVERED_AMOUNT', 'OVERAGE_PAYMENT_METHOD_CODE', 'OVERAGE_PAYMENT_AMOUNT', 'AUTHORIZATION_REASON_CODE', 'ESTIMATED_TOW_MILEAGE', 'TOW_DESTINATION_ID', 'TOW_DESTINATION_LATITUDE', 'TOW_DESTINATION_LONGITUDE', 'TOW_DESTINATION_ZIP_CODE', 'TOW_DESTINATION_CITY', 'TOW_DESTINATION_STATE_CODE', 'TOW_DESTINATION_ADDRESS_1', 'TOW_DESTINATION_ADDRESS_2', 'TOW_DESTINATION_NAME', 'EQUIPMENT_CONFIGURATION', 'EQUIPMENT_COUNT', 'SERVICE_TIME_EASTERN', 'SERVICE_TIME_UTC', 'SERVICE_TIME_LOCAL', 'CREATE_TIME_EASTERN', 'CREATE_TIME_UTC', 'CREATE_TIME_LOCAL']\n"
     ]
    }
   ],
   "source": [
    "# add more expectations here\n",
    "column_names = batch.get_table_columns()\n",
    "print(column_names)"
   ]
  },
  {
   "cell_type": "code",
   "execution_count": 19,
   "metadata": {},
   "outputs": [],
   "source": [
    "colnames = list(batch.columns)\n",
    "# colnames.sort()"
   ]
  },
  {
   "cell_type": "code",
   "execution_count": 20,
   "metadata": {},
   "outputs": [
    {
     "name": "stdout",
     "output_type": "stream",
     "text": [
      "['CASE_ID', 'TASK_ID', 'PO_NUMBER', 'TASK_STATUS_CODE', 'POLICY_NUMBER', 'IS_DISPATCH', 'CALL_REASON_CODE', 'DISABLEMENT_REASON_CODE', 'PROBLEM_CODE', 'IS_SCHEDULED_DISPATCH', 'SERVICE_TYPE_CODE', 'PRIMARY_EQUIPMENT_CODE', 'PRIMARY_EQUIPMENT_CLASS', 'PRIMARY_EQUIPMENT_TYPE', 'PRODUCT_TYPE', 'IS_PER_EVENT', 'DISABLEMENT_LATITUDE', 'DISABLEMENT_LONGITUDE', 'DISABLEMENT_ZIP_CODE', 'DISABLEMENT_ADDRESS_1', 'DISABLEMENT_ADDRESS_2', 'DISABLEMENT_CITY', 'DISABLEMENT_STATE_CODE', 'IS_DRIVER_WITH_VEHICLE', 'LOCATION_TYPE_CODE', 'VIN', 'VEHICLE_MODEL_YEAR', 'VEHICLE_MAKE', 'VEHICLE_MODEL', 'BILL_GROUP_ID', 'CLIENT_ID', 'COVERAGE_STATUS_CODE', 'COVERAGE_AMOUNT', 'COVERAGE_STATUS_DESCRIPTION', 'COVERED_AMOUNT', 'OVERAGE_PAYMENT_METHOD_CODE', 'OVERAGE_PAYMENT_AMOUNT', 'AUTHORIZATION_REASON_CODE', 'ESTIMATED_TOW_MILEAGE', 'TOW_DESTINATION_ID', 'TOW_DESTINATION_LATITUDE', 'TOW_DESTINATION_LONGITUDE', 'TOW_DESTINATION_ZIP_CODE', 'TOW_DESTINATION_CITY', 'TOW_DESTINATION_STATE_CODE', 'TOW_DESTINATION_ADDRESS_1', 'TOW_DESTINATION_ADDRESS_2', 'TOW_DESTINATION_NAME', 'EQUIPMENT_CONFIGURATION', 'EQUIPMENT_COUNT', 'SERVICE_TIME_EASTERN', 'SERVICE_TIME_UTC', 'SERVICE_TIME_LOCAL', 'CREATE_TIME_EASTERN', 'CREATE_TIME_UTC', 'CREATE_TIME_LOCAL']\n"
     ]
    }
   ],
   "source": [
    "print(colnames)"
   ]
  },
  {
   "cell_type": "code",
   "execution_count": 21,
   "metadata": {},
   "outputs": [],
   "source": [
    "master_column_names = ['CASE_ID', 'TASK_ID', 'PO_NUMBER', 'TASK_STATUS_CODE', 'POLICY_NUMBER', 'IS_DISPATCH',\n",
    "                       'CALL_REASON_CODE', 'DISABLEMENT_REASON_CODE', 'PROBLEM_CODE', 'IS_SCHEDULED_DISPATCH',\n",
    "                       'SERVICE_TYPE_CODE', 'PRIMARY_EQUIPMENT_CODE', 'PRIMARY_EQUIPMENT_CLASS',\n",
    "                        'PRIMARY_EQUIPMENT_TYPE', 'PRODUCT_TYPE', 'IS_PER_EVENT', 'DISABLEMENT_LATITUDE',\n",
    "                        'DISABLEMENT_LONGITUDE', 'DISABLEMENT_ZIP_CODE', 'DISABLEMENT_ADDRESS_1',\n",
    "                        'DISABLEMENT_ADDRESS_2', 'DISABLEMENT_CITY', 'DISABLEMENT_STATE_CODE', 'IS_DRIVER_WITH_VEHICLE',\n",
    "                        'LOCATION_TYPE_CODE', 'VIN', 'VEHICLE_MODEL_YEAR', 'VEHICLE_MAKE', 'VEHICLE_MODEL',\n",
    "                        'BILL_GROUP_ID', 'CLIENT_ID', 'ESTIMATED_TOW_MILEAGE', 'TOW_DESTINATION_ID',\n",
    "                        'TOW_DESTINATION_LATITUDE', 'TOW_DESTINATION_LONGITUDE', 'TOW_DESTINATION_ZIP_CODE',\n",
    "                        'TOW_DESTINATION_CITY', 'TOW_DESTINATION_STATE_CODE', 'TOW_DESTINATION_ADDRESS_1',\n",
    "                        'TOW_DESTINATION_ADDRESS_2', 'TOW_DESTINATION_NAME', 'EQUIPMENT_CONFIGURATION',\n",
    "                        'EQUIPMENT_COUNT', 'SERVICE_TIME_EASTERN', 'SERVICE_TIME_UTC', 'SERVICE_TIME_LOCAL',\n",
    "                        'CREATE_TIME_EASTERN', 'CREATE_TIME_UTC', 'CREATE_TIME_LOCAL']"
   ]
  },
  {
   "cell_type": "code",
   "execution_count": 22,
   "metadata": {},
   "outputs": [
    {
     "data": {
      "text/plain": [
       "49"
      ]
     },
     "execution_count": 22,
     "metadata": {},
     "output_type": "execute_result"
    }
   ],
   "source": [
    "len(master_column_names)"
   ]
  },
  {
   "cell_type": "code",
   "execution_count": 23,
   "metadata": {},
   "outputs": [
    {
     "data": {
      "text/plain": [
       "56"
      ]
     },
     "execution_count": 23,
     "metadata": {},
     "output_type": "execute_result"
    }
   ],
   "source": [
    "len(column_names)"
   ]
  },
  {
   "cell_type": "code",
   "execution_count": 27,
   "metadata": {},
   "outputs": [
    {
     "name": "stdout",
     "output_type": "stream",
     "text": [
      "CASE_ID:\n",
      "{'success': True, 'exception_info': {'raised_exception': False, 'exception_message': None, 'exception_traceback': None}}\n",
      "TASK_ID:\n",
      "{'success': True, 'exception_info': {'raised_exception': False, 'exception_message': None, 'exception_traceback': None}}\n",
      "PO_NUMBER:\n",
      "{'success': True, 'exception_info': {'raised_exception': False, 'exception_message': None, 'exception_traceback': None}}\n",
      "TASK_STATUS_CODE:\n",
      "{'success': True, 'exception_info': {'raised_exception': False, 'exception_message': None, 'exception_traceback': None}}\n",
      "POLICY_NUMBER:\n",
      "{'success': True, 'exception_info': {'raised_exception': False, 'exception_message': None, 'exception_traceback': None}}\n",
      "IS_DISPATCH:\n",
      "{'success': True, 'exception_info': {'raised_exception': False, 'exception_message': None, 'exception_traceback': None}}\n",
      "CALL_REASON_CODE:\n",
      "{'success': True, 'exception_info': {'raised_exception': False, 'exception_message': None, 'exception_traceback': None}}\n",
      "DISABLEMENT_REASON_CODE:\n",
      "{'success': True, 'exception_info': {'raised_exception': False, 'exception_message': None, 'exception_traceback': None}}\n",
      "PROBLEM_CODE:\n",
      "{'success': True, 'exception_info': {'raised_exception': False, 'exception_message': None, 'exception_traceback': None}}\n",
      "IS_SCHEDULED_DISPATCH:\n",
      "{'success': True, 'exception_info': {'raised_exception': False, 'exception_message': None, 'exception_traceback': None}}\n",
      "SERVICE_TYPE_CODE:\n",
      "{'success': True, 'exception_info': {'raised_exception': False, 'exception_message': None, 'exception_traceback': None}}\n",
      "PRIMARY_EQUIPMENT_CODE:\n",
      "{'success': True, 'exception_info': {'raised_exception': False, 'exception_message': None, 'exception_traceback': None}}\n",
      "PRIMARY_EQUIPMENT_CLASS:\n",
      "{'success': True, 'exception_info': {'raised_exception': False, 'exception_message': None, 'exception_traceback': None}}\n",
      "PRIMARY_EQUIPMENT_TYPE:\n",
      "{'success': True, 'exception_info': {'raised_exception': False, 'exception_message': None, 'exception_traceback': None}}\n",
      "PRODUCT_TYPE:\n",
      "{'success': True, 'exception_info': {'raised_exception': False, 'exception_message': None, 'exception_traceback': None}}\n",
      "IS_PER_EVENT:\n",
      "{'success': True, 'exception_info': {'raised_exception': False, 'exception_message': None, 'exception_traceback': None}}\n",
      "DISABLEMENT_LATITUDE:\n",
      "{'success': True, 'exception_info': {'raised_exception': False, 'exception_message': None, 'exception_traceback': None}}\n",
      "DISABLEMENT_LONGITUDE:\n",
      "{'success': True, 'exception_info': {'raised_exception': False, 'exception_message': None, 'exception_traceback': None}}\n",
      "DISABLEMENT_ZIP_CODE:\n",
      "{'success': True, 'exception_info': {'raised_exception': False, 'exception_message': None, 'exception_traceback': None}}\n",
      "DISABLEMENT_ADDRESS_1:\n",
      "{'success': True, 'exception_info': {'raised_exception': False, 'exception_message': None, 'exception_traceback': None}}\n",
      "DISABLEMENT_ADDRESS_2:\n",
      "{'success': True, 'exception_info': {'raised_exception': False, 'exception_message': None, 'exception_traceback': None}}\n",
      "DISABLEMENT_CITY:\n",
      "{'success': True, 'exception_info': {'raised_exception': False, 'exception_message': None, 'exception_traceback': None}}\n",
      "DISABLEMENT_STATE_CODE:\n",
      "{'success': True, 'exception_info': {'raised_exception': False, 'exception_message': None, 'exception_traceback': None}}\n",
      "IS_DRIVER_WITH_VEHICLE:\n",
      "{'success': True, 'exception_info': {'raised_exception': False, 'exception_message': None, 'exception_traceback': None}}\n",
      "LOCATION_TYPE_CODE:\n",
      "{'success': True, 'exception_info': {'raised_exception': False, 'exception_message': None, 'exception_traceback': None}}\n",
      "VIN:\n",
      "{'success': True, 'exception_info': {'raised_exception': False, 'exception_message': None, 'exception_traceback': None}}\n",
      "VEHICLE_MODEL_YEAR:\n",
      "{'success': True, 'exception_info': {'raised_exception': False, 'exception_message': None, 'exception_traceback': None}}\n",
      "VEHICLE_MAKE:\n",
      "{'success': True, 'exception_info': {'raised_exception': False, 'exception_message': None, 'exception_traceback': None}}\n",
      "VEHICLE_MODEL:\n",
      "{'success': True, 'exception_info': {'raised_exception': False, 'exception_message': None, 'exception_traceback': None}}\n",
      "BILL_GROUP_ID:\n",
      "{'success': True, 'exception_info': {'raised_exception': False, 'exception_message': None, 'exception_traceback': None}}\n",
      "CLIENT_ID:\n",
      "{'success': True, 'exception_info': {'raised_exception': False, 'exception_message': None, 'exception_traceback': None}}\n",
      "ESTIMATED_TOW_MILEAGE:\n",
      "{'success': True, 'exception_info': {'raised_exception': False, 'exception_message': None, 'exception_traceback': None}}\n",
      "TOW_DESTINATION_ID:\n",
      "{'success': True, 'exception_info': {'raised_exception': False, 'exception_message': None, 'exception_traceback': None}}\n",
      "TOW_DESTINATION_LATITUDE:\n",
      "{'success': True, 'exception_info': {'raised_exception': False, 'exception_message': None, 'exception_traceback': None}}\n",
      "TOW_DESTINATION_LONGITUDE:\n",
      "{'success': True, 'exception_info': {'raised_exception': False, 'exception_message': None, 'exception_traceback': None}}\n",
      "TOW_DESTINATION_ZIP_CODE:\n",
      "{'success': True, 'exception_info': {'raised_exception': False, 'exception_message': None, 'exception_traceback': None}}\n",
      "TOW_DESTINATION_CITY:\n",
      "{'success': True, 'exception_info': {'raised_exception': False, 'exception_message': None, 'exception_traceback': None}}\n",
      "TOW_DESTINATION_STATE_CODE:\n",
      "{'success': True, 'exception_info': {'raised_exception': False, 'exception_message': None, 'exception_traceback': None}}\n",
      "TOW_DESTINATION_ADDRESS_1:\n",
      "{'success': True, 'exception_info': {'raised_exception': False, 'exception_message': None, 'exception_traceback': None}}\n",
      "TOW_DESTINATION_ADDRESS_2:\n",
      "{'success': True, 'exception_info': {'raised_exception': False, 'exception_message': None, 'exception_traceback': None}}\n",
      "TOW_DESTINATION_NAME:\n",
      "{'success': True, 'exception_info': {'raised_exception': False, 'exception_message': None, 'exception_traceback': None}}\n",
      "EQUIPMENT_CONFIGURATION:\n",
      "{'success': True, 'exception_info': {'raised_exception': False, 'exception_message': None, 'exception_traceback': None}}\n",
      "EQUIPMENT_COUNT:\n",
      "{'success': True, 'exception_info': {'raised_exception': False, 'exception_message': None, 'exception_traceback': None}}\n",
      "SERVICE_TIME_EASTERN:\n",
      "{'success': True, 'exception_info': {'raised_exception': False, 'exception_message': None, 'exception_traceback': None}}\n",
      "SERVICE_TIME_UTC:\n",
      "{'success': True, 'exception_info': {'raised_exception': False, 'exception_message': None, 'exception_traceback': None}}\n",
      "SERVICE_TIME_LOCAL:\n",
      "{'success': True, 'exception_info': {'raised_exception': False, 'exception_message': None, 'exception_traceback': None}}\n",
      "CREATE_TIME_EASTERN:\n",
      "{'success': True, 'exception_info': {'raised_exception': False, 'exception_message': None, 'exception_traceback': None}}\n",
      "CREATE_TIME_UTC:\n",
      "{'success': True, 'exception_info': {'raised_exception': False, 'exception_message': None, 'exception_traceback': None}}\n",
      "CREATE_TIME_LOCAL:\n",
      "{'success': True, 'exception_info': {'raised_exception': False, 'exception_message': None, 'exception_traceback': None}}\n"
     ]
    }
   ],
   "source": [
    "# Ensuring columns to exist\n",
    "for col in master_column_names:\n",
    "    print(col + ':', batch.expect_column_to_exist(col, result_format='BASIC', catch_exceptions=True), sep='\\n')"
   ]
  },
  {
   "cell_type": "markdown",
   "metadata": {},
   "source": [
    "### 2. Validating column count in table is always the same"
   ]
  },
  {
   "cell_type": "code",
   "execution_count": 28,
   "metadata": {},
   "outputs": [
    {
     "name": "stdout",
     "output_type": "stream",
     "text": [
      "# of columns in customer_complaints:  49\n"
     ]
    }
   ],
   "source": [
    "print('# of columns in customer_complaints: ', len(column_names))"
   ]
  },
  {
   "cell_type": "code",
   "execution_count": 29,
   "metadata": {},
   "outputs": [
    {
     "name": "stdout",
     "output_type": "stream",
     "text": [
      "# of columns in network_claims:  49 \n",
      "\n",
      "{'success': True, 'result': {'observed_value': 49}}\n"
     ]
    }
   ],
   "source": [
    "print('# of columns in {}: '.format('network_claims'), len(master_column_names), '\\n')\n",
    "if len(column_names) == len(master_column_names):\n",
    "    print(batch.expect_table_column_count_to_equal(len(column_names), result_format='SUMMARY'))\n",
    "else:\n",
    "    print(batch.expect_table_column_count_to_equal(len(master_column_names), result_format='SUMMARY'))"
   ]
  },
  {
   "cell_type": "markdown",
   "metadata": {},
   "source": [
    "### 3. Checking which columns should not have null values"
   ]
  },
  {
   "cell_type": "code",
   "execution_count": 30,
   "metadata": {},
   "outputs": [
    {
     "name": "stdout",
     "output_type": "stream",
     "text": [
      "['CASE_ID', 'TASK_ID', 'PO_NUMBER', 'TASK_STATUS_CODE', 'POLICY_NUMBER', 'IS_DISPATCH', 'CALL_REASON_CODE', 'DISABLEMENT_REASON_CODE', 'PROBLEM_CODE', 'IS_SCHEDULED_DISPATCH', 'SERVICE_TYPE_CODE', 'PRIMARY_EQUIPMENT_CODE', 'PRIMARY_EQUIPMENT_CLASS', 'PRIMARY_EQUIPMENT_TYPE', 'PRODUCT_TYPE', 'IS_PER_EVENT', 'DISABLEMENT_LATITUDE', 'DISABLEMENT_LONGITUDE', 'DISABLEMENT_ZIP_CODE', 'DISABLEMENT_ADDRESS_1', 'DISABLEMENT_ADDRESS_2', 'DISABLEMENT_CITY', 'DISABLEMENT_STATE_CODE', 'IS_DRIVER_WITH_VEHICLE', 'LOCATION_TYPE_CODE', 'VIN', 'VEHICLE_MODEL_YEAR', 'VEHICLE_MAKE', 'VEHICLE_MODEL', 'BILL_GROUP_ID', 'CLIENT_ID', 'ESTIMATED_TOW_MILEAGE', 'TOW_DESTINATION_ID', 'TOW_DESTINATION_LATITUDE', 'TOW_DESTINATION_LONGITUDE', 'TOW_DESTINATION_ZIP_CODE', 'TOW_DESTINATION_CITY', 'TOW_DESTINATION_STATE_CODE', 'TOW_DESTINATION_ADDRESS_1', 'TOW_DESTINATION_ADDRESS_2', 'TOW_DESTINATION_NAME', 'EQUIPMENT_CONFIGURATION', 'EQUIPMENT_COUNT', 'SERVICE_TIME_EASTERN', 'SERVICE_TIME_UTC', 'SERVICE_TIME_LOCAL', 'CREATE_TIME_EASTERN', 'CREATE_TIME_UTC', 'CREATE_TIME_LOCAL']\n"
     ]
    }
   ],
   "source": [
    "# identifying which columns should not be null\n",
    "print(column_names)"
   ]
  },
  {
   "cell_type": "code",
   "execution_count": 24,
   "metadata": {},
   "outputs": [
    {
     "data": {
      "text/plain": [
       "CASE_ID                              0\n",
       "TASK_ID                              0\n",
       "PO_NUMBER                       505447\n",
       "TASK_STATUS_CODE                     0\n",
       "POLICY_NUMBER                   525755\n",
       "IS_DISPATCH                          0\n",
       "CALL_REASON_CODE                 95593\n",
       "DISABLEMENT_REASON_CODE        1025729\n",
       "PROBLEM_CODE                    410807\n",
       "IS_SCHEDULED_DISPATCH                0\n",
       "SERVICE_TYPE_CODE                    0\n",
       "PRIMARY_EQUIPMENT_CODE          444717\n",
       "PRIMARY_EQUIPMENT_CLASS         444717\n",
       "PRIMARY_EQUIPMENT_TYPE          444717\n",
       "PRODUCT_TYPE                         0\n",
       "IS_PER_EVENT                         0\n",
       "DISABLEMENT_LATITUDE            458783\n",
       "DISABLEMENT_LONGITUDE           458783\n",
       "DISABLEMENT_ZIP_CODE            458801\n",
       "DISABLEMENT_ADDRESS_1           458903\n",
       "DISABLEMENT_ADDRESS_2          1470928\n",
       "DISABLEMENT_CITY                458794\n",
       "DISABLEMENT_STATE_CODE          458808\n",
       "IS_DRIVER_WITH_VEHICLE               0\n",
       "LOCATION_TYPE_CODE              460466\n",
       "VIN                             533185\n",
       "VEHICLE_MODEL_YEAR              379654\n",
       "VEHICLE_MAKE                    379786\n",
       "VEHICLE_MODEL                   379801\n",
       "BILL_GROUP_ID                   366322\n",
       "CLIENT_ID                       370832\n",
       "COVERAGE_STATUS_CODE            398078\n",
       "COVERAGE_AMOUNT                 398054\n",
       "COVERAGE_STATUS_DESCRIPTION     402126\n",
       "COVERED_AMOUNT                  479501\n",
       "OVERAGE_PAYMENT_METHOD_CODE    1413439\n",
       "OVERAGE_PAYMENT_AMOUNT         1466400\n",
       "AUTHORIZATION_REASON_CODE      1505403\n",
       "ESTIMATED_TOW_MILEAGE           949572\n",
       "TOW_DESTINATION_ID              949476\n",
       "TOW_DESTINATION_LATITUDE        949476\n",
       "TOW_DESTINATION_LONGITUDE       949476\n",
       "TOW_DESTINATION_ZIP_CODE        949478\n",
       "TOW_DESTINATION_CITY            949478\n",
       "TOW_DESTINATION_STATE_CODE      949480\n",
       "TOW_DESTINATION_ADDRESS_1       956675\n",
       "TOW_DESTINATION_ADDRESS_2      1504697\n",
       "TOW_DESTINATION_NAME           1002753\n",
       "EQUIPMENT_CONFIGURATION         444698\n",
       "EQUIPMENT_COUNT                      0\n",
       "SERVICE_TIME_EASTERN                 0\n",
       "SERVICE_TIME_UTC                     0\n",
       "SERVICE_TIME_LOCAL              462300\n",
       "CREATE_TIME_EASTERN                  0\n",
       "CREATE_TIME_UTC                      0\n",
       "CREATE_TIME_LOCAL               462300\n",
       "dtype: int64"
      ]
     },
     "execution_count": 24,
     "metadata": {},
     "output_type": "execute_result"
    }
   ],
   "source": [
    "rule_df.isnull().sum()"
   ]
  },
  {
   "cell_type": "code",
   "execution_count": 27,
   "metadata": {},
   "outputs": [],
   "source": [
    "# Separating null & non-null columns\n",
    "null_cols = list(batch.isnull().sum()[batch.isnull().sum() > 0].keys())\n",
    "not_null_cols = list(batch.isnull().sum()[batch.isnull().sum() == 0].keys())"
   ]
  },
  {
   "cell_type": "code",
   "execution_count": 28,
   "metadata": {},
   "outputs": [
    {
     "name": "stdout",
     "output_type": "stream",
     "text": [
      "Viewing column null value counts: \n",
      "CASE_ID                              0\n",
      "TASK_ID                              0\n",
      "PO_NUMBER                       505447\n",
      "TASK_STATUS_CODE                     0\n",
      "POLICY_NUMBER                   525755\n",
      "IS_DISPATCH                          0\n",
      "CALL_REASON_CODE                 95593\n",
      "DISABLEMENT_REASON_CODE        1025729\n",
      "PROBLEM_CODE                    410807\n",
      "IS_SCHEDULED_DISPATCH                0\n",
      "SERVICE_TYPE_CODE                    0\n",
      "PRIMARY_EQUIPMENT_CODE          444717\n",
      "PRIMARY_EQUIPMENT_CLASS         444717\n",
      "PRIMARY_EQUIPMENT_TYPE          444717\n",
      "PRODUCT_TYPE                         0\n",
      "IS_PER_EVENT                         0\n",
      "DISABLEMENT_LATITUDE            458783\n",
      "DISABLEMENT_LONGITUDE           458783\n",
      "DISABLEMENT_ZIP_CODE            458801\n",
      "DISABLEMENT_ADDRESS_1           458903\n",
      "DISABLEMENT_ADDRESS_2          1470928\n",
      "DISABLEMENT_CITY                458794\n",
      "DISABLEMENT_STATE_CODE          458808\n",
      "IS_DRIVER_WITH_VEHICLE               0\n",
      "LOCATION_TYPE_CODE              460466\n",
      "VIN                             533185\n",
      "VEHICLE_MODEL_YEAR              379654\n",
      "VEHICLE_MAKE                    379786\n",
      "VEHICLE_MODEL                   379801\n",
      "BILL_GROUP_ID                   366322\n",
      "CLIENT_ID                       370832\n",
      "COVERAGE_STATUS_CODE            398078\n",
      "COVERAGE_AMOUNT                 398054\n",
      "COVERAGE_STATUS_DESCRIPTION     402126\n",
      "COVERED_AMOUNT                  479501\n",
      "OVERAGE_PAYMENT_METHOD_CODE    1413439\n",
      "OVERAGE_PAYMENT_AMOUNT         1466400\n",
      "AUTHORIZATION_REASON_CODE      1505403\n",
      "ESTIMATED_TOW_MILEAGE           949572\n",
      "TOW_DESTINATION_ID              949476\n",
      "TOW_DESTINATION_LATITUDE        949476\n",
      "TOW_DESTINATION_LONGITUDE       949476\n",
      "TOW_DESTINATION_ZIP_CODE        949478\n",
      "TOW_DESTINATION_CITY            949478\n",
      "TOW_DESTINATION_STATE_CODE      949480\n",
      "TOW_DESTINATION_ADDRESS_1       956675\n",
      "TOW_DESTINATION_ADDRESS_2      1504697\n",
      "TOW_DESTINATION_NAME           1002753\n",
      "EQUIPMENT_CONFIGURATION         444698\n",
      "EQUIPMENT_COUNT                      0\n",
      "SERVICE_TIME_EASTERN                 0\n",
      "SERVICE_TIME_UTC                     0\n",
      "SERVICE_TIME_LOCAL              462300\n",
      "CREATE_TIME_EASTERN                  0\n",
      "CREATE_TIME_UTC                      0\n",
      "CREATE_TIME_LOCAL               462300\n",
      "dtype: int64\n"
     ]
    }
   ],
   "source": [
    "print('Viewing column null value counts: ', batch.isnull().sum(), sep='\\n')"
   ]
  },
  {
   "cell_type": "code",
   "execution_count": 29,
   "metadata": {},
   "outputs": [],
   "source": [
    "not_null_cols.sort()"
   ]
  },
  {
   "cell_type": "code",
   "execution_count": 30,
   "metadata": {},
   "outputs": [
    {
     "name": "stdout",
     "output_type": "stream",
     "text": [
      "['CASE_ID', 'CREATE_TIME_EASTERN', 'CREATE_TIME_UTC', 'EQUIPMENT_COUNT', 'IS_DISPATCH', 'IS_DRIVER_WITH_VEHICLE', 'IS_PER_EVENT', 'IS_SCHEDULED_DISPATCH', 'PRODUCT_TYPE', 'SERVICE_TIME_EASTERN', 'SERVICE_TIME_UTC', 'SERVICE_TYPE_CODE', 'TASK_ID', 'TASK_STATUS_CODE']\n"
     ]
    }
   ],
   "source": [
    "print(not_null_cols)"
   ]
  },
  {
   "cell_type": "code",
   "execution_count": 31,
   "metadata": {},
   "outputs": [],
   "source": [
    "null_cols.sort()"
   ]
  },
  {
   "cell_type": "code",
   "execution_count": 32,
   "metadata": {
    "scrolled": true
   },
   "outputs": [
    {
     "name": "stdout",
     "output_type": "stream",
     "text": [
      "['AUTHORIZATION_REASON_CODE', 'BILL_GROUP_ID', 'CALL_REASON_CODE', 'CLIENT_ID', 'COVERAGE_AMOUNT', 'COVERAGE_STATUS_CODE', 'COVERAGE_STATUS_DESCRIPTION', 'COVERED_AMOUNT', 'CREATE_TIME_LOCAL', 'DISABLEMENT_ADDRESS_1', 'DISABLEMENT_ADDRESS_2', 'DISABLEMENT_CITY', 'DISABLEMENT_LATITUDE', 'DISABLEMENT_LONGITUDE', 'DISABLEMENT_REASON_CODE', 'DISABLEMENT_STATE_CODE', 'DISABLEMENT_ZIP_CODE', 'EQUIPMENT_CONFIGURATION', 'ESTIMATED_TOW_MILEAGE', 'LOCATION_TYPE_CODE', 'OVERAGE_PAYMENT_AMOUNT', 'OVERAGE_PAYMENT_METHOD_CODE', 'POLICY_NUMBER', 'PO_NUMBER', 'PRIMARY_EQUIPMENT_CLASS', 'PRIMARY_EQUIPMENT_CODE', 'PRIMARY_EQUIPMENT_TYPE', 'PROBLEM_CODE', 'SERVICE_TIME_LOCAL', 'TOW_DESTINATION_ADDRESS_1', 'TOW_DESTINATION_ADDRESS_2', 'TOW_DESTINATION_CITY', 'TOW_DESTINATION_ID', 'TOW_DESTINATION_LATITUDE', 'TOW_DESTINATION_LONGITUDE', 'TOW_DESTINATION_NAME', 'TOW_DESTINATION_STATE_CODE', 'TOW_DESTINATION_ZIP_CODE', 'VEHICLE_MAKE', 'VEHICLE_MODEL', 'VEHICLE_MODEL_YEAR', 'VIN']\n"
     ]
    }
   ],
   "source": [
    "print(null_cols)"
   ]
  },
  {
   "cell_type": "code",
   "execution_count": 43,
   "metadata": {},
   "outputs": [
    {
     "name": "stdout",
     "output_type": "stream",
     "text": [
      "CASE_ID \n",
      " {'success': True, 'result': {'element_count': 1516258, 'unexpected_count': 0, 'unexpected_percent': 0.0, 'partial_unexpected_list': []}}\n",
      "TASK_ID \n",
      " {'success': True, 'result': {'element_count': 1516258, 'unexpected_count': 0, 'unexpected_percent': 0.0, 'partial_unexpected_list': []}}\n",
      "TASK_STATUS_CODE \n",
      " {'success': True, 'result': {'element_count': 1516258, 'unexpected_count': 0, 'unexpected_percent': 0.0, 'partial_unexpected_list': []}}\n",
      "IS_DISPATCH \n",
      " {'success': True, 'result': {'element_count': 1516258, 'unexpected_count': 0, 'unexpected_percent': 0.0, 'partial_unexpected_list': []}}\n",
      "IS_SCHEDULED_DISPATCH \n",
      " {'success': True, 'result': {'element_count': 1516258, 'unexpected_count': 0, 'unexpected_percent': 0.0, 'partial_unexpected_list': []}}\n",
      "SERVICE_TYPE_CODE \n",
      " {'success': True, 'result': {'element_count': 1516258, 'unexpected_count': 0, 'unexpected_percent': 0.0, 'partial_unexpected_list': []}}\n",
      "PRODUCT_TYPE \n",
      " {'success': True, 'result': {'element_count': 1516258, 'unexpected_count': 0, 'unexpected_percent': 0.0, 'partial_unexpected_list': []}}\n",
      "IS_PER_EVENT \n",
      " {'success': True, 'result': {'element_count': 1516258, 'unexpected_count': 0, 'unexpected_percent': 0.0, 'partial_unexpected_list': []}}\n",
      "IS_DRIVER_WITH_VEHICLE \n",
      " {'success': True, 'result': {'element_count': 1516258, 'unexpected_count': 0, 'unexpected_percent': 0.0, 'partial_unexpected_list': []}}\n",
      "EQUIPMENT_COUNT \n",
      " {'success': True, 'result': {'element_count': 1516258, 'unexpected_count': 0, 'unexpected_percent': 0.0, 'partial_unexpected_list': []}}\n",
      "SERVICE_TIME_EASTERN \n",
      " {'success': True, 'result': {'element_count': 1516258, 'unexpected_count': 0, 'unexpected_percent': 0.0, 'partial_unexpected_list': []}}\n",
      "SERVICE_TIME_UTC \n",
      " {'success': True, 'result': {'element_count': 1516258, 'unexpected_count': 0, 'unexpected_percent': 0.0, 'partial_unexpected_list': []}}\n",
      "CREATE_TIME_EASTERN \n",
      " {'success': True, 'result': {'element_count': 1516258, 'unexpected_count': 0, 'unexpected_percent': 0.0, 'partial_unexpected_list': []}}\n",
      "CREATE_TIME_UTC \n",
      " {'success': True, 'result': {'element_count': 1516258, 'unexpected_count': 0, 'unexpected_percent': 0.0, 'partial_unexpected_list': []}}\n"
     ]
    }
   ],
   "source": [
    "# checking for all columns that shouldn't be null are not\n",
    "for col in not_null_cols:\n",
    "    print(col, '\\n', batch.expect_column_values_to_not_be_null(col, result_format='BASIC'))"
   ]
  },
  {
   "cell_type": "code",
   "execution_count": 44,
   "metadata": {},
   "outputs": [
    {
     "name": "stdout",
     "output_type": "stream",
     "text": [
      "capturing the following columns to not be null: ['CASE_ID', 'TASK_ID', 'TASK_STATUS_CODE', 'IS_DISPATCH', 'IS_SCHEDULED_DISPATCH', 'SERVICE_TYPE_CODE', 'PRODUCT_TYPE', 'IS_PER_EVENT', 'IS_DRIVER_WITH_VEHICLE', 'EQUIPMENT_COUNT', 'SERVICE_TIME_EASTERN', 'SERVICE_TIME_UTC', 'CREATE_TIME_EASTERN', 'CREATE_TIME_UTC']\n"
     ]
    }
   ],
   "source": [
    "print(f\"capturing the following columns to not be null: {not_null_cols}\", sep='\\n')"
   ]
  },
  {
   "cell_type": "markdown",
   "metadata": {},
   "source": [
    "### 4. Validating columns to have null values\n",
    "- **columns to check:**\n",
    "    - 'PO_NUMBER', 'POLICY_NUMBER', 'CALL_REASON_CODE', 'DISABLEMENT_REASON_CODE', 'PROBLEM_CODE', 'PRIMARY_EQUIPMENT_CODE', 'PRIMARY_EQUIPMENT_CLASS', 'PRIMARY_EQUIPMENT_TYPE', 'DISABLEMENT_LATITUDE', 'DISABLEMENT_LONGITUDE', 'DISABLEMENT_ZIP_CODE', 'DISABLEMENT_ADDRESS_1', 'DISABLEMENT_ADDRESS_2', 'DISABLEMENT_CITY', 'DISABLEMENT_STATE_CODE', 'LOCATION_TYPE_CODE', 'VIN', 'VEHICLE_MODEL_YEAR', 'VEHICLE_MAKE', 'VEHICLE_MODEL', 'BILL_GROUP_ID', 'CLIENT_ID', 'ESTIMATED_TOW_MILEAGE', 'TOW_DESTINATION_ID', 'TOW_DESTINATION_LATITUDE', 'TOW_DESTINATION_LONGITUDE', 'TOW_DESTINATION_ZIP_CODE', 'TOW_DESTINATION_CITY', 'TOW_DESTINATION_STATE_CODE', 'TOW_DESTINATION_ADDRESS_1', 'TOW_DESTINATION_ADDRESS_2', 'TOW_DESTINATION_NAME', 'EQUIPMENT_CONFIGURATION', 'SERVICE_TIME_LOCAL', 'CREATE_TIME_LOCAL'"
   ]
  },
  {
   "cell_type": "code",
   "execution_count": 45,
   "metadata": {},
   "outputs": [],
   "source": [
    "from typing import Union\n",
    "from great_expectations.dataset import PandasDataset\n",
    "def get_df_not_null_weights(df: Union[pd.DataFrame, PandasDataset], groupby_col: str, not_null_col: str) -> float:\n",
    "    \"\"\"\n",
    "    Provides specified column's weight/percentage for it not to be null.\n",
    "\n",
    "    Parameters\n",
    "    -----------\n",
    "    df: pd.DataFrame or great_expectations.dataset.PandasDataset\n",
    "        dataframe object to look at\n",
    "    groupby_col: str\n",
    "        grouping column string to groupby dataframe on when looking at specified column in next parameter\n",
    "    not_null_col: str\n",
    "        column used from dataframe to calculate safe weight thresholds of when it would be not null\n",
    "\n",
    "    Returns\n",
    "    ------------\n",
    "    float\n",
    "        Not null weight of specified column lowered by 5% after looking at the 10% quartile\n",
    "    \"\"\"\n",
    "\n",
    "    df_group = df.groupby(df[groupby_col].dt.date)\n",
    "    df_group = df_group.apply(lambda x: x[not_null_col].notnull().mean())\n",
    "\n",
    "    adjusted_weight = df_group.quantile(0.1, interpolation='lower')\n",
    "    return adjusted_weight.round(4)"
   ]
  },
  {
   "cell_type": "code",
   "execution_count": 33,
   "metadata": {},
   "outputs": [],
   "source": [
    "from typing import Union\n",
    "from great_expectations.dataset import PandasDataset\n",
    "def get_df_not_null_weights(df: Union[pd.DataFrame, PandasDataset], groupby_col: str, not_null_col: str) -> float:\n",
    "\t\"\"\"\n",
    "\tProvides specified column's weight/percentage for it not to be null.\n",
    "\n",
    "\tParameters\n",
    "\t-----------\n",
    "\tdf: pd.DataFrame or great_expectations.dataset.PandasDataset\n",
    "\t\tdataframe object to look at\n",
    "\tgroupby_col: str\n",
    "\t\tgrouping column string to groupby dataframe on when looking at specified column in next parameter\n",
    "\tnot_null_col: str\n",
    "\t\tcolumn used from dataframe to calculate safe weight thresholds of when it would be not null\n",
    "\n",
    "\tReturns\n",
    "\t------------\n",
    "\tfloat\n",
    "\t\tNot null weight of specified column lowered by 5% after looking at the 10% quartile\n",
    "\t\"\"\"\n",
    "\t\n",
    "\tdf_group = df.groupby(df[groupby_col].dt.date)\n",
    "\tdf_group = df_group.apply(lambda x: x[not_null_col].notnull().mean())\n",
    "\n",
    "\tbase_weight = df_group.quantile(0.1, interpolation='midpoint')\n",
    "\tadjusted_weight = (base_weight - 0.009)\n",
    "\tif adjusted_weight < 0.005:\n",
    "\t\tfinal_weight = base_weight.round(4)\n",
    "\telse:\n",
    "\t\tfinal_weight = adjusted_weight.round(4)\n",
    "\treturn float(final_weight)"
   ]
  },
  {
   "cell_type": "code",
   "execution_count": 34,
   "metadata": {
    "scrolled": false
   },
   "outputs": [
    {
     "name": "stdout",
     "output_type": "stream",
     "text": [
      "AUTHORIZATION_REASON_CODE\n",
      "0.006\n",
      "BILL_GROUP_ID\n",
      "0.74\n",
      "CALL_REASON_CODE\n",
      "0.9247\n",
      "CLIENT_ID\n",
      "0.7334\n",
      "COVERAGE_AMOUNT\n",
      "0.715\n",
      "COVERAGE_STATUS_CODE\n",
      "0.715\n",
      "COVERAGE_STATUS_DESCRIPTION\n",
      "0.7123\n",
      "COVERED_AMOUNT\n",
      "0.6641\n",
      "CREATE_TIME_LOCAL\n",
      "0.6664\n",
      "DISABLEMENT_ADDRESS_1\n",
      "0.6685\n",
      "DISABLEMENT_ADDRESS_2\n",
      "0.0163\n",
      "DISABLEMENT_CITY\n",
      "0.6686\n",
      "DISABLEMENT_LATITUDE\n",
      "0.6686\n",
      "DISABLEMENT_LONGITUDE\n",
      "0.6686\n",
      "DISABLEMENT_REASON_CODE\n",
      "0.2806\n",
      "DISABLEMENT_STATE_CODE\n",
      "0.6686\n",
      "DISABLEMENT_ZIP_CODE\n",
      "0.6686\n",
      "EQUIPMENT_CONFIGURATION\n",
      "0.6755\n",
      "ESTIMATED_TOW_MILEAGE\n",
      "0.302\n",
      "LOCATION_TYPE_CODE\n",
      "0.6665\n",
      "OVERAGE_PAYMENT_AMOUNT\n",
      "0.0215\n",
      "OVERAGE_PAYMENT_METHOD_CODE\n",
      "0.053\n",
      "POLICY_NUMBER\n",
      "0.6137\n",
      "PO_NUMBER\n",
      "0.6372\n",
      "PRIMARY_EQUIPMENT_CLASS\n",
      "0.6755\n",
      "PRIMARY_EQUIPMENT_CODE\n",
      "0.6755\n",
      "PRIMARY_EQUIPMENT_TYPE\n",
      "0.6755\n",
      "PROBLEM_CODE\n",
      "0.7057\n",
      "SERVICE_TIME_LOCAL\n",
      "0.6664\n",
      "TOW_DESTINATION_ADDRESS_1\n",
      "0.294\n",
      "TOW_DESTINATION_ADDRESS_2\n",
      "0.0065\n",
      "TOW_DESTINATION_CITY\n",
      "0.302\n",
      "TOW_DESTINATION_ID\n",
      "0.302\n",
      "TOW_DESTINATION_LATITUDE\n",
      "0.302\n",
      "TOW_DESTINATION_LONGITUDE\n",
      "0.302\n",
      "TOW_DESTINATION_NAME\n",
      "0.2579\n",
      "TOW_DESTINATION_STATE_CODE\n",
      "0.302\n",
      "TOW_DESTINATION_ZIP_CODE\n",
      "0.302\n",
      "VEHICLE_MAKE\n",
      "0.7271\n",
      "VEHICLE_MODEL\n",
      "0.7271\n",
      "VEHICLE_MODEL_YEAR\n",
      "0.7272\n",
      "VIN\n",
      "0.6144\n"
     ]
    }
   ],
   "source": [
    "for col in null_cols:\n",
    "    w = get_df_not_null_weights(rule_df, 'CREATE_TIME_UTC', col)\n",
    "    print(col, w, sep='\\n')"
   ]
  },
  {
   "cell_type": "code",
   "execution_count": 49,
   "metadata": {
    "scrolled": false
   },
   "outputs": [
    {
     "name": "stdout",
     "output_type": "stream",
     "text": [
      "original_null_percents\n",
      "{'PO_NUMBER': 0.6615721071216112, 'POLICY_NUMBER': 0.6532324973718193, 'CALL_REASON_CODE': 0.936957298823815, 'DISABLEMENT_REASON_CODE': 0.3235089279001331, 'PROBLEM_CODE': 0.7290091791766309, 'PRIMARY_EQUIPMENT_CODE': 0.7066515065378056, 'PRIMARY_EQUIPMENT_CLASS': 0.7066515065378056, 'PRIMARY_EQUIPMENT_TYPE': 0.7066515065378056, 'DISABLEMENT_LATITUDE': 0.6973727426335097, 'DISABLEMENT_LONGITUDE': 0.6973727426335097, 'DISABLEMENT_ZIP_CODE': 0.6973608713029049, 'DISABLEMENT_ADDRESS_1': 0.6972936004294783, 'DISABLEMENT_ADDRESS_2': 0.0299197102340103, 'DISABLEMENT_CITY': 0.6973654879314735, 'DISABLEMENT_STATE_CODE': 0.6973562546743364, 'LOCATION_TYPE_CODE': 0.6962621137036045, 'VIN': 0.6483362330157533, 'VEHICLE_MODEL_YEAR': 0.7495874712614872, 'VEHICLE_MAKE': 0.7495004148370528, 'VEHICLE_MODEL': 0.7494905220615489, 'BILL_GROUP_ID': 0.7584111674926035, 'CLIENT_ID': 0.7554367396577627, 'ESTIMATED_TOW_MILEAGE': 0.374998186324491, 'TOW_DESTINATION_ID': 0.375061500087716, 'TOW_DESTINATION_LATITUDE': 0.375061500087716, 'TOW_DESTINATION_LONGITUDE': 0.375061500087716, 'TOW_DESTINATION_ZIP_CODE': 0.37506018105098204, 'TOW_DESTINATION_CITY': 0.37506018105098204, 'TOW_DESTINATION_STATE_CODE': 0.3750588620142482, 'TOW_DESTINATION_ADDRESS_1': 0.3703142868825754, 'TOW_DESTINATION_ADDRESS_2': 0.007651072574720086, 'TOW_DESTINATION_NAME': 0.33992170197947846, 'EQUIPMENT_CONFIGURATION': 0.7066627183500434, 'SERVICE_TIME_LOCAL': 0.6950538760553943, 'CREATE_TIME_LOCAL': 0.6950538760553943}\n",
      "---------------------------------------\n",
      "adjusted_null_weights:\n",
      "{'PO_NUMBER': 0.652, 'POLICY_NUMBER': 0.643, 'CALL_REASON_CODE': 0.927, 'DISABLEMENT_REASON_CODE': 0.314, 'PROBLEM_CODE': 0.719, 'PRIMARY_EQUIPMENT_CODE': 0.697, 'PRIMARY_EQUIPMENT_CLASS': 0.697, 'PRIMARY_EQUIPMENT_TYPE': 0.697, 'DISABLEMENT_LATITUDE': 0.687, 'DISABLEMENT_LONGITUDE': 0.687, 'DISABLEMENT_ZIP_CODE': 0.687, 'DISABLEMENT_ADDRESS_1': 0.687, 'DISABLEMENT_ADDRESS_2': 0.02, 'DISABLEMENT_CITY': 0.687, 'DISABLEMENT_STATE_CODE': 0.687, 'LOCATION_TYPE_CODE': 0.686, 'VIN': 0.638, 'VEHICLE_MODEL_YEAR': 0.74, 'VEHICLE_MAKE': 0.74, 'VEHICLE_MODEL': 0.739, 'BILL_GROUP_ID': 0.748, 'CLIENT_ID': 0.745, 'ESTIMATED_TOW_MILEAGE': 0.365, 'TOW_DESTINATION_ID': 0.365, 'TOW_DESTINATION_LATITUDE': 0.365, 'TOW_DESTINATION_LONGITUDE': 0.365, 'TOW_DESTINATION_ZIP_CODE': 0.365, 'TOW_DESTINATION_CITY': 0.365, 'TOW_DESTINATION_STATE_CODE': 0.365, 'TOW_DESTINATION_ADDRESS_1': 0.36, 'TOW_DESTINATION_ADDRESS_2': -0.002, 'TOW_DESTINATION_NAME': 0.33, 'EQUIPMENT_CONFIGURATION': 0.697, 'SERVICE_TIME_LOCAL': 0.685, 'CREATE_TIME_LOCAL': 0.685}\n"
     ]
    }
   ],
   "source": [
    "# calculating weight for columns of how often they should be null\n",
    "original_null_percents = dict(1 -(batch.isnull().sum() / len(batch))[batch.isnull().sum() / len(batch) > 0])\n",
    "    \n",
    "print('original_null_percents', original_null_percents, sep='\\n')\n",
    "\n",
    "# lowering weights by one thousandth of decimal\n",
    "adjusted_null_percents = {}\n",
    "for key, weight in original_null_percents.items():\n",
    "    adjusted_null_percents[key] = (weight - 0.01).round(3)\n",
    "    \n",
    "print('---------------------------------------')\n",
    "print('adjusted_null_weights:')\n",
    "print(adjusted_null_percents)\n",
    "# original_null_percents = {k:round(v, 3) for k, v in original_null_percents.items()}\n",
    "# adjusted_null_percents = {k:round(v, 3) for k, v in not_null_weights.items()}"
   ]
  },
  {
   "cell_type": "code",
   "execution_count": 125,
   "metadata": {},
   "outputs": [],
   "source": [
    "default_not_null_weights = {'COUNTY': 0.919, 'LATITUDE': 0.952, 'LONGITUDE': 0.952, 'TIMEZONE': 0.945}"
   ]
  },
  {
   "cell_type": "code",
   "execution_count": 51,
   "metadata": {
    "scrolled": false
   },
   "outputs": [
    {
     "name": "stdout",
     "output_type": "stream",
     "text": [
      "PO_NUMBER\n",
      "{'success': True, 'result': {'element_count': 1516258, 'unexpected_count': 513144, 'unexpected_percent': 33.842789287838876, 'partial_unexpected_list': []}, 'expectation_config': {'expectation_type': 'expect_column_values_to_not_be_null', 'kwargs': {'column': 'PO_NUMBER', 'mostly': 0.652, 'result_format': 'SUMMARY'}}, 'exception_info': {'raised_exception': False, 'exception_message': None, 'exception_traceback': None}}\n",
      "POLICY_NUMBER\n",
      "{'success': True, 'result': {'element_count': 1516258, 'unexpected_count': 525789, 'unexpected_percent': 34.67675026281807, 'partial_unexpected_list': []}, 'expectation_config': {'expectation_type': 'expect_column_values_to_not_be_null', 'kwargs': {'column': 'POLICY_NUMBER', 'mostly': 0.643, 'result_format': 'SUMMARY'}}, 'exception_info': {'raised_exception': False, 'exception_message': None, 'exception_traceback': None}}\n",
      "CALL_REASON_CODE\n",
      "{'success': True, 'result': {'element_count': 1516258, 'unexpected_count': 95589, 'unexpected_percent': 6.304270117618506, 'partial_unexpected_list': []}, 'expectation_config': {'expectation_type': 'expect_column_values_to_not_be_null', 'kwargs': {'column': 'CALL_REASON_CODE', 'mostly': 0.927, 'result_format': 'SUMMARY'}}, 'exception_info': {'raised_exception': False, 'exception_message': None, 'exception_traceback': None}}\n",
      "DISABLEMENT_REASON_CODE\n",
      "{'success': True, 'result': {'element_count': 1516258, 'unexpected_count': 1025735, 'unexpected_percent': 67.6491072099867, 'partial_unexpected_list': []}, 'expectation_config': {'expectation_type': 'expect_column_values_to_not_be_null', 'kwargs': {'column': 'DISABLEMENT_REASON_CODE', 'mostly': 0.314, 'result_format': 'SUMMARY'}}, 'exception_info': {'raised_exception': False, 'exception_message': None, 'exception_traceback': None}}\n",
      "PROBLEM_CODE\n",
      "{'success': True, 'result': {'element_count': 1516258, 'unexpected_count': 410892, 'unexpected_percent': 27.099082082336913, 'partial_unexpected_list': []}, 'expectation_config': {'expectation_type': 'expect_column_values_to_not_be_null', 'kwargs': {'column': 'PROBLEM_CODE', 'mostly': 0.719, 'result_format': 'SUMMARY'}}, 'exception_info': {'raised_exception': False, 'exception_message': None, 'exception_traceback': None}}\n",
      "PRIMARY_EQUIPMENT_CODE\n",
      "{'success': True, 'result': {'element_count': 1516258, 'unexpected_count': 444792, 'unexpected_percent': 29.334849346219443, 'partial_unexpected_list': []}, 'expectation_config': {'expectation_type': 'expect_column_values_to_not_be_null', 'kwargs': {'column': 'PRIMARY_EQUIPMENT_CODE', 'mostly': 0.697, 'result_format': 'SUMMARY'}}, 'exception_info': {'raised_exception': False, 'exception_message': None, 'exception_traceback': None}}\n",
      "PRIMARY_EQUIPMENT_CLASS\n",
      "{'success': True, 'result': {'element_count': 1516258, 'unexpected_count': 444792, 'unexpected_percent': 29.334849346219443, 'partial_unexpected_list': []}, 'expectation_config': {'expectation_type': 'expect_column_values_to_not_be_null', 'kwargs': {'column': 'PRIMARY_EQUIPMENT_CLASS', 'mostly': 0.697, 'result_format': 'SUMMARY'}}, 'exception_info': {'raised_exception': False, 'exception_message': None, 'exception_traceback': None}}\n",
      "PRIMARY_EQUIPMENT_TYPE\n",
      "{'success': True, 'result': {'element_count': 1516258, 'unexpected_count': 444792, 'unexpected_percent': 29.334849346219443, 'partial_unexpected_list': []}, 'expectation_config': {'expectation_type': 'expect_column_values_to_not_be_null', 'kwargs': {'column': 'PRIMARY_EQUIPMENT_TYPE', 'mostly': 0.697, 'result_format': 'SUMMARY'}}, 'exception_info': {'raised_exception': False, 'exception_message': None, 'exception_traceback': None}}\n",
      "DISABLEMENT_LATITUDE\n",
      "{'success': True, 'result': {'element_count': 1516258, 'unexpected_count': 458861, 'unexpected_percent': 30.26272573664904, 'partial_unexpected_list': []}, 'expectation_config': {'expectation_type': 'expect_column_values_to_not_be_null', 'kwargs': {'column': 'DISABLEMENT_LATITUDE', 'mostly': 0.687, 'result_format': 'SUMMARY'}}, 'exception_info': {'raised_exception': False, 'exception_message': None, 'exception_traceback': None}}\n",
      "DISABLEMENT_LONGITUDE\n",
      "{'success': True, 'result': {'element_count': 1516258, 'unexpected_count': 458861, 'unexpected_percent': 30.26272573664904, 'partial_unexpected_list': []}, 'expectation_config': {'expectation_type': 'expect_column_values_to_not_be_null', 'kwargs': {'column': 'DISABLEMENT_LONGITUDE', 'mostly': 0.687, 'result_format': 'SUMMARY'}}, 'exception_info': {'raised_exception': False, 'exception_message': None, 'exception_traceback': None}}\n",
      "DISABLEMENT_ZIP_CODE\n",
      "{'success': True, 'result': {'element_count': 1516258, 'unexpected_count': 458879, 'unexpected_percent': 30.263912869709507, 'partial_unexpected_list': []}, 'expectation_config': {'expectation_type': 'expect_column_values_to_not_be_null', 'kwargs': {'column': 'DISABLEMENT_ZIP_CODE', 'mostly': 0.687, 'result_format': 'SUMMARY'}}, 'exception_info': {'raised_exception': False, 'exception_message': None, 'exception_traceback': None}}\n",
      "DISABLEMENT_ADDRESS_1\n",
      "{'success': True, 'result': {'element_count': 1516258, 'unexpected_count': 458981, 'unexpected_percent': 30.270639957052165, 'partial_unexpected_list': []}, 'expectation_config': {'expectation_type': 'expect_column_values_to_not_be_null', 'kwargs': {'column': 'DISABLEMENT_ADDRESS_1', 'mostly': 0.687, 'result_format': 'SUMMARY'}}, 'exception_info': {'raised_exception': False, 'exception_message': None, 'exception_traceback': None}}\n",
      "DISABLEMENT_ADDRESS_2\n",
      "{'success': True, 'result': {'element_count': 1516258, 'unexpected_count': 1470892, 'unexpected_percent': 97.00802897659896, 'partial_unexpected_list': []}, 'expectation_config': {'expectation_type': 'expect_column_values_to_not_be_null', 'kwargs': {'column': 'DISABLEMENT_ADDRESS_2', 'mostly': 0.02, 'result_format': 'SUMMARY'}}, 'exception_info': {'raised_exception': False, 'exception_message': None, 'exception_traceback': None}}\n",
      "DISABLEMENT_CITY\n",
      "{'success': True, 'result': {'element_count': 1516258, 'unexpected_count': 458872, 'unexpected_percent': 30.26345120685266, 'partial_unexpected_list': []}, 'expectation_config': {'expectation_type': 'expect_column_values_to_not_be_null', 'kwargs': {'column': 'DISABLEMENT_CITY', 'mostly': 0.687, 'result_format': 'SUMMARY'}}, 'exception_info': {'raised_exception': False, 'exception_message': None, 'exception_traceback': None}}\n",
      "DISABLEMENT_STATE_CODE\n",
      "{'success': True, 'result': {'element_count': 1516258, 'unexpected_count': 458886, 'unexpected_percent': 30.264374532566357, 'partial_unexpected_list': []}, 'expectation_config': {'expectation_type': 'expect_column_values_to_not_be_null', 'kwargs': {'column': 'DISABLEMENT_STATE_CODE', 'mostly': 0.687, 'result_format': 'SUMMARY'}}, 'exception_info': {'raised_exception': False, 'exception_message': None, 'exception_traceback': None}}\n",
      "LOCATION_TYPE_CODE\n",
      "{'success': True, 'result': {'element_count': 1516258, 'unexpected_count': 460545, 'unexpected_percent': 30.37378862963955, 'partial_unexpected_list': []}, 'expectation_config': {'expectation_type': 'expect_column_values_to_not_be_null', 'kwargs': {'column': 'LOCATION_TYPE_CODE', 'mostly': 0.686, 'result_format': 'SUMMARY'}}, 'exception_info': {'raised_exception': False, 'exception_message': None, 'exception_traceback': None}}\n",
      "VIN\n",
      "{'success': True, 'result': {'element_count': 1516258, 'unexpected_count': 533213, 'unexpected_percent': 35.16637669842467, 'partial_unexpected_list': []}, 'expectation_config': {'expectation_type': 'expect_column_values_to_not_be_null', 'kwargs': {'column': 'VIN', 'mostly': 0.638, 'result_format': 'SUMMARY'}}, 'exception_info': {'raised_exception': False, 'exception_message': None, 'exception_traceback': None}}\n",
      "VEHICLE_MODEL_YEAR\n",
      "{'success': True, 'result': {'element_count': 1516258, 'unexpected_count': 379690, 'unexpected_percent': 25.041252873851285, 'partial_unexpected_list': []}, 'expectation_config': {'expectation_type': 'expect_column_values_to_not_be_null', 'kwargs': {'column': 'VEHICLE_MODEL_YEAR', 'mostly': 0.74, 'result_format': 'SUMMARY'}}, 'exception_info': {'raised_exception': False, 'exception_message': None, 'exception_traceback': None}}\n",
      "VEHICLE_MAKE\n",
      "{'success': True, 'result': {'element_count': 1516258, 'unexpected_count': 379822, 'unexpected_percent': 25.04995851629472, 'partial_unexpected_list': []}, 'expectation_config': {'expectation_type': 'expect_column_values_to_not_be_null', 'kwargs': {'column': 'VEHICLE_MAKE', 'mostly': 0.74, 'result_format': 'SUMMARY'}}, 'exception_info': {'raised_exception': False, 'exception_message': None, 'exception_traceback': None}}\n"
     ]
    },
    {
     "name": "stdout",
     "output_type": "stream",
     "text": [
      "VEHICLE_MODEL\n",
      "{'success': True, 'result': {'element_count': 1516258, 'unexpected_count': 379837, 'unexpected_percent': 25.05094779384511, 'partial_unexpected_list': []}, 'expectation_config': {'expectation_type': 'expect_column_values_to_not_be_null', 'kwargs': {'column': 'VEHICLE_MODEL', 'mostly': 0.739, 'result_format': 'SUMMARY'}}, 'exception_info': {'raised_exception': False, 'exception_message': None, 'exception_traceback': None}}\n",
      "BILL_GROUP_ID\n",
      "{'success': True, 'result': {'element_count': 1516258, 'unexpected_count': 366311, 'unexpected_percent': 24.15888325073965, 'partial_unexpected_list': []}, 'expectation_config': {'expectation_type': 'expect_column_values_to_not_be_null', 'kwargs': {'column': 'BILL_GROUP_ID', 'mostly': 0.748, 'result_format': 'SUMMARY'}}, 'exception_info': {'raised_exception': False, 'exception_message': None, 'exception_traceback': None}}\n",
      "CLIENT_ID\n",
      "{'success': True, 'result': {'element_count': 1516258, 'unexpected_count': 370821, 'unexpected_percent': 24.45632603422373, 'partial_unexpected_list': []}, 'expectation_config': {'expectation_type': 'expect_column_values_to_not_be_null', 'kwargs': {'column': 'CLIENT_ID', 'mostly': 0.745, 'result_format': 'SUMMARY'}}, 'exception_info': {'raised_exception': False, 'exception_message': None, 'exception_traceback': None}}\n",
      "ESTIMATED_TOW_MILEAGE\n",
      "{'success': True, 'result': {'element_count': 1516258, 'unexpected_count': 947664, 'unexpected_percent': 62.5001813675509, 'partial_unexpected_list': []}, 'expectation_config': {'expectation_type': 'expect_column_values_to_not_be_null', 'kwargs': {'column': 'ESTIMATED_TOW_MILEAGE', 'mostly': 0.365, 'result_format': 'SUMMARY'}}, 'exception_info': {'raised_exception': False, 'exception_message': None, 'exception_traceback': None}}\n",
      "TOW_DESTINATION_ID\n",
      "{'success': True, 'result': {'element_count': 1516258, 'unexpected_count': 947568, 'unexpected_percent': 62.4938499912284, 'partial_unexpected_list': []}, 'expectation_config': {'expectation_type': 'expect_column_values_to_not_be_null', 'kwargs': {'column': 'TOW_DESTINATION_ID', 'mostly': 0.365, 'result_format': 'SUMMARY'}}, 'exception_info': {'raised_exception': False, 'exception_message': None, 'exception_traceback': None}}\n",
      "TOW_DESTINATION_LATITUDE\n",
      "{'success': True, 'result': {'element_count': 1516258, 'unexpected_count': 947568, 'unexpected_percent': 62.4938499912284, 'partial_unexpected_list': []}, 'expectation_config': {'expectation_type': 'expect_column_values_to_not_be_null', 'kwargs': {'column': 'TOW_DESTINATION_LATITUDE', 'mostly': 0.365, 'result_format': 'SUMMARY'}}, 'exception_info': {'raised_exception': False, 'exception_message': None, 'exception_traceback': None}}\n",
      "TOW_DESTINATION_LONGITUDE\n",
      "{'success': True, 'result': {'element_count': 1516258, 'unexpected_count': 947568, 'unexpected_percent': 62.4938499912284, 'partial_unexpected_list': []}, 'expectation_config': {'expectation_type': 'expect_column_values_to_not_be_null', 'kwargs': {'column': 'TOW_DESTINATION_LONGITUDE', 'mostly': 0.365, 'result_format': 'SUMMARY'}}, 'exception_info': {'raised_exception': False, 'exception_message': None, 'exception_traceback': None}}\n",
      "TOW_DESTINATION_ZIP_CODE\n",
      "{'success': True, 'result': {'element_count': 1516258, 'unexpected_count': 947570, 'unexpected_percent': 62.49398189490179, 'partial_unexpected_list': []}, 'expectation_config': {'expectation_type': 'expect_column_values_to_not_be_null', 'kwargs': {'column': 'TOW_DESTINATION_ZIP_CODE', 'mostly': 0.365, 'result_format': 'SUMMARY'}}, 'exception_info': {'raised_exception': False, 'exception_message': None, 'exception_traceback': None}}\n",
      "TOW_DESTINATION_CITY\n",
      "{'success': True, 'result': {'element_count': 1516258, 'unexpected_count': 947570, 'unexpected_percent': 62.49398189490179, 'partial_unexpected_list': []}, 'expectation_config': {'expectation_type': 'expect_column_values_to_not_be_null', 'kwargs': {'column': 'TOW_DESTINATION_CITY', 'mostly': 0.365, 'result_format': 'SUMMARY'}}, 'exception_info': {'raised_exception': False, 'exception_message': None, 'exception_traceback': None}}\n",
      "TOW_DESTINATION_STATE_CODE\n",
      "{'success': True, 'result': {'element_count': 1516258, 'unexpected_count': 947572, 'unexpected_percent': 62.49411379857518, 'partial_unexpected_list': []}, 'expectation_config': {'expectation_type': 'expect_column_values_to_not_be_null', 'kwargs': {'column': 'TOW_DESTINATION_STATE_CODE', 'mostly': 0.365, 'result_format': 'SUMMARY'}}, 'exception_info': {'raised_exception': False, 'exception_message': None, 'exception_traceback': None}}\n",
      "TOW_DESTINATION_ADDRESS_1\n",
      "{'success': True, 'result': {'element_count': 1516258, 'unexpected_count': 954766, 'unexpected_percent': 62.96857131174246, 'partial_unexpected_list': []}, 'expectation_config': {'expectation_type': 'expect_column_values_to_not_be_null', 'kwargs': {'column': 'TOW_DESTINATION_ADDRESS_1', 'mostly': 0.36, 'result_format': 'SUMMARY'}}, 'exception_info': {'raised_exception': False, 'exception_message': None, 'exception_traceback': None}}\n",
      "TOW_DESTINATION_ADDRESS_2\n",
      "{'success': True, 'result': {'element_count': 1516258, 'unexpected_count': 1504657, 'unexpected_percent': 99.23489274252799, 'partial_unexpected_list': []}, 'expectation_config': {'expectation_type': 'expect_column_values_to_not_be_null', 'kwargs': {'column': 'TOW_DESTINATION_ADDRESS_2', 'mostly': -0.002, 'result_format': 'SUMMARY'}}, 'exception_info': {'raised_exception': False, 'exception_message': None, 'exception_traceback': None}}\n",
      "TOW_DESTINATION_NAME\n",
      "{'success': True, 'result': {'element_count': 1516258, 'unexpected_count': 1000849, 'unexpected_percent': 66.00782980205216, 'partial_unexpected_list': []}, 'expectation_config': {'expectation_type': 'expect_column_values_to_not_be_null', 'kwargs': {'column': 'TOW_DESTINATION_NAME', 'mostly': 0.33, 'result_format': 'SUMMARY'}}, 'exception_info': {'raised_exception': False, 'exception_message': None, 'exception_traceback': None}}\n",
      "EQUIPMENT_CONFIGURATION\n",
      "{'success': True, 'result': {'element_count': 1516258, 'unexpected_count': 444775, 'unexpected_percent': 29.333728164995666, 'partial_unexpected_list': []}, 'expectation_config': {'expectation_type': 'expect_column_values_to_not_be_null', 'kwargs': {'column': 'EQUIPMENT_CONFIGURATION', 'mostly': 0.697, 'result_format': 'SUMMARY'}}, 'exception_info': {'raised_exception': False, 'exception_message': None, 'exception_traceback': None}}\n",
      "SERVICE_TIME_LOCAL\n",
      "{'success': True, 'result': {'element_count': 1516258, 'unexpected_count': 462377, 'unexpected_percent': 30.494612394460574, 'partial_unexpected_list': []}, 'expectation_config': {'expectation_type': 'expect_column_values_to_not_be_null', 'kwargs': {'column': 'SERVICE_TIME_LOCAL', 'mostly': 0.685, 'result_format': 'SUMMARY'}}, 'exception_info': {'raised_exception': False, 'exception_message': None, 'exception_traceback': None}}\n",
      "CREATE_TIME_LOCAL\n",
      "{'success': True, 'result': {'element_count': 1516258, 'unexpected_count': 462377, 'unexpected_percent': 30.494612394460574, 'partial_unexpected_list': []}, 'expectation_config': {'expectation_type': 'expect_column_values_to_not_be_null', 'kwargs': {'column': 'CREATE_TIME_LOCAL', 'mostly': 0.685, 'result_format': 'SUMMARY'}}, 'exception_info': {'raised_exception': False, 'exception_message': None, 'exception_traceback': None}}\n"
     ]
    }
   ],
   "source": [
    "for col, weight in adjusted_null_percents.items():\n",
    "    print(col, batch.expect_column_values_to_not_be_null(col, mostly=weight, include_config=True,\n",
    "                                                           catch_exceptions=True,\n",
    "                                                           result_format='SUMMARY'), sep='\\n')"
   ]
  },
  {
   "cell_type": "markdown",
   "metadata": {},
   "source": [
    "### 5. Expecting column values to be in a set\n",
    "- COMPLAINT_CATEGORY\n",
    "- COMPLAINT_REASON\n",
    "- COMPLAINT_REASON_DETAILS\n",
    "- COMPLAINT_ORGIN\n",
    "- CASE_RESOLUTION\n",
    "- COMPLAINT_TYPE"
   ]
  },
  {
   "cell_type": "code",
   "execution_count": 61,
   "metadata": {
    "scrolled": true
   },
   "outputs": [
    {
     "data": {
      "text/plain": [
       "['CASE_ID',\n",
       " 'TASK_ID',\n",
       " 'PO_NUMBER',\n",
       " 'TASK_STATUS_CODE',\n",
       " 'POLICY_NUMBER',\n",
       " 'IS_DISPATCH',\n",
       " 'CALL_REASON_CODE',\n",
       " 'DISABLEMENT_REASON_CODE',\n",
       " 'PROBLEM_CODE',\n",
       " 'IS_SCHEDULED_DISPATCH',\n",
       " 'SERVICE_TYPE_CODE',\n",
       " 'PRIMARY_EQUIPMENT_CODE',\n",
       " 'PRIMARY_EQUIPMENT_CLASS',\n",
       " 'PRIMARY_EQUIPMENT_TYPE',\n",
       " 'PRODUCT_TYPE',\n",
       " 'IS_PER_EVENT',\n",
       " 'DISABLEMENT_LATITUDE',\n",
       " 'DISABLEMENT_LONGITUDE',\n",
       " 'DISABLEMENT_ZIP_CODE',\n",
       " 'DISABLEMENT_ADDRESS_1',\n",
       " 'DISABLEMENT_ADDRESS_2',\n",
       " 'DISABLEMENT_CITY',\n",
       " 'DISABLEMENT_STATE_CODE',\n",
       " 'IS_DRIVER_WITH_VEHICLE',\n",
       " 'LOCATION_TYPE_CODE',\n",
       " 'VIN',\n",
       " 'VEHICLE_MODEL_YEAR',\n",
       " 'VEHICLE_MAKE',\n",
       " 'VEHICLE_MODEL',\n",
       " 'BILL_GROUP_ID',\n",
       " 'CLIENT_ID',\n",
       " 'ESTIMATED_TOW_MILEAGE',\n",
       " 'TOW_DESTINATION_ID',\n",
       " 'TOW_DESTINATION_LATITUDE',\n",
       " 'TOW_DESTINATION_LONGITUDE',\n",
       " 'TOW_DESTINATION_ZIP_CODE',\n",
       " 'TOW_DESTINATION_CITY',\n",
       " 'TOW_DESTINATION_STATE_CODE',\n",
       " 'TOW_DESTINATION_ADDRESS_1',\n",
       " 'TOW_DESTINATION_ADDRESS_2',\n",
       " 'TOW_DESTINATION_NAME',\n",
       " 'EQUIPMENT_CONFIGURATION',\n",
       " 'EQUIPMENT_COUNT',\n",
       " 'SERVICE_TIME_EASTERN',\n",
       " 'SERVICE_TIME_UTC',\n",
       " 'SERVICE_TIME_LOCAL',\n",
       " 'CREATE_TIME_EASTERN',\n",
       " 'CREATE_TIME_UTC',\n",
       " 'CREATE_TIME_LOCAL']"
      ]
     },
     "execution_count": 61,
     "metadata": {},
     "output_type": "execute_result"
    }
   ],
   "source": [
    "master_column_names\n"
   ]
  },
  {
   "cell_type": "code",
   "execution_count": 74,
   "metadata": {},
   "outputs": [],
   "source": [
    "def get_categorical_columns_values(df: Union[pd.DataFrame, PandasDataset], cols: list, table_name: str) -> dict:\n",
    "    c_weights = {}\n",
    "    for col in cols:\n",
    "        unique_weights = df[col].value_counts(normalize=True) * 100\n",
    "        c_weights[col] = unique_weights.values.mean().round(5)\n",
    "\n",
    "    cat_weight_dict = {c: w for (c, w) in c_weights.items() if w > 0.9 if df[c].dtypes != bool\n",
    "                       if c not in ['TASK_ID', 'task_id', 'CLIENT_ID', 'client_id', 'equipment_count',\n",
    "                                    'EQUIPMENT_COUNT', 'BILL_GROUP_ID', 'bill_group_id']}\n",
    "\n",
    "    execute_strings = ' '.join(f\"SELECT DISTINCT {c_name} FROM {table_name};\" for c_name in cat_weight_dict.keys())\n",
    "    ctx = gda.get_snowflake_connector()\n",
    "\n",
    "    cursor_list = ctx.execute_string(execute_strings, remove_comments=True, return_cursors=True)\n",
    "    category_col_values = {}\n",
    "    for cur in cursor_list:\n",
    "        col_names = ','.join([col[0] for col in cur.description])\n",
    "        cat_values = [x[0] for x in cur.fetchall() if x[0]]\n",
    "        category_col_values[col_names] = cat_values\n",
    "    return category_col_values"
   ]
  },
  {
   "cell_type": "code",
   "execution_count": 78,
   "metadata": {},
   "outputs": [],
   "source": [
    "dtest = get_categorical_columns_values(rule_df, master_column_names, 'service_specification')"
   ]
  },
  {
   "cell_type": "code",
   "execution_count": 79,
   "metadata": {
    "scrolled": true
   },
   "outputs": [
    {
     "data": {
      "text/plain": [
       "dict_keys(['TASK_STATUS_CODE', 'CALL_REASON_CODE', 'DISABLEMENT_REASON_CODE', 'PROBLEM_CODE', 'SERVICE_TYPE_CODE', 'PRIMARY_EQUIPMENT_CODE', 'PRIMARY_EQUIPMENT_CLASS', 'PRIMARY_EQUIPMENT_TYPE', 'PRODUCT_TYPE', 'DISABLEMENT_STATE_CODE', 'LOCATION_TYPE_CODE', 'VEHICLE_MODEL_YEAR', 'TOW_DESTINATION_STATE_CODE'])"
      ]
     },
     "execution_count": 79,
     "metadata": {},
     "output_type": "execute_result"
    }
   ],
   "source": [
    "dtest.keys()"
   ]
  },
  {
   "cell_type": "code",
   "execution_count": 116,
   "metadata": {},
   "outputs": [
    {
     "ename": "AttributeError",
     "evalue": "'numpy.float64' object has no attribute 'values'",
     "output_type": "error",
     "traceback": [
      "\u001b[0;31m---------------------------------------------------------------------------\u001b[0m",
      "\u001b[0;31mAttributeError\u001b[0m                            Traceback (most recent call last)",
      "\u001b[0;32m<ipython-input-116-0895315a47d6>\u001b[0m in \u001b[0;36m<module>\u001b[0;34m\u001b[0m\n\u001b[1;32m      2\u001b[0m \u001b[0;32mfor\u001b[0m \u001b[0mcol\u001b[0m \u001b[0;32min\u001b[0m \u001b[0mmaster_column_names\u001b[0m\u001b[0;34m:\u001b[0m\u001b[0;34m\u001b[0m\u001b[0;34m\u001b[0m\u001b[0m\n\u001b[1;32m      3\u001b[0m     \u001b[0munique_weights\u001b[0m \u001b[0;34m=\u001b[0m \u001b[0mrule_df\u001b[0m\u001b[0;34m[\u001b[0m\u001b[0mcol\u001b[0m\u001b[0;34m]\u001b[0m\u001b[0;34m.\u001b[0m\u001b[0mvalue_counts\u001b[0m\u001b[0;34m(\u001b[0m\u001b[0mnormalize\u001b[0m\u001b[0;34m=\u001b[0m\u001b[0;32mTrue\u001b[0m\u001b[0;34m)\u001b[0m\u001b[0;34m.\u001b[0m\u001b[0mmean\u001b[0m\u001b[0;34m(\u001b[0m\u001b[0;34m)\u001b[0m\u001b[0;34m\u001b[0m\u001b[0;34m\u001b[0m\u001b[0m\n\u001b[0;32m----> 4\u001b[0;31m     \u001b[0mc_weights\u001b[0m\u001b[0;34m[\u001b[0m\u001b[0mcol\u001b[0m\u001b[0;34m]\u001b[0m \u001b[0;34m=\u001b[0m \u001b[0munique_weights\u001b[0m\u001b[0;34m.\u001b[0m\u001b[0mvalues\u001b[0m\u001b[0;34m.\u001b[0m\u001b[0mcount\u001b[0m\u001b[0;34m(\u001b[0m\u001b[0;34m)\u001b[0m\u001b[0;34m\u001b[0m\u001b[0;34m\u001b[0m\u001b[0m\n\u001b[0m",
      "\u001b[0;31mAttributeError\u001b[0m: 'numpy.float64' object has no attribute 'values'"
     ]
    }
   ],
   "source": [
    "c_weights = {}\n",
    "for col in master_column_names:\n",
    "    unique_weights = rule_df[col].value_counts(normalize=True).mean()\n",
    "    c_weights[col] = unique_weights.values.count()"
   ]
  },
  {
   "cell_type": "code",
   "execution_count": 113,
   "metadata": {},
   "outputs": [
    {
     "data": {
      "text/plain": [
       "1.2835767636665653e-06"
      ]
     },
     "execution_count": 113,
     "metadata": {},
     "output_type": "execute_result"
    }
   ],
   "source": [
    "unique_weights"
   ]
  },
  {
   "cell_type": "code",
   "execution_count": 105,
   "metadata": {},
   "outputs": [
    {
     "ename": "AttributeError",
     "evalue": "'numpy.int64' object has no attribute 'values'",
     "output_type": "error",
     "traceback": [
      "\u001b[0;31m---------------------------------------------------------------------------\u001b[0m",
      "\u001b[0;31mAttributeError\u001b[0m                            Traceback (most recent call last)",
      "\u001b[0;32m<ipython-input-105-9e4be814b3af>\u001b[0m in \u001b[0;36m<module>\u001b[0;34m\u001b[0m\n\u001b[1;32m      2\u001b[0m \u001b[0;32mfor\u001b[0m \u001b[0mcol\u001b[0m \u001b[0;32min\u001b[0m \u001b[0mmaster_column_names\u001b[0m\u001b[0;34m:\u001b[0m\u001b[0;34m\u001b[0m\u001b[0;34m\u001b[0m\u001b[0m\n\u001b[1;32m      3\u001b[0m     \u001b[0munique_weights\u001b[0m \u001b[0;34m=\u001b[0m \u001b[0mrule_df\u001b[0m\u001b[0;34m[\u001b[0m\u001b[0mcol\u001b[0m\u001b[0;34m]\u001b[0m\u001b[0;34m.\u001b[0m\u001b[0mvalue_counts\u001b[0m\u001b[0;34m(\u001b[0m\u001b[0;34m)\u001b[0m\u001b[0;34m.\u001b[0m\u001b[0mcount\u001b[0m\u001b[0;34m(\u001b[0m\u001b[0;34m)\u001b[0m\u001b[0;34m\u001b[0m\u001b[0;34m\u001b[0m\u001b[0m\n\u001b[0;32m----> 4\u001b[0;31m     \u001b[0mc_weights\u001b[0m\u001b[0;34m[\u001b[0m\u001b[0mcol\u001b[0m\u001b[0;34m]\u001b[0m \u001b[0;34m=\u001b[0m \u001b[0munique_weights\u001b[0m\u001b[0;34m.\u001b[0m\u001b[0mvalues\u001b[0m\u001b[0;34m(\u001b[0m\u001b[0;34m)\u001b[0m\u001b[0;34m.\u001b[0m\u001b[0mround\u001b[0m\u001b[0;34m(\u001b[0m\u001b[0;36m5\u001b[0m\u001b[0;34m)\u001b[0m\u001b[0;34m\u001b[0m\u001b[0;34m\u001b[0m\u001b[0m\n\u001b[0m\u001b[1;32m      5\u001b[0m \u001b[0;34m\u001b[0m\u001b[0m\n\u001b[1;32m      6\u001b[0m \u001b[0;31m# cat_weight_dict = {c: w for (c, w) in c_weights.items() if w > 0.9 if df[c].dtypes != bool\u001b[0m\u001b[0;34m\u001b[0m\u001b[0;34m\u001b[0m\u001b[0;34m\u001b[0m\u001b[0m\n",
      "\u001b[0;31mAttributeError\u001b[0m: 'numpy.int64' object has no attribute 'values'"
     ]
    }
   ],
   "source": [
    "c_weights = {}\n",
    "for col in master_column_names:\n",
    "    unique_weights = rule_df[col].value_counts().count()\n",
    "    c_weights[col] = unique_weights.values().round(5)\n",
    "\n",
    "# cat_weight_dict = {c: w for (c, w) in c_weights.items() if w > 0.9 if df[c].dtypes != bool\n",
    "#                    if c not in ['TASK_ID', 'task_id'] if c not in ['CLIENT_ID', 'client_id']}"
   ]
  },
  {
   "cell_type": "code",
   "execution_count": 101,
   "metadata": {
    "scrolled": true
   },
   "outputs": [
    {
     "data": {
      "text/plain": [
       "{'CASE_ID': 1.12957,\n",
       " 'TASK_ID': 84236.55556,\n",
       " 'PO_NUMBER': 1.00001,\n",
       " 'TASK_STATUS_CODE': 63177.41667,\n",
       " 'POLICY_NUMBER': 1.40018,\n",
       " 'IS_DISPATCH': 758129.0,\n",
       " 'CALL_REASON_CODE': 34650.46341,\n",
       " 'DISABLEMENT_REASON_CODE': 13257.37838,\n",
       " 'PROBLEM_CODE': 55268.3,\n",
       " 'IS_SCHEDULED_DISPATCH': 758129.0,\n",
       " 'SERVICE_TYPE_CODE': 79803.05263,\n",
       " 'PRIMARY_EQUIPMENT_CODE': 25511.09524,\n",
       " 'PRIMARY_EQUIPMENT_CLASS': 357155.33333,\n",
       " 'PRIMARY_EQUIPMENT_TYPE': 357155.33333,\n",
       " 'PRODUCT_TYPE': 758129.0,\n",
       " 'IS_PER_EVENT': 758129.0,\n",
       " 'DISABLEMENT_LATITUDE': 1.31685,\n",
       " 'DISABLEMENT_LONGITUDE': 1.34087,\n",
       " 'DISABLEMENT_ZIP_CODE': 41.03139,\n",
       " 'DISABLEMENT_ADDRESS_1': 1.44582,\n",
       " 'DISABLEMENT_ADDRESS_2': 3.76325,\n",
       " 'DISABLEMENT_CITY': 43.35859,\n",
       " 'DISABLEMENT_STATE_CODE': 16020.78788,\n",
       " 'IS_DRIVER_WITH_VEHICLE': 758129.0,\n",
       " 'LOCATION_TYPE_CODE': 87976.08333,\n",
       " 'VIN': 1.39199,\n",
       " 'VEHICLE_MODEL_YEAR': 10332.43636,\n",
       " 'VEHICLE_MAKE': 1732.37195,\n",
       " 'VEHICLE_MODEL': 374.80904,\n",
       " 'BILL_GROUP_ID': 2731.46556,\n",
       " 'CLIENT_ID': 8612.30827,\n",
       " 'ESTIMATED_TOW_MILEAGE': 44.64112,\n",
       " 'TOW_DESTINATION_ID': 9.81702,\n",
       " 'TOW_DESTINATION_LATITUDE': 1.85346,\n",
       " 'TOW_DESTINATION_LONGITUDE': 1.86327,\n",
       " 'TOW_DESTINATION_ZIP_CODE': 28.11529,\n",
       " 'TOW_DESTINATION_CITY': 32.25683,\n",
       " 'TOW_DESTINATION_STATE_CODE': 8885.71875,\n",
       " 'TOW_DESTINATION_ADDRESS_1': 1.87914,\n",
       " 'TOW_DESTINATION_ADDRESS_2': 2.23785,\n",
       " 'TOW_DESTINATION_NAME': 3.72742,\n",
       " 'EQUIPMENT_CONFIGURATION': 2768.68992,\n",
       " 'EQUIPMENT_COUNT': 216608.28571,\n",
       " 'SERVICE_TIME_EASTERN': 1.48954,\n",
       " 'SERVICE_TIME_UTC': 1.48954,\n",
       " 'SERVICE_TIME_LOCAL': 1.36951,\n",
       " 'CREATE_TIME_EASTERN': 1.50098,\n",
       " 'CREATE_TIME_UTC': 1.50098,\n",
       " 'CREATE_TIME_LOCAL': 1.35274}"
      ]
     },
     "execution_count": 101,
     "metadata": {},
     "output_type": "execute_result"
    }
   ],
   "source": [
    "c_weights"
   ]
  },
  {
   "cell_type": "code",
   "execution_count": 93,
   "metadata": {},
   "outputs": [
    {
     "data": {
      "text/plain": [
       "{'VEHICLE_MODEL_YEAR': [1900.0, 2032.0]}"
      ]
     },
     "execution_count": 93,
     "metadata": {},
     "output_type": "execute_result"
    }
   ],
   "source": [
    "{k:[min(v), max(v)] for k, v in dtest.items() if k == 'VEHICLE_MODEL_YEAR'}"
   ]
  },
  {
   "cell_type": "code",
   "execution_count": 119,
   "metadata": {},
   "outputs": [
    {
     "data": {
      "text/plain": [
       "{'success': True,\n",
       " 'result': {'element_count': 1516258,\n",
       "  'missing_count': 444775,\n",
       "  'missing_percent': 29.333728164995666,\n",
       "  'unexpected_count': 0,\n",
       "  'unexpected_percent': 0.0,\n",
       "  'unexpected_percent_nonmissing': 0.0,\n",
       "  'partial_unexpected_list': [],\n",
       "  'partial_unexpected_index_list': [],\n",
       "  'partial_unexpected_counts': []},\n",
       " 'exception_info': {'raised_exception': False,\n",
       "  'exception_message': None,\n",
       "  'exception_traceback': None}}"
      ]
     },
     "execution_count": 119,
     "metadata": {},
     "output_type": "execute_result"
    }
   ],
   "source": [
    "batch.expect_column_values_to_be_json_parseable('EQUIPMENT_CONFIGURATION', result_format='SUMMARY',\n",
    "                                        catch_exceptions=True, mostly=0.99)"
   ]
  },
  {
   "cell_type": "code",
   "execution_count": 59,
   "metadata": {},
   "outputs": [],
   "source": [
    "c_weights = {}\n",
    "for col in master_column_names:\n",
    "    unique_weights = rule_df[col].value_counts(normalize=True) * 100\n",
    "    c_weights[col] = unique_weights.values.mean().round(5)"
   ]
  },
  {
   "cell_type": "code",
   "execution_count": null,
   "metadata": {},
   "outputs": [],
   "source": []
  },
  {
   "cell_type": "code",
   "execution_count": 123,
   "metadata": {},
   "outputs": [
    {
     "ename": "KeyboardInterrupt",
     "evalue": "",
     "output_type": "error",
     "traceback": [
      "\u001b[0;31m---------------------------------------------------------------------------\u001b[0m",
      "\u001b[0;31mStopIteration\u001b[0m                             Traceback (most recent call last)",
      "\u001b[0;32marrow_result.pyx\u001b[0m in \u001b[0;36msnowflake.connector.arrow_result.ArrowResult.__next__\u001b[0;34m()\u001b[0m\n",
      "\u001b[0;32marrow_iterator.pyx\u001b[0m in \u001b[0;36msnowflake.connector.arrow_iterator.PyArrowIterator.__next__\u001b[0;34m()\u001b[0m\n",
      "\u001b[0;31mStopIteration\u001b[0m: ",
      "\nDuring handling of the above exception, another exception occurred:\n",
      "\u001b[0;31mKeyboardInterrupt\u001b[0m                         Traceback (most recent call last)",
      "\u001b[0;32m<ipython-input-123-892bcd7ee1ba>\u001b[0m in \u001b[0;36m<module>\u001b[0;34m\u001b[0m\n\u001b[1;32m      6\u001b[0m \u001b[0;32mfor\u001b[0m \u001b[0mcur\u001b[0m \u001b[0;32min\u001b[0m \u001b[0mcursor_list\u001b[0m\u001b[0;34m:\u001b[0m\u001b[0;34m\u001b[0m\u001b[0;34m\u001b[0m\u001b[0m\n\u001b[1;32m      7\u001b[0m     \u001b[0mcol_names\u001b[0m \u001b[0;34m=\u001b[0m \u001b[0;34m','\u001b[0m\u001b[0;34m.\u001b[0m\u001b[0mjoin\u001b[0m\u001b[0;34m(\u001b[0m\u001b[0;34m[\u001b[0m\u001b[0mcol\u001b[0m\u001b[0;34m[\u001b[0m\u001b[0;36m0\u001b[0m\u001b[0;34m]\u001b[0m \u001b[0;32mfor\u001b[0m \u001b[0mcol\u001b[0m \u001b[0;32min\u001b[0m \u001b[0mcur\u001b[0m\u001b[0;34m.\u001b[0m\u001b[0mdescription\u001b[0m\u001b[0;34m]\u001b[0m\u001b[0;34m)\u001b[0m\u001b[0;34m\u001b[0m\u001b[0;34m\u001b[0m\u001b[0m\n\u001b[0;32m----> 8\u001b[0;31m     \u001b[0mcat_values\u001b[0m \u001b[0;34m=\u001b[0m \u001b[0;34m[\u001b[0m\u001b[0mx\u001b[0m\u001b[0;34m[\u001b[0m\u001b[0;36m0\u001b[0m\u001b[0;34m]\u001b[0m \u001b[0;32mfor\u001b[0m \u001b[0mx\u001b[0m \u001b[0;32min\u001b[0m \u001b[0mcur\u001b[0m\u001b[0;34m.\u001b[0m\u001b[0mfetchall\u001b[0m\u001b[0;34m(\u001b[0m\u001b[0;34m)\u001b[0m \u001b[0;32mif\u001b[0m \u001b[0mx\u001b[0m\u001b[0;34m[\u001b[0m\u001b[0;36m0\u001b[0m\u001b[0;34m]\u001b[0m\u001b[0;34m]\u001b[0m\u001b[0;34m\u001b[0m\u001b[0;34m\u001b[0m\u001b[0m\n\u001b[0m\u001b[1;32m      9\u001b[0m     \u001b[0mcategory_col_values\u001b[0m\u001b[0;34m[\u001b[0m\u001b[0mcol_names\u001b[0m\u001b[0;34m]\u001b[0m \u001b[0;34m=\u001b[0m \u001b[0mcat_values\u001b[0m\u001b[0;34m\u001b[0m\u001b[0;34m\u001b[0m\u001b[0m\n",
      "\u001b[0;32m~/opt/anaconda3/envs/airflow/lib/python3.7/site-packages/snowflake/connector/cursor.py\u001b[0m in \u001b[0;36mfetchall\u001b[0;34m(self)\u001b[0m\n\u001b[1;32m    858\u001b[0m         \u001b[0mret\u001b[0m \u001b[0;34m=\u001b[0m \u001b[0;34m[\u001b[0m\u001b[0;34m]\u001b[0m\u001b[0;34m\u001b[0m\u001b[0;34m\u001b[0m\u001b[0m\n\u001b[1;32m    859\u001b[0m         \u001b[0;32mwhile\u001b[0m \u001b[0;32mTrue\u001b[0m\u001b[0;34m:\u001b[0m\u001b[0;34m\u001b[0m\u001b[0;34m\u001b[0m\u001b[0m\n\u001b[0;32m--> 860\u001b[0;31m             \u001b[0mrow\u001b[0m \u001b[0;34m=\u001b[0m \u001b[0mself\u001b[0m\u001b[0;34m.\u001b[0m\u001b[0mfetchone\u001b[0m\u001b[0;34m(\u001b[0m\u001b[0;34m)\u001b[0m\u001b[0;34m\u001b[0m\u001b[0;34m\u001b[0m\u001b[0m\n\u001b[0m\u001b[1;32m    861\u001b[0m             \u001b[0;32mif\u001b[0m \u001b[0mrow\u001b[0m \u001b[0;32mis\u001b[0m \u001b[0;32mNone\u001b[0m\u001b[0;34m:\u001b[0m\u001b[0;34m\u001b[0m\u001b[0;34m\u001b[0m\u001b[0m\n\u001b[1;32m    862\u001b[0m                 \u001b[0;32mbreak\u001b[0m\u001b[0;34m\u001b[0m\u001b[0;34m\u001b[0m\u001b[0m\n",
      "\u001b[0;32m~/opt/anaconda3/envs/airflow/lib/python3.7/site-packages/snowflake/connector/cursor.py\u001b[0m in \u001b[0;36mfetchone\u001b[0;34m(self)\u001b[0m\n\u001b[1;32m    822\u001b[0m         \"\"\"\n\u001b[1;32m    823\u001b[0m         \u001b[0;32mtry\u001b[0m\u001b[0;34m:\u001b[0m\u001b[0;34m\u001b[0m\u001b[0;34m\u001b[0m\u001b[0m\n\u001b[0;32m--> 824\u001b[0;31m             \u001b[0;32mreturn\u001b[0m \u001b[0mnext\u001b[0m\u001b[0;34m(\u001b[0m\u001b[0mself\u001b[0m\u001b[0;34m.\u001b[0m\u001b[0m_result\u001b[0m\u001b[0;34m)\u001b[0m\u001b[0;34m\u001b[0m\u001b[0;34m\u001b[0m\u001b[0m\n\u001b[0m\u001b[1;32m    825\u001b[0m         \u001b[0;32mexcept\u001b[0m \u001b[0mStopIteration\u001b[0m\u001b[0;34m:\u001b[0m\u001b[0;34m\u001b[0m\u001b[0;34m\u001b[0m\u001b[0m\n\u001b[1;32m    826\u001b[0m             \u001b[0;32mreturn\u001b[0m \u001b[0;32mNone\u001b[0m\u001b[0;34m\u001b[0m\u001b[0;34m\u001b[0m\u001b[0m\n",
      "\u001b[0;32marrow_result.pyx\u001b[0m in \u001b[0;36msnowflake.connector.arrow_result.ArrowResult.__next__\u001b[0;34m()\u001b[0m\n",
      "\u001b[0;32m~/opt/anaconda3/envs/airflow/lib/python3.7/site-packages/snowflake/connector/chunk_downloader.py\u001b[0m in \u001b[0;36mnext_chunk\u001b[0;34m(self)\u001b[0m\n\u001b[1;32m    196\u001b[0m                                  \u001b[0;34m(\u001b[0m\u001b[0mwait_counter\u001b[0m \u001b[0;34m+\u001b[0m \u001b[0;36m1\u001b[0m\u001b[0;34m)\u001b[0m \u001b[0;34m*\u001b[0m \u001b[0mWAIT_TIME_IN_SECONDS\u001b[0m\u001b[0;34m,\u001b[0m\u001b[0;34m\u001b[0m\u001b[0;34m\u001b[0m\u001b[0m\n\u001b[1;32m    197\u001b[0m                                  MAX_WAIT * WAIT_TIME_IN_SECONDS)\n\u001b[0;32m--> 198\u001b[0;31m                     \u001b[0mself\u001b[0m\u001b[0;34m.\u001b[0m\u001b[0m_chunk_cond\u001b[0m\u001b[0;34m.\u001b[0m\u001b[0mwait\u001b[0m\u001b[0;34m(\u001b[0m\u001b[0mWAIT_TIME_IN_SECONDS\u001b[0m\u001b[0;34m)\u001b[0m\u001b[0;34m\u001b[0m\u001b[0;34m\u001b[0m\u001b[0m\n\u001b[0m\u001b[1;32m    199\u001b[0m             \u001b[0;32melse\u001b[0m\u001b[0;34m:\u001b[0m\u001b[0;34m\u001b[0m\u001b[0;34m\u001b[0m\u001b[0m\n\u001b[1;32m    200\u001b[0m                 logger.debug(\n",
      "\u001b[0;32m~/opt/anaconda3/envs/airflow/lib/python3.7/threading.py\u001b[0m in \u001b[0;36mwait\u001b[0;34m(self, timeout)\u001b[0m\n\u001b[1;32m    298\u001b[0m             \u001b[0;32melse\u001b[0m\u001b[0;34m:\u001b[0m\u001b[0;34m\u001b[0m\u001b[0;34m\u001b[0m\u001b[0m\n\u001b[1;32m    299\u001b[0m                 \u001b[0;32mif\u001b[0m \u001b[0mtimeout\u001b[0m \u001b[0;34m>\u001b[0m \u001b[0;36m0\u001b[0m\u001b[0;34m:\u001b[0m\u001b[0;34m\u001b[0m\u001b[0;34m\u001b[0m\u001b[0m\n\u001b[0;32m--> 300\u001b[0;31m                     \u001b[0mgotit\u001b[0m \u001b[0;34m=\u001b[0m \u001b[0mwaiter\u001b[0m\u001b[0;34m.\u001b[0m\u001b[0macquire\u001b[0m\u001b[0;34m(\u001b[0m\u001b[0;32mTrue\u001b[0m\u001b[0;34m,\u001b[0m \u001b[0mtimeout\u001b[0m\u001b[0;34m)\u001b[0m\u001b[0;34m\u001b[0m\u001b[0;34m\u001b[0m\u001b[0m\n\u001b[0m\u001b[1;32m    301\u001b[0m                 \u001b[0;32melse\u001b[0m\u001b[0;34m:\u001b[0m\u001b[0;34m\u001b[0m\u001b[0;34m\u001b[0m\u001b[0m\n\u001b[1;32m    302\u001b[0m                     \u001b[0mgotit\u001b[0m \u001b[0;34m=\u001b[0m \u001b[0mwaiter\u001b[0m\u001b[0;34m.\u001b[0m\u001b[0macquire\u001b[0m\u001b[0;34m(\u001b[0m\u001b[0;32mFalse\u001b[0m\u001b[0;34m)\u001b[0m\u001b[0;34m\u001b[0m\u001b[0;34m\u001b[0m\u001b[0m\n",
      "\u001b[0;31mKeyboardInterrupt\u001b[0m: "
     ]
    }
   ],
   "source": [
    "execute_strings = ' '.join(f\"SELECT DISTINCT {c_name} FROM service_specification;\" for c_name in master_column_names)\n",
    "ctx = gda.get_snowflake_connector()\n",
    "\n",
    "cursor_list = ctx.execute_string(execute_strings, remove_comments=True, return_cursors=True)\n",
    "category_col_values = {}\n",
    "for cur in cursor_list:\n",
    "    col_names = ','.join([col[0] for col in cur.description])\n",
    "    cat_values = [x[0] for x in cur.fetchall() if x[0]]\n",
    "    category_col_values[col_names] = cat_values"
   ]
  },
  {
   "cell_type": "code",
   "execution_count": null,
   "metadata": {},
   "outputs": [],
   "source": [
    "category_col_values"
   ]
  },
  {
   "cell_type": "code",
   "execution_count": null,
   "metadata": {},
   "outputs": [],
   "source": [
    "{k:len(v) for k, v in category_col_values.items()}"
   ]
  },
  {
   "cell_type": "code",
   "execution_count": 248,
   "metadata": {},
   "outputs": [],
   "source": [
    "execute_strings = ' '.join(f\"SELECT DISTINCT {col} FROM customer_complaints;\" for col in cat_dict)"
   ]
  },
  {
   "cell_type": "code",
   "execution_count": 249,
   "metadata": {},
   "outputs": [
    {
     "data": {
      "text/plain": [
       "'SELECT DISTINCT CASE_RESOLUTION FROM customer_complaints; SELECT DISTINCT COMPLAINT_CATEGORY FROM customer_complaints; SELECT DISTINCT COMPLAINT_ORIGIN FROM customer_complaints; SELECT DISTINCT COMPLAINT_REASON FROM customer_complaints; SELECT DISTINCT COMPLAINT_REASON_DETAILS FROM customer_complaints; SELECT DISTINCT COMPLAINT_TYPE FROM customer_complaints;'"
      ]
     },
     "execution_count": 249,
     "metadata": {},
     "output_type": "execute_result"
    }
   ],
   "source": [
    "execute_strings"
   ]
  },
  {
   "cell_type": "code",
   "execution_count": 120,
   "metadata": {
    "scrolled": true
   },
   "outputs": [
    {
     "ename": "NameError",
     "evalue": "name 'category_col_values' is not defined",
     "output_type": "error",
     "traceback": [
      "\u001b[0;31m---------------------------------------------------------------------------\u001b[0m",
      "\u001b[0;31mNameError\u001b[0m                                 Traceback (most recent call last)",
      "\u001b[0;32m<ipython-input-120-d5101687b980>\u001b[0m in \u001b[0;36m<module>\u001b[0;34m\u001b[0m\n\u001b[0;32m----> 1\u001b[0;31m \u001b[0;32mfor\u001b[0m \u001b[0mv\u001b[0m \u001b[0;32min\u001b[0m \u001b[0mcategory_col_values\u001b[0m\u001b[0;34m.\u001b[0m\u001b[0mvalues\u001b[0m\u001b[0;34m(\u001b[0m\u001b[0;34m)\u001b[0m\u001b[0;34m:\u001b[0m\u001b[0;34m\u001b[0m\u001b[0;34m\u001b[0m\u001b[0m\n\u001b[0m\u001b[1;32m      2\u001b[0m     \u001b[0mprint\u001b[0m\u001b[0;34m(\u001b[0m\u001b[0mlen\u001b[0m\u001b[0;34m(\u001b[0m\u001b[0mv\u001b[0m\u001b[0;34m)\u001b[0m\u001b[0;34m)\u001b[0m\u001b[0;34m\u001b[0m\u001b[0;34m\u001b[0m\u001b[0m\n",
      "\u001b[0;31mNameError\u001b[0m: name 'category_col_values' is not defined"
     ]
    }
   ],
   "source": [
    "for v in category_col_values.values():\n",
    "    print(len(v))"
   ]
  },
  {
   "cell_type": "code",
   "execution_count": 92,
   "metadata": {},
   "outputs": [
    {
     "name": "stdout",
     "output_type": "stream",
     "text": [
      "TASK_STATUS_CODE \n",
      " {'success': True, 'result': {'element_count': 1516258, 'missing_count': 0, 'missing_percent': 0.0, 'unexpected_count': 0, 'unexpected_percent': 0.0, 'unexpected_percent_nonmissing': 0.0, 'partial_unexpected_list': []}, 'expectation_config': {'expectation_type': 'expect_column_values_to_be_in_set', 'kwargs': {'column': 'TASK_STATUS_CODE', 'value_set': ['DR', 'CDN', 'TTC', 'SPCN', 'DEC', 'ICC', 'NCC', 'FCM', 'PSI', 'RPD', 'SCM', 'ADV', 'SPI', 'PSAP', 'IN', 'DS', 'TCR', 'DA', 'FRI', 'ACMT', 'AGCN', 'IS', 'DCM', 'ADD', 'HLD', 'CCAN', 'RDN', 'SU', 'ICI'], 'result_format': 'BASIC'}}, 'exception_info': {'raised_exception': False, 'exception_message': None, 'exception_traceback': None}} \n",
      "\n",
      "CALL_REASON_CODE \n",
      " {'success': True, 'result': {'element_count': 1516258, 'missing_count': 95589, 'missing_percent': 6.304270117618506, 'unexpected_count': 0, 'unexpected_percent': 0.0, 'unexpected_percent_nonmissing': 0.0, 'partial_unexpected_list': []}, 'expectation_config': {'expectation_type': 'expect_column_values_to_be_in_set', 'kwargs': {'column': 'CALL_REASON_CODE', 'value_set': ['ACC', 'ADPAY', 'CAN', 'ATR', 'GI', 'TR', 'REETA', 'NV', 'TRET', 'SDVR', 'AV', 'RDI', 'DL', 'AC', 'WSDR', 'RET', 'SVKC', 'SCM', 'DISPCAN', 'DVR', 'IPDR', 'RASP', 'STDR', 'MI', 'SPS', 'CPA', 'FTDR', 'RI', 'QC', 'SPNA', 'HA', 'CUSTRETA', 'UPD', 'ACMT', 'CLM', 'OF', 'REU', 'INN', 'RV_SPCL', 'TF', 'EVC', 'SSCC', 'UK', 'LO', 'SU', 'HLD', 'REF', 'CDI', 'NSVKC'], 'result_format': 'BASIC'}}, 'exception_info': {'raised_exception': False, 'exception_message': None, 'exception_traceback': None}} \n",
      "\n",
      "DISABLEMENT_REASON_CODE \n",
      " {'success': True, 'result': {'element_count': 1516258, 'missing_count': 1025735, 'missing_percent': 67.6491072099867, 'unexpected_count': 0, 'unexpected_percent': 0.0, 'unexpected_percent_nonmissing': 0.0, 'partial_unexpected_list': []}, 'expectation_config': {'expectation_type': 'expect_column_values_to_be_in_set', 'kwargs': {'column': 'DISABLEMENT_REASON_CODE', 'value_set': ['ACC', 'LCKINTRUNK', 'MKEY', 'OFDSLA', 'BLT', 'NS', 'ELEC', 'OVRH', 'ICE', 'BRAKE', 'AOG', 'PLWD', 'HVAC', 'WNCHXDIST', 'ATVHCL', 'SIC', 'VEC', 'ADBLUE', 'STUCK', 'ABD', 'OTHR', 'STSTA', 'OFFR', 'SNOW', 'OOF', 'STKPK', 'FLCK', 'WSW', 'FL', 'VEX', 'WS', 'STR', 'KCODE', 'REU', 'SDR', 'VI', 'OFCH', 'NOSPA', 'TRANI', 'MUD', 'MFLAT', 'VAND', 'CTOPMLF'], 'result_format': 'BASIC'}}, 'exception_info': {'raised_exception': False, 'exception_message': None, 'exception_traceback': None}} \n",
      "\n",
      "PROBLEM_CODE \n",
      " {'success': True, 'result': {'element_count': 1516258, 'missing_count': 410892, 'missing_percent': 27.099082082336913, 'unexpected_count': 0, 'unexpected_percent': 0.0, 'unexpected_percent_nonmissing': 0.0, 'partial_unexpected_list': []}, 'expectation_config': {'expectation_type': 'expect_column_values_to_be_in_set', 'kwargs': {'column': 'PROBLEM_CODE', 'value_set': ['vehicle_inoperable', 'lockout_tow', 'unspecified', 'transmission', 'start_stall', 'electrical', 'accident', 'fluid_fuel_leak', 'winching_required', 'jump', 'lockout_key_missing', 'reunite', 'tire_change', 'out_of_gas', 'lockout_in_ignition', 'brakes', 'vandalism', 'flat_tire_no_spare', 'heating_cooling', 'wont_start'], 'result_format': 'BASIC'}}, 'exception_info': {'raised_exception': False, 'exception_message': None, 'exception_traceback': None}} \n",
      "\n",
      "SERVICE_TYPE_CODE \n",
      " {'success': True, 'result': {'element_count': 1516258, 'missing_count': 0, 'missing_percent': 0.0, 'unexpected_count': 0, 'unexpected_percent': 0.0, 'unexpected_percent_nonmissing': 0.0, 'partial_unexpected_list': []}, 'expectation_config': {'expectation_type': 'expect_column_values_to_be_in_set', 'kwargs': {'column': 'SERVICE_TYPE_CODE', 'value_set': ['general_information', 'trip_routing', 'key_protection', 'key_code_retrieval', 'tow', 'tow_to_storage', 'roadside_reimbursement', 'membership_kit', 'add_comment', 'stocks', 'shipping_assistance', 'jump_start', 'quick_coverage', 'winch', 'taxi_pickup_assistance', 'weather', 'door_unlock', 'flat_tire', 'atm_locator_/_cash_advance', 'dealer_locator', 'lockout', 'key_tag', 'navigation', 'theft_reward', 'fuel_delivery', 'auto_glass_referral', 'airline_assistance', 'sports', 'discount_card', 'trip_interruption', 'car_rental_assistance', 'insurance_assistance', 'uk', 'legal_defense', 'bail_bond', 'directory_assistance', 'spouse_kit', 'hotel_assistance', 'traffic'], 'result_format': 'BASIC'}}, 'exception_info': {'raised_exception': False, 'exception_message': None, 'exception_traceback': None}} \n",
      "\n",
      "PRIMARY_EQUIPMENT_CODE \n",
      " {'success': True, 'result': {'element_count': 1516258, 'missing_count': 444792, 'missing_percent': 29.334849346219443, 'unexpected_count': 0, 'unexpected_percent': 0.0, 'unexpected_percent_nonmissing': 0.0, 'partial_unexpected_list': []}, 'expectation_config': {'expectation_type': 'expect_column_values_to_be_in_set', 'kwargs': {'column': 'PRIMARY_EQUIPMENT_CODE', 'value_set': ['PAR', 'MDTS', 'MAP', 'VIO', 'LPT', 'LCT', 'MDW', 'MDF', 'MDRS', 'HDTS', 'WLD', 'AAR', 'TS', 'I5', 'XXX', 'MP', 'DRV', 'RRTS', 'HDUR', 'SLD', 'TP', 'MRS', 'J1', 'LDWL', 'HDLB', 'DW', 'SHD', 'LDF', 'MDUR', 'VEX', 'WMD', 'EVMC', 'MS', '5WT', 'L1', 'VID', 'LRS', 'LO', 'HDW', 'HDRS', 'WHD', 'SMD', 'SAR', 'CAM'], 'result_format': 'BASIC'}}, 'exception_info': {'raised_exception': False, 'exception_message': None, 'exception_traceback': None}} \n",
      "\n",
      "PRIMARY_EQUIPMENT_CLASS \n",
      " {'success': True, 'result': {'element_count': 1516258, 'missing_count': 444792, 'missing_percent': 29.334849346219443, 'unexpected_count': 0, 'unexpected_percent': 0.0, 'unexpected_percent_nonmissing': 0.0, 'partial_unexpected_list': []}, 'expectation_config': {'expectation_type': 'expect_column_values_to_be_in_set', 'kwargs': {'column': 'PRIMARY_EQUIPMENT_CLASS', 'value_set': ['L', 'H', 'M'], 'result_format': 'BASIC'}}, 'exception_info': {'raised_exception': False, 'exception_message': None, 'exception_traceback': None}} \n",
      "\n",
      "PRIMARY_EQUIPMENT_TYPE \n",
      " {'success': True, 'result': {'element_count': 1516258, 'missing_count': 444792, 'missing_percent': 29.334849346219443, 'unexpected_count': 0, 'unexpected_percent': 0.0, 'unexpected_percent_nonmissing': 0.0, 'partial_unexpected_list': []}, 'expectation_config': {'expectation_type': 'expect_column_values_to_be_in_set', 'kwargs': {'column': 'PRIMARY_EQUIPMENT_TYPE', 'value_set': ['ROAD', 'LOCK', 'TOW'], 'result_format': 'BASIC'}}, 'exception_info': {'raised_exception': False, 'exception_message': None, 'exception_traceback': None}} \n",
      "\n",
      "PRODUCT_TYPE \n",
      " {'success': True, 'result': {'element_count': 1516258, 'missing_count': 0, 'missing_percent': 0.0, 'unexpected_count': 0, 'unexpected_percent': 0.0, 'unexpected_percent_nonmissing': 0.0, 'partial_unexpected_list': []}, 'expectation_config': {'expectation_type': 'expect_column_values_to_be_in_set', 'kwargs': {'column': 'PRODUCT_TYPE', 'value_set': ['roadside', 'vims'], 'result_format': 'BASIC'}}, 'exception_info': {'raised_exception': False, 'exception_message': None, 'exception_traceback': None}} \n",
      "\n",
      "DISABLEMENT_STATE_CODE \n",
      " {'success': True, 'result': {'element_count': 1516258, 'missing_count': 458886, 'missing_percent': 30.264374532566357, 'unexpected_count': 0, 'unexpected_percent': 0.0, 'unexpected_percent_nonmissing': 0.0, 'partial_unexpected_list': []}, 'expectation_config': {'expectation_type': 'expect_column_values_to_be_in_set', 'kwargs': {'column': 'DISABLEMENT_STATE_CODE', 'value_set': ['DE', 'NY', 'NH', 'NS', 'NJ', 'NM', 'AR', 'NV', 'WI', 'TX', 'MB', 'LA', 'UT', 'MA', 'ON', 'AL', 'NC', 'CT', 'PR', 'MO', 'CO', 'MI', 'VA', 'SC', 'IN', 'IA', 'MD', 'OR', 'TN', 'NE', 'DC', 'AK', 'PA', 'VT', 'HI', 'WY', 'AB', 'MN', 'RI', 'QC', 'YT', 'NL', 'FL', 'GA', 'OH', 'IL', 'WV', 'CA', 'AZ', 'WA', 'MT', 'MS', 'SD', 'ID', 'ND', 'SK', 'VI', 'NB', 'KS', 'OK', 'BC', 'KY', 'ME', 'PE', 'GU', 'NT', 'NU'], 'result_format': 'BASIC'}}, 'exception_info': {'raised_exception': False, 'exception_message': None, 'exception_traceback': None}} \n",
      "\n",
      "LOCATION_TYPE_CODE \n",
      " {'success': True, 'result': {'element_count': 1516258, 'missing_count': 460545, 'missing_percent': 30.37378862963955, 'unexpected_count': 0, 'unexpected_percent': 0.0, 'unexpected_percent_nonmissing': 0.0, 'partial_unexpected_list': []}, 'expectation_config': {'expectation_type': 'expect_column_values_to_be_in_set', 'kwargs': {'column': 'LOCATION_TYPE_CODE', 'value_set': ['RESD', 'RSH', 'PKG', 'RSS', 'GEPG', 'HOME', 'MB', 'RESPG', 'GEPL', 'OTH', 'PKL', 'RESS', '-1', 'RESPL'], 'result_format': 'BASIC'}}, 'exception_info': {'raised_exception': False, 'exception_message': None, 'exception_traceback': None}} \n",
      "\n"
     ]
    },
    {
     "name": "stdout",
     "output_type": "stream",
     "text": [
      "VEHICLE_MODEL_YEAR \n",
      " {'success': False, 'result': {'element_count': 1516258, 'missing_count': 379690, 'missing_percent': 25.041252873851285, 'unexpected_count': 3844, 'unexpected_percent': 0.25351886024673903, 'unexpected_percent_nonmissing': 0.3382111761020898, 'partial_unexpected_list': [0.0, 0.0, 0.0, 0.0, 0.0, 0.0, 0.0, 0.0, 0.0, 0.0, 0.0, 0.0, 0.0, 0.0, 0.0, 0.0, 0.0, 0.0, 0.0, 0.0]}, 'expectation_config': {'expectation_type': 'expect_column_values_to_be_in_set', 'kwargs': {'column': 'VEHICLE_MODEL_YEAR', 'value_set': [2012.0, 1963.0, 1983.0, 1954.0, 1973.0, 1965.0, 1959.0, 1924.0, 1916.0, 1913.0, 1914.0, 1949.0, 1918.0, 1995.0, 1947.0, 1993.0, 1988.0, 1964.0, 1905.0, 1955.0, 1930.0, 1937.0, 1926.0, 2015.0, 2006.0, 1978.0, 1982.0, 2019.0, 1962.0, 1900.0, 1967.0, 1958.0, 1936.0, 1901.0, 1934.0, 2022.0, 1972.0, 1943.0, 1907.0, 1903.0, 2014.0, 2017.0, 2001.0, 1987.0, 1970.0, 1952.0, 1932.0, 1992.0, 1979.0, 1971.0, 1957.0, 1950.0, 1929.0, 1942.0, 1941.0, 1917.0, 1985.0, 1996.0, 2008.0, 2018.0, 2005.0, 1984.0, 1953.0, 1975.0, 1968.0, 1945.0, 1923.0, 1912.0, 1904.0, 1944.0, 2021.0, 1921.0, 1911.0, 1999.0, 1989.0, 1991.0, 1980.0, 1974.0, 1927.0, 1946.0, 1997.0, 1940.0, 1906.0, 1910.0, 1920.0, 2007.0, 2004.0, 2016.0, 1990.0, 1986.0, 1935.0, 1928.0, 1951.0, 1961.0, 1960.0, 1938.0, 2020.0, 1915.0, 1925.0, 1922.0, 1939.0, 1908.0, 1902.0, 2011.0, 2010.0, 2003.0, 1998.0, 2002.0, 1994.0, 1981.0, 1966.0, 1969.0, 1976.0, 2000.0, 1948.0, 1977.0, 1956.0, 2013.0, 1931.0, 1933.0, 2032.0, 1909.0, 2009.0, 1919.0], 'result_format': 'BASIC'}}, 'exception_info': {'raised_exception': False, 'exception_message': None, 'exception_traceback': None}} \n",
      "\n",
      "TOW_DESTINATION_STATE_CODE \n",
      " {'success': True, 'result': {'element_count': 1516258, 'missing_count': 947572, 'missing_percent': 62.49411379857518, 'unexpected_count': 0, 'unexpected_percent': 0.0, 'unexpected_percent_nonmissing': 0.0, 'partial_unexpected_list': []}, 'expectation_config': {'expectation_type': 'expect_column_values_to_be_in_set', 'kwargs': {'column': 'TOW_DESTINATION_STATE_CODE', 'value_set': ['NY', 'NH', 'DE', 'NS', 'AA', 'NJ', 'WI', 'AR', 'NV', 'NM', 'TX', 'UT', 'LA', 'MA', 'ON', 'MB', 'AS', 'AE', 'NC', 'AL', 'CT', 'PR', 'MO', 'MD', 'VA', 'CO', 'NE', 'AK', 'IN', 'MI', 'IA', 'TN', 'SC', 'OR', 'DC', 'PA', 'HI', 'WY', 'VT', 'AB', 'MN', 'RI', 'YT', 'QC', 'NL', 'WA', 'CA', 'GA', 'IL', 'OH', 'FL', 'MS', 'AZ', 'MT', 'ID', 'WV', 'ND', 'SD', 'SK', 'NB', 'VI', 'OK', 'KS', 'BC', 'ME', 'KY', 'PE', 'GU', 'NU', 'NT'], 'result_format': 'BASIC'}}, 'exception_info': {'raised_exception': False, 'exception_message': None, 'exception_traceback': None}} \n",
      "\n"
     ]
    }
   ],
   "source": [
    "for col, val_set in dtest.items():\n",
    "    print(col, '\\n', batch.expect_column_values_to_be_in_set(col, val_set, result_format='BASIC', \n",
    "                                        include_config=True, catch_exceptions=True), '\\n')"
   ]
  },
  {
   "cell_type": "code",
   "execution_count": 124,
   "metadata": {},
   "outputs": [],
   "source": [
    "pd.set_option('display.max_rows', 500)\n",
    "pd.set_option('display.max_columns', 500)\n",
    "pd.set_option('display.width', 1000)"
   ]
  },
  {
   "cell_type": "markdown",
   "metadata": {},
   "source": [
    "### 8. Determine if columns are unique per row\n",
    "- CASE_ID, TASK_ID"
   ]
  },
  {
   "cell_type": "code",
   "execution_count": 132,
   "metadata": {},
   "outputs": [],
   "source": [
    "equip_config_json_schema = {\n",
    "    \"$schema\": \"http://json-schema.org/draft-07/schema\",\n",
    "    \"$id\": \"http://example.com/example.json\",\n",
    "    \"type\": [\"array\", \"null\"],\n",
    "    \"title\": \"The Root Schema\",\n",
    "    \"description\": \"The root schema comprises the entire JSON document.\",\n",
    "    \"items\": {\n",
    "        \"$id\": \"#/items\",\n",
    "        \"type\": [\"object\", \"null\"],\n",
    "        \"title\": \"The Items Schema\",\n",
    "        \"description\": \"An explanation about the purpose of this instance.\",\n",
    "        \"default\": {},\n",
    "        \"examples\": [\n",
    "            {\n",
    "                \"equipment_type\": \"TOW\",\n",
    "                \"equipment_class\": \"M\",\n",
    "                \"equipment_code\": \"MDW\"\n",
    "            },\n",
    "            {\n",
    "                \"equipment_type\": \"TOW\",\n",
    "                \"equipment_class\": \"M\",\n",
    "                \"equipment_code\": \"MDW\"\n",
    "            },\n",
    "            {\n",
    "                \"equipment_type\": \"TOW\",\n",
    "                \"equipment_class\": \"M\",\n",
    "                \"equipment_code\": \"MDW\"\n",
    "            },\n",
    "            {\n",
    "                \"equipment_class\": \"M\",\n",
    "                \"equipment_code\": \"MDW\",\n",
    "                \"equipment_type\": \"TOW\"\n",
    "            },\n",
    "            {\n",
    "                \"equipment_type\": \"TOW\",\n",
    "                \"equipment_class\": \"M\",\n",
    "                \"equipment_code\": \"MDW\"\n",
    "            },\n",
    "            {\n",
    "                \"equipment_class\": \"M\",\n",
    "                \"equipment_code\": \"MDW\",\n",
    "                \"equipment_type\": \"TOW\"\n",
    "            },\n",
    "            {\n",
    "                \"equipment_class\": \"M\",\n",
    "                \"equipment_code\": \"MDW\",\n",
    "                \"equipment_type\": \"TOW\"\n",
    "            },\n",
    "            {\n",
    "                \"equipment_type\": \"TOW\",\n",
    "                \"equipment_class\": \"M\",\n",
    "                \"equipment_code\": \"MDW\"\n",
    "            },\n",
    "            {\n",
    "                \"equipment_class\": \"M\",\n",
    "                \"equipment_code\": \"MDW\",\n",
    "                \"equipment_type\": \"TOW\"\n",
    "            },\n",
    "            {\n",
    "                \"equipment_class\": \"M\",\n",
    "                \"equipment_code\": \"MDW\",\n",
    "                \"equipment_type\": \"TOW\"\n",
    "            },\n",
    "            {\n",
    "                \"equipment_type\": \"TOW\",\n",
    "                \"equipment_class\": \"M\",\n",
    "                \"equipment_code\": \"MDW\"\n",
    "            },\n",
    "            {\n",
    "                \"equipment_type\": \"TOW\",\n",
    "                \"equipment_class\": \"M\",\n",
    "                \"equipment_code\": \"MDW\"\n",
    "            }\n",
    "        ],\n",
    "        \"required\": [\n",
    "            \"equipment_class\",\n",
    "            \"equipment_code\",\n",
    "            \"equipment_type\"\n",
    "        ],\n",
    "        \"properties\": {\n",
    "            \"equipment_class\": {\n",
    "                \"$id\": \"#/items/properties/equipment_class\",\n",
    "                \"type\": [\"string\", \"null\"],\n",
    "                \"title\": \"The Equipment_class Schema\",\n",
    "                \"description\": \"An explanation about the purpose of this instance.\",\n",
    "                \"default\": \"\",\n",
    "                \"examples\": [\n",
    "                    \"M\"\n",
    "                ]\n",
    "            },\n",
    "            \"equipment_code\": {\n",
    "                \"$id\": \"#/items/properties/equipment_code\",\n",
    "                \"type\": [\"string\", \"null\"],\n",
    "                \"title\": \"The Equipment_code Schema\",\n",
    "                \"description\": \"An explanation about the purpose of this instance.\",\n",
    "                \"default\": \"\",\n",
    "                \"examples\": [\n",
    "                    \"MDW\"\n",
    "                ]\n",
    "            },\n",
    "            \"equipment_type\": {\n",
    "                \"$id\": \"#/items/properties/equipment_type\",\n",
    "                \"type\": [\"string\", \"null\"],\n",
    "                \"title\": \"The Equipment_type Schema\",\n",
    "                \"description\": \"An explanation about the purpose of this instance.\",\n",
    "                \"default\": \"\",\n",
    "                \"examples\": [\n",
    "                    \"TOW\"\n",
    "                ]\n",
    "            }\n",
    "        }\n",
    "    }\n",
    "}"
   ]
  },
  {
   "cell_type": "code",
   "execution_count": 133,
   "metadata": {
    "scrolled": true
   },
   "outputs": [
    {
     "ename": "KeyboardInterrupt",
     "evalue": "",
     "output_type": "error",
     "traceback": [
      "\u001b[0;31m---------------------------------------------------------------------------\u001b[0m",
      "\u001b[0;31mKeyboardInterrupt\u001b[0m                         Traceback (most recent call last)",
      "\u001b[0;32m<ipython-input-133-1749d28caf48>\u001b[0m in \u001b[0;36m<module>\u001b[0;34m\u001b[0m\n\u001b[1;32m      1\u001b[0m print('EQUIPMENT_CONFIGURATION', \n\u001b[1;32m      2\u001b[0m       batch.expect_column_values_to_match_json_schema(\"EQUIPMENT_CONFIGURATION\", equip_config_json_schema,\n\u001b[0;32m----> 3\u001b[0;31m                                                       result_format='SUMMARY', catch_exceptions=True), sep='\\n')\n\u001b[0m",
      "\u001b[0;32m~/opt/anaconda3/envs/airflow/lib/python3.7/site-packages/great_expectations/data_asset/util.py\u001b[0m in \u001b[0;36mf\u001b[0;34m(*args, **kwargs)\u001b[0m\n\u001b[1;32m     83\u001b[0m         \u001b[0;34m@\u001b[0m\u001b[0mwraps\u001b[0m\u001b[0;34m(\u001b[0m\u001b[0mself\u001b[0m\u001b[0;34m.\u001b[0m\u001b[0mmthd\u001b[0m\u001b[0;34m,\u001b[0m \u001b[0massigned\u001b[0m\u001b[0;34m=\u001b[0m\u001b[0;34m(\u001b[0m\u001b[0;34m'__name__'\u001b[0m\u001b[0;34m,\u001b[0m \u001b[0;34m'__module__'\u001b[0m\u001b[0;34m)\u001b[0m\u001b[0;34m)\u001b[0m\u001b[0;34m\u001b[0m\u001b[0;34m\u001b[0m\u001b[0m\n\u001b[1;32m     84\u001b[0m         \u001b[0;32mdef\u001b[0m \u001b[0mf\u001b[0m\u001b[0;34m(\u001b[0m\u001b[0;34m*\u001b[0m\u001b[0margs\u001b[0m\u001b[0;34m,\u001b[0m \u001b[0;34m**\u001b[0m\u001b[0mkwargs\u001b[0m\u001b[0;34m)\u001b[0m\u001b[0;34m:\u001b[0m\u001b[0;34m\u001b[0m\u001b[0;34m\u001b[0m\u001b[0m\n\u001b[0;32m---> 85\u001b[0;31m             \u001b[0;32mreturn\u001b[0m \u001b[0mself\u001b[0m\u001b[0;34m.\u001b[0m\u001b[0mmthd\u001b[0m\u001b[0;34m(\u001b[0m\u001b[0mobj\u001b[0m\u001b[0;34m,\u001b[0m \u001b[0;34m*\u001b[0m\u001b[0margs\u001b[0m\u001b[0;34m,\u001b[0m \u001b[0;34m**\u001b[0m\u001b[0mkwargs\u001b[0m\u001b[0;34m)\u001b[0m\u001b[0;34m\u001b[0m\u001b[0;34m\u001b[0m\u001b[0m\n\u001b[0m\u001b[1;32m     86\u001b[0m \u001b[0;34m\u001b[0m\u001b[0m\n\u001b[1;32m     87\u001b[0m         \u001b[0mf\u001b[0m\u001b[0;34m.\u001b[0m\u001b[0m__doc__\u001b[0m \u001b[0;34m=\u001b[0m \u001b[0mdoc\u001b[0m\u001b[0;34m\u001b[0m\u001b[0;34m\u001b[0m\u001b[0m\n",
      "\u001b[0;32m~/opt/anaconda3/envs/airflow/lib/python3.7/site-packages/great_expectations/data_asset/data_asset.py\u001b[0m in \u001b[0;36mwrapper\u001b[0;34m(self, *args, **kwargs)\u001b[0m\n\u001b[1;32m    221\u001b[0m                 \u001b[0;32mif\u001b[0m \u001b[0mself\u001b[0m\u001b[0;34m.\u001b[0m\u001b[0m_config\u001b[0m\u001b[0;34m.\u001b[0m\u001b[0mget\u001b[0m\u001b[0;34m(\u001b[0m\u001b[0;34m\"interactive_evaluation\"\u001b[0m\u001b[0;34m,\u001b[0m \u001b[0;32mTrue\u001b[0m\u001b[0;34m)\u001b[0m \u001b[0;32mor\u001b[0m \u001b[0mself\u001b[0m\u001b[0;34m.\u001b[0m\u001b[0m_active_validation\u001b[0m\u001b[0;34m:\u001b[0m\u001b[0;34m\u001b[0m\u001b[0;34m\u001b[0m\u001b[0m\n\u001b[1;32m    222\u001b[0m                     \u001b[0;32mtry\u001b[0m\u001b[0;34m:\u001b[0m\u001b[0;34m\u001b[0m\u001b[0;34m\u001b[0m\u001b[0m\n\u001b[0;32m--> 223\u001b[0;31m                         \u001b[0mreturn_obj\u001b[0m \u001b[0;34m=\u001b[0m \u001b[0mfunc\u001b[0m\u001b[0;34m(\u001b[0m\u001b[0mself\u001b[0m\u001b[0;34m,\u001b[0m \u001b[0;34m**\u001b[0m\u001b[0mevaluation_args\u001b[0m\u001b[0;34m)\u001b[0m\u001b[0;34m\u001b[0m\u001b[0;34m\u001b[0m\u001b[0m\n\u001b[0m\u001b[1;32m    224\u001b[0m \u001b[0;34m\u001b[0m\u001b[0m\n\u001b[1;32m    225\u001b[0m                     \u001b[0;32mexcept\u001b[0m \u001b[0mException\u001b[0m \u001b[0;32mas\u001b[0m \u001b[0merr\u001b[0m\u001b[0;34m:\u001b[0m\u001b[0;34m\u001b[0m\u001b[0;34m\u001b[0m\u001b[0m\n",
      "\u001b[0;32m~/opt/anaconda3/envs/airflow/lib/python3.7/site-packages/great_expectations/dataset/pandas_dataset.py\u001b[0m in \u001b[0;36minner_wrapper\u001b[0;34m(self, column, mostly, result_format, *args, **kwargs)\u001b[0m\n\u001b[1;32m     91\u001b[0m \u001b[0;34m\u001b[0m\u001b[0m\n\u001b[1;32m     92\u001b[0m             boolean_mapped_success_values = func(\n\u001b[0;32m---> 93\u001b[0;31m                 self, nonnull_values, *args, **kwargs)\n\u001b[0m\u001b[1;32m     94\u001b[0m             \u001b[0msuccess_count\u001b[0m \u001b[0;34m=\u001b[0m \u001b[0mnp\u001b[0m\u001b[0;34m.\u001b[0m\u001b[0mcount_nonzero\u001b[0m\u001b[0;34m(\u001b[0m\u001b[0mboolean_mapped_success_values\u001b[0m\u001b[0;34m)\u001b[0m\u001b[0;34m\u001b[0m\u001b[0;34m\u001b[0m\u001b[0m\n\u001b[1;32m     95\u001b[0m \u001b[0;34m\u001b[0m\u001b[0m\n",
      "\u001b[0;32m~/opt/anaconda3/envs/airflow/lib/python3.7/site-packages/great_expectations/dataset/pandas_dataset.py\u001b[0m in \u001b[0;36mexpect_column_values_to_match_json_schema\u001b[0;34m(self, column, json_schema, mostly, result_format, include_config, catch_exceptions, meta)\u001b[0m\n\u001b[1;32m   1174\u001b[0m                 \u001b[0;32mraise\u001b[0m\u001b[0;34m\u001b[0m\u001b[0;34m\u001b[0m\u001b[0m\n\u001b[1;32m   1175\u001b[0m \u001b[0;34m\u001b[0m\u001b[0m\n\u001b[0;32m-> 1176\u001b[0;31m         \u001b[0;32mreturn\u001b[0m \u001b[0mcolumn\u001b[0m\u001b[0;34m.\u001b[0m\u001b[0mmap\u001b[0m\u001b[0;34m(\u001b[0m\u001b[0mmatches_json_schema\u001b[0m\u001b[0;34m)\u001b[0m\u001b[0;34m\u001b[0m\u001b[0;34m\u001b[0m\u001b[0m\n\u001b[0m\u001b[1;32m   1177\u001b[0m \u001b[0;34m\u001b[0m\u001b[0m\n\u001b[1;32m   1178\u001b[0m     \u001b[0;34m@\u001b[0m\u001b[0mDocInherit\u001b[0m\u001b[0;34m\u001b[0m\u001b[0;34m\u001b[0m\u001b[0m\n",
      "\u001b[0;32m~/opt/anaconda3/envs/airflow/lib/python3.7/site-packages/pandas/core/series.py\u001b[0m in \u001b[0;36mmap\u001b[0;34m(self, arg, na_action)\u001b[0m\n\u001b[1;32m   3826\u001b[0m         \u001b[0mdtype\u001b[0m\u001b[0;34m:\u001b[0m \u001b[0mobject\u001b[0m\u001b[0;34m\u001b[0m\u001b[0;34m\u001b[0m\u001b[0m\n\u001b[1;32m   3827\u001b[0m         \"\"\"\n\u001b[0;32m-> 3828\u001b[0;31m         \u001b[0mnew_values\u001b[0m \u001b[0;34m=\u001b[0m \u001b[0msuper\u001b[0m\u001b[0;34m(\u001b[0m\u001b[0;34m)\u001b[0m\u001b[0;34m.\u001b[0m\u001b[0m_map_values\u001b[0m\u001b[0;34m(\u001b[0m\u001b[0marg\u001b[0m\u001b[0;34m,\u001b[0m \u001b[0mna_action\u001b[0m\u001b[0;34m=\u001b[0m\u001b[0mna_action\u001b[0m\u001b[0;34m)\u001b[0m\u001b[0;34m\u001b[0m\u001b[0;34m\u001b[0m\u001b[0m\n\u001b[0m\u001b[1;32m   3829\u001b[0m         \u001b[0;32mreturn\u001b[0m \u001b[0mself\u001b[0m\u001b[0;34m.\u001b[0m\u001b[0m_constructor\u001b[0m\u001b[0;34m(\u001b[0m\u001b[0mnew_values\u001b[0m\u001b[0;34m,\u001b[0m \u001b[0mindex\u001b[0m\u001b[0;34m=\u001b[0m\u001b[0mself\u001b[0m\u001b[0;34m.\u001b[0m\u001b[0mindex\u001b[0m\u001b[0;34m)\u001b[0m\u001b[0;34m.\u001b[0m\u001b[0m__finalize__\u001b[0m\u001b[0;34m(\u001b[0m\u001b[0mself\u001b[0m\u001b[0;34m)\u001b[0m\u001b[0;34m\u001b[0m\u001b[0;34m\u001b[0m\u001b[0m\n\u001b[1;32m   3830\u001b[0m \u001b[0;34m\u001b[0m\u001b[0m\n",
      "\u001b[0;32m~/opt/anaconda3/envs/airflow/lib/python3.7/site-packages/pandas/core/base.py\u001b[0m in \u001b[0;36m_map_values\u001b[0;34m(self, mapper, na_action)\u001b[0m\n\u001b[1;32m   1298\u001b[0m \u001b[0;34m\u001b[0m\u001b[0m\n\u001b[1;32m   1299\u001b[0m         \u001b[0;31m# mapper is a function\u001b[0m\u001b[0;34m\u001b[0m\u001b[0;34m\u001b[0m\u001b[0;34m\u001b[0m\u001b[0m\n\u001b[0;32m-> 1300\u001b[0;31m         \u001b[0mnew_values\u001b[0m \u001b[0;34m=\u001b[0m \u001b[0mmap_f\u001b[0m\u001b[0;34m(\u001b[0m\u001b[0mvalues\u001b[0m\u001b[0;34m,\u001b[0m \u001b[0mmapper\u001b[0m\u001b[0;34m)\u001b[0m\u001b[0;34m\u001b[0m\u001b[0;34m\u001b[0m\u001b[0m\n\u001b[0m\u001b[1;32m   1301\u001b[0m \u001b[0;34m\u001b[0m\u001b[0m\n\u001b[1;32m   1302\u001b[0m         \u001b[0;32mreturn\u001b[0m \u001b[0mnew_values\u001b[0m\u001b[0;34m\u001b[0m\u001b[0;34m\u001b[0m\u001b[0m\n",
      "\u001b[0;32mpandas/_libs/lib.pyx\u001b[0m in \u001b[0;36mpandas._libs.lib.map_infer\u001b[0;34m()\u001b[0m\n",
      "\u001b[0;32m~/opt/anaconda3/envs/airflow/lib/python3.7/site-packages/great_expectations/dataset/pandas_dataset.py\u001b[0m in \u001b[0;36mmatches_json_schema\u001b[0;34m(val)\u001b[0m\n\u001b[1;32m   1163\u001b[0m             \u001b[0;32mtry\u001b[0m\u001b[0;34m:\u001b[0m\u001b[0;34m\u001b[0m\u001b[0;34m\u001b[0m\u001b[0m\n\u001b[1;32m   1164\u001b[0m                 \u001b[0mval_json\u001b[0m \u001b[0;34m=\u001b[0m \u001b[0mjson\u001b[0m\u001b[0;34m.\u001b[0m\u001b[0mloads\u001b[0m\u001b[0;34m(\u001b[0m\u001b[0mval\u001b[0m\u001b[0;34m)\u001b[0m\u001b[0;34m\u001b[0m\u001b[0;34m\u001b[0m\u001b[0m\n\u001b[0;32m-> 1165\u001b[0;31m                 \u001b[0mjsonschema\u001b[0m\u001b[0;34m.\u001b[0m\u001b[0mvalidate\u001b[0m\u001b[0;34m(\u001b[0m\u001b[0mval_json\u001b[0m\u001b[0;34m,\u001b[0m \u001b[0mjson_schema\u001b[0m\u001b[0;34m)\u001b[0m\u001b[0;34m\u001b[0m\u001b[0;34m\u001b[0m\u001b[0m\n\u001b[0m\u001b[1;32m   1166\u001b[0m                 \u001b[0;31m# jsonschema.validate raises an error if validation fails.\u001b[0m\u001b[0;34m\u001b[0m\u001b[0;34m\u001b[0m\u001b[0;34m\u001b[0m\u001b[0m\n\u001b[1;32m   1167\u001b[0m                 \u001b[0;31m# So if we make it this far, we know that the validation succeeded.\u001b[0m\u001b[0;34m\u001b[0m\u001b[0;34m\u001b[0m\u001b[0;34m\u001b[0m\u001b[0m\n",
      "\u001b[0;32m~/opt/anaconda3/envs/airflow/lib/python3.7/site-packages/jsonschema/validators.py\u001b[0m in \u001b[0;36mvalidate\u001b[0;34m(instance, schema, cls, *args, **kwargs)\u001b[0m\n\u001b[1;32m    928\u001b[0m         \u001b[0mcls\u001b[0m \u001b[0;34m=\u001b[0m \u001b[0mvalidator_for\u001b[0m\u001b[0;34m(\u001b[0m\u001b[0mschema\u001b[0m\u001b[0;34m)\u001b[0m\u001b[0;34m\u001b[0m\u001b[0;34m\u001b[0m\u001b[0m\n\u001b[1;32m    929\u001b[0m \u001b[0;34m\u001b[0m\u001b[0m\n\u001b[0;32m--> 930\u001b[0;31m     \u001b[0mcls\u001b[0m\u001b[0;34m.\u001b[0m\u001b[0mcheck_schema\u001b[0m\u001b[0;34m(\u001b[0m\u001b[0mschema\u001b[0m\u001b[0;34m)\u001b[0m\u001b[0;34m\u001b[0m\u001b[0;34m\u001b[0m\u001b[0m\n\u001b[0m\u001b[1;32m    931\u001b[0m     \u001b[0mvalidator\u001b[0m \u001b[0;34m=\u001b[0m \u001b[0mcls\u001b[0m\u001b[0;34m(\u001b[0m\u001b[0mschema\u001b[0m\u001b[0;34m,\u001b[0m \u001b[0;34m*\u001b[0m\u001b[0margs\u001b[0m\u001b[0;34m,\u001b[0m \u001b[0;34m**\u001b[0m\u001b[0mkwargs\u001b[0m\u001b[0;34m)\u001b[0m\u001b[0;34m\u001b[0m\u001b[0;34m\u001b[0m\u001b[0m\n\u001b[1;32m    932\u001b[0m     \u001b[0merror\u001b[0m \u001b[0;34m=\u001b[0m \u001b[0mexceptions\u001b[0m\u001b[0;34m.\u001b[0m\u001b[0mbest_match\u001b[0m\u001b[0;34m(\u001b[0m\u001b[0mvalidator\u001b[0m\u001b[0;34m.\u001b[0m\u001b[0miter_errors\u001b[0m\u001b[0;34m(\u001b[0m\u001b[0minstance\u001b[0m\u001b[0;34m)\u001b[0m\u001b[0;34m)\u001b[0m\u001b[0;34m\u001b[0m\u001b[0;34m\u001b[0m\u001b[0m\n",
      "\u001b[0;32m~/opt/anaconda3/envs/airflow/lib/python3.7/site-packages/jsonschema/validators.py\u001b[0m in \u001b[0;36mcheck_schema\u001b[0;34m(cls, schema)\u001b[0m\n\u001b[1;32m    291\u001b[0m         \u001b[0;34m@\u001b[0m\u001b[0mclassmethod\u001b[0m\u001b[0;34m\u001b[0m\u001b[0;34m\u001b[0m\u001b[0m\n\u001b[1;32m    292\u001b[0m         \u001b[0;32mdef\u001b[0m \u001b[0mcheck_schema\u001b[0m\u001b[0;34m(\u001b[0m\u001b[0mcls\u001b[0m\u001b[0;34m,\u001b[0m \u001b[0mschema\u001b[0m\u001b[0;34m)\u001b[0m\u001b[0;34m:\u001b[0m\u001b[0;34m\u001b[0m\u001b[0;34m\u001b[0m\u001b[0m\n\u001b[0;32m--> 293\u001b[0;31m             \u001b[0;32mfor\u001b[0m \u001b[0merror\u001b[0m \u001b[0;32min\u001b[0m \u001b[0mcls\u001b[0m\u001b[0;34m(\u001b[0m\u001b[0mcls\u001b[0m\u001b[0;34m.\u001b[0m\u001b[0mMETA_SCHEMA\u001b[0m\u001b[0;34m)\u001b[0m\u001b[0;34m.\u001b[0m\u001b[0miter_errors\u001b[0m\u001b[0;34m(\u001b[0m\u001b[0mschema\u001b[0m\u001b[0;34m)\u001b[0m\u001b[0;34m:\u001b[0m\u001b[0;34m\u001b[0m\u001b[0;34m\u001b[0m\u001b[0m\n\u001b[0m\u001b[1;32m    294\u001b[0m                 \u001b[0;32mraise\u001b[0m \u001b[0mexceptions\u001b[0m\u001b[0;34m.\u001b[0m\u001b[0mSchemaError\u001b[0m\u001b[0;34m.\u001b[0m\u001b[0mcreate_from\u001b[0m\u001b[0;34m(\u001b[0m\u001b[0merror\u001b[0m\u001b[0;34m)\u001b[0m\u001b[0;34m\u001b[0m\u001b[0;34m\u001b[0m\u001b[0m\n\u001b[1;32m    295\u001b[0m \u001b[0;34m\u001b[0m\u001b[0m\n",
      "\u001b[0;32m~/opt/anaconda3/envs/airflow/lib/python3.7/site-packages/jsonschema/validators.py\u001b[0m in \u001b[0;36miter_errors\u001b[0;34m(self, instance, _schema)\u001b[0m\n\u001b[1;32m    326\u001b[0m \u001b[0;34m\u001b[0m\u001b[0m\n\u001b[1;32m    327\u001b[0m                     \u001b[0merrors\u001b[0m \u001b[0;34m=\u001b[0m \u001b[0mvalidator\u001b[0m\u001b[0;34m(\u001b[0m\u001b[0mself\u001b[0m\u001b[0;34m,\u001b[0m \u001b[0mv\u001b[0m\u001b[0;34m,\u001b[0m \u001b[0minstance\u001b[0m\u001b[0;34m,\u001b[0m \u001b[0m_schema\u001b[0m\u001b[0;34m)\u001b[0m \u001b[0;32mor\u001b[0m \u001b[0;34m(\u001b[0m\u001b[0;34m)\u001b[0m\u001b[0;34m\u001b[0m\u001b[0;34m\u001b[0m\u001b[0m\n\u001b[0;32m--> 328\u001b[0;31m                     \u001b[0;32mfor\u001b[0m \u001b[0merror\u001b[0m \u001b[0;32min\u001b[0m \u001b[0merrors\u001b[0m\u001b[0;34m:\u001b[0m\u001b[0;34m\u001b[0m\u001b[0;34m\u001b[0m\u001b[0m\n\u001b[0m\u001b[1;32m    329\u001b[0m                         \u001b[0;31m# set details if not already set by the called fn\u001b[0m\u001b[0;34m\u001b[0m\u001b[0;34m\u001b[0m\u001b[0;34m\u001b[0m\u001b[0m\n\u001b[1;32m    330\u001b[0m                         error._set(\n",
      "\u001b[0;32m~/opt/anaconda3/envs/airflow/lib/python3.7/site-packages/jsonschema/_validators.py\u001b[0m in \u001b[0;36mproperties\u001b[0;34m(validator, properties, instance, schema)\u001b[0m\n\u001b[1;32m    284\u001b[0m                 \u001b[0msubschema\u001b[0m\u001b[0;34m,\u001b[0m\u001b[0;34m\u001b[0m\u001b[0;34m\u001b[0m\u001b[0m\n\u001b[1;32m    285\u001b[0m                 \u001b[0mpath\u001b[0m\u001b[0;34m=\u001b[0m\u001b[0mproperty\u001b[0m\u001b[0;34m,\u001b[0m\u001b[0;34m\u001b[0m\u001b[0;34m\u001b[0m\u001b[0m\n\u001b[0;32m--> 286\u001b[0;31m                 \u001b[0mschema_path\u001b[0m\u001b[0;34m=\u001b[0m\u001b[0mproperty\u001b[0m\u001b[0;34m,\u001b[0m\u001b[0;34m\u001b[0m\u001b[0;34m\u001b[0m\u001b[0m\n\u001b[0m\u001b[1;32m    287\u001b[0m             ):\n\u001b[1;32m    288\u001b[0m                 \u001b[0;32myield\u001b[0m \u001b[0merror\u001b[0m\u001b[0;34m\u001b[0m\u001b[0;34m\u001b[0m\u001b[0m\n",
      "\u001b[0;32m~/opt/anaconda3/envs/airflow/lib/python3.7/site-packages/jsonschema/validators.py\u001b[0m in \u001b[0;36mdescend\u001b[0;34m(self, instance, schema, path, schema_path)\u001b[0m\n\u001b[1;32m    342\u001b[0m \u001b[0;34m\u001b[0m\u001b[0m\n\u001b[1;32m    343\u001b[0m         \u001b[0;32mdef\u001b[0m \u001b[0mdescend\u001b[0m\u001b[0;34m(\u001b[0m\u001b[0mself\u001b[0m\u001b[0;34m,\u001b[0m \u001b[0minstance\u001b[0m\u001b[0;34m,\u001b[0m \u001b[0mschema\u001b[0m\u001b[0;34m,\u001b[0m \u001b[0mpath\u001b[0m\u001b[0;34m=\u001b[0m\u001b[0;32mNone\u001b[0m\u001b[0;34m,\u001b[0m \u001b[0mschema_path\u001b[0m\u001b[0;34m=\u001b[0m\u001b[0;32mNone\u001b[0m\u001b[0;34m)\u001b[0m\u001b[0;34m:\u001b[0m\u001b[0;34m\u001b[0m\u001b[0;34m\u001b[0m\u001b[0m\n\u001b[0;32m--> 344\u001b[0;31m             \u001b[0;32mfor\u001b[0m \u001b[0merror\u001b[0m \u001b[0;32min\u001b[0m \u001b[0mself\u001b[0m\u001b[0;34m.\u001b[0m\u001b[0miter_errors\u001b[0m\u001b[0;34m(\u001b[0m\u001b[0minstance\u001b[0m\u001b[0;34m,\u001b[0m \u001b[0mschema\u001b[0m\u001b[0;34m)\u001b[0m\u001b[0;34m:\u001b[0m\u001b[0;34m\u001b[0m\u001b[0;34m\u001b[0m\u001b[0m\n\u001b[0m\u001b[1;32m    345\u001b[0m                 \u001b[0;32mif\u001b[0m \u001b[0mpath\u001b[0m \u001b[0;32mis\u001b[0m \u001b[0;32mnot\u001b[0m \u001b[0;32mNone\u001b[0m\u001b[0;34m:\u001b[0m\u001b[0;34m\u001b[0m\u001b[0;34m\u001b[0m\u001b[0m\n\u001b[1;32m    346\u001b[0m                     \u001b[0merror\u001b[0m\u001b[0;34m.\u001b[0m\u001b[0mpath\u001b[0m\u001b[0;34m.\u001b[0m\u001b[0mappendleft\u001b[0m\u001b[0;34m(\u001b[0m\u001b[0mpath\u001b[0m\u001b[0;34m)\u001b[0m\u001b[0;34m\u001b[0m\u001b[0;34m\u001b[0m\u001b[0m\n",
      "\u001b[0;32m~/opt/anaconda3/envs/airflow/lib/python3.7/site-packages/jsonschema/validators.py\u001b[0m in \u001b[0;36miter_errors\u001b[0;34m(self, instance, _schema)\u001b[0m\n\u001b[1;32m    326\u001b[0m \u001b[0;34m\u001b[0m\u001b[0m\n\u001b[1;32m    327\u001b[0m                     \u001b[0merrors\u001b[0m \u001b[0;34m=\u001b[0m \u001b[0mvalidator\u001b[0m\u001b[0;34m(\u001b[0m\u001b[0mself\u001b[0m\u001b[0;34m,\u001b[0m \u001b[0mv\u001b[0m\u001b[0;34m,\u001b[0m \u001b[0minstance\u001b[0m\u001b[0;34m,\u001b[0m \u001b[0m_schema\u001b[0m\u001b[0;34m)\u001b[0m \u001b[0;32mor\u001b[0m \u001b[0;34m(\u001b[0m\u001b[0;34m)\u001b[0m\u001b[0;34m\u001b[0m\u001b[0;34m\u001b[0m\u001b[0m\n\u001b[0;32m--> 328\u001b[0;31m                     \u001b[0;32mfor\u001b[0m \u001b[0merror\u001b[0m \u001b[0;32min\u001b[0m \u001b[0merrors\u001b[0m\u001b[0;34m:\u001b[0m\u001b[0;34m\u001b[0m\u001b[0;34m\u001b[0m\u001b[0m\n\u001b[0m\u001b[1;32m    329\u001b[0m                         \u001b[0;31m# set details if not already set by the called fn\u001b[0m\u001b[0;34m\u001b[0m\u001b[0;34m\u001b[0m\u001b[0;34m\u001b[0m\u001b[0m\n\u001b[1;32m    330\u001b[0m                         error._set(\n",
      "\u001b[0;32m~/opt/anaconda3/envs/airflow/lib/python3.7/site-packages/jsonschema/_validators.py\u001b[0m in \u001b[0;36manyOf\u001b[0;34m(validator, anyOf, instance, schema)\u001b[0m\n\u001b[1;32m    320\u001b[0m     \u001b[0mall_errors\u001b[0m \u001b[0;34m=\u001b[0m \u001b[0;34m[\u001b[0m\u001b[0;34m]\u001b[0m\u001b[0;34m\u001b[0m\u001b[0;34m\u001b[0m\u001b[0m\n\u001b[1;32m    321\u001b[0m     \u001b[0;32mfor\u001b[0m \u001b[0mindex\u001b[0m\u001b[0;34m,\u001b[0m \u001b[0msubschema\u001b[0m \u001b[0;32min\u001b[0m \u001b[0menumerate\u001b[0m\u001b[0;34m(\u001b[0m\u001b[0manyOf\u001b[0m\u001b[0;34m)\u001b[0m\u001b[0;34m:\u001b[0m\u001b[0;34m\u001b[0m\u001b[0;34m\u001b[0m\u001b[0m\n\u001b[0;32m--> 322\u001b[0;31m         \u001b[0merrs\u001b[0m \u001b[0;34m=\u001b[0m \u001b[0mlist\u001b[0m\u001b[0;34m(\u001b[0m\u001b[0mvalidator\u001b[0m\u001b[0;34m.\u001b[0m\u001b[0mdescend\u001b[0m\u001b[0;34m(\u001b[0m\u001b[0minstance\u001b[0m\u001b[0;34m,\u001b[0m \u001b[0msubschema\u001b[0m\u001b[0;34m,\u001b[0m \u001b[0mschema_path\u001b[0m\u001b[0;34m=\u001b[0m\u001b[0mindex\u001b[0m\u001b[0;34m)\u001b[0m\u001b[0;34m)\u001b[0m\u001b[0;34m\u001b[0m\u001b[0;34m\u001b[0m\u001b[0m\n\u001b[0m\u001b[1;32m    323\u001b[0m         \u001b[0;32mif\u001b[0m \u001b[0;32mnot\u001b[0m \u001b[0merrs\u001b[0m\u001b[0;34m:\u001b[0m\u001b[0;34m\u001b[0m\u001b[0;34m\u001b[0m\u001b[0m\n\u001b[1;32m    324\u001b[0m             \u001b[0;32mbreak\u001b[0m\u001b[0;34m\u001b[0m\u001b[0;34m\u001b[0m\u001b[0m\n",
      "\u001b[0;32m~/opt/anaconda3/envs/airflow/lib/python3.7/site-packages/jsonschema/validators.py\u001b[0m in \u001b[0;36mdescend\u001b[0;34m(self, instance, schema, path, schema_path)\u001b[0m\n\u001b[1;32m    342\u001b[0m \u001b[0;34m\u001b[0m\u001b[0m\n\u001b[1;32m    343\u001b[0m         \u001b[0;32mdef\u001b[0m \u001b[0mdescend\u001b[0m\u001b[0;34m(\u001b[0m\u001b[0mself\u001b[0m\u001b[0;34m,\u001b[0m \u001b[0minstance\u001b[0m\u001b[0;34m,\u001b[0m \u001b[0mschema\u001b[0m\u001b[0;34m,\u001b[0m \u001b[0mpath\u001b[0m\u001b[0;34m=\u001b[0m\u001b[0;32mNone\u001b[0m\u001b[0;34m,\u001b[0m \u001b[0mschema_path\u001b[0m\u001b[0;34m=\u001b[0m\u001b[0;32mNone\u001b[0m\u001b[0;34m)\u001b[0m\u001b[0;34m:\u001b[0m\u001b[0;34m\u001b[0m\u001b[0;34m\u001b[0m\u001b[0m\n\u001b[0;32m--> 344\u001b[0;31m             \u001b[0;32mfor\u001b[0m \u001b[0merror\u001b[0m \u001b[0;32min\u001b[0m \u001b[0mself\u001b[0m\u001b[0;34m.\u001b[0m\u001b[0miter_errors\u001b[0m\u001b[0;34m(\u001b[0m\u001b[0minstance\u001b[0m\u001b[0;34m,\u001b[0m \u001b[0mschema\u001b[0m\u001b[0;34m)\u001b[0m\u001b[0;34m:\u001b[0m\u001b[0;34m\u001b[0m\u001b[0;34m\u001b[0m\u001b[0m\n\u001b[0m\u001b[1;32m    345\u001b[0m                 \u001b[0;32mif\u001b[0m \u001b[0mpath\u001b[0m \u001b[0;32mis\u001b[0m \u001b[0;32mnot\u001b[0m \u001b[0;32mNone\u001b[0m\u001b[0;34m:\u001b[0m\u001b[0;34m\u001b[0m\u001b[0;34m\u001b[0m\u001b[0m\n\u001b[1;32m    346\u001b[0m                     \u001b[0merror\u001b[0m\u001b[0;34m.\u001b[0m\u001b[0mpath\u001b[0m\u001b[0;34m.\u001b[0m\u001b[0mappendleft\u001b[0m\u001b[0;34m(\u001b[0m\u001b[0mpath\u001b[0m\u001b[0;34m)\u001b[0m\u001b[0;34m\u001b[0m\u001b[0;34m\u001b[0m\u001b[0m\n",
      "\u001b[0;32m~/opt/anaconda3/envs/airflow/lib/python3.7/site-packages/jsonschema/validators.py\u001b[0m in \u001b[0;36miter_errors\u001b[0;34m(self, instance, _schema)\u001b[0m\n\u001b[1;32m    326\u001b[0m \u001b[0;34m\u001b[0m\u001b[0m\n\u001b[1;32m    327\u001b[0m                     \u001b[0merrors\u001b[0m \u001b[0;34m=\u001b[0m \u001b[0mvalidator\u001b[0m\u001b[0;34m(\u001b[0m\u001b[0mself\u001b[0m\u001b[0;34m,\u001b[0m \u001b[0mv\u001b[0m\u001b[0;34m,\u001b[0m \u001b[0minstance\u001b[0m\u001b[0;34m,\u001b[0m \u001b[0m_schema\u001b[0m\u001b[0;34m)\u001b[0m \u001b[0;32mor\u001b[0m \u001b[0;34m(\u001b[0m\u001b[0;34m)\u001b[0m\u001b[0;34m\u001b[0m\u001b[0;34m\u001b[0m\u001b[0m\n\u001b[0;32m--> 328\u001b[0;31m                     \u001b[0;32mfor\u001b[0m \u001b[0merror\u001b[0m \u001b[0;32min\u001b[0m \u001b[0merrors\u001b[0m\u001b[0;34m:\u001b[0m\u001b[0;34m\u001b[0m\u001b[0;34m\u001b[0m\u001b[0m\n\u001b[0m\u001b[1;32m    329\u001b[0m                         \u001b[0;31m# set details if not already set by the called fn\u001b[0m\u001b[0;34m\u001b[0m\u001b[0;34m\u001b[0m\u001b[0;34m\u001b[0m\u001b[0m\n\u001b[1;32m    330\u001b[0m                         error._set(\n",
      "\u001b[0;32m~/opt/anaconda3/envs/airflow/lib/python3.7/site-packages/jsonschema/_validators.py\u001b[0m in \u001b[0;36mref\u001b[0;34m(validator, ref, instance, schema)\u001b[0m\n\u001b[1;32m    261\u001b[0m \u001b[0;34m\u001b[0m\u001b[0m\n\u001b[1;32m    262\u001b[0m         \u001b[0;32mtry\u001b[0m\u001b[0;34m:\u001b[0m\u001b[0;34m\u001b[0m\u001b[0;34m\u001b[0m\u001b[0m\n\u001b[0;32m--> 263\u001b[0;31m             \u001b[0;32mfor\u001b[0m \u001b[0merror\u001b[0m \u001b[0;32min\u001b[0m \u001b[0mvalidator\u001b[0m\u001b[0;34m.\u001b[0m\u001b[0mdescend\u001b[0m\u001b[0;34m(\u001b[0m\u001b[0minstance\u001b[0m\u001b[0;34m,\u001b[0m \u001b[0mresolved\u001b[0m\u001b[0;34m)\u001b[0m\u001b[0;34m:\u001b[0m\u001b[0;34m\u001b[0m\u001b[0;34m\u001b[0m\u001b[0m\n\u001b[0m\u001b[1;32m    264\u001b[0m                 \u001b[0;32myield\u001b[0m \u001b[0merror\u001b[0m\u001b[0;34m\u001b[0m\u001b[0;34m\u001b[0m\u001b[0m\n\u001b[1;32m    265\u001b[0m         \u001b[0;32mfinally\u001b[0m\u001b[0;34m:\u001b[0m\u001b[0;34m\u001b[0m\u001b[0;34m\u001b[0m\u001b[0m\n",
      "\u001b[0;32m~/opt/anaconda3/envs/airflow/lib/python3.7/site-packages/jsonschema/validators.py\u001b[0m in \u001b[0;36mdescend\u001b[0;34m(self, instance, schema, path, schema_path)\u001b[0m\n\u001b[1;32m    342\u001b[0m \u001b[0;34m\u001b[0m\u001b[0m\n\u001b[1;32m    343\u001b[0m         \u001b[0;32mdef\u001b[0m \u001b[0mdescend\u001b[0m\u001b[0;34m(\u001b[0m\u001b[0mself\u001b[0m\u001b[0;34m,\u001b[0m \u001b[0minstance\u001b[0m\u001b[0;34m,\u001b[0m \u001b[0mschema\u001b[0m\u001b[0;34m,\u001b[0m \u001b[0mpath\u001b[0m\u001b[0;34m=\u001b[0m\u001b[0;32mNone\u001b[0m\u001b[0;34m,\u001b[0m \u001b[0mschema_path\u001b[0m\u001b[0;34m=\u001b[0m\u001b[0;32mNone\u001b[0m\u001b[0;34m)\u001b[0m\u001b[0;34m:\u001b[0m\u001b[0;34m\u001b[0m\u001b[0;34m\u001b[0m\u001b[0m\n\u001b[0;32m--> 344\u001b[0;31m             \u001b[0;32mfor\u001b[0m \u001b[0merror\u001b[0m \u001b[0;32min\u001b[0m \u001b[0mself\u001b[0m\u001b[0;34m.\u001b[0m\u001b[0miter_errors\u001b[0m\u001b[0;34m(\u001b[0m\u001b[0minstance\u001b[0m\u001b[0;34m,\u001b[0m \u001b[0mschema\u001b[0m\u001b[0;34m)\u001b[0m\u001b[0;34m:\u001b[0m\u001b[0;34m\u001b[0m\u001b[0;34m\u001b[0m\u001b[0m\n\u001b[0m\u001b[1;32m    345\u001b[0m                 \u001b[0;32mif\u001b[0m \u001b[0mpath\u001b[0m \u001b[0;32mis\u001b[0m \u001b[0;32mnot\u001b[0m \u001b[0;32mNone\u001b[0m\u001b[0;34m:\u001b[0m\u001b[0;34m\u001b[0m\u001b[0;34m\u001b[0m\u001b[0m\n\u001b[1;32m    346\u001b[0m                     \u001b[0merror\u001b[0m\u001b[0;34m.\u001b[0m\u001b[0mpath\u001b[0m\u001b[0;34m.\u001b[0m\u001b[0mappendleft\u001b[0m\u001b[0;34m(\u001b[0m\u001b[0mpath\u001b[0m\u001b[0;34m)\u001b[0m\u001b[0;34m\u001b[0m\u001b[0;34m\u001b[0m\u001b[0m\n",
      "\u001b[0;32m~/opt/anaconda3/envs/airflow/lib/python3.7/site-packages/jsonschema/validators.py\u001b[0m in \u001b[0;36miter_errors\u001b[0;34m(self, instance, _schema)\u001b[0m\n\u001b[1;32m    326\u001b[0m \u001b[0;34m\u001b[0m\u001b[0m\n\u001b[1;32m    327\u001b[0m                     \u001b[0merrors\u001b[0m \u001b[0;34m=\u001b[0m \u001b[0mvalidator\u001b[0m\u001b[0;34m(\u001b[0m\u001b[0mself\u001b[0m\u001b[0;34m,\u001b[0m \u001b[0mv\u001b[0m\u001b[0;34m,\u001b[0m \u001b[0minstance\u001b[0m\u001b[0;34m,\u001b[0m \u001b[0m_schema\u001b[0m\u001b[0;34m)\u001b[0m \u001b[0;32mor\u001b[0m \u001b[0;34m(\u001b[0m\u001b[0;34m)\u001b[0m\u001b[0;34m\u001b[0m\u001b[0;34m\u001b[0m\u001b[0m\n\u001b[0;32m--> 328\u001b[0;31m                     \u001b[0;32mfor\u001b[0m \u001b[0merror\u001b[0m \u001b[0;32min\u001b[0m \u001b[0merrors\u001b[0m\u001b[0;34m:\u001b[0m\u001b[0;34m\u001b[0m\u001b[0;34m\u001b[0m\u001b[0m\n\u001b[0m\u001b[1;32m    329\u001b[0m                         \u001b[0;31m# set details if not already set by the called fn\u001b[0m\u001b[0;34m\u001b[0m\u001b[0;34m\u001b[0m\u001b[0;34m\u001b[0m\u001b[0m\n\u001b[1;32m    330\u001b[0m                         error._set(\n",
      "\u001b[0;32m~/opt/anaconda3/envs/airflow/lib/python3.7/site-packages/jsonschema/_validators.py\u001b[0m in \u001b[0;36mproperties\u001b[0;34m(validator, properties, instance, schema)\u001b[0m\n\u001b[1;32m    284\u001b[0m                 \u001b[0msubschema\u001b[0m\u001b[0;34m,\u001b[0m\u001b[0;34m\u001b[0m\u001b[0;34m\u001b[0m\u001b[0m\n\u001b[1;32m    285\u001b[0m                 \u001b[0mpath\u001b[0m\u001b[0;34m=\u001b[0m\u001b[0mproperty\u001b[0m\u001b[0;34m,\u001b[0m\u001b[0;34m\u001b[0m\u001b[0;34m\u001b[0m\u001b[0m\n\u001b[0;32m--> 286\u001b[0;31m                 \u001b[0mschema_path\u001b[0m\u001b[0;34m=\u001b[0m\u001b[0mproperty\u001b[0m\u001b[0;34m,\u001b[0m\u001b[0;34m\u001b[0m\u001b[0;34m\u001b[0m\u001b[0m\n\u001b[0m\u001b[1;32m    287\u001b[0m             ):\n\u001b[1;32m    288\u001b[0m                 \u001b[0;32myield\u001b[0m \u001b[0merror\u001b[0m\u001b[0;34m\u001b[0m\u001b[0;34m\u001b[0m\u001b[0m\n",
      "\u001b[0;32m~/opt/anaconda3/envs/airflow/lib/python3.7/site-packages/jsonschema/validators.py\u001b[0m in \u001b[0;36mdescend\u001b[0;34m(self, instance, schema, path, schema_path)\u001b[0m\n\u001b[1;32m    342\u001b[0m \u001b[0;34m\u001b[0m\u001b[0m\n\u001b[1;32m    343\u001b[0m         \u001b[0;32mdef\u001b[0m \u001b[0mdescend\u001b[0m\u001b[0;34m(\u001b[0m\u001b[0mself\u001b[0m\u001b[0;34m,\u001b[0m \u001b[0minstance\u001b[0m\u001b[0;34m,\u001b[0m \u001b[0mschema\u001b[0m\u001b[0;34m,\u001b[0m \u001b[0mpath\u001b[0m\u001b[0;34m=\u001b[0m\u001b[0;32mNone\u001b[0m\u001b[0;34m,\u001b[0m \u001b[0mschema_path\u001b[0m\u001b[0;34m=\u001b[0m\u001b[0;32mNone\u001b[0m\u001b[0;34m)\u001b[0m\u001b[0;34m:\u001b[0m\u001b[0;34m\u001b[0m\u001b[0;34m\u001b[0m\u001b[0m\n\u001b[0;32m--> 344\u001b[0;31m             \u001b[0;32mfor\u001b[0m \u001b[0merror\u001b[0m \u001b[0;32min\u001b[0m \u001b[0mself\u001b[0m\u001b[0;34m.\u001b[0m\u001b[0miter_errors\u001b[0m\u001b[0;34m(\u001b[0m\u001b[0minstance\u001b[0m\u001b[0;34m,\u001b[0m \u001b[0mschema\u001b[0m\u001b[0;34m)\u001b[0m\u001b[0;34m:\u001b[0m\u001b[0;34m\u001b[0m\u001b[0;34m\u001b[0m\u001b[0m\n\u001b[0m\u001b[1;32m    345\u001b[0m                 \u001b[0;32mif\u001b[0m \u001b[0mpath\u001b[0m \u001b[0;32mis\u001b[0m \u001b[0;32mnot\u001b[0m \u001b[0;32mNone\u001b[0m\u001b[0;34m:\u001b[0m\u001b[0;34m\u001b[0m\u001b[0;34m\u001b[0m\u001b[0m\n\u001b[1;32m    346\u001b[0m                     \u001b[0merror\u001b[0m\u001b[0;34m.\u001b[0m\u001b[0mpath\u001b[0m\u001b[0;34m.\u001b[0m\u001b[0mappendleft\u001b[0m\u001b[0;34m(\u001b[0m\u001b[0mpath\u001b[0m\u001b[0;34m)\u001b[0m\u001b[0;34m\u001b[0m\u001b[0;34m\u001b[0m\u001b[0m\n",
      "\u001b[0;32m~/opt/anaconda3/envs/airflow/lib/python3.7/site-packages/jsonschema/validators.py\u001b[0m in \u001b[0;36miter_errors\u001b[0;34m(self, instance, _schema)\u001b[0m\n\u001b[1;32m    326\u001b[0m \u001b[0;34m\u001b[0m\u001b[0m\n\u001b[1;32m    327\u001b[0m                     \u001b[0merrors\u001b[0m \u001b[0;34m=\u001b[0m \u001b[0mvalidator\u001b[0m\u001b[0;34m(\u001b[0m\u001b[0mself\u001b[0m\u001b[0;34m,\u001b[0m \u001b[0mv\u001b[0m\u001b[0;34m,\u001b[0m \u001b[0minstance\u001b[0m\u001b[0;34m,\u001b[0m \u001b[0m_schema\u001b[0m\u001b[0;34m)\u001b[0m \u001b[0;32mor\u001b[0m \u001b[0;34m(\u001b[0m\u001b[0;34m)\u001b[0m\u001b[0;34m\u001b[0m\u001b[0;34m\u001b[0m\u001b[0m\n\u001b[0;32m--> 328\u001b[0;31m                     \u001b[0;32mfor\u001b[0m \u001b[0merror\u001b[0m \u001b[0;32min\u001b[0m \u001b[0merrors\u001b[0m\u001b[0;34m:\u001b[0m\u001b[0;34m\u001b[0m\u001b[0;34m\u001b[0m\u001b[0m\n\u001b[0m\u001b[1;32m    329\u001b[0m                         \u001b[0;31m# set details if not already set by the called fn\u001b[0m\u001b[0;34m\u001b[0m\u001b[0;34m\u001b[0m\u001b[0;34m\u001b[0m\u001b[0m\n\u001b[1;32m    330\u001b[0m                         error._set(\n",
      "\u001b[0;32m~/opt/anaconda3/envs/airflow/lib/python3.7/site-packages/jsonschema/_validators.py\u001b[0m in \u001b[0;36madditionalProperties\u001b[0;34m(validator, aP, instance, schema)\u001b[0m\n\u001b[1;32m     47\u001b[0m     \u001b[0;32mif\u001b[0m \u001b[0mvalidator\u001b[0m\u001b[0;34m.\u001b[0m\u001b[0mis_type\u001b[0m\u001b[0;34m(\u001b[0m\u001b[0maP\u001b[0m\u001b[0;34m,\u001b[0m \u001b[0;34m\"object\"\u001b[0m\u001b[0;34m)\u001b[0m\u001b[0;34m:\u001b[0m\u001b[0;34m\u001b[0m\u001b[0;34m\u001b[0m\u001b[0m\n\u001b[1;32m     48\u001b[0m         \u001b[0;32mfor\u001b[0m \u001b[0mextra\u001b[0m \u001b[0;32min\u001b[0m \u001b[0mextras\u001b[0m\u001b[0;34m:\u001b[0m\u001b[0;34m\u001b[0m\u001b[0;34m\u001b[0m\u001b[0m\n\u001b[0;32m---> 49\u001b[0;31m             \u001b[0;32mfor\u001b[0m \u001b[0merror\u001b[0m \u001b[0;32min\u001b[0m \u001b[0mvalidator\u001b[0m\u001b[0;34m.\u001b[0m\u001b[0mdescend\u001b[0m\u001b[0;34m(\u001b[0m\u001b[0minstance\u001b[0m\u001b[0;34m[\u001b[0m\u001b[0mextra\u001b[0m\u001b[0;34m]\u001b[0m\u001b[0;34m,\u001b[0m \u001b[0maP\u001b[0m\u001b[0;34m,\u001b[0m \u001b[0mpath\u001b[0m\u001b[0;34m=\u001b[0m\u001b[0mextra\u001b[0m\u001b[0;34m)\u001b[0m\u001b[0;34m:\u001b[0m\u001b[0;34m\u001b[0m\u001b[0;34m\u001b[0m\u001b[0m\n\u001b[0m\u001b[1;32m     50\u001b[0m                 \u001b[0;32myield\u001b[0m \u001b[0merror\u001b[0m\u001b[0;34m\u001b[0m\u001b[0;34m\u001b[0m\u001b[0m\n\u001b[1;32m     51\u001b[0m     \u001b[0;32melif\u001b[0m \u001b[0;32mnot\u001b[0m \u001b[0maP\u001b[0m \u001b[0;32mand\u001b[0m \u001b[0mextras\u001b[0m\u001b[0;34m:\u001b[0m\u001b[0;34m\u001b[0m\u001b[0;34m\u001b[0m\u001b[0m\n",
      "\u001b[0;31mKeyboardInterrupt\u001b[0m: "
     ]
    }
   ],
   "source": [
    "print('EQUIPMENT_CONFIGURATION', \n",
    "      batch.expect_column_values_to_match_json_schema(\"EQUIPMENT_CONFIGURATION\", equip_config_json_schema),\n",
    "      sep='\\n')"
   ]
  },
  {
   "cell_type": "code",
   "execution_count": 139,
   "metadata": {
    "scrolled": true
   },
   "outputs": [
    {
     "name": "stdout",
     "output_type": "stream",
     "text": [
      "DISABLEMENT_ZIP_CODE\n",
      "{'success': True, 'result': {'element_count': 1516258, 'missing_count': 458879, 'missing_percent': 30.263912869709507, 'unexpected_count': 0, 'unexpected_percent': 0.0, 'unexpected_percent_nonmissing': 0.0, 'partial_unexpected_list': []}}\n",
      "TOW_DESTINATION_ZIP_CODE\n",
      "{'success': True, 'result': {'element_count': 1516258, 'missing_count': 947570, 'missing_percent': 62.49398189490179, 'unexpected_count': 0, 'unexpected_percent': 0.0, 'unexpected_percent_nonmissing': 0.0, 'partial_unexpected_list': []}}\n"
     ]
    }
   ],
   "source": [
    "for z in ['DISABLEMENT_ZIP_CODE', 'TOW_DESTINATION_ZIP_CODE']:\n",
    "    print(z, batch.expect_column_values_to_match_regex(z, '^([A-Z]\\d[A-z])|(\\d{5})(-\\d{3})|\\d{4,5}$'), sep='\\n')"
   ]
  },
  {
   "cell_type": "code",
   "execution_count": 140,
   "metadata": {},
   "outputs": [
    {
     "data": {
      "text/plain": [
       "{'success': True,\n",
       " 'result': {'element_count': 1516258,\n",
       "  'missing_count': 0,\n",
       "  'missing_percent': 0.0,\n",
       "  'unexpected_count': 0,\n",
       "  'unexpected_percent': 0.0,\n",
       "  'unexpected_percent_nonmissing': 0.0,\n",
       "  'partial_unexpected_list': [],\n",
       "  'partial_unexpected_index_list': [],\n",
       "  'partial_unexpected_counts': []},\n",
       " 'expectation_config': {'expectation_type': 'expect_multicolumn_values_to_be_unique',\n",
       "  'kwargs': {'column_list': ['CASE_ID', 'TASK_ID'],\n",
       "   'result_format': 'SUMMARY'}},\n",
       " 'exception_info': {'raised_exception': False,\n",
       "  'exception_message': None,\n",
       "  'exception_traceback': None}}"
      ]
     },
     "execution_count": 140,
     "metadata": {},
     "output_type": "execute_result"
    }
   ],
   "source": [
    "batch.expect_multicolumn_values_to_be_unique(column_list=['CASE_ID', 'TASK_ID'], result_format='SUMMARY',\n",
    "                                            catch_exceptions=True, include_config=True)"
   ]
  },
  {
   "cell_type": "code",
   "execution_count": 143,
   "metadata": {},
   "outputs": [
    {
     "data": {
      "text/plain": [
       "{'success': True,\n",
       " 'result': {'element_count': 1516258,\n",
       "  'missing_count': 513144,\n",
       "  'missing_percent': 33.842789287838876,\n",
       "  'unexpected_count': 20,\n",
       "  'unexpected_percent': 0.001319036733854001,\n",
       "  'unexpected_percent_nonmissing': 0.0019937913337865886,\n",
       "  'partial_unexpected_list': [246074618.0,\n",
       "   678691177.0,\n",
       "   853728396.0,\n",
       "   568081068.0,\n",
       "   312945368.0,\n",
       "   145733598.0,\n",
       "   379252333.0,\n",
       "   832810811.0,\n",
       "   379252333.0,\n",
       "   912521626.0,\n",
       "   102106642.0,\n",
       "   678691177.0,\n",
       "   102106642.0,\n",
       "   312945368.0,\n",
       "   145733598.0,\n",
       "   832810811.0,\n",
       "   246074618.0,\n",
       "   853728396.0,\n",
       "   568081068.0,\n",
       "   912521626.0],\n",
       "  'partial_unexpected_index_list': [227,\n",
       "   242,\n",
       "   251,\n",
       "   252,\n",
       "   1955,\n",
       "   1956,\n",
       "   80007,\n",
       "   82087,\n",
       "   85643,\n",
       "   180813,\n",
       "   186856,\n",
       "   345956,\n",
       "   366011,\n",
       "   453176,\n",
       "   453178,\n",
       "   987341,\n",
       "   1083995,\n",
       "   1084023,\n",
       "   1084024,\n",
       "   1260300],\n",
       "  'partial_unexpected_counts': [{'value': 102106642.0, 'count': 2},\n",
       "   {'value': 145733598.0, 'count': 2},\n",
       "   {'value': 246074618.0, 'count': 2},\n",
       "   {'value': 312945368.0, 'count': 2},\n",
       "   {'value': 379252333.0, 'count': 2},\n",
       "   {'value': 568081068.0, 'count': 2},\n",
       "   {'value': 678691177.0, 'count': 2},\n",
       "   {'value': 832810811.0, 'count': 2},\n",
       "   {'value': 853728396.0, 'count': 2},\n",
       "   {'value': 912521626.0, 'count': 2}]},\n",
       " 'exception_info': {'raised_exception': False,\n",
       "  'exception_message': None,\n",
       "  'exception_traceback': None}}"
      ]
     },
     "execution_count": 143,
     "metadata": {},
     "output_type": "execute_result"
    }
   ],
   "source": [
    "batch.expect_column_values_to_be_unique('PO_NUMBER', mostly=0.999, result_format='SUMMARY', catch_exceptions=True)"
   ]
  },
  {
   "cell_type": "code",
   "execution_count": 163,
   "metadata": {},
   "outputs": [
    {
     "data": {
      "text/plain": [
       "{'success': True,\n",
       " 'result': {'element_count': 1516258,\n",
       "  'missing_count': 0,\n",
       "  'missing_percent': 0.0,\n",
       "  'unexpected_count': 405487,\n",
       "  'unexpected_percent': 26.742612405012867,\n",
       "  'unexpected_percent_nonmissing': 26.742612405012867,\n",
       "  'partial_unexpected_list': [['2018-10-08 15:29:39', '2019-12-12 05:00:26'],\n",
       "   ['2018-10-17 05:28:11', '2019-12-21 05:01:33'],\n",
       "   ['2018-10-18 14:30:00', '2019-12-12 05:00:24'],\n",
       "   ['2019-01-10 10:34:14', '2019-12-20 05:02:48'],\n",
       "   ['2019-01-11 15:46:14', '2019-12-17 15:09:54'],\n",
       "   ['2019-01-11 17:40:07', '2019-12-17 15:40:48'],\n",
       "   ['2019-01-11 08:19:45', '2019-12-20 05:02:49'],\n",
       "   ['2018-12-22 17:30:00', '2019-12-12 05:00:22'],\n",
       "   ['2018-12-03 08:16:35', '2019-12-20 05:02:05'],\n",
       "   ['2019-03-01 15:10:50', '2019-12-20 05:03:23'],\n",
       "   ['2019-03-03 18:46:31', '2019-12-17 15:09:55'],\n",
       "   ['2019-03-06 08:03:03', '2019-12-05 17:07:14'],\n",
       "   ['2019-03-07 14:28:08', '2019-12-17 15:09:55'],\n",
       "   ['2019-01-23 08:23:37', '2019-12-16 17:00:31'],\n",
       "   ['2019-01-25 16:40:23', '2019-12-20 05:03:04'],\n",
       "   ['2019-02-19 05:25:27', '2019-12-17 15:09:54'],\n",
       "   ['2019-03-17 05:17:11', '2019-12-03 05:01:37'],\n",
       "   ['2019-03-17 06:35:44', '2019-12-11 05:11:16'],\n",
       "   ['2019-03-18 15:33:32', '2019-12-03 05:01:37'],\n",
       "   ['2019-03-18 19:16:36', '2019-12-17 18:24:55']],\n",
       "  'partial_unexpected_index_list': [0,\n",
       "   1,\n",
       "   2,\n",
       "   3,\n",
       "   4,\n",
       "   5,\n",
       "   6,\n",
       "   7,\n",
       "   8,\n",
       "   9,\n",
       "   10,\n",
       "   11,\n",
       "   12,\n",
       "   13,\n",
       "   14,\n",
       "   15,\n",
       "   16,\n",
       "   17,\n",
       "   18,\n",
       "   19],\n",
       "  'partial_unexpected_counts': [{'value': ['2019-12-04 22:03:10',\n",
       "     '2019-12-04 22:03:12'],\n",
       "    'count': 4},\n",
       "   {'value': ['2019-12-05 17:46:31', '2019-12-05 17:46:32'], 'count': 4},\n",
       "   {'value': ['2019-12-09 18:21:02', '2019-12-09 18:21:03'], 'count': 4},\n",
       "   {'value': ['2019-12-09 19:06:08', '2019-12-09 19:06:09'], 'count': 4},\n",
       "   {'value': ['2019-12-09 21:42:27', '2019-12-09 21:42:28'], 'count': 4},\n",
       "   {'value': ['2019-12-10 15:19:01', '2019-12-10 15:19:02'], 'count': 4},\n",
       "   {'value': ['2019-12-10 19:25:45', '2019-12-10 19:25:46'], 'count': 4},\n",
       "   {'value': ['2019-12-11 17:24:35', '2019-12-11 17:24:37'], 'count': 4},\n",
       "   {'value': ['2019-12-11 19:02:41', '2019-12-11 19:02:42'], 'count': 4},\n",
       "   {'value': ['2019-12-16 21:15:12', '2019-12-16 21:15:13'], 'count': 4},\n",
       "   {'value': ['2019-12-18 14:35:26', '2019-12-18 14:35:27'], 'count': 4},\n",
       "   {'value': ['2019-12-18 16:18:43', '2019-12-18 16:18:44'], 'count': 4},\n",
       "   {'value': ['2019-12-20 21:23:53', '2019-12-20 21:23:54'], 'count': 4},\n",
       "   {'value': ['2019-12-21 18:00:55', '2019-12-21 18:00:56'], 'count': 4},\n",
       "   {'value': ['2019-12-23 16:32:48', '2019-12-23 16:32:49'], 'count': 4},\n",
       "   {'value': ['2019-12-23 18:16:06', '2019-12-23 18:16:07'], 'count': 4},\n",
       "   {'value': ['2019-12-23 20:40:29', '2019-12-23 20:40:30'], 'count': 4},\n",
       "   {'value': ['2019-12-23 21:14:39', '2019-12-23 21:14:41'], 'count': 4},\n",
       "   {'value': ['2019-12-23 21:41:50', '2019-12-23 21:41:51'], 'count': 4},\n",
       "   {'value': ['2019-12-30 17:30:37', '2019-12-30 17:30:39'], 'count': 4}]},\n",
       " 'exception_info': {'raised_exception': False,\n",
       "  'exception_message': None,\n",
       "  'exception_traceback': None}}"
      ]
     },
     "execution_count": 163,
     "metadata": {},
     "output_type": "execute_result"
    }
   ],
   "source": [
    "batch.expect_column_pair_values_A_to_be_greater_than_B('SERVICE_TIME_UTC', \"CREATE_TIME_UTC\", mostly=0.25, or_equal=True,\n",
    "\t                                                             ignore_row_if='either_value_is_missing',\n",
    "\t                                                             result_format='SUMMARY', catch_exceptions=True)"
   ]
  },
  {
   "cell_type": "markdown",
   "metadata": {},
   "source": [
    "### 8. Expecting columns to be certain data type"
   ]
  },
  {
   "cell_type": "code",
   "execution_count": 164,
   "metadata": {},
   "outputs": [
    {
     "data": {
      "text/plain": [
       "CASE_ID                                int64\n",
       "TASK_ID                                 int8\n",
       "PO_NUMBER                            float64\n",
       "TASK_STATUS_CODE                      object\n",
       "POLICY_NUMBER                         object\n",
       "IS_DISPATCH                             bool\n",
       "CALL_REASON_CODE                      object\n",
       "DISABLEMENT_REASON_CODE               object\n",
       "PROBLEM_CODE                          object\n",
       "IS_SCHEDULED_DISPATCH                   bool\n",
       "SERVICE_TYPE_CODE                     object\n",
       "PRIMARY_EQUIPMENT_CODE                object\n",
       "PRIMARY_EQUIPMENT_CLASS               object\n",
       "PRIMARY_EQUIPMENT_TYPE                object\n",
       "PRODUCT_TYPE                          object\n",
       "IS_PER_EVENT                            bool\n",
       "DISABLEMENT_LATITUDE                 float64\n",
       "DISABLEMENT_LONGITUDE                float64\n",
       "DISABLEMENT_ZIP_CODE                  object\n",
       "DISABLEMENT_ADDRESS_1                 object\n",
       "DISABLEMENT_ADDRESS_2                 object\n",
       "DISABLEMENT_CITY                      object\n",
       "DISABLEMENT_STATE_CODE                object\n",
       "IS_DRIVER_WITH_VEHICLE                  bool\n",
       "LOCATION_TYPE_CODE                    object\n",
       "VIN                                   object\n",
       "VEHICLE_MODEL_YEAR                   float64\n",
       "VEHICLE_MAKE                          object\n",
       "VEHICLE_MODEL                         object\n",
       "BILL_GROUP_ID                        float64\n",
       "CLIENT_ID                            float64\n",
       "ESTIMATED_TOW_MILEAGE                float64\n",
       "TOW_DESTINATION_ID                    object\n",
       "TOW_DESTINATION_LATITUDE             float64\n",
       "TOW_DESTINATION_LONGITUDE            float64\n",
       "TOW_DESTINATION_ZIP_CODE              object\n",
       "TOW_DESTINATION_CITY                  object\n",
       "TOW_DESTINATION_STATE_CODE            object\n",
       "TOW_DESTINATION_ADDRESS_1             object\n",
       "TOW_DESTINATION_ADDRESS_2             object\n",
       "TOW_DESTINATION_NAME                  object\n",
       "EQUIPMENT_CONFIGURATION               object\n",
       "EQUIPMENT_COUNT                        int16\n",
       "SERVICE_TIME_EASTERN          datetime64[ns]\n",
       "SERVICE_TIME_UTC              datetime64[ns]\n",
       "SERVICE_TIME_LOCAL            datetime64[ns]\n",
       "CREATE_TIME_EASTERN           datetime64[ns]\n",
       "CREATE_TIME_UTC               datetime64[ns]\n",
       "CREATE_TIME_LOCAL             datetime64[ns]\n",
       "dtype: object"
      ]
     },
     "execution_count": 164,
     "metadata": {},
     "output_type": "execute_result"
    }
   ],
   "source": [
    "rule_df.dtypes"
   ]
  },
  {
   "cell_type": "code",
   "execution_count": 35,
   "metadata": {},
   "outputs": [
    {
     "name": "stdout",
     "output_type": "stream",
     "text": [
      "CASE_ID int64\n",
      "TASK_ID int8\n",
      "PO_NUMBER float64\n",
      "TASK_STATUS_CODE object\n",
      "POLICY_NUMBER object\n",
      "IS_DISPATCH bool\n",
      "CALL_REASON_CODE object\n",
      "DISABLEMENT_REASON_CODE object\n",
      "PROBLEM_CODE object\n",
      "IS_SCHEDULED_DISPATCH bool\n",
      "SERVICE_TYPE_CODE object\n",
      "PRIMARY_EQUIPMENT_CODE object\n",
      "PRIMARY_EQUIPMENT_CLASS object\n",
      "PRIMARY_EQUIPMENT_TYPE object\n",
      "PRODUCT_TYPE object\n",
      "IS_PER_EVENT bool\n",
      "DISABLEMENT_LATITUDE float64\n",
      "DISABLEMENT_LONGITUDE float64\n",
      "DISABLEMENT_ZIP_CODE object\n",
      "DISABLEMENT_ADDRESS_1 object\n",
      "DISABLEMENT_ADDRESS_2 object\n",
      "DISABLEMENT_CITY object\n",
      "DISABLEMENT_STATE_CODE object\n",
      "IS_DRIVER_WITH_VEHICLE bool\n",
      "LOCATION_TYPE_CODE object\n",
      "VIN object\n",
      "VEHICLE_MODEL_YEAR float64\n",
      "VEHICLE_MAKE object\n",
      "VEHICLE_MODEL object\n",
      "BILL_GROUP_ID float64\n",
      "CLIENT_ID float64\n",
      "COVERAGE_STATUS_CODE object\n",
      "COVERAGE_AMOUNT float64\n",
      "COVERAGE_STATUS_DESCRIPTION object\n",
      "COVERED_AMOUNT float64\n",
      "OVERAGE_PAYMENT_METHOD_CODE object\n",
      "OVERAGE_PAYMENT_AMOUNT float64\n",
      "AUTHORIZATION_REASON_CODE object\n",
      "ESTIMATED_TOW_MILEAGE float64\n",
      "TOW_DESTINATION_ID object\n",
      "TOW_DESTINATION_LATITUDE float64\n",
      "TOW_DESTINATION_LONGITUDE float64\n",
      "TOW_DESTINATION_ZIP_CODE object\n",
      "TOW_DESTINATION_CITY object\n",
      "TOW_DESTINATION_STATE_CODE object\n",
      "TOW_DESTINATION_ADDRESS_1 object\n",
      "TOW_DESTINATION_ADDRESS_2 object\n",
      "TOW_DESTINATION_NAME object\n",
      "EQUIPMENT_CONFIGURATION object\n",
      "EQUIPMENT_COUNT int8\n",
      "SERVICE_TIME_EASTERN datetime64[ns]\n",
      "SERVICE_TIME_UTC datetime64[ns]\n",
      "SERVICE_TIME_LOCAL datetime64[ns]\n",
      "CREATE_TIME_EASTERN datetime64[ns]\n",
      "CREATE_TIME_UTC datetime64[ns]\n",
      "CREATE_TIME_LOCAL datetime64[ns]\n"
     ]
    }
   ],
   "source": [
    "for x, y in batch.dtypes.iteritems():\n",
    "    print(x, y)"
   ]
  },
  {
   "cell_type": "code",
   "execution_count": 166,
   "metadata": {},
   "outputs": [],
   "source": [
    "service_specification_data_types = dict(batch.dtypes.iteritems())"
   ]
  },
  {
   "cell_type": "code",
   "execution_count": 167,
   "metadata": {},
   "outputs": [],
   "source": [
    "for key, val in service_specification_data_types.items():\n",
    "    service_specification_data_types[key] = str(val)"
   ]
  },
  {
   "cell_type": "code",
   "execution_count": 168,
   "metadata": {},
   "outputs": [
    {
     "name": "stdout",
     "output_type": "stream",
     "text": [
      "{'CASE_ID': 'int64', 'TASK_ID': 'int8', 'PO_NUMBER': 'float64', 'TASK_STATUS_CODE': 'object', 'POLICY_NUMBER': 'object', 'IS_DISPATCH': 'bool', 'CALL_REASON_CODE': 'object', 'DISABLEMENT_REASON_CODE': 'object', 'PROBLEM_CODE': 'object', 'IS_SCHEDULED_DISPATCH': 'bool', 'SERVICE_TYPE_CODE': 'object', 'PRIMARY_EQUIPMENT_CODE': 'object', 'PRIMARY_EQUIPMENT_CLASS': 'object', 'PRIMARY_EQUIPMENT_TYPE': 'object', 'PRODUCT_TYPE': 'object', 'IS_PER_EVENT': 'bool', 'DISABLEMENT_LATITUDE': 'float64', 'DISABLEMENT_LONGITUDE': 'float64', 'DISABLEMENT_ZIP_CODE': 'object', 'DISABLEMENT_ADDRESS_1': 'object', 'DISABLEMENT_ADDRESS_2': 'object', 'DISABLEMENT_CITY': 'object', 'DISABLEMENT_STATE_CODE': 'object', 'IS_DRIVER_WITH_VEHICLE': 'bool', 'LOCATION_TYPE_CODE': 'object', 'VIN': 'object', 'VEHICLE_MODEL_YEAR': 'float64', 'VEHICLE_MAKE': 'object', 'VEHICLE_MODEL': 'object', 'BILL_GROUP_ID': 'float64', 'CLIENT_ID': 'float64', 'ESTIMATED_TOW_MILEAGE': 'float64', 'TOW_DESTINATION_ID': 'object', 'TOW_DESTINATION_LATITUDE': 'float64', 'TOW_DESTINATION_LONGITUDE': 'float64', 'TOW_DESTINATION_ZIP_CODE': 'object', 'TOW_DESTINATION_CITY': 'object', 'TOW_DESTINATION_STATE_CODE': 'object', 'TOW_DESTINATION_ADDRESS_1': 'object', 'TOW_DESTINATION_ADDRESS_2': 'object', 'TOW_DESTINATION_NAME': 'object', 'EQUIPMENT_CONFIGURATION': 'object', 'EQUIPMENT_COUNT': 'int16', 'SERVICE_TIME_EASTERN': 'datetime64[ns]', 'SERVICE_TIME_UTC': 'datetime64[ns]', 'SERVICE_TIME_LOCAL': 'datetime64[ns]', 'CREATE_TIME_EASTERN': 'datetime64[ns]', 'CREATE_TIME_UTC': 'datetime64[ns]', 'CREATE_TIME_LOCAL': 'datetime64[ns]'}\n"
     ]
    }
   ],
   "source": [
    "print(service_specification_data_types)"
   ]
  },
  {
   "cell_type": "code",
   "execution_count": 169,
   "metadata": {},
   "outputs": [
    {
     "name": "stdout",
     "output_type": "stream",
     "text": [
      "{'success': True, 'result': {'observed_value': 'int64'}, 'exception_info': {'raised_exception': False, 'exception_message': None, 'exception_traceback': None}}\n",
      "{'success': True, 'result': {'observed_value': 'int8'}, 'exception_info': {'raised_exception': False, 'exception_message': None, 'exception_traceback': None}}\n",
      "{'success': True, 'result': {'observed_value': 'float64'}, 'exception_info': {'raised_exception': False, 'exception_message': None, 'exception_traceback': None}}\n",
      "{'success': True, 'result': {'observed_value': 'object_'}, 'exception_info': {'raised_exception': False, 'exception_message': None, 'exception_traceback': None}}\n",
      "{'success': True, 'result': {'observed_value': 'object_'}, 'exception_info': {'raised_exception': False, 'exception_message': None, 'exception_traceback': None}}\n",
      "{'success': True, 'result': {'observed_value': 'bool_'}, 'exception_info': {'raised_exception': False, 'exception_message': None, 'exception_traceback': None}}\n",
      "{'success': True, 'result': {'observed_value': 'object_'}, 'exception_info': {'raised_exception': False, 'exception_message': None, 'exception_traceback': None}}\n",
      "{'success': True, 'result': {'observed_value': 'object_'}, 'exception_info': {'raised_exception': False, 'exception_message': None, 'exception_traceback': None}}\n",
      "{'success': True, 'result': {'observed_value': 'object_'}, 'exception_info': {'raised_exception': False, 'exception_message': None, 'exception_traceback': None}}\n",
      "{'success': True, 'result': {'observed_value': 'bool_'}, 'exception_info': {'raised_exception': False, 'exception_message': None, 'exception_traceback': None}}\n",
      "{'success': True, 'result': {'observed_value': 'object_'}, 'exception_info': {'raised_exception': False, 'exception_message': None, 'exception_traceback': None}}\n",
      "{'success': True, 'result': {'observed_value': 'object_'}, 'exception_info': {'raised_exception': False, 'exception_message': None, 'exception_traceback': None}}\n",
      "{'success': True, 'result': {'observed_value': 'object_'}, 'exception_info': {'raised_exception': False, 'exception_message': None, 'exception_traceback': None}}\n",
      "{'success': True, 'result': {'observed_value': 'object_'}, 'exception_info': {'raised_exception': False, 'exception_message': None, 'exception_traceback': None}}\n",
      "{'success': True, 'result': {'observed_value': 'object_'}, 'exception_info': {'raised_exception': False, 'exception_message': None, 'exception_traceback': None}}\n",
      "{'success': True, 'result': {'observed_value': 'bool_'}, 'exception_info': {'raised_exception': False, 'exception_message': None, 'exception_traceback': None}}\n",
      "{'success': True, 'result': {'observed_value': 'float64'}, 'exception_info': {'raised_exception': False, 'exception_message': None, 'exception_traceback': None}}\n",
      "{'success': True, 'result': {'observed_value': 'float64'}, 'exception_info': {'raised_exception': False, 'exception_message': None, 'exception_traceback': None}}\n",
      "{'success': True, 'result': {'observed_value': 'object_'}, 'exception_info': {'raised_exception': False, 'exception_message': None, 'exception_traceback': None}}\n",
      "{'success': True, 'result': {'observed_value': 'object_'}, 'exception_info': {'raised_exception': False, 'exception_message': None, 'exception_traceback': None}}\n",
      "{'success': True, 'result': {'observed_value': 'object_'}, 'exception_info': {'raised_exception': False, 'exception_message': None, 'exception_traceback': None}}\n",
      "{'success': True, 'result': {'observed_value': 'object_'}, 'exception_info': {'raised_exception': False, 'exception_message': None, 'exception_traceback': None}}\n",
      "{'success': True, 'result': {'observed_value': 'object_'}, 'exception_info': {'raised_exception': False, 'exception_message': None, 'exception_traceback': None}}\n",
      "{'success': True, 'result': {'observed_value': 'bool_'}, 'exception_info': {'raised_exception': False, 'exception_message': None, 'exception_traceback': None}}\n",
      "{'success': True, 'result': {'observed_value': 'object_'}, 'exception_info': {'raised_exception': False, 'exception_message': None, 'exception_traceback': None}}\n",
      "{'success': True, 'result': {'observed_value': 'object_'}, 'exception_info': {'raised_exception': False, 'exception_message': None, 'exception_traceback': None}}\n",
      "{'success': True, 'result': {'observed_value': 'float64'}, 'exception_info': {'raised_exception': False, 'exception_message': None, 'exception_traceback': None}}\n",
      "{'success': True, 'result': {'observed_value': 'object_'}, 'exception_info': {'raised_exception': False, 'exception_message': None, 'exception_traceback': None}}\n",
      "{'success': True, 'result': {'observed_value': 'object_'}, 'exception_info': {'raised_exception': False, 'exception_message': None, 'exception_traceback': None}}\n",
      "{'success': True, 'result': {'observed_value': 'float64'}, 'exception_info': {'raised_exception': False, 'exception_message': None, 'exception_traceback': None}}\n",
      "{'success': True, 'result': {'observed_value': 'float64'}, 'exception_info': {'raised_exception': False, 'exception_message': None, 'exception_traceback': None}}\n",
      "{'success': True, 'result': {'observed_value': 'float64'}, 'exception_info': {'raised_exception': False, 'exception_message': None, 'exception_traceback': None}}\n",
      "{'success': True, 'result': {'observed_value': 'object_'}, 'exception_info': {'raised_exception': False, 'exception_message': None, 'exception_traceback': None}}\n",
      "{'success': True, 'result': {'observed_value': 'float64'}, 'exception_info': {'raised_exception': False, 'exception_message': None, 'exception_traceback': None}}\n",
      "{'success': True, 'result': {'observed_value': 'float64'}, 'exception_info': {'raised_exception': False, 'exception_message': None, 'exception_traceback': None}}\n",
      "{'success': True, 'result': {'observed_value': 'object_'}, 'exception_info': {'raised_exception': False, 'exception_message': None, 'exception_traceback': None}}\n",
      "{'success': True, 'result': {'observed_value': 'object_'}, 'exception_info': {'raised_exception': False, 'exception_message': None, 'exception_traceback': None}}\n",
      "{'success': True, 'result': {'observed_value': 'object_'}, 'exception_info': {'raised_exception': False, 'exception_message': None, 'exception_traceback': None}}\n",
      "{'success': True, 'result': {'observed_value': 'object_'}, 'exception_info': {'raised_exception': False, 'exception_message': None, 'exception_traceback': None}}\n",
      "{'success': True, 'result': {'observed_value': 'object_'}, 'exception_info': {'raised_exception': False, 'exception_message': None, 'exception_traceback': None}}\n",
      "{'success': True, 'result': {'observed_value': 'object_'}, 'exception_info': {'raised_exception': False, 'exception_message': None, 'exception_traceback': None}}\n",
      "{'success': True, 'result': {'observed_value': 'object_'}, 'exception_info': {'raised_exception': False, 'exception_message': None, 'exception_traceback': None}}\n",
      "{'success': True, 'result': {'observed_value': 'int16'}, 'exception_info': {'raised_exception': False, 'exception_message': None, 'exception_traceback': None}}\n",
      "{'success': True, 'result': {'observed_value': 'datetime64'}, 'exception_info': {'raised_exception': False, 'exception_message': None, 'exception_traceback': None}}\n",
      "{'success': True, 'result': {'observed_value': 'datetime64'}, 'exception_info': {'raised_exception': False, 'exception_message': None, 'exception_traceback': None}}\n",
      "{'success': True, 'result': {'observed_value': 'datetime64'}, 'exception_info': {'raised_exception': False, 'exception_message': None, 'exception_traceback': None}}\n",
      "{'success': True, 'result': {'observed_value': 'datetime64'}, 'exception_info': {'raised_exception': False, 'exception_message': None, 'exception_traceback': None}}\n",
      "{'success': True, 'result': {'observed_value': 'datetime64'}, 'exception_info': {'raised_exception': False, 'exception_message': None, 'exception_traceback': None}}\n",
      "{'success': True, 'result': {'observed_value': 'datetime64'}, 'exception_info': {'raised_exception': False, 'exception_message': None, 'exception_traceback': None}}\n"
     ]
    }
   ],
   "source": [
    "for col, typ in service_specification_data_types.items():\n",
    "    print(batch.expect_column_values_to_be_of_type(col, typ, result_format='SUMMARY', catch_exceptions=True))"
   ]
  },
  {
   "cell_type": "markdown",
   "metadata": {},
   "source": [
    "### Review the expectations\n",
    "\n",
    "Expectations that were true on this data batch were added. To view all the expectations you added so far about this data asset, do:"
   ]
  },
  {
   "cell_type": "code",
   "execution_count": 131,
   "metadata": {
    "scrolled": true
   },
   "outputs": [
    {
     "name": "stdout",
     "output_type": "stream",
     "text": [
      "2020-02-24T12:38:40-0500 - INFO - \t128 expectation(s) included in expectation_suite. Omitting 3 expectation(s) that failed when last run; set discard_failed_expectations=False to include them. result_format settings filtered.\n"
     ]
    },
    {
     "data": {
      "text/plain": [
       "{'data_asset_name': 'agero_dsa_pandas/default/network_claims',\n",
       " 'expectation_suite_name': 'warnings_2019Q4',\n",
       " 'meta': {'great_expectations.__version__': '0.8.8'},\n",
       " 'expectations': [{'expectation_type': 'expect_column_to_exist',\n",
       "   'kwargs': {'column': 'ADDCHARGE_AMOUNT'}},\n",
       "  {'expectation_type': 'expect_column_to_exist',\n",
       "   'kwargs': {'column': 'ADDCHARGE_COUNT'}},\n",
       "  {'expectation_type': 'expect_column_to_exist',\n",
       "   'kwargs': {'column': 'ADDCHARGE_DETAILS'}},\n",
       "  {'expectation_type': 'expect_column_to_exist',\n",
       "   'kwargs': {'column': 'ADDPAY_APPROVED_DATE_EASTERN'}},\n",
       "  {'expectation_type': 'expect_column_to_exist',\n",
       "   'kwargs': {'column': 'ADDPAY_APPROVED_DATE_UTC'}},\n",
       "  {'expectation_type': 'expect_column_to_exist',\n",
       "   'kwargs': {'column': 'ADDPAY_APPROVED_PAYMENT'}},\n",
       "  {'expectation_type': 'expect_column_to_exist',\n",
       "   'kwargs': {'column': 'ADDPAY_COUNT'}},\n",
       "  {'expectation_type': 'expect_column_to_exist',\n",
       "   'kwargs': {'column': 'ADDPAY_DETAILS'}},\n",
       "  {'expectation_type': 'expect_column_to_exist',\n",
       "   'kwargs': {'column': 'ADDPAY_PAYMENT_AMOUNT'}},\n",
       "  {'expectation_type': 'expect_column_to_exist',\n",
       "   'kwargs': {'column': 'ADDPAY_SUBMITTED_DATE_EASTERN'}},\n",
       "  {'expectation_type': 'expect_column_to_exist',\n",
       "   'kwargs': {'column': 'ADDPAY_SUBMITTED_DATE_UTC'}},\n",
       "  {'expectation_type': 'expect_column_to_exist',\n",
       "   'kwargs': {'column': 'BASE_TOTAL_FROM_RATES'}},\n",
       "  {'expectation_type': 'expect_column_to_exist',\n",
       "   'kwargs': {'column': 'CASE_ID'}},\n",
       "  {'expectation_type': 'expect_column_to_exist',\n",
       "   'kwargs': {'column': 'CLAIM_ID'}},\n",
       "  {'expectation_type': 'expect_column_to_exist',\n",
       "   'kwargs': {'column': 'CLAIM_PO_NUMBER_ENTERED'}},\n",
       "  {'expectation_type': 'expect_column_to_exist',\n",
       "   'kwargs': {'column': 'COMPLETE_APPROVED_PAYMENT'}},\n",
       "  {'expectation_type': 'expect_column_to_exist',\n",
       "   'kwargs': {'column': 'IS_CLAIM_APPROVED'}},\n",
       "  {'expectation_type': 'expect_column_to_exist',\n",
       "   'kwargs': {'column': 'IS_VCC'}},\n",
       "  {'expectation_type': 'expect_column_to_exist',\n",
       "   'kwargs': {'column': 'MODIFIED_DATE_EASTERN'}},\n",
       "  {'expectation_type': 'expect_column_to_exist',\n",
       "   'kwargs': {'column': 'MODIFIED_DATE_UTC'}},\n",
       "  {'expectation_type': 'expect_column_to_exist',\n",
       "   'kwargs': {'column': 'ORIGINAL_CLAIM_APPROVED_DATE_EASTERN'}},\n",
       "  {'expectation_type': 'expect_column_to_exist',\n",
       "   'kwargs': {'column': 'ORIGINAL_CLAIM_APPROVED_DATE_UTC'}},\n",
       "  {'expectation_type': 'expect_column_to_exist',\n",
       "   'kwargs': {'column': 'ORIGINAL_CLAIM_APPROVED_PAYMENT'}},\n",
       "  {'expectation_type': 'expect_column_to_exist',\n",
       "   'kwargs': {'column': 'ORIGINAL_CLAIM_PAYMENT_AMOUNT'}},\n",
       "  {'expectation_type': 'expect_column_to_exist',\n",
       "   'kwargs': {'column': 'ORIGINAL_CLAIM_STATUS_CODE'}},\n",
       "  {'expectation_type': 'expect_column_to_exist',\n",
       "   'kwargs': {'column': 'ORIGINAL_CLAIM_SUBMITTED_DATE_EASTERN'}},\n",
       "  {'expectation_type': 'expect_column_to_exist',\n",
       "   'kwargs': {'column': 'ORIGINAL_CLAIM_SUBMITTED_DATE_UTC'}},\n",
       "  {'expectation_type': 'expect_column_to_exist',\n",
       "   'kwargs': {'column': 'ORIGINAL_CLAIM_TYPE_CODE'}},\n",
       "  {'expectation_type': 'expect_column_to_exist',\n",
       "   'kwargs': {'column': 'SERVICE_DATE_EASTERN'}},\n",
       "  {'expectation_type': 'expect_column_to_exist',\n",
       "   'kwargs': {'column': 'SERVICE_DATE_UTC'}},\n",
       "  {'expectation_type': 'expect_column_to_exist',\n",
       "   'kwargs': {'column': 'SERVICE_ID'}},\n",
       "  {'expectation_type': 'expect_column_to_exist',\n",
       "   'kwargs': {'column': 'SUBMITTED_CLAIM_AMOUNT'}},\n",
       "  {'expectation_type': 'expect_column_to_exist',\n",
       "   'kwargs': {'column': 'SUBMITTED_ENROUTE_MILES'}},\n",
       "  {'expectation_type': 'expect_column_to_exist',\n",
       "   'kwargs': {'column': 'SUBMITTED_LABOR_HOURS'}},\n",
       "  {'expectation_type': 'expect_column_to_exist',\n",
       "   'kwargs': {'column': 'SUBMITTED_TOW_MILES'}},\n",
       "  {'expectation_type': 'expect_column_to_exist',\n",
       "   'kwargs': {'column': 'TASK_ID'}},\n",
       "  {'expectation_type': 'expect_column_to_exist',\n",
       "   'kwargs': {'column': 'VENDOR_ADDRESS_ID'}},\n",
       "  {'expectation_type': 'expect_column_to_exist',\n",
       "   'kwargs': {'column': 'VENDOR_ID'}},\n",
       "  {'expectation_type': 'expect_column_to_exist',\n",
       "   'kwargs': {'column': 'WAS_AUDITED'}},\n",
       "  {'expectation_type': 'expect_table_column_count_to_equal',\n",
       "   'kwargs': {'value': 39}},\n",
       "  {'expectation_type': 'expect_column_values_to_not_be_null',\n",
       "   'kwargs': {'column': 'CASE_ID'}},\n",
       "  {'expectation_type': 'expect_column_values_to_not_be_null',\n",
       "   'kwargs': {'column': 'TASK_ID'}},\n",
       "  {'expectation_type': 'expect_column_values_to_not_be_null',\n",
       "   'kwargs': {'column': 'VENDOR_ID'}},\n",
       "  {'expectation_type': 'expect_column_values_to_not_be_null',\n",
       "   'kwargs': {'column': 'CLAIM_ID'}},\n",
       "  {'expectation_type': 'expect_column_values_to_not_be_null',\n",
       "   'kwargs': {'column': 'ORIGINAL_CLAIM_PAYMENT_AMOUNT'}},\n",
       "  {'expectation_type': 'expect_column_values_to_not_be_null',\n",
       "   'kwargs': {'column': 'ORIGINAL_CLAIM_STATUS_CODE'}},\n",
       "  {'expectation_type': 'expect_column_values_to_not_be_null',\n",
       "   'kwargs': {'column': 'ORIGINAL_CLAIM_TYPE_CODE'}},\n",
       "  {'expectation_type': 'expect_column_values_to_not_be_null',\n",
       "   'kwargs': {'column': 'SUBMITTED_CLAIM_AMOUNT'}},\n",
       "  {'expectation_type': 'expect_column_values_to_not_be_null',\n",
       "   'kwargs': {'column': 'SERVICE_ID'}},\n",
       "  {'expectation_type': 'expect_column_values_to_not_be_null',\n",
       "   'kwargs': {'column': 'WAS_AUDITED'}},\n",
       "  {'expectation_type': 'expect_column_values_to_not_be_null',\n",
       "   'kwargs': {'column': 'IS_CLAIM_APPROVED'}},\n",
       "  {'expectation_type': 'expect_column_values_to_not_be_null',\n",
       "   'kwargs': {'column': 'ORIGINAL_CLAIM_APPROVED_PAYMENT'}},\n",
       "  {'expectation_type': 'expect_column_values_to_not_be_null',\n",
       "   'kwargs': {'column': 'ADDCHARGE_COUNT'}},\n",
       "  {'expectation_type': 'expect_column_values_to_not_be_null',\n",
       "   'kwargs': {'column': 'COMPLETE_APPROVED_PAYMENT'}},\n",
       "  {'expectation_type': 'expect_column_values_to_not_be_null',\n",
       "   'kwargs': {'column': 'IS_VCC'}},\n",
       "  {'expectation_type': 'expect_column_values_to_not_be_null',\n",
       "   'kwargs': {'column': 'SERVICE_DATE_EASTERN'}},\n",
       "  {'expectation_type': 'expect_column_values_to_not_be_null',\n",
       "   'kwargs': {'column': 'SERVICE_DATE_UTC'}},\n",
       "  {'expectation_type': 'expect_column_values_to_not_be_null',\n",
       "   'kwargs': {'column': 'MODIFIED_DATE_EASTERN'}},\n",
       "  {'expectation_type': 'expect_column_values_to_not_be_null',\n",
       "   'kwargs': {'column': 'MODIFIED_DATE_UTC'}},\n",
       "  {'expectation_type': 'expect_column_values_to_not_be_null',\n",
       "   'kwargs': {'column': 'VENDOR_ADDRESS_ID', 'mostly': 0.995}},\n",
       "  {'expectation_type': 'expect_column_values_to_not_be_null',\n",
       "   'kwargs': {'column': 'CLAIM_PO_NUMBER_ENTERED', 'mostly': 0.998}},\n",
       "  {'expectation_type': 'expect_column_values_to_not_be_null',\n",
       "   'kwargs': {'column': 'SUBMITTED_TOW_MILES', 'mostly': 0.977}},\n",
       "  {'expectation_type': 'expect_column_values_to_not_be_null',\n",
       "   'kwargs': {'column': 'SUBMITTED_ENROUTE_MILES', 'mostly': 0.993}},\n",
       "  {'expectation_type': 'expect_column_values_to_not_be_null',\n",
       "   'kwargs': {'column': 'SUBMITTED_LABOR_HOURS', 'mostly': 0.937}},\n",
       "  {'expectation_type': 'expect_column_values_to_not_be_null',\n",
       "   'kwargs': {'column': 'ADDCHARGE_AMOUNT', 'mostly': 0.194}},\n",
       "  {'expectation_type': 'expect_column_values_to_not_be_null',\n",
       "   'kwargs': {'column': 'ADDCHARGE_DETAILS', 'mostly': 0.194}},\n",
       "  {'expectation_type': 'expect_column_values_to_not_be_null',\n",
       "   'kwargs': {'column': 'BASE_TOTAL_FROM_RATES', 'mostly': 0.651}},\n",
       "  {'expectation_type': 'expect_column_values_to_not_be_null',\n",
       "   'kwargs': {'column': 'ADDPAY_DETAILS', 'mostly': 0.037}},\n",
       "  {'expectation_type': 'expect_column_values_to_not_be_null',\n",
       "   'kwargs': {'column': 'ADDPAY_COUNT', 'mostly': 0.037}},\n",
       "  {'expectation_type': 'expect_column_values_to_not_be_null',\n",
       "   'kwargs': {'column': 'ADDPAY_PAYMENT_AMOUNT', 'mostly': 0.037}},\n",
       "  {'expectation_type': 'expect_column_values_to_not_be_null',\n",
       "   'kwargs': {'column': 'ADDPAY_APPROVED_PAYMENT', 'mostly': 0.037}},\n",
       "  {'expectation_type': 'expect_column_values_to_not_be_null',\n",
       "   'kwargs': {'column': 'ORIGINAL_CLAIM_APPROVED_DATE_EASTERN',\n",
       "    'mostly': 0.976}},\n",
       "  {'expectation_type': 'expect_column_values_to_not_be_null',\n",
       "   'kwargs': {'column': 'ORIGINAL_CLAIM_APPROVED_DATE_UTC', 'mostly': 0.976}},\n",
       "  {'expectation_type': 'expect_column_values_to_not_be_null',\n",
       "   'kwargs': {'column': 'ORIGINAL_CLAIM_SUBMITTED_DATE_EASTERN',\n",
       "    'mostly': 0.998}},\n",
       "  {'expectation_type': 'expect_column_values_to_not_be_null',\n",
       "   'kwargs': {'column': 'ORIGINAL_CLAIM_SUBMITTED_DATE_UTC', 'mostly': 0.998}},\n",
       "  {'expectation_type': 'expect_column_values_to_not_be_null',\n",
       "   'kwargs': {'column': 'ADDPAY_APPROVED_DATE_EASTERN', 'mostly': 0.035}},\n",
       "  {'expectation_type': 'expect_column_values_to_not_be_null',\n",
       "   'kwargs': {'column': 'ADDPAY_APPROVED_DATE_UTC', 'mostly': 0.035}},\n",
       "  {'expectation_type': 'expect_column_values_to_not_be_null',\n",
       "   'kwargs': {'column': 'ADDPAY_SUBMITTED_DATE_EASTERN', 'mostly': 0.037}},\n",
       "  {'expectation_type': 'expect_column_values_to_not_be_null',\n",
       "   'kwargs': {'column': 'ADDPAY_SUBMITTED_DATE_UTC', 'mostly': 0.037}},\n",
       "  {'expectation_type': 'expect_column_values_to_be_in_set',\n",
       "   'kwargs': {'column': 'ORIGINAL_CLAIM_STATUS_CODE',\n",
       "    'value_set': ['AP',\n",
       "     'DP',\n",
       "     'FC',\n",
       "     'FP',\n",
       "     'HD',\n",
       "     'PC',\n",
       "     'PD',\n",
       "     'PJ',\n",
       "     'SP',\n",
       "     'VD']}},\n",
       "  {'expectation_type': 'expect_column_values_to_be_in_set',\n",
       "   'kwargs': {'column': 'ORIGINAL_CLAIM_TYPE_CODE',\n",
       "    'value_set': ['OWN', 'VND']}},\n",
       "  {'expectation_type': 'expect_column_values_to_be_in_set',\n",
       "   'kwargs': {'column': 'SERVICE_ID',\n",
       "    'value_set': ['GOA',\n",
       "     'LOCK',\n",
       "     'Lock',\n",
       "     'NA',\n",
       "     'REPO',\n",
       "     'ROAD',\n",
       "     'Road',\n",
       "     'TOW',\n",
       "     'Tow',\n",
       "     'null',\n",
       "     'tow']}},\n",
       "  {'expectation_type': 'expect_column_values_to_be_json_parseable',\n",
       "   'kwargs': {'column': 'ADDCHARGE_DETAILS', 'mostly': 0.98}},\n",
       "  {'expectation_type': 'expect_column_values_to_be_json_parseable',\n",
       "   'kwargs': {'column': 'ADDPAY_DETAILS', 'mostly': 0.98}},\n",
       "  {'expectation_type': 'expect_column_values_to_match_json_schema',\n",
       "   'kwargs': {'column': 'ADDPAY_DETAILS',\n",
       "    'json_schema': {'definitions': {},\n",
       "     '$schema': 'http://json-schema.org/draft-07/schema#',\n",
       "     '$id': 'http://example.com/root.json',\n",
       "     'type': ['array', 'null'],\n",
       "     'title': 'The Root Schema',\n",
       "     'items': {'$id': '#/items',\n",
       "      'type': ['object', 'null'],\n",
       "      'title': 'The Items Schema',\n",
       "      'required': ['addpay_approved_date',\n",
       "       'addpay_approved_payment_amount',\n",
       "       'addpay_claim_id',\n",
       "       'addpay_is_approved',\n",
       "       'addpay_payment_amount',\n",
       "       'addpay_submitted_date',\n",
       "       'addpay_task_id',\n",
       "       'addpay_vendor_id',\n",
       "       'original_claim_amount_paid',\n",
       "       'original_claim_amount_requested',\n",
       "       'original_claim_id',\n",
       "       'original_claim_vendor_id',\n",
       "       'service_date'],\n",
       "      'properties': {'addpay_approved_date': {'$id': '#/items/properties/addpay_approved_date',\n",
       "        'type': ['string', 'null'],\n",
       "        'format': 'date-time',\n",
       "        'title': 'The Addpay_approved_date Schema',\n",
       "        'default': '',\n",
       "        'examples': ['2019-02-20T04:02:00'],\n",
       "        'pattern': '^(.*)$'},\n",
       "       'addpay_approved_payment_amount': {'$id': '#/items/properties/addpay_approved_payment_amount',\n",
       "        'type': ['number', 'null'],\n",
       "        'title': 'The Addpay_approved_payment_amount Schema',\n",
       "        'default': 0,\n",
       "        'examples': [27]},\n",
       "       'addpay_claim_id': {'$id': '#/items/properties/addpay_claim_id',\n",
       "        'type': ['number', 'null'],\n",
       "        'title': 'The Addpay_claim_id Schema',\n",
       "        'default': 0,\n",
       "        'examples': [88551584]},\n",
       "       'addpay_is_approved': {'$id': '#/items/properties/addpay_is_approved',\n",
       "        'type': ['boolean', 'null'],\n",
       "        'title': 'The Addpay_is_approved Schema',\n",
       "        'default': False,\n",
       "        'examples': [True]},\n",
       "       'addpay_payment_amount': {'$id': '#/items/properties/addpay_payment_amount',\n",
       "        'type': ['number', 'null'],\n",
       "        'title': 'The Addpay_payment_amount Schema',\n",
       "        'default': 0,\n",
       "        'examples': [27]},\n",
       "       'addpay_submitted_date': {'$id': '#/items/properties/addpay_submitted_date',\n",
       "        'type': ['string', 'null'],\n",
       "        'format': 'date-time',\n",
       "        'title': 'The Addpay_submitted_date Schema',\n",
       "        'default': '',\n",
       "        'examples': ['2019-02-19T00:00:00'],\n",
       "        'pattern': '^(.*)$'},\n",
       "       'addpay_task_id': {'$id': '#/items/properties/addpay_task_id',\n",
       "        'type': ['number', 'null'],\n",
       "        'title': 'The Addpay_task_id Schema',\n",
       "        'default': 0,\n",
       "        'examples': [2]},\n",
       "       'addpay_vendor_id': {'$id': '#/items/properties/addpay_vendor_id',\n",
       "        'type': ['string', 'null'],\n",
       "        'title': 'The Addpay_vendor_id Schema',\n",
       "        'default': '',\n",
       "        'examples': ['133573'],\n",
       "        'pattern': '^(.*)$'},\n",
       "       'original_claim_amount_paid': {'$id': '#/items/properties/original_claim_amount_paid',\n",
       "        'type': ['number', 'null'],\n",
       "        'title': 'The Original_claim_amount_paid Schema',\n",
       "        'default': 0.0,\n",
       "        'examples': [57.95]},\n",
       "       'original_claim_amount_requested': {'$id': '#/items/properties/original_claim_amount_requested',\n",
       "        'type': ['number', 'null'],\n",
       "        'title': 'The Original_claim_amount_requested Schema',\n",
       "        'default': 0,\n",
       "        'examples': [59]},\n",
       "       'original_claim_id': {'$id': '#/items/properties/original_claim_id',\n",
       "        'type': ['number', 'null'],\n",
       "        'title': 'The Original_claim_id Schema',\n",
       "        'default': 0,\n",
       "        'examples': [195082625]},\n",
       "       'original_claim_vendor_id': {'$id': '#/items/properties/original_claim_vendor_id',\n",
       "        'type': ['string', 'null'],\n",
       "        'title': 'The Original_claim_vendor_id Schema',\n",
       "        'default': '',\n",
       "        'examples': ['133573'],\n",
       "        'pattern': '^(.*)$'},\n",
       "       'service_date': {'$id': '#/items/properties/service_date',\n",
       "        'type': ['string', 'null'],\n",
       "        'format': 'date-time',\n",
       "        'title': 'The Service_date Schema',\n",
       "        'default': '',\n",
       "        'examples': ['2019-02-14T11:50:21'],\n",
       "        'pattern': '^(.*)$'}}}},\n",
       "    'mostly': 0.92}},\n",
       "  {'expectation_type': 'expect_column_values_to_match_json_schema',\n",
       "   'kwargs': {'column': 'ADDCHARGE_DETAILS',\n",
       "    'json_schema': {'definitions': {},\n",
       "     '$schema': 'http://json-schema.org/draft-07/schema#',\n",
       "     '$id': 'http://example.com/root.json',\n",
       "     'type': ['array', 'null'],\n",
       "     'title': 'The Root Schema',\n",
       "     'items': {'$id': '#/items',\n",
       "      'type': ['object', 'null'],\n",
       "      'title': 'The Items Schema',\n",
       "      'properties': {'addcharge_amount': {'$id': '#/items/properties/addcharge_amount',\n",
       "        'type': ['number', 'null'],\n",
       "        'title': 'The Addcharge_amount Schema'},\n",
       "       'addcharge_type': {'$id': '#/items/properties/addcharge_type',\n",
       "        'type': ['string', 'null'],\n",
       "        'title': 'The Addcharge_type Schema'}},\n",
       "      'additionalProperties': {'type': 'string'}}},\n",
       "    'mostly': 0.8}},\n",
       "  {'expectation_type': 'expect_multicolumn_values_to_be_unique',\n",
       "   'kwargs': {'column_list': ['CASE_ID', 'TASK_ID', 'VENDOR_ID']}},\n",
       "  {'expectation_type': 'expect_column_values_to_be_unique',\n",
       "   'kwargs': {'column': 'CLAIM_ID'}},\n",
       "  {'expectation_type': 'expect_column_pair_values_A_to_be_greater_than_B',\n",
       "   'kwargs': {'column_A': 'MODIFIED_DATE_UTC',\n",
       "    'column_B': 'ADDPAY_APPROVED_DATE_UTC',\n",
       "    'or_equal': True,\n",
       "    'ignore_row_if': 'either_value_is_missing'}},\n",
       "  {'expectation_type': 'expect_column_values_to_be_of_type',\n",
       "   'kwargs': {'column': 'CASE_ID', 'type_': 'int64'}},\n",
       "  {'expectation_type': 'expect_column_values_to_be_of_type',\n",
       "   'kwargs': {'column': 'TASK_ID', 'type_': 'int8'}},\n",
       "  {'expectation_type': 'expect_column_values_to_be_of_type',\n",
       "   'kwargs': {'column': 'VENDOR_ID', 'type_': 'object'}},\n",
       "  {'expectation_type': 'expect_column_values_to_be_of_type',\n",
       "   'kwargs': {'column': 'CLAIM_ID', 'type_': 'int32'}},\n",
       "  {'expectation_type': 'expect_column_values_to_be_of_type',\n",
       "   'kwargs': {'column': 'VENDOR_ADDRESS_ID', 'type_': 'float64'}},\n",
       "  {'expectation_type': 'expect_column_values_to_be_of_type',\n",
       "   'kwargs': {'column': 'CLAIM_PO_NUMBER_ENTERED', 'type_': 'float64'}},\n",
       "  {'expectation_type': 'expect_column_values_to_be_of_type',\n",
       "   'kwargs': {'column': 'ORIGINAL_CLAIM_PAYMENT_AMOUNT', 'type_': 'float64'}},\n",
       "  {'expectation_type': 'expect_column_values_to_be_of_type',\n",
       "   'kwargs': {'column': 'ORIGINAL_CLAIM_STATUS_CODE', 'type_': 'object'}},\n",
       "  {'expectation_type': 'expect_column_values_to_be_of_type',\n",
       "   'kwargs': {'column': 'ORIGINAL_CLAIM_TYPE_CODE', 'type_': 'object'}},\n",
       "  {'expectation_type': 'expect_column_values_to_be_of_type',\n",
       "   'kwargs': {'column': 'SUBMITTED_CLAIM_AMOUNT', 'type_': 'float64'}},\n",
       "  {'expectation_type': 'expect_column_values_to_be_of_type',\n",
       "   'kwargs': {'column': 'SUBMITTED_TOW_MILES', 'type_': 'float64'}},\n",
       "  {'expectation_type': 'expect_column_values_to_be_of_type',\n",
       "   'kwargs': {'column': 'SUBMITTED_ENROUTE_MILES', 'type_': 'float64'}},\n",
       "  {'expectation_type': 'expect_column_values_to_be_of_type',\n",
       "   'kwargs': {'column': 'SUBMITTED_LABOR_HOURS', 'type_': 'float64'}},\n",
       "  {'expectation_type': 'expect_column_values_to_be_of_type',\n",
       "   'kwargs': {'column': 'SERVICE_ID', 'type_': 'object'}},\n",
       "  {'expectation_type': 'expect_column_values_to_be_of_type',\n",
       "   'kwargs': {'column': 'WAS_AUDITED', 'type_': 'bool'}},\n",
       "  {'expectation_type': 'expect_column_values_to_be_of_type',\n",
       "   'kwargs': {'column': 'ADDCHARGE_AMOUNT', 'type_': 'float64'}},\n",
       "  {'expectation_type': 'expect_column_values_to_be_of_type',\n",
       "   'kwargs': {'column': 'IS_CLAIM_APPROVED', 'type_': 'bool'}},\n",
       "  {'expectation_type': 'expect_column_values_to_be_of_type',\n",
       "   'kwargs': {'column': 'ORIGINAL_CLAIM_APPROVED_PAYMENT',\n",
       "    'type_': 'float64'}},\n",
       "  {'expectation_type': 'expect_column_values_to_be_of_type',\n",
       "   'kwargs': {'column': 'ADDCHARGE_DETAILS', 'type_': 'object'}},\n",
       "  {'expectation_type': 'expect_column_values_to_be_of_type',\n",
       "   'kwargs': {'column': 'ADDCHARGE_COUNT', 'type_': 'int16'}},\n",
       "  {'expectation_type': 'expect_column_values_to_be_of_type',\n",
       "   'kwargs': {'column': 'BASE_TOTAL_FROM_RATES', 'type_': 'float64'}},\n",
       "  {'expectation_type': 'expect_column_values_to_be_of_type',\n",
       "   'kwargs': {'column': 'ADDPAY_DETAILS', 'type_': 'object'}},\n",
       "  {'expectation_type': 'expect_column_values_to_be_of_type',\n",
       "   'kwargs': {'column': 'ADDPAY_COUNT', 'type_': 'float64'}},\n",
       "  {'expectation_type': 'expect_column_values_to_be_of_type',\n",
       "   'kwargs': {'column': 'ADDPAY_PAYMENT_AMOUNT', 'type_': 'float64'}},\n",
       "  {'expectation_type': 'expect_column_values_to_be_of_type',\n",
       "   'kwargs': {'column': 'ADDPAY_APPROVED_PAYMENT', 'type_': 'float64'}},\n",
       "  {'expectation_type': 'expect_column_values_to_be_of_type',\n",
       "   'kwargs': {'column': 'COMPLETE_APPROVED_PAYMENT', 'type_': 'float64'}},\n",
       "  {'expectation_type': 'expect_column_values_to_be_of_type',\n",
       "   'kwargs': {'column': 'IS_VCC', 'type_': 'bool'}},\n",
       "  {'expectation_type': 'expect_column_values_to_be_of_type',\n",
       "   'kwargs': {'column': 'ORIGINAL_CLAIM_APPROVED_DATE_EASTERN',\n",
       "    'type_': 'datetime64[ns]'}},\n",
       "  {'expectation_type': 'expect_column_values_to_be_of_type',\n",
       "   'kwargs': {'column': 'ORIGINAL_CLAIM_APPROVED_DATE_UTC',\n",
       "    'type_': 'datetime64[ns]'}},\n",
       "  {'expectation_type': 'expect_column_values_to_be_of_type',\n",
       "   'kwargs': {'column': 'SERVICE_DATE_EASTERN', 'type_': 'datetime64[ns]'}},\n",
       "  {'expectation_type': 'expect_column_values_to_be_of_type',\n",
       "   'kwargs': {'column': 'SERVICE_DATE_UTC', 'type_': 'datetime64[ns]'}},\n",
       "  {'expectation_type': 'expect_column_values_to_be_of_type',\n",
       "   'kwargs': {'column': 'ORIGINAL_CLAIM_SUBMITTED_DATE_EASTERN',\n",
       "    'type_': 'datetime64[ns]'}},\n",
       "  {'expectation_type': 'expect_column_values_to_be_of_type',\n",
       "   'kwargs': {'column': 'ORIGINAL_CLAIM_SUBMITTED_DATE_UTC',\n",
       "    'type_': 'datetime64[ns]'}},\n",
       "  {'expectation_type': 'expect_column_values_to_be_of_type',\n",
       "   'kwargs': {'column': 'ADDPAY_APPROVED_DATE_EASTERN',\n",
       "    'type_': 'datetime64[ns]'}},\n",
       "  {'expectation_type': 'expect_column_values_to_be_of_type',\n",
       "   'kwargs': {'column': 'ADDPAY_APPROVED_DATE_UTC',\n",
       "    'type_': 'datetime64[ns]'}},\n",
       "  {'expectation_type': 'expect_column_values_to_be_of_type',\n",
       "   'kwargs': {'column': 'ADDPAY_SUBMITTED_DATE_EASTERN',\n",
       "    'type_': 'datetime64[ns]'}},\n",
       "  {'expectation_type': 'expect_column_values_to_be_of_type',\n",
       "   'kwargs': {'column': 'ADDPAY_SUBMITTED_DATE_UTC',\n",
       "    'type_': 'datetime64[ns]'}},\n",
       "  {'expectation_type': 'expect_column_values_to_be_of_type',\n",
       "   'kwargs': {'column': 'MODIFIED_DATE_EASTERN', 'type_': 'datetime64[ns]'}},\n",
       "  {'expectation_type': 'expect_column_values_to_be_of_type',\n",
       "   'kwargs': {'column': 'MODIFIED_DATE_UTC', 'type_': 'datetime64[ns]'}}],\n",
       " 'data_asset_type': 'Dataset'}"
      ]
     },
     "execution_count": 131,
     "metadata": {},
     "output_type": "execute_result"
    }
   ],
   "source": [
    "batch.get_expectation_suite()"
   ]
  },
  {
   "cell_type": "code",
   "execution_count": 41,
   "metadata": {},
   "outputs": [
    {
     "name": "stdout",
     "output_type": "stream",
     "text": [
      "2020-01-31T18:26:29-0500 - INFO - \t64 expectation(s) included in expectation_suite. result_format settings filtered.\n"
     ]
    }
   ],
   "source": [
    "batch.save_expectation_suite()"
   ]
  },
  {
   "cell_type": "markdown",
   "metadata": {},
   "source": [
    "### You created and saved expectations for at least one of the data assets.\n",
    "\n",
    "### We will show you how to set up validation - the process of checking if new files of this type conform to your expectations before they are processed by your pipeline's code. \n",
    "\n",
    "### Go to [integrate_validation_into_pipeline.ipynb](integrate_validation_into_pipeline.ipynb) to proceed.\n",
    "\n",
    "\n"
   ]
  }
 ],
 "metadata": {
  "kernelspec": {
   "display_name": "Python 3",
   "language": "python",
   "name": "python3"
  },
  "language_info": {
   "codemirror_mode": {
    "name": "ipython",
    "version": 3
   },
   "file_extension": ".py",
   "mimetype": "text/x-python",
   "name": "python",
   "nbconvert_exporter": "python",
   "pygments_lexer": "ipython3",
   "version": "3.7.6"
  }
 },
 "nbformat": 4,
 "nbformat_minor": 4
}
